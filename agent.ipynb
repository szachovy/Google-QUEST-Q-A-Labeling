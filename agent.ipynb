{
 "cells": [
  {
   "cell_type": "markdown",
   "metadata": {},
   "source": [
    "# Google Quest QA Labeling"
   ]
  },
  {
   "cell_type": "markdown",
   "metadata": {},
   "source": [
    "## 1. Data retrieval"
   ]
  },
  {
   "cell_type": "markdown",
   "metadata": {},
   "source": [
    "### 1.1. Import modules"
   ]
  },
  {
   "cell_type": "code",
   "execution_count": 1,
   "metadata": {},
   "outputs": [],
   "source": [
    "import pandas as pd\n",
    "import numpy as np\n",
    "\n",
    "import matplotlib.pyplot as plt\n",
    "import seaborn as sns\n",
    "import plotly.express as px\n",
    "import plotly.graph_objs as go\n",
    "from matplotlib_venn import venn2\n",
    "\n",
    "from sklearn.feature_extraction.text import TfidfVectorizer\n",
    "\n",
    "\n",
    "from src import brain\n",
    "\n",
    "%matplotlib inline"
   ]
  },
  {
   "cell_type": "markdown",
   "metadata": {},
   "source": [
    "### 1.2. Reading Data"
   ]
  },
  {
   "cell_type": "code",
   "execution_count": 2,
   "metadata": {},
   "outputs": [
    {
     "data": {
      "text/html": "<div>\n<style scoped>\n    .dataframe tbody tr th:only-of-type {\n        vertical-align: middle;\n    }\n\n    .dataframe tbody tr th {\n        vertical-align: top;\n    }\n\n    .dataframe thead th {\n        text-align: right;\n    }\n</style>\n<table border=\"1\" class=\"dataframe\">\n  <thead>\n    <tr style=\"text-align: right;\">\n      <th></th>\n      <th>qa_id</th>\n      <th>question_title</th>\n      <th>question_body</th>\n      <th>question_user_name</th>\n      <th>question_user_page</th>\n      <th>answer</th>\n      <th>answer_user_name</th>\n      <th>answer_user_page</th>\n      <th>url</th>\n      <th>category</th>\n      <th>host</th>\n    </tr>\n  </thead>\n  <tbody>\n    <tr>\n      <th>0</th>\n      <td>39</td>\n      <td>Will leaving corpses lying around upset my pri...</td>\n      <td>I see questions/information online about how t...</td>\n      <td>Dylan</td>\n      <td>https://gaming.stackexchange.com/users/64471</td>\n      <td>There is no consequence for leaving corpses an...</td>\n      <td>Nelson868</td>\n      <td>https://gaming.stackexchange.com/users/97324</td>\n      <td>http://gaming.stackexchange.com/questions/1979...</td>\n      <td>CULTURE</td>\n      <td>gaming.stackexchange.com</td>\n    </tr>\n    <tr>\n      <th>1</th>\n      <td>46</td>\n      <td>Url link to feature image in the portfolio</td>\n      <td>I am new to Wordpress. i have issue with Featu...</td>\n      <td>Anu</td>\n      <td>https://wordpress.stackexchange.com/users/72927</td>\n      <td>I think it is possible with custom fields.\\n\\n...</td>\n      <td>Irina</td>\n      <td>https://wordpress.stackexchange.com/users/27233</td>\n      <td>http://wordpress.stackexchange.com/questions/1...</td>\n      <td>TECHNOLOGY</td>\n      <td>wordpress.stackexchange.com</td>\n    </tr>\n    <tr>\n      <th>2</th>\n      <td>70</td>\n      <td>Is accuracy, recoil or bullet spread affected ...</td>\n      <td>To experiment I started a bot game, toggled in...</td>\n      <td>Konsta</td>\n      <td>https://gaming.stackexchange.com/users/37545</td>\n      <td>You do not have armour in the screenshots. Thi...</td>\n      <td>Damon Smithies</td>\n      <td>https://gaming.stackexchange.com/users/70641</td>\n      <td>http://gaming.stackexchange.com/questions/2154...</td>\n      <td>CULTURE</td>\n      <td>gaming.stackexchange.com</td>\n    </tr>\n    <tr>\n      <th>3</th>\n      <td>132</td>\n      <td>Suddenly got an I/O error from my external HDD</td>\n      <td>I have used my Raspberry Pi as a torrent-serve...</td>\n      <td>robbannn</td>\n      <td>https://raspberrypi.stackexchange.com/users/17341</td>\n      <td>Your Western Digital hard drive is disappearin...</td>\n      <td>HeatfanJohn</td>\n      <td>https://raspberrypi.stackexchange.com/users/1311</td>\n      <td>http://raspberrypi.stackexchange.com/questions...</td>\n      <td>TECHNOLOGY</td>\n      <td>raspberrypi.stackexchange.com</td>\n    </tr>\n    <tr>\n      <th>4</th>\n      <td>200</td>\n      <td>Passenger Name - Flight Booking Passenger only...</td>\n      <td>I have bought Delhi-London return flights for ...</td>\n      <td>Amit</td>\n      <td>https://travel.stackexchange.com/users/29089</td>\n      <td>I called two persons who work for Saudia (tick...</td>\n      <td>Nean Der Thal</td>\n      <td>https://travel.stackexchange.com/users/10051</td>\n      <td>http://travel.stackexchange.com/questions/4704...</td>\n      <td>CULTURE</td>\n      <td>travel.stackexchange.com</td>\n    </tr>\n    <tr>\n      <th>...</th>\n      <td>...</td>\n      <td>...</td>\n      <td>...</td>\n      <td>...</td>\n      <td>...</td>\n      <td>...</td>\n      <td>...</td>\n      <td>...</td>\n      <td>...</td>\n      <td>...</td>\n      <td>...</td>\n    </tr>\n    <tr>\n      <th>471</th>\n      <td>9569</td>\n      <td>change gb4e enumeration in only one chapter</td>\n      <td>I am using gb4e for glossing examples in my th...</td>\n      <td>ToddAO</td>\n      <td>https://tex.stackexchange.com/users/28332</td>\n      <td>You can simply reset the exx counter just afte...</td>\n      <td>karlkoeller</td>\n      <td>https://tex.stackexchange.com/users/27635</td>\n      <td>http://tex.stackexchange.com/questions/165120/...</td>\n      <td>TECHNOLOGY</td>\n      <td>tex.stackexchange.com</td>\n    </tr>\n    <tr>\n      <th>472</th>\n      <td>9590</td>\n      <td>All anagrams in a File</td>\n      <td>Source : Microsoft Interview Question\\n\\nWe ar...</td>\n      <td>Spandan</td>\n      <td>https://stackoverflow.com/users/2426101</td>\n      <td>Slightly different approach from the one above...</td>\n      <td>Algorithmatic</td>\n      <td>https://stackoverflow.com/users/1122229</td>\n      <td>http://stackoverflow.com/questions/16872513/al...</td>\n      <td>STACKOVERFLOW</td>\n      <td>stackoverflow.com</td>\n    </tr>\n    <tr>\n      <th>473</th>\n      <td>9597</td>\n      <td>SQL Server: Time Series Table Design</td>\n      <td>I am creating a time series database that foll...</td>\n      <td>Jay Michael</td>\n      <td>https://dba.stackexchange.com/users/47001</td>\n      <td>A foreign key can reference a unique constrain...</td>\n      <td>mustaccio</td>\n      <td>https://dba.stackexchange.com/users/23721</td>\n      <td>http://dba.stackexchange.com/questions/105287/...</td>\n      <td>TECHNOLOGY</td>\n      <td>dba.stackexchange.com</td>\n    </tr>\n    <tr>\n      <th>474</th>\n      <td>9623</td>\n      <td>Is a countered flashback spell exiled?</td>\n      <td>If I flashback Past in Flames and it is counte...</td>\n      <td>BolasStone</td>\n      <td>https://boardgames.stackexchange.com/users/9981</td>\n      <td>If you counter a spell cast for its Flashback ...</td>\n      <td>murgatroid99</td>\n      <td>https://boardgames.stackexchange.com/users/2537</td>\n      <td>http://boardgames.stackexchange.com/questions/...</td>\n      <td>CULTURE</td>\n      <td>boardgames.stackexchange.com</td>\n    </tr>\n    <tr>\n      <th>475</th>\n      <td>9640</td>\n      <td>Find Friends In-Game</td>\n      <td>Is there a way to mark friends you have queued...</td>\n      <td>Molten Ice</td>\n      <td>https://gaming.stackexchange.com/users/54729</td>\n      <td>Not officially, although you could both use cl...</td>\n      <td>Damon Smithies</td>\n      <td>https://gaming.stackexchange.com/users/70641</td>\n      <td>http://gaming.stackexchange.com/questions/1582...</td>\n      <td>CULTURE</td>\n      <td>gaming.stackexchange.com</td>\n    </tr>\n  </tbody>\n</table>\n<p>476 rows × 11 columns</p>\n</div>",
      "text/plain": "     qa_id                                     question_title  \\\n0       39  Will leaving corpses lying around upset my pri...   \n1       46         Url link to feature image in the portfolio   \n2       70  Is accuracy, recoil or bullet spread affected ...   \n3      132     Suddenly got an I/O error from my external HDD   \n4      200  Passenger Name - Flight Booking Passenger only...   \n..     ...                                                ...   \n471   9569        change gb4e enumeration in only one chapter   \n472   9590                             All anagrams in a File   \n473   9597               SQL Server: Time Series Table Design   \n474   9623             Is a countered flashback spell exiled?   \n475   9640                               Find Friends In-Game   \n\n                                         question_body question_user_name  \\\n0    I see questions/information online about how t...              Dylan   \n1    I am new to Wordpress. i have issue with Featu...                Anu   \n2    To experiment I started a bot game, toggled in...             Konsta   \n3    I have used my Raspberry Pi as a torrent-serve...           robbannn   \n4    I have bought Delhi-London return flights for ...               Amit   \n..                                                 ...                ...   \n471  I am using gb4e for glossing examples in my th...             ToddAO   \n472  Source : Microsoft Interview Question\\n\\nWe ar...            Spandan   \n473  I am creating a time series database that foll...        Jay Michael   \n474  If I flashback Past in Flames and it is counte...         BolasStone   \n475  Is there a way to mark friends you have queued...         Molten Ice   \n\n                                    question_user_page  \\\n0         https://gaming.stackexchange.com/users/64471   \n1      https://wordpress.stackexchange.com/users/72927   \n2         https://gaming.stackexchange.com/users/37545   \n3    https://raspberrypi.stackexchange.com/users/17341   \n4         https://travel.stackexchange.com/users/29089   \n..                                                 ...   \n471          https://tex.stackexchange.com/users/28332   \n472            https://stackoverflow.com/users/2426101   \n473          https://dba.stackexchange.com/users/47001   \n474    https://boardgames.stackexchange.com/users/9981   \n475       https://gaming.stackexchange.com/users/54729   \n\n                                                answer answer_user_name  \\\n0    There is no consequence for leaving corpses an...        Nelson868   \n1    I think it is possible with custom fields.\\n\\n...            Irina   \n2    You do not have armour in the screenshots. Thi...   Damon Smithies   \n3    Your Western Digital hard drive is disappearin...      HeatfanJohn   \n4    I called two persons who work for Saudia (tick...    Nean Der Thal   \n..                                                 ...              ...   \n471  You can simply reset the exx counter just afte...      karlkoeller   \n472  Slightly different approach from the one above...    Algorithmatic   \n473  A foreign key can reference a unique constrain...        mustaccio   \n474  If you counter a spell cast for its Flashback ...     murgatroid99   \n475  Not officially, although you could both use cl...   Damon Smithies   \n\n                                     answer_user_page  \\\n0        https://gaming.stackexchange.com/users/97324   \n1     https://wordpress.stackexchange.com/users/27233   \n2        https://gaming.stackexchange.com/users/70641   \n3    https://raspberrypi.stackexchange.com/users/1311   \n4        https://travel.stackexchange.com/users/10051   \n..                                                ...   \n471         https://tex.stackexchange.com/users/27635   \n472           https://stackoverflow.com/users/1122229   \n473         https://dba.stackexchange.com/users/23721   \n474   https://boardgames.stackexchange.com/users/2537   \n475      https://gaming.stackexchange.com/users/70641   \n\n                                                   url       category  \\\n0    http://gaming.stackexchange.com/questions/1979...        CULTURE   \n1    http://wordpress.stackexchange.com/questions/1...     TECHNOLOGY   \n2    http://gaming.stackexchange.com/questions/2154...        CULTURE   \n3    http://raspberrypi.stackexchange.com/questions...     TECHNOLOGY   \n4    http://travel.stackexchange.com/questions/4704...        CULTURE   \n..                                                 ...            ...   \n471  http://tex.stackexchange.com/questions/165120/...     TECHNOLOGY   \n472  http://stackoverflow.com/questions/16872513/al...  STACKOVERFLOW   \n473  http://dba.stackexchange.com/questions/105287/...     TECHNOLOGY   \n474  http://boardgames.stackexchange.com/questions/...        CULTURE   \n475  http://gaming.stackexchange.com/questions/1582...        CULTURE   \n\n                              host  \n0         gaming.stackexchange.com  \n1      wordpress.stackexchange.com  \n2         gaming.stackexchange.com  \n3    raspberrypi.stackexchange.com  \n4         travel.stackexchange.com  \n..                             ...  \n471          tex.stackexchange.com  \n472              stackoverflow.com  \n473          dba.stackexchange.com  \n474   boardgames.stackexchange.com  \n475       gaming.stackexchange.com  \n\n[476 rows x 11 columns]"
     },
     "execution_count": 2,
     "metadata": {},
     "output_type": "execute_result"
    }
   ],
   "source": [
    "train_set = pd.read_csv('data/train.csv')\n",
    "X_test = pd.read_csv('data/test.csv')\n",
    "X_test"
   ]
  },
  {
   "cell_type": "code",
   "execution_count": 3,
   "metadata": {},
   "outputs": [
    {
     "data": {
      "text/html": "<div>\n<style scoped>\n    .dataframe tbody tr th:only-of-type {\n        vertical-align: middle;\n    }\n\n    .dataframe tbody tr th {\n        vertical-align: top;\n    }\n\n    .dataframe thead th {\n        text-align: right;\n    }\n</style>\n<table border=\"1\" class=\"dataframe\">\n  <thead>\n    <tr style=\"text-align: right;\">\n      <th></th>\n      <th>qa_id</th>\n      <th>question_title</th>\n      <th>question_body</th>\n      <th>question_user_name</th>\n      <th>question_user_page</th>\n      <th>answer</th>\n      <th>answer_user_name</th>\n      <th>answer_user_page</th>\n      <th>url</th>\n      <th>category</th>\n      <th>host</th>\n    </tr>\n  </thead>\n  <tbody>\n    <tr>\n      <th>0</th>\n      <td>0</td>\n      <td>What am I losing when using extension tubes in...</td>\n      <td>After playing around with macro photography on...</td>\n      <td>ysap</td>\n      <td>https://photo.stackexchange.com/users/1024</td>\n      <td>I just got extension tubes, so here's the skin...</td>\n      <td>rfusca</td>\n      <td>https://photo.stackexchange.com/users/1917</td>\n      <td>http://photo.stackexchange.com/questions/9169/...</td>\n      <td>LIFE_ARTS</td>\n      <td>photo.stackexchange.com</td>\n    </tr>\n    <tr>\n      <th>1</th>\n      <td>1</td>\n      <td>What is the distinction between a city and a s...</td>\n      <td>I am trying to understand what kinds of places...</td>\n      <td>russellpierce</td>\n      <td>https://rpg.stackexchange.com/users/8774</td>\n      <td>It might be helpful to look into the definitio...</td>\n      <td>Erik Schmidt</td>\n      <td>https://rpg.stackexchange.com/users/1871</td>\n      <td>http://rpg.stackexchange.com/questions/47820/w...</td>\n      <td>CULTURE</td>\n      <td>rpg.stackexchange.com</td>\n    </tr>\n    <tr>\n      <th>2</th>\n      <td>2</td>\n      <td>Maximum protusion length for through-hole comp...</td>\n      <td>I'm working on a PCB that has through-hole com...</td>\n      <td>Joe Baker</td>\n      <td>https://electronics.stackexchange.com/users/10157</td>\n      <td>Do you even need grooves?  We make several pro...</td>\n      <td>Dwayne Reid</td>\n      <td>https://electronics.stackexchange.com/users/64754</td>\n      <td>http://electronics.stackexchange.com/questions...</td>\n      <td>SCIENCE</td>\n      <td>electronics.stackexchange.com</td>\n    </tr>\n    <tr>\n      <th>3</th>\n      <td>3</td>\n      <td>Can an affidavit be used in Beit Din?</td>\n      <td>An affidavit, from what i understand, is basic...</td>\n      <td>Scimonster</td>\n      <td>https://judaism.stackexchange.com/users/5151</td>\n      <td>Sending an \"affidavit\" it is a dispute between...</td>\n      <td>Y     e     z</td>\n      <td>https://judaism.stackexchange.com/users/4794</td>\n      <td>http://judaism.stackexchange.com/questions/551...</td>\n      <td>CULTURE</td>\n      <td>judaism.stackexchange.com</td>\n    </tr>\n    <tr>\n      <th>4</th>\n      <td>5</td>\n      <td>How do you make a binary image in Photoshop?</td>\n      <td>I am trying to make a binary image. I want mor...</td>\n      <td>leigero</td>\n      <td>https://graphicdesign.stackexchange.com/users/...</td>\n      <td>Check out Image Trace in Adobe Illustrator. \\n...</td>\n      <td>q2ra</td>\n      <td>https://graphicdesign.stackexchange.com/users/...</td>\n      <td>http://graphicdesign.stackexchange.com/questio...</td>\n      <td>LIFE_ARTS</td>\n      <td>graphicdesign.stackexchange.com</td>\n    </tr>\n    <tr>\n      <th>...</th>\n      <td>...</td>\n      <td>...</td>\n      <td>...</td>\n      <td>...</td>\n      <td>...</td>\n      <td>...</td>\n      <td>...</td>\n      <td>...</td>\n      <td>...</td>\n      <td>...</td>\n      <td>...</td>\n    </tr>\n    <tr>\n      <th>6074</th>\n      <td>9642</td>\n      <td>Using a ski helmet for winter biking</td>\n      <td>I am curious if anyone uses a skiing helmet fo...</td>\n      <td>sixtyfootersdude</td>\n      <td>https://bicycles.stackexchange.com/users/134</td>\n      <td>If you're thinking about wearing a ski helmet ...</td>\n      <td>Matt Leo</td>\n      <td>https://bicycles.stackexchange.com/users/3340</td>\n      <td>http://bicycles.stackexchange.com/questions/99...</td>\n      <td>CULTURE</td>\n      <td>bicycles.stackexchange.com</td>\n    </tr>\n    <tr>\n      <th>6075</th>\n      <td>9643</td>\n      <td>Adjustment to road bike brakes for high grade ...</td>\n      <td>I have a road bike with a front brake that wea...</td>\n      <td>ash</td>\n      <td>https://bicycles.stackexchange.com/users/14519</td>\n      <td>\\nYou can replace the pads (as stated elsewher...</td>\n      <td>Daniel R Hicks</td>\n      <td>https://bicycles.stackexchange.com/users/1584</td>\n      <td>http://bicycles.stackexchange.com/questions/25...</td>\n      <td>CULTURE</td>\n      <td>bicycles.stackexchange.com</td>\n    </tr>\n    <tr>\n      <th>6076</th>\n      <td>9645</td>\n      <td>Suppress 'file truncated' messages when using ...</td>\n      <td>I'm tailing a log file using tail -f messages....</td>\n      <td>Maneating Koala</td>\n      <td>https://unix.stackexchange.com/users/60445</td>\n      <td>Maybe help if can be fixes origin of this erro...</td>\n      <td>BG Bruno</td>\n      <td>https://unix.stackexchange.com/users/68208</td>\n      <td>http://unix.stackexchange.com/questions/169054...</td>\n      <td>TECHNOLOGY</td>\n      <td>unix.stackexchange.com</td>\n    </tr>\n    <tr>\n      <th>6077</th>\n      <td>9646</td>\n      <td>When should a supervisor be a co-author?</td>\n      <td>What are people's views on this?  To be specif...</td>\n      <td>MrB</td>\n      <td>https://mathoverflow.net/users/2189</td>\n      <td>As a non-mathematician, I am somewhat mystifie...</td>\n      <td>angela</td>\n      <td>https://mathoverflow.net/users/4267</td>\n      <td>http://mathoverflow.net/questions/57337</td>\n      <td>SCIENCE</td>\n      <td>mathoverflow.net</td>\n    </tr>\n    <tr>\n      <th>6078</th>\n      <td>9647</td>\n      <td>Why are there so many different types of screw...</td>\n      <td>Newbie question.\\n\\nWhy is it that there's a b...</td>\n      <td>Doug T.</td>\n      <td>https://diy.stackexchange.com/users/321</td>\n      <td>First, I really like Eric's answer for practic...</td>\n      <td>Scivitri</td>\n      <td>https://diy.stackexchange.com/users/113</td>\n      <td>http://diy.stackexchange.com/questions/2701/wh...</td>\n      <td>LIFE_ARTS</td>\n      <td>diy.stackexchange.com</td>\n    </tr>\n  </tbody>\n</table>\n<p>6079 rows × 11 columns</p>\n</div>",
      "text/plain": "     qa_id                                     question_title  \\\n0        0  What am I losing when using extension tubes in...   \n1        1  What is the distinction between a city and a s...   \n2        2  Maximum protusion length for through-hole comp...   \n3        3              Can an affidavit be used in Beit Din?   \n4        5       How do you make a binary image in Photoshop?   \n...    ...                                                ...   \n6074  9642               Using a ski helmet for winter biking   \n6075  9643  Adjustment to road bike brakes for high grade ...   \n6076  9645  Suppress 'file truncated' messages when using ...   \n6077  9646           When should a supervisor be a co-author?   \n6078  9647  Why are there so many different types of screw...   \n\n                                          question_body question_user_name  \\\n0     After playing around with macro photography on...               ysap   \n1     I am trying to understand what kinds of places...      russellpierce   \n2     I'm working on a PCB that has through-hole com...          Joe Baker   \n3     An affidavit, from what i understand, is basic...         Scimonster   \n4     I am trying to make a binary image. I want mor...            leigero   \n...                                                 ...                ...   \n6074  I am curious if anyone uses a skiing helmet fo...   sixtyfootersdude   \n6075  I have a road bike with a front brake that wea...                ash   \n6076  I'm tailing a log file using tail -f messages....    Maneating Koala   \n6077  What are people's views on this?  To be specif...                MrB   \n6078  Newbie question.\\n\\nWhy is it that there's a b...            Doug T.   \n\n                                     question_user_page  \\\n0            https://photo.stackexchange.com/users/1024   \n1              https://rpg.stackexchange.com/users/8774   \n2     https://electronics.stackexchange.com/users/10157   \n3          https://judaism.stackexchange.com/users/5151   \n4     https://graphicdesign.stackexchange.com/users/...   \n...                                                 ...   \n6074       https://bicycles.stackexchange.com/users/134   \n6075     https://bicycles.stackexchange.com/users/14519   \n6076         https://unix.stackexchange.com/users/60445   \n6077                https://mathoverflow.net/users/2189   \n6078            https://diy.stackexchange.com/users/321   \n\n                                                 answer answer_user_name  \\\n0     I just got extension tubes, so here's the skin...           rfusca   \n1     It might be helpful to look into the definitio...     Erik Schmidt   \n2     Do you even need grooves?  We make several pro...      Dwayne Reid   \n3     Sending an \"affidavit\" it is a dispute between...    Y     e     z   \n4     Check out Image Trace in Adobe Illustrator. \\n...             q2ra   \n...                                                 ...              ...   \n6074  If you're thinking about wearing a ski helmet ...         Matt Leo   \n6075  \\nYou can replace the pads (as stated elsewher...   Daniel R Hicks   \n6076  Maybe help if can be fixes origin of this erro...         BG Bruno   \n6077  As a non-mathematician, I am somewhat mystifie...           angela   \n6078  First, I really like Eric's answer for practic...         Scivitri   \n\n                                       answer_user_page  \\\n0            https://photo.stackexchange.com/users/1917   \n1              https://rpg.stackexchange.com/users/1871   \n2     https://electronics.stackexchange.com/users/64754   \n3          https://judaism.stackexchange.com/users/4794   \n4     https://graphicdesign.stackexchange.com/users/...   \n...                                                 ...   \n6074      https://bicycles.stackexchange.com/users/3340   \n6075      https://bicycles.stackexchange.com/users/1584   \n6076         https://unix.stackexchange.com/users/68208   \n6077                https://mathoverflow.net/users/4267   \n6078            https://diy.stackexchange.com/users/113   \n\n                                                    url    category  \\\n0     http://photo.stackexchange.com/questions/9169/...   LIFE_ARTS   \n1     http://rpg.stackexchange.com/questions/47820/w...     CULTURE   \n2     http://electronics.stackexchange.com/questions...     SCIENCE   \n3     http://judaism.stackexchange.com/questions/551...     CULTURE   \n4     http://graphicdesign.stackexchange.com/questio...   LIFE_ARTS   \n...                                                 ...         ...   \n6074  http://bicycles.stackexchange.com/questions/99...     CULTURE   \n6075  http://bicycles.stackexchange.com/questions/25...     CULTURE   \n6076  http://unix.stackexchange.com/questions/169054...  TECHNOLOGY   \n6077            http://mathoverflow.net/questions/57337     SCIENCE   \n6078  http://diy.stackexchange.com/questions/2701/wh...   LIFE_ARTS   \n\n                                 host  \n0             photo.stackexchange.com  \n1               rpg.stackexchange.com  \n2       electronics.stackexchange.com  \n3           judaism.stackexchange.com  \n4     graphicdesign.stackexchange.com  \n...                               ...  \n6074       bicycles.stackexchange.com  \n6075       bicycles.stackexchange.com  \n6076           unix.stackexchange.com  \n6077                 mathoverflow.net  \n6078            diy.stackexchange.com  \n\n[6079 rows x 11 columns]"
     },
     "execution_count": 3,
     "metadata": {},
     "output_type": "execute_result"
    }
   ],
   "source": [
    "train_set = np.split(train_set, [train_set.columns.get_loc('question_asker_intent_understanding')], axis=1)\n",
    "X_train = train_set[0]\n",
    "X_train"
   ]
  },
  {
   "cell_type": "code",
   "execution_count": 4,
   "metadata": {},
   "outputs": [
    {
     "data": {
      "text/html": "<div>\n<style scoped>\n    .dataframe tbody tr th:only-of-type {\n        vertical-align: middle;\n    }\n\n    .dataframe tbody tr th {\n        vertical-align: top;\n    }\n\n    .dataframe thead th {\n        text-align: right;\n    }\n</style>\n<table border=\"1\" class=\"dataframe\">\n  <thead>\n    <tr style=\"text-align: right;\">\n      <th></th>\n      <th>qa_id</th>\n      <th>question_asker_intent_understanding</th>\n      <th>question_body_critical</th>\n      <th>question_conversational</th>\n      <th>question_expect_short_answer</th>\n      <th>question_fact_seeking</th>\n      <th>question_has_commonly_accepted_answer</th>\n      <th>question_interestingness_others</th>\n      <th>question_interestingness_self</th>\n      <th>question_multi_intent</th>\n      <th>...</th>\n      <th>question_well_written</th>\n      <th>answer_helpful</th>\n      <th>answer_level_of_information</th>\n      <th>answer_plausible</th>\n      <th>answer_relevance</th>\n      <th>answer_satisfaction</th>\n      <th>answer_type_instructions</th>\n      <th>answer_type_procedure</th>\n      <th>answer_type_reason_explanation</th>\n      <th>answer_well_written</th>\n    </tr>\n  </thead>\n  <tbody>\n    <tr>\n      <th>0</th>\n      <td>0</td>\n      <td>1</td>\n      <td>0.333333</td>\n      <td>0</td>\n      <td>0</td>\n      <td>0</td>\n      <td>0</td>\n      <td>1</td>\n      <td>1</td>\n      <td>0</td>\n      <td>...</td>\n      <td>1</td>\n      <td>1</td>\n      <td>0.666667</td>\n      <td>1</td>\n      <td>1</td>\n      <td>0.8</td>\n      <td>1</td>\n      <td>0</td>\n      <td>0</td>\n      <td>1</td>\n    </tr>\n    <tr>\n      <th>1</th>\n      <td>1</td>\n      <td>1</td>\n      <td>1</td>\n      <td>0</td>\n      <td>0.5</td>\n      <td>1</td>\n      <td>1</td>\n      <td>0.444444</td>\n      <td>0.444444</td>\n      <td>0.666667</td>\n      <td>...</td>\n      <td>0.888889</td>\n      <td>0.888889</td>\n      <td>0.555556</td>\n      <td>0.888889</td>\n      <td>0.888889</td>\n      <td>0.666667</td>\n      <td>0</td>\n      <td>0</td>\n      <td>0.666667</td>\n      <td>0.888889</td>\n    </tr>\n    <tr>\n      <th>2</th>\n      <td>2</td>\n      <td>0.888889</td>\n      <td>0.666667</td>\n      <td>0</td>\n      <td>1</td>\n      <td>1</td>\n      <td>1</td>\n      <td>0.666667</td>\n      <td>0.444444</td>\n      <td>0.333333</td>\n      <td>...</td>\n      <td>0.777778</td>\n      <td>0.777778</td>\n      <td>0.555556</td>\n      <td>1</td>\n      <td>1</td>\n      <td>0.666667</td>\n      <td>0</td>\n      <td>0.333333</td>\n      <td>1</td>\n      <td>0.888889</td>\n    </tr>\n    <tr>\n      <th>3</th>\n      <td>3</td>\n      <td>0.888889</td>\n      <td>0.666667</td>\n      <td>0.666667</td>\n      <td>1</td>\n      <td>1</td>\n      <td>1</td>\n      <td>0.444444</td>\n      <td>0.444444</td>\n      <td>0</td>\n      <td>...</td>\n      <td>0.888889</td>\n      <td>0.833333</td>\n      <td>0.333333</td>\n      <td>0.833333</td>\n      <td>1</td>\n      <td>0.8</td>\n      <td>0</td>\n      <td>0</td>\n      <td>1</td>\n      <td>1</td>\n    </tr>\n    <tr>\n      <th>4</th>\n      <td>5</td>\n      <td>1</td>\n      <td>0.666667</td>\n      <td>0</td>\n      <td>1</td>\n      <td>1</td>\n      <td>1</td>\n      <td>0.666667</td>\n      <td>0.666667</td>\n      <td>0</td>\n      <td>...</td>\n      <td>1</td>\n      <td>1</td>\n      <td>0.666667</td>\n      <td>1</td>\n      <td>1</td>\n      <td>0.8</td>\n      <td>1</td>\n      <td>0</td>\n      <td>1</td>\n      <td>1</td>\n    </tr>\n    <tr>\n      <th>...</th>\n      <td>...</td>\n      <td>...</td>\n      <td>...</td>\n      <td>...</td>\n      <td>...</td>\n      <td>...</td>\n      <td>...</td>\n      <td>...</td>\n      <td>...</td>\n      <td>...</td>\n      <td>...</td>\n      <td>...</td>\n      <td>...</td>\n      <td>...</td>\n      <td>...</td>\n      <td>...</td>\n      <td>...</td>\n      <td>...</td>\n      <td>...</td>\n      <td>...</td>\n      <td>...</td>\n    </tr>\n    <tr>\n      <th>6074</th>\n      <td>9642</td>\n      <td>1</td>\n      <td>0.777778</td>\n      <td>0</td>\n      <td>1</td>\n      <td>1</td>\n      <td>1</td>\n      <td>0.888889</td>\n      <td>0.888889</td>\n      <td>0.333333</td>\n      <td>...</td>\n      <td>0.777778</td>\n      <td>1</td>\n      <td>0.555556</td>\n      <td>1</td>\n      <td>1</td>\n      <td>0.866667</td>\n      <td>0</td>\n      <td>0</td>\n      <td>0</td>\n      <td>0.888889</td>\n    </tr>\n    <tr>\n      <th>6075</th>\n      <td>9643</td>\n      <td>1</td>\n      <td>0.777778</td>\n      <td>0</td>\n      <td>1</td>\n      <td>0.666667</td>\n      <td>0.5</td>\n      <td>0.777778</td>\n      <td>0.777778</td>\n      <td>0</td>\n      <td>...</td>\n      <td>0.777778</td>\n      <td>0.888889</td>\n      <td>0.555556</td>\n      <td>1</td>\n      <td>1</td>\n      <td>0.733333</td>\n      <td>0.666667</td>\n      <td>0.333333</td>\n      <td>0</td>\n      <td>0.888889</td>\n    </tr>\n    <tr>\n      <th>6076</th>\n      <td>9645</td>\n      <td>0.888889</td>\n      <td>0.555556</td>\n      <td>0</td>\n      <td>0.666667</td>\n      <td>0.333333</td>\n      <td>1</td>\n      <td>0.444444</td>\n      <td>0.333333</td>\n      <td>0</td>\n      <td>...</td>\n      <td>0.444444</td>\n      <td>0.888889</td>\n      <td>0.555556</td>\n      <td>0.888889</td>\n      <td>0.888889</td>\n      <td>0.8</td>\n      <td>1</td>\n      <td>0</td>\n      <td>0.333333</td>\n      <td>0.555556</td>\n    </tr>\n    <tr>\n      <th>6077</th>\n      <td>9646</td>\n      <td>1</td>\n      <td>0.444444</td>\n      <td>0.333333</td>\n      <td>0</td>\n      <td>0</td>\n      <td>0</td>\n      <td>0.777778</td>\n      <td>0.555556</td>\n      <td>1</td>\n      <td>...</td>\n      <td>1</td>\n      <td>0.888889</td>\n      <td>0.555556</td>\n      <td>1</td>\n      <td>1</td>\n      <td>0.533333</td>\n      <td>0</td>\n      <td>0.333333</td>\n      <td>0.666667</td>\n      <td>1</td>\n    </tr>\n    <tr>\n      <th>6078</th>\n      <td>9647</td>\n      <td>1</td>\n      <td>1</td>\n      <td>0.333333</td>\n      <td>0.5</td>\n      <td>1</td>\n      <td>0.5</td>\n      <td>0.777778</td>\n      <td>0.777778</td>\n      <td>0.666667</td>\n      <td>...</td>\n      <td>1</td>\n      <td>0.888889</td>\n      <td>0.555556</td>\n      <td>1</td>\n      <td>0.888889</td>\n      <td>0.733333</td>\n      <td>0</td>\n      <td>0</td>\n      <td>1</td>\n      <td>1</td>\n    </tr>\n  </tbody>\n</table>\n<p>6079 rows × 31 columns</p>\n</div>",
      "text/plain": "     qa_id question_asker_intent_understanding question_body_critical  \\\n0        0                                   1               0.333333   \n1        1                                   1                      1   \n2        2                            0.888889               0.666667   \n3        3                            0.888889               0.666667   \n4        5                                   1               0.666667   \n...    ...                                 ...                    ...   \n6074  9642                                   1               0.777778   \n6075  9643                                   1               0.777778   \n6076  9645                            0.888889               0.555556   \n6077  9646                                   1               0.444444   \n6078  9647                                   1                      1   \n\n     question_conversational question_expect_short_answer  \\\n0                          0                            0   \n1                          0                          0.5   \n2                          0                            1   \n3                   0.666667                            1   \n4                          0                            1   \n...                      ...                          ...   \n6074                       0                            1   \n6075                       0                            1   \n6076                       0                     0.666667   \n6077                0.333333                            0   \n6078                0.333333                          0.5   \n\n     question_fact_seeking question_has_commonly_accepted_answer  \\\n0                        0                                     0   \n1                        1                                     1   \n2                        1                                     1   \n3                        1                                     1   \n4                        1                                     1   \n...                    ...                                   ...   \n6074                     1                                     1   \n6075              0.666667                                   0.5   \n6076              0.333333                                     1   \n6077                     0                                     0   \n6078                     1                                   0.5   \n\n     question_interestingness_others question_interestingness_self  \\\n0                                  1                             1   \n1                           0.444444                      0.444444   \n2                           0.666667                      0.444444   \n3                           0.444444                      0.444444   \n4                           0.666667                      0.666667   \n...                              ...                           ...   \n6074                        0.888889                      0.888889   \n6075                        0.777778                      0.777778   \n6076                        0.444444                      0.333333   \n6077                        0.777778                      0.555556   \n6078                        0.777778                      0.777778   \n\n     question_multi_intent  ... question_well_written answer_helpful  \\\n0                        0  ...                     1              1   \n1                 0.666667  ...              0.888889       0.888889   \n2                 0.333333  ...              0.777778       0.777778   \n3                        0  ...              0.888889       0.833333   \n4                        0  ...                     1              1   \n...                    ...  ...                   ...            ...   \n6074              0.333333  ...              0.777778              1   \n6075                     0  ...              0.777778       0.888889   \n6076                     0  ...              0.444444       0.888889   \n6077                     1  ...                     1       0.888889   \n6078              0.666667  ...                     1       0.888889   \n\n     answer_level_of_information answer_plausible answer_relevance  \\\n0                       0.666667                1                1   \n1                       0.555556         0.888889         0.888889   \n2                       0.555556                1                1   \n3                       0.333333         0.833333                1   \n4                       0.666667                1                1   \n...                          ...              ...              ...   \n6074                    0.555556                1                1   \n6075                    0.555556                1                1   \n6076                    0.555556         0.888889         0.888889   \n6077                    0.555556                1                1   \n6078                    0.555556                1         0.888889   \n\n     answer_satisfaction answer_type_instructions answer_type_procedure  \\\n0                    0.8                        1                     0   \n1               0.666667                        0                     0   \n2               0.666667                        0              0.333333   \n3                    0.8                        0                     0   \n4                    0.8                        1                     0   \n...                  ...                      ...                   ...   \n6074            0.866667                        0                     0   \n6075            0.733333                 0.666667              0.333333   \n6076                 0.8                        1                     0   \n6077            0.533333                        0              0.333333   \n6078            0.733333                        0                     0   \n\n     answer_type_reason_explanation answer_well_written  \n0                                 0                   1  \n1                          0.666667            0.888889  \n2                                 1            0.888889  \n3                                 1                   1  \n4                                 1                   1  \n...                             ...                 ...  \n6074                              0            0.888889  \n6075                              0            0.888889  \n6076                       0.333333            0.555556  \n6077                       0.666667                   1  \n6078                              1                   1  \n\n[6079 rows x 31 columns]"
     },
     "execution_count": 4,
     "metadata": {},
     "output_type": "execute_result"
    }
   ],
   "source": [
    "Y_train = pd.concat([X_train['qa_id'], train_set[1]], axis=1)\n",
    "Y_train"
   ]
  },
  {
   "cell_type": "markdown",
   "metadata": {},
   "source": [
    "## 2. Exploratory Data analysis"
   ]
  },
  {
   "cell_type": "code",
   "execution_count": 5,
   "metadata": {},
   "outputs": [],
   "source": [
    "analysis = brain.Analysis()"
   ]
  },
  {
   "cell_type": "markdown",
   "metadata": {},
   "source": [
    "### 2.1. Data Description"
   ]
  },
  {
   "cell_type": "code",
   "execution_count": 6,
   "metadata": {},
   "outputs": [
    {
     "name": "stdout",
     "output_type": "stream",
     "text": "<class 'pandas.core.frame.DataFrame'>\nRangeIndex: 6079 entries, 0 to 6078\nData columns (total 11 columns):\nqa_id                 6079 non-null object\nquestion_title        6079 non-null object\nquestion_body         6079 non-null object\nquestion_user_name    6079 non-null object\nquestion_user_page    6079 non-null object\nanswer                6079 non-null object\nanswer_user_name      6079 non-null object\nanswer_user_page      6079 non-null object\nurl                   6079 non-null object\ncategory              6079 non-null object\nhost                  6079 non-null object\ndtypes: object(11)\nmemory usage: 522.5+ KB\n"
    }
   ],
   "source": [
    "X_train.info()"
   ]
  },
  {
   "cell_type": "code",
   "execution_count": 7,
   "metadata": {},
   "outputs": [
    {
     "data": {
      "text/html": "<div>\n<style scoped>\n    .dataframe tbody tr th:only-of-type {\n        vertical-align: middle;\n    }\n\n    .dataframe tbody tr th {\n        vertical-align: top;\n    }\n\n    .dataframe thead th {\n        text-align: right;\n    }\n</style>\n<table border=\"1\" class=\"dataframe\">\n  <thead>\n    <tr style=\"text-align: right;\">\n      <th></th>\n      <th>qa_id</th>\n      <th>question_title</th>\n      <th>question_body</th>\n      <th>question_user_name</th>\n      <th>question_user_page</th>\n      <th>answer</th>\n      <th>answer_user_name</th>\n      <th>answer_user_page</th>\n      <th>url</th>\n      <th>category</th>\n      <th>host</th>\n    </tr>\n  </thead>\n  <tbody>\n    <tr>\n      <th>count</th>\n      <td>6079</td>\n      <td>6079</td>\n      <td>6079</td>\n      <td>6079</td>\n      <td>6079</td>\n      <td>6079</td>\n      <td>6079</td>\n      <td>6079</td>\n      <td>6079</td>\n      <td>6079</td>\n      <td>6079</td>\n    </tr>\n    <tr>\n      <th>unique</th>\n      <td>6079</td>\n      <td>3583</td>\n      <td>3583</td>\n      <td>3215</td>\n      <td>3422</td>\n      <td>6079</td>\n      <td>4114</td>\n      <td>4430</td>\n      <td>3583</td>\n      <td>5</td>\n      <td>63</td>\n    </tr>\n    <tr>\n      <th>top</th>\n      <td>9081</td>\n      <td>What is the best introductory Bayesian statist...</td>\n      <td>Which is the best introductory textbook for Ba...</td>\n      <td>Mike</td>\n      <td>https://stats.stackexchange.com/users/5</td>\n      <td>You can use this script.  Attach it to your ca...</td>\n      <td>Scott</td>\n      <td>https://tex.stackexchange.com/users/4427</td>\n      <td>http://stats.stackexchange.com/questions/125/w...</td>\n      <td>TECHNOLOGY</td>\n      <td>stackoverflow.com</td>\n    </tr>\n    <tr>\n      <th>freq</th>\n      <td>1</td>\n      <td>12</td>\n      <td>12</td>\n      <td>15</td>\n      <td>12</td>\n      <td>1</td>\n      <td>20</td>\n      <td>17</td>\n      <td>12</td>\n      <td>2441</td>\n      <td>1253</td>\n    </tr>\n  </tbody>\n</table>\n</div>",
      "text/plain": "        qa_id                                     question_title  \\\ncount    6079                                               6079   \nunique   6079                                               3583   \ntop      9081  What is the best introductory Bayesian statist...   \nfreq        1                                                 12   \n\n                                            question_body question_user_name  \\\ncount                                                6079               6079   \nunique                                               3583               3215   \ntop     Which is the best introductory textbook for Ba...               Mike   \nfreq                                                   12                 15   \n\n                             question_user_page  \\\ncount                                      6079   \nunique                                     3422   \ntop     https://stats.stackexchange.com/users/5   \nfreq                                         12   \n\n                                                   answer answer_user_name  \\\ncount                                                6079             6079   \nunique                                               6079             4114   \ntop     You can use this script.  Attach it to your ca...            Scott   \nfreq                                                    1               20   \n\n                                answer_user_page  \\\ncount                                       6079   \nunique                                      4430   \ntop     https://tex.stackexchange.com/users/4427   \nfreq                                          17   \n\n                                                      url    category  \\\ncount                                                6079        6079   \nunique                                               3583           5   \ntop     http://stats.stackexchange.com/questions/125/w...  TECHNOLOGY   \nfreq                                                   12        2441   \n\n                     host  \ncount                6079  \nunique                 63  \ntop     stackoverflow.com  \nfreq                 1253  "
     },
     "execution_count": 7,
     "metadata": {},
     "output_type": "execute_result"
    }
   ],
   "source": [
    "X_train.describe()"
   ]
  },
  {
   "cell_type": "code",
   "execution_count": 8,
   "metadata": {},
   "outputs": [
    {
     "name": "stdout",
     "output_type": "stream",
     "text": "<class 'pandas.core.frame.DataFrame'>\nRangeIndex: 476 entries, 0 to 475\nData columns (total 11 columns):\nqa_id                 476 non-null int64\nquestion_title        476 non-null object\nquestion_body         476 non-null object\nquestion_user_name    476 non-null object\nquestion_user_page    476 non-null object\nanswer                476 non-null object\nanswer_user_name      476 non-null object\nanswer_user_page      476 non-null object\nurl                   476 non-null object\ncategory              476 non-null object\nhost                  476 non-null object\ndtypes: int64(1), object(10)\nmemory usage: 41.0+ KB\n"
    }
   ],
   "source": [
    "X_test.info()"
   ]
  },
  {
   "cell_type": "code",
   "execution_count": 9,
   "metadata": {},
   "outputs": [
    {
     "data": {
      "text/html": "<div>\n<style scoped>\n    .dataframe tbody tr th:only-of-type {\n        vertical-align: middle;\n    }\n\n    .dataframe tbody tr th {\n        vertical-align: top;\n    }\n\n    .dataframe thead th {\n        text-align: right;\n    }\n</style>\n<table border=\"1\" class=\"dataframe\">\n  <thead>\n    <tr style=\"text-align: right;\">\n      <th></th>\n      <th>qa_id</th>\n    </tr>\n  </thead>\n  <tbody>\n    <tr>\n      <th>count</th>\n      <td>476.000000</td>\n    </tr>\n    <tr>\n      <th>mean</th>\n      <td>5029.186975</td>\n    </tr>\n    <tr>\n      <th>std</th>\n      <td>2812.670060</td>\n    </tr>\n    <tr>\n      <th>min</th>\n      <td>39.000000</td>\n    </tr>\n    <tr>\n      <th>25%</th>\n      <td>2572.000000</td>\n    </tr>\n    <tr>\n      <th>50%</th>\n      <td>5093.000000</td>\n    </tr>\n    <tr>\n      <th>75%</th>\n      <td>7482.000000</td>\n    </tr>\n    <tr>\n      <th>max</th>\n      <td>9640.000000</td>\n    </tr>\n  </tbody>\n</table>\n</div>",
      "text/plain": "             qa_id\ncount   476.000000\nmean   5029.186975\nstd    2812.670060\nmin      39.000000\n25%    2572.000000\n50%    5093.000000\n75%    7482.000000\nmax    9640.000000"
     },
     "execution_count": 9,
     "metadata": {},
     "output_type": "execute_result"
    }
   ],
   "source": [
    "X_test.describe()"
   ]
  },
  {
   "cell_type": "code",
   "execution_count": 10,
   "metadata": {},
   "outputs": [
    {
     "name": "stdout",
     "output_type": "stream",
     "text": "Size of X_train (6079, 11)\nSize of Y_train (6079, 31)\nSize of X_test (476, 11)\n"
    }
   ],
   "source": [
    "print('Size of X_train', X_train.shape)\n",
    "print('Size of Y_train', Y_train.shape)\n",
    "print('Size of X_test', X_test.shape)"
   ]
  },
  {
   "cell_type": "markdown",
   "metadata": {},
   "source": [
    "### 2.2. Host distribution visualization"
   ]
  },
  {
   "cell_type": "code",
   "execution_count": 11,
   "metadata": {},
   "outputs": [],
   "source": [
    "X_train_host_dist = X_train[\"host\"].value_counts()\n",
    "X_test_host_dist = X_test[\"host\"].value_counts()"
   ]
  },
  {
   "cell_type": "code",
   "execution_count": 12,
   "metadata": {},
   "outputs": [
    {
     "data": {
      "application/vnd.plotly.v1+json": {
       "config": {
        "plotlyServerURL": "https://plot.ly"
       },
       "data": [
        {
         "domain": {
          "x": [
           0,
           1
          ],
          "y": [
           0,
           1
          ]
         },
         "hoverlabel": {
          "namelength": 0
         },
         "hovertemplate": "label=%{label}<br>value=%{value}",
         "labels": [
          "stackoverflow.com",
          "english.stackexchange.com",
          "superuser.com",
          "electronics.stackexchange.com",
          "serverfault.com",
          "math.stackexchange.com",
          "physics.stackexchange.com",
          "tex.stackexchange.com",
          "askubuntu.com",
          "programmers.stackexchange.com",
          "rpg.stackexchange.com",
          "gaming.stackexchange.com",
          "unix.stackexchange.com",
          "apple.stackexchange.com",
          "academia.stackexchange.com",
          "photo.stackexchange.com",
          "drupal.stackexchange.com",
          "diy.stackexchange.com",
          "ux.stackexchange.com",
          "scifi.stackexchange.com",
          "security.stackexchange.com",
          "ell.stackexchange.com",
          "gamedev.stackexchange.com",
          "mathoverflow.net",
          "wordpress.stackexchange.com",
          "magento.stackexchange.com",
          "mechanics.stackexchange.com",
          "graphicdesign.stackexchange.com",
          "money.stackexchange.com",
          "bicycles.stackexchange.com",
          "mathematica.stackexchange.com",
          "travel.stackexchange.com",
          "gis.stackexchange.com",
          "boardgames.stackexchange.com",
          "cooking.stackexchange.com",
          "dba.stackexchange.com",
          "judaism.stackexchange.com",
          "music.stackexchange.com",
          "sharepoint.stackexchange.com",
          "meta.stackexchange.com",
          "christianity.stackexchange.com",
          "biology.stackexchange.com",
          "webmasters.stackexchange.com",
          "stats.stackexchange.com",
          "chemistry.stackexchange.com",
          "salesforce.stackexchange.com",
          "blender.stackexchange.com",
          "webapps.stackexchange.com",
          "codereview.stackexchange.com",
          "raspberrypi.stackexchange.com",
          "android.stackexchange.com",
          "crypto.stackexchange.com",
          "expressionengine.stackexchange.com",
          "movies.stackexchange.com",
          "dsp.stackexchange.com",
          "anime.stackexchange.com",
          "cs.stackexchange.com",
          "softwarerecs.stackexchange.com",
          "meta.christianity.stackexchange.com",
          "robotics.stackexchange.com",
          "meta.askubuntu.com",
          "meta.math.stackexchange.com",
          "meta.codereview.stackexchange.com"
         ],
         "legendgroup": "",
         "name": "",
         "showlegend": true,
         "textinfo": "percent+label",
         "textposition": "inside",
         "type": "pie",
         "values": [
          1253,
          229,
          227,
          221,
          213,
          187,
          164,
          140,
          126,
          125,
          123,
          111,
          108,
          106,
          103,
          102,
          98,
          97,
          97,
          96,
          92,
          85,
          84,
          82,
          81,
          79,
          78,
          76,
          75,
          75,
          71,
          71,
          69,
          67,
          67,
          67,
          64,
          63,
          62,
          59,
          56,
          53,
          53,
          52,
          52,
          48,
          42,
          40,
          39,
          37,
          36,
          35,
          34,
          30,
          29,
          21,
          9,
          8,
          4,
          2,
          2,
          2,
          2
         ]
        }
       ],
       "layout": {
        "height": 800,
        "legend": {
         "tracegroupgap": 0
        },
        "showlegend": true,
        "template": {
         "data": {
          "bar": [
           {
            "error_x": {
             "color": "#2a3f5f"
            },
            "error_y": {
             "color": "#2a3f5f"
            },
            "marker": {
             "line": {
              "color": "#E5ECF6",
              "width": 0.5
             }
            },
            "type": "bar"
           }
          ],
          "barpolar": [
           {
            "marker": {
             "line": {
              "color": "#E5ECF6",
              "width": 0.5
             }
            },
            "type": "barpolar"
           }
          ],
          "carpet": [
           {
            "aaxis": {
             "endlinecolor": "#2a3f5f",
             "gridcolor": "white",
             "linecolor": "white",
             "minorgridcolor": "white",
             "startlinecolor": "#2a3f5f"
            },
            "baxis": {
             "endlinecolor": "#2a3f5f",
             "gridcolor": "white",
             "linecolor": "white",
             "minorgridcolor": "white",
             "startlinecolor": "#2a3f5f"
            },
            "type": "carpet"
           }
          ],
          "choropleth": [
           {
            "colorbar": {
             "outlinewidth": 0,
             "ticks": ""
            },
            "type": "choropleth"
           }
          ],
          "contour": [
           {
            "colorbar": {
             "outlinewidth": 0,
             "ticks": ""
            },
            "colorscale": [
             [
              0,
              "#0d0887"
             ],
             [
              0.1111111111111111,
              "#46039f"
             ],
             [
              0.2222222222222222,
              "#7201a8"
             ],
             [
              0.3333333333333333,
              "#9c179e"
             ],
             [
              0.4444444444444444,
              "#bd3786"
             ],
             [
              0.5555555555555556,
              "#d8576b"
             ],
             [
              0.6666666666666666,
              "#ed7953"
             ],
             [
              0.7777777777777778,
              "#fb9f3a"
             ],
             [
              0.8888888888888888,
              "#fdca26"
             ],
             [
              1,
              "#f0f921"
             ]
            ],
            "type": "contour"
           }
          ],
          "contourcarpet": [
           {
            "colorbar": {
             "outlinewidth": 0,
             "ticks": ""
            },
            "type": "contourcarpet"
           }
          ],
          "heatmap": [
           {
            "colorbar": {
             "outlinewidth": 0,
             "ticks": ""
            },
            "colorscale": [
             [
              0,
              "#0d0887"
             ],
             [
              0.1111111111111111,
              "#46039f"
             ],
             [
              0.2222222222222222,
              "#7201a8"
             ],
             [
              0.3333333333333333,
              "#9c179e"
             ],
             [
              0.4444444444444444,
              "#bd3786"
             ],
             [
              0.5555555555555556,
              "#d8576b"
             ],
             [
              0.6666666666666666,
              "#ed7953"
             ],
             [
              0.7777777777777778,
              "#fb9f3a"
             ],
             [
              0.8888888888888888,
              "#fdca26"
             ],
             [
              1,
              "#f0f921"
             ]
            ],
            "type": "heatmap"
           }
          ],
          "heatmapgl": [
           {
            "colorbar": {
             "outlinewidth": 0,
             "ticks": ""
            },
            "colorscale": [
             [
              0,
              "#0d0887"
             ],
             [
              0.1111111111111111,
              "#46039f"
             ],
             [
              0.2222222222222222,
              "#7201a8"
             ],
             [
              0.3333333333333333,
              "#9c179e"
             ],
             [
              0.4444444444444444,
              "#bd3786"
             ],
             [
              0.5555555555555556,
              "#d8576b"
             ],
             [
              0.6666666666666666,
              "#ed7953"
             ],
             [
              0.7777777777777778,
              "#fb9f3a"
             ],
             [
              0.8888888888888888,
              "#fdca26"
             ],
             [
              1,
              "#f0f921"
             ]
            ],
            "type": "heatmapgl"
           }
          ],
          "histogram": [
           {
            "marker": {
             "colorbar": {
              "outlinewidth": 0,
              "ticks": ""
             }
            },
            "type": "histogram"
           }
          ],
          "histogram2d": [
           {
            "colorbar": {
             "outlinewidth": 0,
             "ticks": ""
            },
            "colorscale": [
             [
              0,
              "#0d0887"
             ],
             [
              0.1111111111111111,
              "#46039f"
             ],
             [
              0.2222222222222222,
              "#7201a8"
             ],
             [
              0.3333333333333333,
              "#9c179e"
             ],
             [
              0.4444444444444444,
              "#bd3786"
             ],
             [
              0.5555555555555556,
              "#d8576b"
             ],
             [
              0.6666666666666666,
              "#ed7953"
             ],
             [
              0.7777777777777778,
              "#fb9f3a"
             ],
             [
              0.8888888888888888,
              "#fdca26"
             ],
             [
              1,
              "#f0f921"
             ]
            ],
            "type": "histogram2d"
           }
          ],
          "histogram2dcontour": [
           {
            "colorbar": {
             "outlinewidth": 0,
             "ticks": ""
            },
            "colorscale": [
             [
              0,
              "#0d0887"
             ],
             [
              0.1111111111111111,
              "#46039f"
             ],
             [
              0.2222222222222222,
              "#7201a8"
             ],
             [
              0.3333333333333333,
              "#9c179e"
             ],
             [
              0.4444444444444444,
              "#bd3786"
             ],
             [
              0.5555555555555556,
              "#d8576b"
             ],
             [
              0.6666666666666666,
              "#ed7953"
             ],
             [
              0.7777777777777778,
              "#fb9f3a"
             ],
             [
              0.8888888888888888,
              "#fdca26"
             ],
             [
              1,
              "#f0f921"
             ]
            ],
            "type": "histogram2dcontour"
           }
          ],
          "mesh3d": [
           {
            "colorbar": {
             "outlinewidth": 0,
             "ticks": ""
            },
            "type": "mesh3d"
           }
          ],
          "parcoords": [
           {
            "line": {
             "colorbar": {
              "outlinewidth": 0,
              "ticks": ""
             }
            },
            "type": "parcoords"
           }
          ],
          "pie": [
           {
            "automargin": true,
            "type": "pie"
           }
          ],
          "scatter": [
           {
            "marker": {
             "colorbar": {
              "outlinewidth": 0,
              "ticks": ""
             }
            },
            "type": "scatter"
           }
          ],
          "scatter3d": [
           {
            "line": {
             "colorbar": {
              "outlinewidth": 0,
              "ticks": ""
             }
            },
            "marker": {
             "colorbar": {
              "outlinewidth": 0,
              "ticks": ""
             }
            },
            "type": "scatter3d"
           }
          ],
          "scattercarpet": [
           {
            "marker": {
             "colorbar": {
              "outlinewidth": 0,
              "ticks": ""
             }
            },
            "type": "scattercarpet"
           }
          ],
          "scattergeo": [
           {
            "marker": {
             "colorbar": {
              "outlinewidth": 0,
              "ticks": ""
             }
            },
            "type": "scattergeo"
           }
          ],
          "scattergl": [
           {
            "marker": {
             "colorbar": {
              "outlinewidth": 0,
              "ticks": ""
             }
            },
            "type": "scattergl"
           }
          ],
          "scattermapbox": [
           {
            "marker": {
             "colorbar": {
              "outlinewidth": 0,
              "ticks": ""
             }
            },
            "type": "scattermapbox"
           }
          ],
          "scatterpolar": [
           {
            "marker": {
             "colorbar": {
              "outlinewidth": 0,
              "ticks": ""
             }
            },
            "type": "scatterpolar"
           }
          ],
          "scatterpolargl": [
           {
            "marker": {
             "colorbar": {
              "outlinewidth": 0,
              "ticks": ""
             }
            },
            "type": "scatterpolargl"
           }
          ],
          "scatterternary": [
           {
            "marker": {
             "colorbar": {
              "outlinewidth": 0,
              "ticks": ""
             }
            },
            "type": "scatterternary"
           }
          ],
          "surface": [
           {
            "colorbar": {
             "outlinewidth": 0,
             "ticks": ""
            },
            "colorscale": [
             [
              0,
              "#0d0887"
             ],
             [
              0.1111111111111111,
              "#46039f"
             ],
             [
              0.2222222222222222,
              "#7201a8"
             ],
             [
              0.3333333333333333,
              "#9c179e"
             ],
             [
              0.4444444444444444,
              "#bd3786"
             ],
             [
              0.5555555555555556,
              "#d8576b"
             ],
             [
              0.6666666666666666,
              "#ed7953"
             ],
             [
              0.7777777777777778,
              "#fb9f3a"
             ],
             [
              0.8888888888888888,
              "#fdca26"
             ],
             [
              1,
              "#f0f921"
             ]
            ],
            "type": "surface"
           }
          ],
          "table": [
           {
            "cells": {
             "fill": {
              "color": "#EBF0F8"
             },
             "line": {
              "color": "white"
             }
            },
            "header": {
             "fill": {
              "color": "#C8D4E3"
             },
             "line": {
              "color": "white"
             }
            },
            "type": "table"
           }
          ]
         },
         "layout": {
          "annotationdefaults": {
           "arrowcolor": "#2a3f5f",
           "arrowhead": 0,
           "arrowwidth": 1
          },
          "coloraxis": {
           "colorbar": {
            "outlinewidth": 0,
            "ticks": ""
           }
          },
          "colorscale": {
           "diverging": [
            [
             0,
             "#8e0152"
            ],
            [
             0.1,
             "#c51b7d"
            ],
            [
             0.2,
             "#de77ae"
            ],
            [
             0.3,
             "#f1b6da"
            ],
            [
             0.4,
             "#fde0ef"
            ],
            [
             0.5,
             "#f7f7f7"
            ],
            [
             0.6,
             "#e6f5d0"
            ],
            [
             0.7,
             "#b8e186"
            ],
            [
             0.8,
             "#7fbc41"
            ],
            [
             0.9,
             "#4d9221"
            ],
            [
             1,
             "#276419"
            ]
           ],
           "sequential": [
            [
             0,
             "#0d0887"
            ],
            [
             0.1111111111111111,
             "#46039f"
            ],
            [
             0.2222222222222222,
             "#7201a8"
            ],
            [
             0.3333333333333333,
             "#9c179e"
            ],
            [
             0.4444444444444444,
             "#bd3786"
            ],
            [
             0.5555555555555556,
             "#d8576b"
            ],
            [
             0.6666666666666666,
             "#ed7953"
            ],
            [
             0.7777777777777778,
             "#fb9f3a"
            ],
            [
             0.8888888888888888,
             "#fdca26"
            ],
            [
             1,
             "#f0f921"
            ]
           ],
           "sequentialminus": [
            [
             0,
             "#0d0887"
            ],
            [
             0.1111111111111111,
             "#46039f"
            ],
            [
             0.2222222222222222,
             "#7201a8"
            ],
            [
             0.3333333333333333,
             "#9c179e"
            ],
            [
             0.4444444444444444,
             "#bd3786"
            ],
            [
             0.5555555555555556,
             "#d8576b"
            ],
            [
             0.6666666666666666,
             "#ed7953"
            ],
            [
             0.7777777777777778,
             "#fb9f3a"
            ],
            [
             0.8888888888888888,
             "#fdca26"
            ],
            [
             1,
             "#f0f921"
            ]
           ]
          },
          "colorway": [
           "#636efa",
           "#EF553B",
           "#00cc96",
           "#ab63fa",
           "#FFA15A",
           "#19d3f3",
           "#FF6692",
           "#B6E880",
           "#FF97FF",
           "#FECB52"
          ],
          "font": {
           "color": "#2a3f5f"
          },
          "geo": {
           "bgcolor": "white",
           "lakecolor": "white",
           "landcolor": "#E5ECF6",
           "showlakes": true,
           "showland": true,
           "subunitcolor": "white"
          },
          "hoverlabel": {
           "align": "left"
          },
          "hovermode": "closest",
          "mapbox": {
           "style": "light"
          },
          "paper_bgcolor": "white",
          "plot_bgcolor": "#E5ECF6",
          "polar": {
           "angularaxis": {
            "gridcolor": "white",
            "linecolor": "white",
            "ticks": ""
           },
           "bgcolor": "#E5ECF6",
           "radialaxis": {
            "gridcolor": "white",
            "linecolor": "white",
            "ticks": ""
           }
          },
          "scene": {
           "xaxis": {
            "backgroundcolor": "#E5ECF6",
            "gridcolor": "white",
            "gridwidth": 2,
            "linecolor": "white",
            "showbackground": true,
            "ticks": "",
            "zerolinecolor": "white"
           },
           "yaxis": {
            "backgroundcolor": "#E5ECF6",
            "gridcolor": "white",
            "gridwidth": 2,
            "linecolor": "white",
            "showbackground": true,
            "ticks": "",
            "zerolinecolor": "white"
           },
           "zaxis": {
            "backgroundcolor": "#E5ECF6",
            "gridcolor": "white",
            "gridwidth": 2,
            "linecolor": "white",
            "showbackground": true,
            "ticks": "",
            "zerolinecolor": "white"
           }
          },
          "shapedefaults": {
           "line": {
            "color": "#2a3f5f"
           }
          },
          "ternary": {
           "aaxis": {
            "gridcolor": "white",
            "linecolor": "white",
            "ticks": ""
           },
           "baxis": {
            "gridcolor": "white",
            "linecolor": "white",
            "ticks": ""
           },
           "bgcolor": "#E5ECF6",
           "caxis": {
            "gridcolor": "white",
            "linecolor": "white",
            "ticks": ""
           }
          },
          "title": {
           "x": 0.05
          },
          "xaxis": {
           "automargin": true,
           "gridcolor": "white",
           "linecolor": "white",
           "ticks": "",
           "title": {
            "standoff": 15
           },
           "zerolinecolor": "white",
           "zerolinewidth": 2
          },
          "yaxis": {
           "automargin": true,
           "gridcolor": "white",
           "linecolor": "white",
           "ticks": "",
           "title": {
            "standoff": 15
           },
           "zerolinecolor": "white",
           "zerolinewidth": 2
          }
         }
        },
        "title": {
         "text": "Host data distribution on train data"
        },
        "width": 800
       }
      }
     },
     "metadata": {},
     "output_type": "display_data"
    }
   ],
   "source": [
    "analysis.host_distribution(X_train_host_dist, 'Host data distribution on train data')"
   ]
  },
  {
   "cell_type": "code",
   "execution_count": 13,
   "metadata": {},
   "outputs": [
    {
     "data": {
      "application/vnd.plotly.v1+json": {
       "config": {
        "plotlyServerURL": "https://plot.ly"
       },
       "data": [
        {
         "domain": {
          "x": [
           0,
           1
          ],
          "y": [
           0,
           1
          ]
         },
         "hoverlabel": {
          "namelength": 0
         },
         "hovertemplate": "label=%{label}<br>value=%{value}",
         "labels": [
          "stackoverflow.com",
          "wordpress.stackexchange.com",
          "math.stackexchange.com",
          "gis.stackexchange.com",
          "gaming.stackexchange.com",
          "superuser.com",
          "serverfault.com",
          "diy.stackexchange.com",
          "unix.stackexchange.com",
          "cooking.stackexchange.com",
          "electronics.stackexchange.com",
          "askubuntu.com",
          "physics.stackexchange.com",
          "sharepoint.stackexchange.com",
          "apple.stackexchange.com",
          "judaism.stackexchange.com",
          "mathoverflow.net",
          "anime.stackexchange.com",
          "webapps.stackexchange.com",
          "meta.stackexchange.com",
          "raspberrypi.stackexchange.com",
          "ux.stackexchange.com",
          "english.stackexchange.com",
          "music.stackexchange.com",
          "photo.stackexchange.com",
          "tex.stackexchange.com",
          "stats.stackexchange.com",
          "christianity.stackexchange.com",
          "codereview.stackexchange.com",
          "android.stackexchange.com",
          "travel.stackexchange.com",
          "salesforce.stackexchange.com",
          "biology.stackexchange.com",
          "ell.stackexchange.com",
          "mathematica.stackexchange.com",
          "mechanics.stackexchange.com",
          "boardgames.stackexchange.com",
          "gamedev.stackexchange.com",
          "drupal.stackexchange.com",
          "movies.stackexchange.com",
          "blender.stackexchange.com",
          "chemistry.stackexchange.com",
          "dba.stackexchange.com",
          "crypto.stackexchange.com",
          "webmasters.stackexchange.com",
          "programmers.stackexchange.com",
          "security.stackexchange.com",
          "magento.stackexchange.com",
          "scifi.stackexchange.com",
          "meta.superuser.com",
          "academia.stackexchange.com",
          "dsp.stackexchange.com",
          "bicycles.stackexchange.com",
          "meta.codereview.stackexchange.com",
          "cs.stackexchange.com"
         ],
         "legendgroup": "",
         "name": "",
         "showlegend": true,
         "textinfo": "percent+label",
         "textposition": "inside",
         "type": "pie",
         "values": [
          103,
          20,
          19,
          16,
          15,
          15,
          14,
          14,
          11,
          11,
          11,
          11,
          11,
          10,
          9,
          9,
          8,
          8,
          8,
          7,
          7,
          7,
          7,
          7,
          7,
          7,
          7,
          6,
          6,
          5,
          5,
          5,
          4,
          4,
          4,
          4,
          4,
          4,
          4,
          4,
          4,
          4,
          4,
          3,
          3,
          3,
          3,
          2,
          2,
          2,
          2,
          2,
          2,
          1,
          1
         ]
        }
       ],
       "layout": {
        "height": 800,
        "legend": {
         "tracegroupgap": 0
        },
        "showlegend": true,
        "template": {
         "data": {
          "bar": [
           {
            "error_x": {
             "color": "#2a3f5f"
            },
            "error_y": {
             "color": "#2a3f5f"
            },
            "marker": {
             "line": {
              "color": "#E5ECF6",
              "width": 0.5
             }
            },
            "type": "bar"
           }
          ],
          "barpolar": [
           {
            "marker": {
             "line": {
              "color": "#E5ECF6",
              "width": 0.5
             }
            },
            "type": "barpolar"
           }
          ],
          "carpet": [
           {
            "aaxis": {
             "endlinecolor": "#2a3f5f",
             "gridcolor": "white",
             "linecolor": "white",
             "minorgridcolor": "white",
             "startlinecolor": "#2a3f5f"
            },
            "baxis": {
             "endlinecolor": "#2a3f5f",
             "gridcolor": "white",
             "linecolor": "white",
             "minorgridcolor": "white",
             "startlinecolor": "#2a3f5f"
            },
            "type": "carpet"
           }
          ],
          "choropleth": [
           {
            "colorbar": {
             "outlinewidth": 0,
             "ticks": ""
            },
            "type": "choropleth"
           }
          ],
          "contour": [
           {
            "colorbar": {
             "outlinewidth": 0,
             "ticks": ""
            },
            "colorscale": [
             [
              0,
              "#0d0887"
             ],
             [
              0.1111111111111111,
              "#46039f"
             ],
             [
              0.2222222222222222,
              "#7201a8"
             ],
             [
              0.3333333333333333,
              "#9c179e"
             ],
             [
              0.4444444444444444,
              "#bd3786"
             ],
             [
              0.5555555555555556,
              "#d8576b"
             ],
             [
              0.6666666666666666,
              "#ed7953"
             ],
             [
              0.7777777777777778,
              "#fb9f3a"
             ],
             [
              0.8888888888888888,
              "#fdca26"
             ],
             [
              1,
              "#f0f921"
             ]
            ],
            "type": "contour"
           }
          ],
          "contourcarpet": [
           {
            "colorbar": {
             "outlinewidth": 0,
             "ticks": ""
            },
            "type": "contourcarpet"
           }
          ],
          "heatmap": [
           {
            "colorbar": {
             "outlinewidth": 0,
             "ticks": ""
            },
            "colorscale": [
             [
              0,
              "#0d0887"
             ],
             [
              0.1111111111111111,
              "#46039f"
             ],
             [
              0.2222222222222222,
              "#7201a8"
             ],
             [
              0.3333333333333333,
              "#9c179e"
             ],
             [
              0.4444444444444444,
              "#bd3786"
             ],
             [
              0.5555555555555556,
              "#d8576b"
             ],
             [
              0.6666666666666666,
              "#ed7953"
             ],
             [
              0.7777777777777778,
              "#fb9f3a"
             ],
             [
              0.8888888888888888,
              "#fdca26"
             ],
             [
              1,
              "#f0f921"
             ]
            ],
            "type": "heatmap"
           }
          ],
          "heatmapgl": [
           {
            "colorbar": {
             "outlinewidth": 0,
             "ticks": ""
            },
            "colorscale": [
             [
              0,
              "#0d0887"
             ],
             [
              0.1111111111111111,
              "#46039f"
             ],
             [
              0.2222222222222222,
              "#7201a8"
             ],
             [
              0.3333333333333333,
              "#9c179e"
             ],
             [
              0.4444444444444444,
              "#bd3786"
             ],
             [
              0.5555555555555556,
              "#d8576b"
             ],
             [
              0.6666666666666666,
              "#ed7953"
             ],
             [
              0.7777777777777778,
              "#fb9f3a"
             ],
             [
              0.8888888888888888,
              "#fdca26"
             ],
             [
              1,
              "#f0f921"
             ]
            ],
            "type": "heatmapgl"
           }
          ],
          "histogram": [
           {
            "marker": {
             "colorbar": {
              "outlinewidth": 0,
              "ticks": ""
             }
            },
            "type": "histogram"
           }
          ],
          "histogram2d": [
           {
            "colorbar": {
             "outlinewidth": 0,
             "ticks": ""
            },
            "colorscale": [
             [
              0,
              "#0d0887"
             ],
             [
              0.1111111111111111,
              "#46039f"
             ],
             [
              0.2222222222222222,
              "#7201a8"
             ],
             [
              0.3333333333333333,
              "#9c179e"
             ],
             [
              0.4444444444444444,
              "#bd3786"
             ],
             [
              0.5555555555555556,
              "#d8576b"
             ],
             [
              0.6666666666666666,
              "#ed7953"
             ],
             [
              0.7777777777777778,
              "#fb9f3a"
             ],
             [
              0.8888888888888888,
              "#fdca26"
             ],
             [
              1,
              "#f0f921"
             ]
            ],
            "type": "histogram2d"
           }
          ],
          "histogram2dcontour": [
           {
            "colorbar": {
             "outlinewidth": 0,
             "ticks": ""
            },
            "colorscale": [
             [
              0,
              "#0d0887"
             ],
             [
              0.1111111111111111,
              "#46039f"
             ],
             [
              0.2222222222222222,
              "#7201a8"
             ],
             [
              0.3333333333333333,
              "#9c179e"
             ],
             [
              0.4444444444444444,
              "#bd3786"
             ],
             [
              0.5555555555555556,
              "#d8576b"
             ],
             [
              0.6666666666666666,
              "#ed7953"
             ],
             [
              0.7777777777777778,
              "#fb9f3a"
             ],
             [
              0.8888888888888888,
              "#fdca26"
             ],
             [
              1,
              "#f0f921"
             ]
            ],
            "type": "histogram2dcontour"
           }
          ],
          "mesh3d": [
           {
            "colorbar": {
             "outlinewidth": 0,
             "ticks": ""
            },
            "type": "mesh3d"
           }
          ],
          "parcoords": [
           {
            "line": {
             "colorbar": {
              "outlinewidth": 0,
              "ticks": ""
             }
            },
            "type": "parcoords"
           }
          ],
          "pie": [
           {
            "automargin": true,
            "type": "pie"
           }
          ],
          "scatter": [
           {
            "marker": {
             "colorbar": {
              "outlinewidth": 0,
              "ticks": ""
             }
            },
            "type": "scatter"
           }
          ],
          "scatter3d": [
           {
            "line": {
             "colorbar": {
              "outlinewidth": 0,
              "ticks": ""
             }
            },
            "marker": {
             "colorbar": {
              "outlinewidth": 0,
              "ticks": ""
             }
            },
            "type": "scatter3d"
           }
          ],
          "scattercarpet": [
           {
            "marker": {
             "colorbar": {
              "outlinewidth": 0,
              "ticks": ""
             }
            },
            "type": "scattercarpet"
           }
          ],
          "scattergeo": [
           {
            "marker": {
             "colorbar": {
              "outlinewidth": 0,
              "ticks": ""
             }
            },
            "type": "scattergeo"
           }
          ],
          "scattergl": [
           {
            "marker": {
             "colorbar": {
              "outlinewidth": 0,
              "ticks": ""
             }
            },
            "type": "scattergl"
           }
          ],
          "scattermapbox": [
           {
            "marker": {
             "colorbar": {
              "outlinewidth": 0,
              "ticks": ""
             }
            },
            "type": "scattermapbox"
           }
          ],
          "scatterpolar": [
           {
            "marker": {
             "colorbar": {
              "outlinewidth": 0,
              "ticks": ""
             }
            },
            "type": "scatterpolar"
           }
          ],
          "scatterpolargl": [
           {
            "marker": {
             "colorbar": {
              "outlinewidth": 0,
              "ticks": ""
             }
            },
            "type": "scatterpolargl"
           }
          ],
          "scatterternary": [
           {
            "marker": {
             "colorbar": {
              "outlinewidth": 0,
              "ticks": ""
             }
            },
            "type": "scatterternary"
           }
          ],
          "surface": [
           {
            "colorbar": {
             "outlinewidth": 0,
             "ticks": ""
            },
            "colorscale": [
             [
              0,
              "#0d0887"
             ],
             [
              0.1111111111111111,
              "#46039f"
             ],
             [
              0.2222222222222222,
              "#7201a8"
             ],
             [
              0.3333333333333333,
              "#9c179e"
             ],
             [
              0.4444444444444444,
              "#bd3786"
             ],
             [
              0.5555555555555556,
              "#d8576b"
             ],
             [
              0.6666666666666666,
              "#ed7953"
             ],
             [
              0.7777777777777778,
              "#fb9f3a"
             ],
             [
              0.8888888888888888,
              "#fdca26"
             ],
             [
              1,
              "#f0f921"
             ]
            ],
            "type": "surface"
           }
          ],
          "table": [
           {
            "cells": {
             "fill": {
              "color": "#EBF0F8"
             },
             "line": {
              "color": "white"
             }
            },
            "header": {
             "fill": {
              "color": "#C8D4E3"
             },
             "line": {
              "color": "white"
             }
            },
            "type": "table"
           }
          ]
         },
         "layout": {
          "annotationdefaults": {
           "arrowcolor": "#2a3f5f",
           "arrowhead": 0,
           "arrowwidth": 1
          },
          "coloraxis": {
           "colorbar": {
            "outlinewidth": 0,
            "ticks": ""
           }
          },
          "colorscale": {
           "diverging": [
            [
             0,
             "#8e0152"
            ],
            [
             0.1,
             "#c51b7d"
            ],
            [
             0.2,
             "#de77ae"
            ],
            [
             0.3,
             "#f1b6da"
            ],
            [
             0.4,
             "#fde0ef"
            ],
            [
             0.5,
             "#f7f7f7"
            ],
            [
             0.6,
             "#e6f5d0"
            ],
            [
             0.7,
             "#b8e186"
            ],
            [
             0.8,
             "#7fbc41"
            ],
            [
             0.9,
             "#4d9221"
            ],
            [
             1,
             "#276419"
            ]
           ],
           "sequential": [
            [
             0,
             "#0d0887"
            ],
            [
             0.1111111111111111,
             "#46039f"
            ],
            [
             0.2222222222222222,
             "#7201a8"
            ],
            [
             0.3333333333333333,
             "#9c179e"
            ],
            [
             0.4444444444444444,
             "#bd3786"
            ],
            [
             0.5555555555555556,
             "#d8576b"
            ],
            [
             0.6666666666666666,
             "#ed7953"
            ],
            [
             0.7777777777777778,
             "#fb9f3a"
            ],
            [
             0.8888888888888888,
             "#fdca26"
            ],
            [
             1,
             "#f0f921"
            ]
           ],
           "sequentialminus": [
            [
             0,
             "#0d0887"
            ],
            [
             0.1111111111111111,
             "#46039f"
            ],
            [
             0.2222222222222222,
             "#7201a8"
            ],
            [
             0.3333333333333333,
             "#9c179e"
            ],
            [
             0.4444444444444444,
             "#bd3786"
            ],
            [
             0.5555555555555556,
             "#d8576b"
            ],
            [
             0.6666666666666666,
             "#ed7953"
            ],
            [
             0.7777777777777778,
             "#fb9f3a"
            ],
            [
             0.8888888888888888,
             "#fdca26"
            ],
            [
             1,
             "#f0f921"
            ]
           ]
          },
          "colorway": [
           "#636efa",
           "#EF553B",
           "#00cc96",
           "#ab63fa",
           "#FFA15A",
           "#19d3f3",
           "#FF6692",
           "#B6E880",
           "#FF97FF",
           "#FECB52"
          ],
          "font": {
           "color": "#2a3f5f"
          },
          "geo": {
           "bgcolor": "white",
           "lakecolor": "white",
           "landcolor": "#E5ECF6",
           "showlakes": true,
           "showland": true,
           "subunitcolor": "white"
          },
          "hoverlabel": {
           "align": "left"
          },
          "hovermode": "closest",
          "mapbox": {
           "style": "light"
          },
          "paper_bgcolor": "white",
          "plot_bgcolor": "#E5ECF6",
          "polar": {
           "angularaxis": {
            "gridcolor": "white",
            "linecolor": "white",
            "ticks": ""
           },
           "bgcolor": "#E5ECF6",
           "radialaxis": {
            "gridcolor": "white",
            "linecolor": "white",
            "ticks": ""
           }
          },
          "scene": {
           "xaxis": {
            "backgroundcolor": "#E5ECF6",
            "gridcolor": "white",
            "gridwidth": 2,
            "linecolor": "white",
            "showbackground": true,
            "ticks": "",
            "zerolinecolor": "white"
           },
           "yaxis": {
            "backgroundcolor": "#E5ECF6",
            "gridcolor": "white",
            "gridwidth": 2,
            "linecolor": "white",
            "showbackground": true,
            "ticks": "",
            "zerolinecolor": "white"
           },
           "zaxis": {
            "backgroundcolor": "#E5ECF6",
            "gridcolor": "white",
            "gridwidth": 2,
            "linecolor": "white",
            "showbackground": true,
            "ticks": "",
            "zerolinecolor": "white"
           }
          },
          "shapedefaults": {
           "line": {
            "color": "#2a3f5f"
           }
          },
          "ternary": {
           "aaxis": {
            "gridcolor": "white",
            "linecolor": "white",
            "ticks": ""
           },
           "baxis": {
            "gridcolor": "white",
            "linecolor": "white",
            "ticks": ""
           },
           "bgcolor": "#E5ECF6",
           "caxis": {
            "gridcolor": "white",
            "linecolor": "white",
            "ticks": ""
           }
          },
          "title": {
           "x": 0.05
          },
          "xaxis": {
           "automargin": true,
           "gridcolor": "white",
           "linecolor": "white",
           "ticks": "",
           "title": {
            "standoff": 15
           },
           "zerolinecolor": "white",
           "zerolinewidth": 2
          },
          "yaxis": {
           "automargin": true,
           "gridcolor": "white",
           "linecolor": "white",
           "ticks": "",
           "title": {
            "standoff": 15
           },
           "zerolinecolor": "white",
           "zerolinewidth": 2
          }
         }
        },
        "title": {
         "text": "Host data distribution on test data"
        },
        "width": 800
       }
      }
     },
     "metadata": {},
     "output_type": "display_data"
    }
   ],
   "source": [
    "analysis.host_distribution(X_test_host_dist, 'Host data distribution on test data')"
   ]
  },
  {
   "cell_type": "markdown",
   "metadata": {},
   "source": [
    "### 2.3. Categories distribution"
   ]
  },
  {
   "cell_type": "code",
   "execution_count": 14,
   "metadata": {},
   "outputs": [
    {
     "data": {
      "application/vnd.plotly.v1+json": {
       "config": {
        "plotlyServerURL": "https://plot.ly"
       },
       "data": [
        {
         "alignmentgroup": "True",
         "hoverlabel": {
          "namelength": 0
         },
         "hovertemplate": "category=%{x}<br>share in %=%{y}",
         "legendgroup": "",
         "marker": {
          "color": "#636efa"
         },
         "name": "",
         "offsetgroup": "",
         "orientation": "v",
         "showlegend": false,
         "textposition": "auto",
         "type": "bar",
         "x": [
          "TECHNOLOGY",
          "STACKOVERFLOW",
          "CULTURE",
          "SCIENCE",
          "LIFE_ARTS"
         ],
         "xaxis": "x",
         "y": [
          0.40154630695838134,
          0.2061194275374239,
          0.15841421286395788,
          0.1172890278006251,
          0.11663102483961178
         ],
         "yaxis": "y"
        }
       ],
       "layout": {
        "barmode": "relative",
        "legend": {
         "tracegroupgap": 0
        },
        "template": {
         "data": {
          "bar": [
           {
            "error_x": {
             "color": "#2a3f5f"
            },
            "error_y": {
             "color": "#2a3f5f"
            },
            "marker": {
             "line": {
              "color": "#E5ECF6",
              "width": 0.5
             }
            },
            "type": "bar"
           }
          ],
          "barpolar": [
           {
            "marker": {
             "line": {
              "color": "#E5ECF6",
              "width": 0.5
             }
            },
            "type": "barpolar"
           }
          ],
          "carpet": [
           {
            "aaxis": {
             "endlinecolor": "#2a3f5f",
             "gridcolor": "white",
             "linecolor": "white",
             "minorgridcolor": "white",
             "startlinecolor": "#2a3f5f"
            },
            "baxis": {
             "endlinecolor": "#2a3f5f",
             "gridcolor": "white",
             "linecolor": "white",
             "minorgridcolor": "white",
             "startlinecolor": "#2a3f5f"
            },
            "type": "carpet"
           }
          ],
          "choropleth": [
           {
            "colorbar": {
             "outlinewidth": 0,
             "ticks": ""
            },
            "type": "choropleth"
           }
          ],
          "contour": [
           {
            "colorbar": {
             "outlinewidth": 0,
             "ticks": ""
            },
            "colorscale": [
             [
              0,
              "#0d0887"
             ],
             [
              0.1111111111111111,
              "#46039f"
             ],
             [
              0.2222222222222222,
              "#7201a8"
             ],
             [
              0.3333333333333333,
              "#9c179e"
             ],
             [
              0.4444444444444444,
              "#bd3786"
             ],
             [
              0.5555555555555556,
              "#d8576b"
             ],
             [
              0.6666666666666666,
              "#ed7953"
             ],
             [
              0.7777777777777778,
              "#fb9f3a"
             ],
             [
              0.8888888888888888,
              "#fdca26"
             ],
             [
              1,
              "#f0f921"
             ]
            ],
            "type": "contour"
           }
          ],
          "contourcarpet": [
           {
            "colorbar": {
             "outlinewidth": 0,
             "ticks": ""
            },
            "type": "contourcarpet"
           }
          ],
          "heatmap": [
           {
            "colorbar": {
             "outlinewidth": 0,
             "ticks": ""
            },
            "colorscale": [
             [
              0,
              "#0d0887"
             ],
             [
              0.1111111111111111,
              "#46039f"
             ],
             [
              0.2222222222222222,
              "#7201a8"
             ],
             [
              0.3333333333333333,
              "#9c179e"
             ],
             [
              0.4444444444444444,
              "#bd3786"
             ],
             [
              0.5555555555555556,
              "#d8576b"
             ],
             [
              0.6666666666666666,
              "#ed7953"
             ],
             [
              0.7777777777777778,
              "#fb9f3a"
             ],
             [
              0.8888888888888888,
              "#fdca26"
             ],
             [
              1,
              "#f0f921"
             ]
            ],
            "type": "heatmap"
           }
          ],
          "heatmapgl": [
           {
            "colorbar": {
             "outlinewidth": 0,
             "ticks": ""
            },
            "colorscale": [
             [
              0,
              "#0d0887"
             ],
             [
              0.1111111111111111,
              "#46039f"
             ],
             [
              0.2222222222222222,
              "#7201a8"
             ],
             [
              0.3333333333333333,
              "#9c179e"
             ],
             [
              0.4444444444444444,
              "#bd3786"
             ],
             [
              0.5555555555555556,
              "#d8576b"
             ],
             [
              0.6666666666666666,
              "#ed7953"
             ],
             [
              0.7777777777777778,
              "#fb9f3a"
             ],
             [
              0.8888888888888888,
              "#fdca26"
             ],
             [
              1,
              "#f0f921"
             ]
            ],
            "type": "heatmapgl"
           }
          ],
          "histogram": [
           {
            "marker": {
             "colorbar": {
              "outlinewidth": 0,
              "ticks": ""
             }
            },
            "type": "histogram"
           }
          ],
          "histogram2d": [
           {
            "colorbar": {
             "outlinewidth": 0,
             "ticks": ""
            },
            "colorscale": [
             [
              0,
              "#0d0887"
             ],
             [
              0.1111111111111111,
              "#46039f"
             ],
             [
              0.2222222222222222,
              "#7201a8"
             ],
             [
              0.3333333333333333,
              "#9c179e"
             ],
             [
              0.4444444444444444,
              "#bd3786"
             ],
             [
              0.5555555555555556,
              "#d8576b"
             ],
             [
              0.6666666666666666,
              "#ed7953"
             ],
             [
              0.7777777777777778,
              "#fb9f3a"
             ],
             [
              0.8888888888888888,
              "#fdca26"
             ],
             [
              1,
              "#f0f921"
             ]
            ],
            "type": "histogram2d"
           }
          ],
          "histogram2dcontour": [
           {
            "colorbar": {
             "outlinewidth": 0,
             "ticks": ""
            },
            "colorscale": [
             [
              0,
              "#0d0887"
             ],
             [
              0.1111111111111111,
              "#46039f"
             ],
             [
              0.2222222222222222,
              "#7201a8"
             ],
             [
              0.3333333333333333,
              "#9c179e"
             ],
             [
              0.4444444444444444,
              "#bd3786"
             ],
             [
              0.5555555555555556,
              "#d8576b"
             ],
             [
              0.6666666666666666,
              "#ed7953"
             ],
             [
              0.7777777777777778,
              "#fb9f3a"
             ],
             [
              0.8888888888888888,
              "#fdca26"
             ],
             [
              1,
              "#f0f921"
             ]
            ],
            "type": "histogram2dcontour"
           }
          ],
          "mesh3d": [
           {
            "colorbar": {
             "outlinewidth": 0,
             "ticks": ""
            },
            "type": "mesh3d"
           }
          ],
          "parcoords": [
           {
            "line": {
             "colorbar": {
              "outlinewidth": 0,
              "ticks": ""
             }
            },
            "type": "parcoords"
           }
          ],
          "pie": [
           {
            "automargin": true,
            "type": "pie"
           }
          ],
          "scatter": [
           {
            "marker": {
             "colorbar": {
              "outlinewidth": 0,
              "ticks": ""
             }
            },
            "type": "scatter"
           }
          ],
          "scatter3d": [
           {
            "line": {
             "colorbar": {
              "outlinewidth": 0,
              "ticks": ""
             }
            },
            "marker": {
             "colorbar": {
              "outlinewidth": 0,
              "ticks": ""
             }
            },
            "type": "scatter3d"
           }
          ],
          "scattercarpet": [
           {
            "marker": {
             "colorbar": {
              "outlinewidth": 0,
              "ticks": ""
             }
            },
            "type": "scattercarpet"
           }
          ],
          "scattergeo": [
           {
            "marker": {
             "colorbar": {
              "outlinewidth": 0,
              "ticks": ""
             }
            },
            "type": "scattergeo"
           }
          ],
          "scattergl": [
           {
            "marker": {
             "colorbar": {
              "outlinewidth": 0,
              "ticks": ""
             }
            },
            "type": "scattergl"
           }
          ],
          "scattermapbox": [
           {
            "marker": {
             "colorbar": {
              "outlinewidth": 0,
              "ticks": ""
             }
            },
            "type": "scattermapbox"
           }
          ],
          "scatterpolar": [
           {
            "marker": {
             "colorbar": {
              "outlinewidth": 0,
              "ticks": ""
             }
            },
            "type": "scatterpolar"
           }
          ],
          "scatterpolargl": [
           {
            "marker": {
             "colorbar": {
              "outlinewidth": 0,
              "ticks": ""
             }
            },
            "type": "scatterpolargl"
           }
          ],
          "scatterternary": [
           {
            "marker": {
             "colorbar": {
              "outlinewidth": 0,
              "ticks": ""
             }
            },
            "type": "scatterternary"
           }
          ],
          "surface": [
           {
            "colorbar": {
             "outlinewidth": 0,
             "ticks": ""
            },
            "colorscale": [
             [
              0,
              "#0d0887"
             ],
             [
              0.1111111111111111,
              "#46039f"
             ],
             [
              0.2222222222222222,
              "#7201a8"
             ],
             [
              0.3333333333333333,
              "#9c179e"
             ],
             [
              0.4444444444444444,
              "#bd3786"
             ],
             [
              0.5555555555555556,
              "#d8576b"
             ],
             [
              0.6666666666666666,
              "#ed7953"
             ],
             [
              0.7777777777777778,
              "#fb9f3a"
             ],
             [
              0.8888888888888888,
              "#fdca26"
             ],
             [
              1,
              "#f0f921"
             ]
            ],
            "type": "surface"
           }
          ],
          "table": [
           {
            "cells": {
             "fill": {
              "color": "#EBF0F8"
             },
             "line": {
              "color": "white"
             }
            },
            "header": {
             "fill": {
              "color": "#C8D4E3"
             },
             "line": {
              "color": "white"
             }
            },
            "type": "table"
           }
          ]
         },
         "layout": {
          "annotationdefaults": {
           "arrowcolor": "#2a3f5f",
           "arrowhead": 0,
           "arrowwidth": 1
          },
          "coloraxis": {
           "colorbar": {
            "outlinewidth": 0,
            "ticks": ""
           }
          },
          "colorscale": {
           "diverging": [
            [
             0,
             "#8e0152"
            ],
            [
             0.1,
             "#c51b7d"
            ],
            [
             0.2,
             "#de77ae"
            ],
            [
             0.3,
             "#f1b6da"
            ],
            [
             0.4,
             "#fde0ef"
            ],
            [
             0.5,
             "#f7f7f7"
            ],
            [
             0.6,
             "#e6f5d0"
            ],
            [
             0.7,
             "#b8e186"
            ],
            [
             0.8,
             "#7fbc41"
            ],
            [
             0.9,
             "#4d9221"
            ],
            [
             1,
             "#276419"
            ]
           ],
           "sequential": [
            [
             0,
             "#0d0887"
            ],
            [
             0.1111111111111111,
             "#46039f"
            ],
            [
             0.2222222222222222,
             "#7201a8"
            ],
            [
             0.3333333333333333,
             "#9c179e"
            ],
            [
             0.4444444444444444,
             "#bd3786"
            ],
            [
             0.5555555555555556,
             "#d8576b"
            ],
            [
             0.6666666666666666,
             "#ed7953"
            ],
            [
             0.7777777777777778,
             "#fb9f3a"
            ],
            [
             0.8888888888888888,
             "#fdca26"
            ],
            [
             1,
             "#f0f921"
            ]
           ],
           "sequentialminus": [
            [
             0,
             "#0d0887"
            ],
            [
             0.1111111111111111,
             "#46039f"
            ],
            [
             0.2222222222222222,
             "#7201a8"
            ],
            [
             0.3333333333333333,
             "#9c179e"
            ],
            [
             0.4444444444444444,
             "#bd3786"
            ],
            [
             0.5555555555555556,
             "#d8576b"
            ],
            [
             0.6666666666666666,
             "#ed7953"
            ],
            [
             0.7777777777777778,
             "#fb9f3a"
            ],
            [
             0.8888888888888888,
             "#fdca26"
            ],
            [
             1,
             "#f0f921"
            ]
           ]
          },
          "colorway": [
           "#636efa",
           "#EF553B",
           "#00cc96",
           "#ab63fa",
           "#FFA15A",
           "#19d3f3",
           "#FF6692",
           "#B6E880",
           "#FF97FF",
           "#FECB52"
          ],
          "font": {
           "color": "#2a3f5f"
          },
          "geo": {
           "bgcolor": "white",
           "lakecolor": "white",
           "landcolor": "#E5ECF6",
           "showlakes": true,
           "showland": true,
           "subunitcolor": "white"
          },
          "hoverlabel": {
           "align": "left"
          },
          "hovermode": "closest",
          "mapbox": {
           "style": "light"
          },
          "paper_bgcolor": "white",
          "plot_bgcolor": "#E5ECF6",
          "polar": {
           "angularaxis": {
            "gridcolor": "white",
            "linecolor": "white",
            "ticks": ""
           },
           "bgcolor": "#E5ECF6",
           "radialaxis": {
            "gridcolor": "white",
            "linecolor": "white",
            "ticks": ""
           }
          },
          "scene": {
           "xaxis": {
            "backgroundcolor": "#E5ECF6",
            "gridcolor": "white",
            "gridwidth": 2,
            "linecolor": "white",
            "showbackground": true,
            "ticks": "",
            "zerolinecolor": "white"
           },
           "yaxis": {
            "backgroundcolor": "#E5ECF6",
            "gridcolor": "white",
            "gridwidth": 2,
            "linecolor": "white",
            "showbackground": true,
            "ticks": "",
            "zerolinecolor": "white"
           },
           "zaxis": {
            "backgroundcolor": "#E5ECF6",
            "gridcolor": "white",
            "gridwidth": 2,
            "linecolor": "white",
            "showbackground": true,
            "ticks": "",
            "zerolinecolor": "white"
           }
          },
          "shapedefaults": {
           "line": {
            "color": "#2a3f5f"
           }
          },
          "ternary": {
           "aaxis": {
            "gridcolor": "white",
            "linecolor": "white",
            "ticks": ""
           },
           "baxis": {
            "gridcolor": "white",
            "linecolor": "white",
            "ticks": ""
           },
           "bgcolor": "#E5ECF6",
           "caxis": {
            "gridcolor": "white",
            "linecolor": "white",
            "ticks": ""
           }
          },
          "title": {
           "x": 0.05
          },
          "xaxis": {
           "automargin": true,
           "gridcolor": "white",
           "linecolor": "white",
           "ticks": "",
           "title": {
            "standoff": 15
           },
           "zerolinecolor": "white",
           "zerolinewidth": 2
          },
          "yaxis": {
           "automargin": true,
           "gridcolor": "white",
           "linecolor": "white",
           "ticks": "",
           "title": {
            "standoff": 15
           },
           "zerolinecolor": "white",
           "zerolinewidth": 2
          }
         }
        },
        "title": {
         "text": "X_train categories distribution barplot"
        },
        "xaxis": {
         "anchor": "y",
         "domain": [
          0,
          1
         ],
         "title": {
          "text": "category"
         }
        },
        "yaxis": {
         "anchor": "x",
         "domain": [
          0,
          1
         ],
         "title": {
          "text": "share in %"
         }
        }
       }
      }
     },
     "metadata": {},
     "output_type": "display_data"
    }
   ],
   "source": [
    "analysis.categories_distribution(X_train['category'], 'X_train categories distribution barplot')"
   ]
  },
  {
   "cell_type": "code",
   "execution_count": 15,
   "metadata": {},
   "outputs": [
    {
     "data": {
      "application/vnd.plotly.v1+json": {
       "config": {
        "plotlyServerURL": "https://plot.ly"
       },
       "data": [
        {
         "alignmentgroup": "True",
         "hoverlabel": {
          "namelength": 0
         },
         "hovertemplate": "category=%{x}<br>share in %=%{y}",
         "legendgroup": "",
         "marker": {
          "color": "#636efa"
         },
         "name": "",
         "offsetgroup": "",
         "orientation": "v",
         "showlegend": false,
         "textposition": "auto",
         "type": "bar",
         "x": [
          "TECHNOLOGY",
          "STACKOVERFLOW",
          "CULTURE",
          "SCIENCE",
          "LIFE_ARTS"
         ],
         "xaxis": "x",
         "y": [
          0.42857142857142855,
          0.21638655462184875,
          0.13445378151260504,
          0.12184873949579832,
          0.09873949579831932
         ],
         "yaxis": "y"
        }
       ],
       "layout": {
        "barmode": "relative",
        "legend": {
         "tracegroupgap": 0
        },
        "template": {
         "data": {
          "bar": [
           {
            "error_x": {
             "color": "#2a3f5f"
            },
            "error_y": {
             "color": "#2a3f5f"
            },
            "marker": {
             "line": {
              "color": "#E5ECF6",
              "width": 0.5
             }
            },
            "type": "bar"
           }
          ],
          "barpolar": [
           {
            "marker": {
             "line": {
              "color": "#E5ECF6",
              "width": 0.5
             }
            },
            "type": "barpolar"
           }
          ],
          "carpet": [
           {
            "aaxis": {
             "endlinecolor": "#2a3f5f",
             "gridcolor": "white",
             "linecolor": "white",
             "minorgridcolor": "white",
             "startlinecolor": "#2a3f5f"
            },
            "baxis": {
             "endlinecolor": "#2a3f5f",
             "gridcolor": "white",
             "linecolor": "white",
             "minorgridcolor": "white",
             "startlinecolor": "#2a3f5f"
            },
            "type": "carpet"
           }
          ],
          "choropleth": [
           {
            "colorbar": {
             "outlinewidth": 0,
             "ticks": ""
            },
            "type": "choropleth"
           }
          ],
          "contour": [
           {
            "colorbar": {
             "outlinewidth": 0,
             "ticks": ""
            },
            "colorscale": [
             [
              0,
              "#0d0887"
             ],
             [
              0.1111111111111111,
              "#46039f"
             ],
             [
              0.2222222222222222,
              "#7201a8"
             ],
             [
              0.3333333333333333,
              "#9c179e"
             ],
             [
              0.4444444444444444,
              "#bd3786"
             ],
             [
              0.5555555555555556,
              "#d8576b"
             ],
             [
              0.6666666666666666,
              "#ed7953"
             ],
             [
              0.7777777777777778,
              "#fb9f3a"
             ],
             [
              0.8888888888888888,
              "#fdca26"
             ],
             [
              1,
              "#f0f921"
             ]
            ],
            "type": "contour"
           }
          ],
          "contourcarpet": [
           {
            "colorbar": {
             "outlinewidth": 0,
             "ticks": ""
            },
            "type": "contourcarpet"
           }
          ],
          "heatmap": [
           {
            "colorbar": {
             "outlinewidth": 0,
             "ticks": ""
            },
            "colorscale": [
             [
              0,
              "#0d0887"
             ],
             [
              0.1111111111111111,
              "#46039f"
             ],
             [
              0.2222222222222222,
              "#7201a8"
             ],
             [
              0.3333333333333333,
              "#9c179e"
             ],
             [
              0.4444444444444444,
              "#bd3786"
             ],
             [
              0.5555555555555556,
              "#d8576b"
             ],
             [
              0.6666666666666666,
              "#ed7953"
             ],
             [
              0.7777777777777778,
              "#fb9f3a"
             ],
             [
              0.8888888888888888,
              "#fdca26"
             ],
             [
              1,
              "#f0f921"
             ]
            ],
            "type": "heatmap"
           }
          ],
          "heatmapgl": [
           {
            "colorbar": {
             "outlinewidth": 0,
             "ticks": ""
            },
            "colorscale": [
             [
              0,
              "#0d0887"
             ],
             [
              0.1111111111111111,
              "#46039f"
             ],
             [
              0.2222222222222222,
              "#7201a8"
             ],
             [
              0.3333333333333333,
              "#9c179e"
             ],
             [
              0.4444444444444444,
              "#bd3786"
             ],
             [
              0.5555555555555556,
              "#d8576b"
             ],
             [
              0.6666666666666666,
              "#ed7953"
             ],
             [
              0.7777777777777778,
              "#fb9f3a"
             ],
             [
              0.8888888888888888,
              "#fdca26"
             ],
             [
              1,
              "#f0f921"
             ]
            ],
            "type": "heatmapgl"
           }
          ],
          "histogram": [
           {
            "marker": {
             "colorbar": {
              "outlinewidth": 0,
              "ticks": ""
             }
            },
            "type": "histogram"
           }
          ],
          "histogram2d": [
           {
            "colorbar": {
             "outlinewidth": 0,
             "ticks": ""
            },
            "colorscale": [
             [
              0,
              "#0d0887"
             ],
             [
              0.1111111111111111,
              "#46039f"
             ],
             [
              0.2222222222222222,
              "#7201a8"
             ],
             [
              0.3333333333333333,
              "#9c179e"
             ],
             [
              0.4444444444444444,
              "#bd3786"
             ],
             [
              0.5555555555555556,
              "#d8576b"
             ],
             [
              0.6666666666666666,
              "#ed7953"
             ],
             [
              0.7777777777777778,
              "#fb9f3a"
             ],
             [
              0.8888888888888888,
              "#fdca26"
             ],
             [
              1,
              "#f0f921"
             ]
            ],
            "type": "histogram2d"
           }
          ],
          "histogram2dcontour": [
           {
            "colorbar": {
             "outlinewidth": 0,
             "ticks": ""
            },
            "colorscale": [
             [
              0,
              "#0d0887"
             ],
             [
              0.1111111111111111,
              "#46039f"
             ],
             [
              0.2222222222222222,
              "#7201a8"
             ],
             [
              0.3333333333333333,
              "#9c179e"
             ],
             [
              0.4444444444444444,
              "#bd3786"
             ],
             [
              0.5555555555555556,
              "#d8576b"
             ],
             [
              0.6666666666666666,
              "#ed7953"
             ],
             [
              0.7777777777777778,
              "#fb9f3a"
             ],
             [
              0.8888888888888888,
              "#fdca26"
             ],
             [
              1,
              "#f0f921"
             ]
            ],
            "type": "histogram2dcontour"
           }
          ],
          "mesh3d": [
           {
            "colorbar": {
             "outlinewidth": 0,
             "ticks": ""
            },
            "type": "mesh3d"
           }
          ],
          "parcoords": [
           {
            "line": {
             "colorbar": {
              "outlinewidth": 0,
              "ticks": ""
             }
            },
            "type": "parcoords"
           }
          ],
          "pie": [
           {
            "automargin": true,
            "type": "pie"
           }
          ],
          "scatter": [
           {
            "marker": {
             "colorbar": {
              "outlinewidth": 0,
              "ticks": ""
             }
            },
            "type": "scatter"
           }
          ],
          "scatter3d": [
           {
            "line": {
             "colorbar": {
              "outlinewidth": 0,
              "ticks": ""
             }
            },
            "marker": {
             "colorbar": {
              "outlinewidth": 0,
              "ticks": ""
             }
            },
            "type": "scatter3d"
           }
          ],
          "scattercarpet": [
           {
            "marker": {
             "colorbar": {
              "outlinewidth": 0,
              "ticks": ""
             }
            },
            "type": "scattercarpet"
           }
          ],
          "scattergeo": [
           {
            "marker": {
             "colorbar": {
              "outlinewidth": 0,
              "ticks": ""
             }
            },
            "type": "scattergeo"
           }
          ],
          "scattergl": [
           {
            "marker": {
             "colorbar": {
              "outlinewidth": 0,
              "ticks": ""
             }
            },
            "type": "scattergl"
           }
          ],
          "scattermapbox": [
           {
            "marker": {
             "colorbar": {
              "outlinewidth": 0,
              "ticks": ""
             }
            },
            "type": "scattermapbox"
           }
          ],
          "scatterpolar": [
           {
            "marker": {
             "colorbar": {
              "outlinewidth": 0,
              "ticks": ""
             }
            },
            "type": "scatterpolar"
           }
          ],
          "scatterpolargl": [
           {
            "marker": {
             "colorbar": {
              "outlinewidth": 0,
              "ticks": ""
             }
            },
            "type": "scatterpolargl"
           }
          ],
          "scatterternary": [
           {
            "marker": {
             "colorbar": {
              "outlinewidth": 0,
              "ticks": ""
             }
            },
            "type": "scatterternary"
           }
          ],
          "surface": [
           {
            "colorbar": {
             "outlinewidth": 0,
             "ticks": ""
            },
            "colorscale": [
             [
              0,
              "#0d0887"
             ],
             [
              0.1111111111111111,
              "#46039f"
             ],
             [
              0.2222222222222222,
              "#7201a8"
             ],
             [
              0.3333333333333333,
              "#9c179e"
             ],
             [
              0.4444444444444444,
              "#bd3786"
             ],
             [
              0.5555555555555556,
              "#d8576b"
             ],
             [
              0.6666666666666666,
              "#ed7953"
             ],
             [
              0.7777777777777778,
              "#fb9f3a"
             ],
             [
              0.8888888888888888,
              "#fdca26"
             ],
             [
              1,
              "#f0f921"
             ]
            ],
            "type": "surface"
           }
          ],
          "table": [
           {
            "cells": {
             "fill": {
              "color": "#EBF0F8"
             },
             "line": {
              "color": "white"
             }
            },
            "header": {
             "fill": {
              "color": "#C8D4E3"
             },
             "line": {
              "color": "white"
             }
            },
            "type": "table"
           }
          ]
         },
         "layout": {
          "annotationdefaults": {
           "arrowcolor": "#2a3f5f",
           "arrowhead": 0,
           "arrowwidth": 1
          },
          "coloraxis": {
           "colorbar": {
            "outlinewidth": 0,
            "ticks": ""
           }
          },
          "colorscale": {
           "diverging": [
            [
             0,
             "#8e0152"
            ],
            [
             0.1,
             "#c51b7d"
            ],
            [
             0.2,
             "#de77ae"
            ],
            [
             0.3,
             "#f1b6da"
            ],
            [
             0.4,
             "#fde0ef"
            ],
            [
             0.5,
             "#f7f7f7"
            ],
            [
             0.6,
             "#e6f5d0"
            ],
            [
             0.7,
             "#b8e186"
            ],
            [
             0.8,
             "#7fbc41"
            ],
            [
             0.9,
             "#4d9221"
            ],
            [
             1,
             "#276419"
            ]
           ],
           "sequential": [
            [
             0,
             "#0d0887"
            ],
            [
             0.1111111111111111,
             "#46039f"
            ],
            [
             0.2222222222222222,
             "#7201a8"
            ],
            [
             0.3333333333333333,
             "#9c179e"
            ],
            [
             0.4444444444444444,
             "#bd3786"
            ],
            [
             0.5555555555555556,
             "#d8576b"
            ],
            [
             0.6666666666666666,
             "#ed7953"
            ],
            [
             0.7777777777777778,
             "#fb9f3a"
            ],
            [
             0.8888888888888888,
             "#fdca26"
            ],
            [
             1,
             "#f0f921"
            ]
           ],
           "sequentialminus": [
            [
             0,
             "#0d0887"
            ],
            [
             0.1111111111111111,
             "#46039f"
            ],
            [
             0.2222222222222222,
             "#7201a8"
            ],
            [
             0.3333333333333333,
             "#9c179e"
            ],
            [
             0.4444444444444444,
             "#bd3786"
            ],
            [
             0.5555555555555556,
             "#d8576b"
            ],
            [
             0.6666666666666666,
             "#ed7953"
            ],
            [
             0.7777777777777778,
             "#fb9f3a"
            ],
            [
             0.8888888888888888,
             "#fdca26"
            ],
            [
             1,
             "#f0f921"
            ]
           ]
          },
          "colorway": [
           "#636efa",
           "#EF553B",
           "#00cc96",
           "#ab63fa",
           "#FFA15A",
           "#19d3f3",
           "#FF6692",
           "#B6E880",
           "#FF97FF",
           "#FECB52"
          ],
          "font": {
           "color": "#2a3f5f"
          },
          "geo": {
           "bgcolor": "white",
           "lakecolor": "white",
           "landcolor": "#E5ECF6",
           "showlakes": true,
           "showland": true,
           "subunitcolor": "white"
          },
          "hoverlabel": {
           "align": "left"
          },
          "hovermode": "closest",
          "mapbox": {
           "style": "light"
          },
          "paper_bgcolor": "white",
          "plot_bgcolor": "#E5ECF6",
          "polar": {
           "angularaxis": {
            "gridcolor": "white",
            "linecolor": "white",
            "ticks": ""
           },
           "bgcolor": "#E5ECF6",
           "radialaxis": {
            "gridcolor": "white",
            "linecolor": "white",
            "ticks": ""
           }
          },
          "scene": {
           "xaxis": {
            "backgroundcolor": "#E5ECF6",
            "gridcolor": "white",
            "gridwidth": 2,
            "linecolor": "white",
            "showbackground": true,
            "ticks": "",
            "zerolinecolor": "white"
           },
           "yaxis": {
            "backgroundcolor": "#E5ECF6",
            "gridcolor": "white",
            "gridwidth": 2,
            "linecolor": "white",
            "showbackground": true,
            "ticks": "",
            "zerolinecolor": "white"
           },
           "zaxis": {
            "backgroundcolor": "#E5ECF6",
            "gridcolor": "white",
            "gridwidth": 2,
            "linecolor": "white",
            "showbackground": true,
            "ticks": "",
            "zerolinecolor": "white"
           }
          },
          "shapedefaults": {
           "line": {
            "color": "#2a3f5f"
           }
          },
          "ternary": {
           "aaxis": {
            "gridcolor": "white",
            "linecolor": "white",
            "ticks": ""
           },
           "baxis": {
            "gridcolor": "white",
            "linecolor": "white",
            "ticks": ""
           },
           "bgcolor": "#E5ECF6",
           "caxis": {
            "gridcolor": "white",
            "linecolor": "white",
            "ticks": ""
           }
          },
          "title": {
           "x": 0.05
          },
          "xaxis": {
           "automargin": true,
           "gridcolor": "white",
           "linecolor": "white",
           "ticks": "",
           "title": {
            "standoff": 15
           },
           "zerolinecolor": "white",
           "zerolinewidth": 2
          },
          "yaxis": {
           "automargin": true,
           "gridcolor": "white",
           "linecolor": "white",
           "ticks": "",
           "title": {
            "standoff": 15
           },
           "zerolinecolor": "white",
           "zerolinewidth": 2
          }
         }
        },
        "title": {
         "text": "X_test categories distribution barplot"
        },
        "xaxis": {
         "anchor": "y",
         "domain": [
          0,
          1
         ],
         "title": {
          "text": "category"
         }
        },
        "yaxis": {
         "anchor": "x",
         "domain": [
          0,
          1
         ],
         "title": {
          "text": "share in %"
         }
        }
       }
      }
     },
     "metadata": {},
     "output_type": "display_data"
    }
   ],
   "source": [
    "analysis.categories_distribution(X_test['category'], 'X_test categories distribution barplot')"
   ]
  },
  {
   "cell_type": "markdown",
   "execution_count": null,
   "metadata": {},
   "outputs": [],
   "source": [
    "### 2.4. Common features in training and testing set (Venn diagrams)"
   ]
  },
  {
   "cell_type": "code",
   "execution_count": 16,
   "metadata": {},
   "outputs": [
    {
     "data": {
      "image/png": "[encoded data removed]",
      "image/svg+xml": "<?xml version=\"1.0\" encoding=\"utf-8\" standalone=\"no\"?>\n<!DOCTYPE svg PUBLIC \"-//W3C//DTD SVG 1.1//EN\"\n  \"http://www.w3.org/Graphics/SVG/1.1/DTD/svg11.dtd\">\n<!-- Created with matplotlib (https://matplotlib.org/) -->\n<svg height=\"247.626917pt\" version=\"1.1\" viewBox=\"0 0 345.45375 247.626917\" width=\"345.45375pt\" xmlns=\"http://www.w3.org/2000/svg\" xmlns:xlink=\"http://www.w3.org/1999/xlink\">\n <defs>\n  <style type=\"text/css\">\n*{stroke-linecap:butt;stroke-linejoin:round;}\n  </style>\n </defs>\n <g id=\"figure_1\">\n  <g id=\"patch_1\">\n   <path d=\"M 0 247.626917 \nL 345.45375 247.626917 \nL 345.45375 0 \nL 0 0 \nz\n\" style=\"fill:none;\"/>\n  </g>\n  <g id=\"axes_1\">\n   <g id=\"patch_2\">\n    <path clip-path=\"url(#pf6c18b11b8)\" d=\"M 231.824976 152.785091 \nC 226.895627 146.610261 224.209241 138.939202 224.209241 131.038125 \nC 224.209241 123.137048 226.895627 115.465989 231.824976 109.291159 \nC 229.188661 98.521838 224.615888 88.321115 218.330228 79.18772 \nC 212.044569 70.054325 204.150158 62.139573 195.032969 55.830431 \nC 185.91578 49.521289 175.726858 44.92228 164.964357 42.25826 \nC 154.201857 39.59424 143.044083 38.909343 132.036558 40.237055 \nC 121.029033 41.564767 110.354122 44.883091 100.53374 50.02979 \nC 90.713357 55.176488 81.910199 62.066294 74.554669 70.362352 \nC 67.199138 78.658411 61.413094 88.223279 57.479428 98.589315 \nC 53.545762 108.95535 51.529644 119.950816 51.529644 131.038125 \nC 51.529644 142.125434 53.545762 153.1209 57.479428 163.486935 \nC 61.413094 173.852971 67.199138 183.417839 74.554669 191.713898 \nC 81.910199 200.009956 90.713357 206.899762 100.53374 212.04646 \nC 110.354122 217.193159 121.029033 220.511483 132.036558 221.839195 \nC 143.044083 223.166907 154.201857 222.48201 164.964357 219.81799 \nC 175.726858 217.15397 185.91578 212.554961 195.032969 206.245819 \nC 204.150158 199.936677 212.044569 192.021925 218.330228 182.88853 \nC 224.615888 173.755135 229.188661 163.554412 231.824976 152.785091 \n\" style=\"fill:#ff0000;opacity:0.4;\"/>\n   </g>\n   <g id=\"patch_3\">\n    <path clip-path=\"url(#pf6c18b11b8)\" d=\"M 231.824976 109.291159 \nC 233.567381 116.408865 234.448064 123.710252 234.448064 131.038125 \nC 234.448064 138.365998 233.567381 145.667385 231.824976 152.785091 \nC 234.065615 155.591864 236.726635 158.035565 239.713686 160.029546 \nC 242.700737 162.023528 245.978091 163.543941 249.429542 164.536876 \nC 252.880993 165.529811 256.465259 165.983392 260.055254 165.881537 \nC 263.645248 165.779681 267.198032 165.123607 270.587632 163.936577 \nC 273.977233 162.749547 277.16311 161.045758 280.032299 158.885623 \nC 282.901489 156.725488 285.419675 154.134842 287.497569 151.205544 \nC 289.575463 148.276245 291.188213 145.04333 292.278634 141.621427 \nC 293.369055 138.199525 293.924106 134.629564 293.924106 131.038125 \nC 293.924106 127.446686 293.369055 123.876725 292.278634 120.454823 \nC 291.188213 117.03292 289.575463 113.800005 287.497569 110.870706 \nC 285.419675 107.941408 282.901489 105.350762 280.032299 103.190627 \nC 277.16311 101.030492 273.977233 99.326703 270.587632 98.139673 \nC 267.198032 96.952643 263.645248 96.296569 260.055254 96.194713 \nC 256.465259 96.092858 252.880993 96.546439 249.429542 97.539374 \nC 245.978091 98.532309 242.700737 100.052722 239.713686 102.046704 \nC 236.726635 104.040685 234.065615 106.484386 231.824976 109.291159 \n\" style=\"fill:#008000;opacity:0.4;\"/>\n   </g>\n   <g id=\"patch_4\">\n    <path clip-path=\"url(#pf6c18b11b8)\" d=\"M 231.824976 152.785091 \nC 233.567381 145.667385 234.448064 138.365998 234.448064 131.038125 \nC 234.448064 123.710252 233.567381 116.408865 231.824976 109.291159 \nC 226.895627 115.465989 224.209241 123.137048 224.209241 131.038125 \nC 224.209241 138.939202 226.895627 146.610261 231.824976 152.785091 \n\" style=\"fill:#b25900;opacity:0.4;\"/>\n   </g>\n   <g id=\"text_1\">\n    <!-- 3178 -->\n    <defs>\n     <path d=\"M 40.578125 39.3125 \nQ 47.65625 37.796875 51.625 33 \nQ 55.609375 28.21875 55.609375 21.1875 \nQ 55.609375 10.40625 48.1875 4.484375 \nQ 40.765625 -1.421875 27.09375 -1.421875 \nQ 22.515625 -1.421875 17.65625 -0.515625 \nQ 12.796875 0.390625 7.625 2.203125 \nL 7.625 11.71875 \nQ 11.71875 9.328125 16.59375 8.109375 \nQ 21.484375 6.890625 26.8125 6.890625 \nQ 36.078125 6.890625 40.9375 10.546875 \nQ 45.796875 14.203125 45.796875 21.1875 \nQ 45.796875 27.640625 41.28125 31.265625 \nQ 36.765625 34.90625 28.71875 34.90625 \nL 20.21875 34.90625 \nL 20.21875 43.015625 \nL 29.109375 43.015625 \nQ 36.375 43.015625 40.234375 45.921875 \nQ 44.09375 48.828125 44.09375 54.296875 \nQ 44.09375 59.90625 40.109375 62.90625 \nQ 36.140625 65.921875 28.71875 65.921875 \nQ 24.65625 65.921875 20.015625 65.03125 \nQ 15.375 64.15625 9.8125 62.3125 \nL 9.8125 71.09375 \nQ 15.4375 72.65625 20.34375 73.4375 \nQ 25.25 74.21875 29.59375 74.21875 \nQ 40.828125 74.21875 47.359375 69.109375 \nQ 53.90625 64.015625 53.90625 55.328125 \nQ 53.90625 49.265625 50.4375 45.09375 \nQ 46.96875 40.921875 40.578125 39.3125 \nz\n\" id=\"DejaVuSans-51\"/>\n     <path d=\"M 12.40625 8.296875 \nL 28.515625 8.296875 \nL 28.515625 63.921875 \nL 10.984375 60.40625 \nL 10.984375 69.390625 \nL 28.421875 72.90625 \nL 38.28125 72.90625 \nL 38.28125 8.296875 \nL 54.390625 8.296875 \nL 54.390625 0 \nL 12.40625 0 \nz\n\" id=\"DejaVuSans-49\"/>\n     <path d=\"M 8.203125 72.90625 \nL 55.078125 72.90625 \nL 55.078125 68.703125 \nL 28.609375 0 \nL 18.3125 0 \nL 43.21875 64.59375 \nL 8.203125 64.59375 \nz\n\" id=\"DejaVuSans-55\"/>\n     <path d=\"M 31.78125 34.625 \nQ 24.75 34.625 20.71875 30.859375 \nQ 16.703125 27.09375 16.703125 20.515625 \nQ 16.703125 13.921875 20.71875 10.15625 \nQ 24.75 6.390625 31.78125 6.390625 \nQ 38.8125 6.390625 42.859375 10.171875 \nQ 46.921875 13.96875 46.921875 20.515625 \nQ 46.921875 27.09375 42.890625 30.859375 \nQ 38.875 34.625 31.78125 34.625 \nz\nM 21.921875 38.8125 \nQ 15.578125 40.375 12.03125 44.71875 \nQ 8.5 49.078125 8.5 55.328125 \nQ 8.5 64.0625 14.71875 69.140625 \nQ 20.953125 74.21875 31.78125 74.21875 \nQ 42.671875 74.21875 48.875 69.140625 \nQ 55.078125 64.0625 55.078125 55.328125 \nQ 55.078125 49.078125 51.53125 44.71875 \nQ 48 40.375 41.703125 38.8125 \nQ 48.828125 37.15625 52.796875 32.3125 \nQ 56.78125 27.484375 56.78125 20.515625 \nQ 56.78125 9.90625 50.3125 4.234375 \nQ 43.84375 -1.421875 31.78125 -1.421875 \nQ 19.734375 -1.421875 13.25 4.234375 \nQ 6.78125 9.90625 6.78125 20.515625 \nQ 6.78125 27.484375 10.78125 32.3125 \nQ 14.796875 37.15625 21.921875 38.8125 \nz\nM 18.3125 54.390625 \nQ 18.3125 48.734375 21.84375 45.5625 \nQ 25.390625 42.390625 31.78125 42.390625 \nQ 38.140625 42.390625 41.71875 45.5625 \nQ 45.3125 48.734375 45.3125 54.390625 \nQ 45.3125 60.0625 41.71875 63.234375 \nQ 38.140625 66.40625 31.78125 66.40625 \nQ 25.390625 66.40625 21.84375 63.234375 \nQ 18.3125 60.0625 18.3125 54.390625 \nz\n\" id=\"DejaVuSans-56\"/>\n    </defs>\n    <g transform=\"translate(125.144442 133.7975)scale(0.1 -0.1)\">\n     <use xlink:href=\"#DejaVuSans-51\"/>\n     <use x=\"63.623047\" xlink:href=\"#DejaVuSans-49\"/>\n     <use x=\"127.246094\" xlink:href=\"#DejaVuSans-55\"/>\n     <use x=\"190.869141\" xlink:href=\"#DejaVuSans-56\"/>\n    </g>\n   </g>\n   <g id=\"text_2\">\n    <!-- 430 -->\n    <defs>\n     <path d=\"M 37.796875 64.3125 \nL 12.890625 25.390625 \nL 37.796875 25.390625 \nz\nM 35.203125 72.90625 \nL 47.609375 72.90625 \nL 47.609375 25.390625 \nL 58.015625 25.390625 \nL 58.015625 17.1875 \nL 47.609375 17.1875 \nL 47.609375 0 \nL 37.796875 0 \nL 37.796875 17.1875 \nL 4.890625 17.1875 \nL 4.890625 26.703125 \nz\n\" id=\"DejaVuSans-52\"/>\n     <path d=\"M 31.78125 66.40625 \nQ 24.171875 66.40625 20.328125 58.90625 \nQ 16.5 51.421875 16.5 36.375 \nQ 16.5 21.390625 20.328125 13.890625 \nQ 24.171875 6.390625 31.78125 6.390625 \nQ 39.453125 6.390625 43.28125 13.890625 \nQ 47.125 21.390625 47.125 36.375 \nQ 47.125 51.421875 43.28125 58.90625 \nQ 39.453125 66.40625 31.78125 66.40625 \nz\nM 31.78125 74.21875 \nQ 44.046875 74.21875 50.515625 64.515625 \nQ 56.984375 54.828125 56.984375 36.375 \nQ 56.984375 17.96875 50.515625 8.265625 \nQ 44.046875 -1.421875 31.78125 -1.421875 \nQ 19.53125 -1.421875 13.0625 8.265625 \nQ 6.59375 17.96875 6.59375 36.375 \nQ 6.59375 54.828125 13.0625 64.515625 \nQ 19.53125 74.21875 31.78125 74.21875 \nz\n\" id=\"DejaVuSans-48\"/>\n    </defs>\n    <g transform=\"translate(254.642335 133.7975)scale(0.1 -0.1)\">\n     <use xlink:href=\"#DejaVuSans-52\"/>\n     <use x=\"63.623047\" xlink:href=\"#DejaVuSans-51\"/>\n     <use x=\"127.246094\" xlink:href=\"#DejaVuSans-48\"/>\n    </g>\n   </g>\n   <g id=\"text_3\">\n    <!-- 37 -->\n    <g transform=\"translate(222.966152 133.7975)scale(0.1 -0.1)\">\n     <use xlink:href=\"#DejaVuSans-51\"/>\n     <use x=\"63.623047\" xlink:href=\"#DejaVuSans-55\"/>\n    </g>\n   </g>\n   <g id=\"text_4\">\n    <!-- Train set -->\n    <defs>\n     <path d=\"M -0.296875 72.90625 \nL 61.375 72.90625 \nL 61.375 64.59375 \nL 35.5 64.59375 \nL 35.5 0 \nL 25.59375 0 \nL 25.59375 64.59375 \nL -0.296875 64.59375 \nz\n\" id=\"DejaVuSans-84\"/>\n     <path d=\"M 41.109375 46.296875 \nQ 39.59375 47.171875 37.8125 47.578125 \nQ 36.03125 48 33.890625 48 \nQ 26.265625 48 22.1875 43.046875 \nQ 18.109375 38.09375 18.109375 28.8125 \nL 18.109375 0 \nL 9.078125 0 \nL 9.078125 54.6875 \nL 18.109375 54.6875 \nL 18.109375 46.1875 \nQ 20.953125 51.171875 25.484375 53.578125 \nQ 30.03125 56 36.53125 56 \nQ 37.453125 56 38.578125 55.875 \nQ 39.703125 55.765625 41.0625 55.515625 \nz\n\" id=\"DejaVuSans-114\"/>\n     <path d=\"M 34.28125 27.484375 \nQ 23.390625 27.484375 19.1875 25 \nQ 14.984375 22.515625 14.984375 16.5 \nQ 14.984375 11.71875 18.140625 8.90625 \nQ 21.296875 6.109375 26.703125 6.109375 \nQ 34.1875 6.109375 38.703125 11.40625 \nQ 43.21875 16.703125 43.21875 25.484375 \nL 43.21875 27.484375 \nz\nM 52.203125 31.203125 \nL 52.203125 0 \nL 43.21875 0 \nL 43.21875 8.296875 \nQ 40.140625 3.328125 35.546875 0.953125 \nQ 30.953125 -1.421875 24.3125 -1.421875 \nQ 15.921875 -1.421875 10.953125 3.296875 \nQ 6 8.015625 6 15.921875 \nQ 6 25.140625 12.171875 29.828125 \nQ 18.359375 34.515625 30.609375 34.515625 \nL 43.21875 34.515625 \nL 43.21875 35.40625 \nQ 43.21875 41.609375 39.140625 45 \nQ 35.0625 48.390625 27.6875 48.390625 \nQ 23 48.390625 18.546875 47.265625 \nQ 14.109375 46.140625 10.015625 43.890625 \nL 10.015625 52.203125 \nQ 14.9375 54.109375 19.578125 55.046875 \nQ 24.21875 56 28.609375 56 \nQ 40.484375 56 46.34375 49.84375 \nQ 52.203125 43.703125 52.203125 31.203125 \nz\n\" id=\"DejaVuSans-97\"/>\n     <path d=\"M 9.421875 54.6875 \nL 18.40625 54.6875 \nL 18.40625 0 \nL 9.421875 0 \nz\nM 9.421875 75.984375 \nL 18.40625 75.984375 \nL 18.40625 64.59375 \nL 9.421875 64.59375 \nz\n\" id=\"DejaVuSans-105\"/>\n     <path d=\"M 54.890625 33.015625 \nL 54.890625 0 \nL 45.90625 0 \nL 45.90625 32.71875 \nQ 45.90625 40.484375 42.875 44.328125 \nQ 39.84375 48.1875 33.796875 48.1875 \nQ 26.515625 48.1875 22.3125 43.546875 \nQ 18.109375 38.921875 18.109375 30.90625 \nL 18.109375 0 \nL 9.078125 0 \nL 9.078125 54.6875 \nL 18.109375 54.6875 \nL 18.109375 46.1875 \nQ 21.34375 51.125 25.703125 53.5625 \nQ 30.078125 56 35.796875 56 \nQ 45.21875 56 50.046875 50.171875 \nQ 54.890625 44.34375 54.890625 33.015625 \nz\n\" id=\"DejaVuSans-110\"/>\n     <path id=\"DejaVuSans-32\"/>\n     <path d=\"M 44.28125 53.078125 \nL 44.28125 44.578125 \nQ 40.484375 46.53125 36.375 47.5 \nQ 32.28125 48.484375 27.875 48.484375 \nQ 21.1875 48.484375 17.84375 46.4375 \nQ 14.5 44.390625 14.5 40.28125 \nQ 14.5 37.15625 16.890625 35.375 \nQ 19.28125 33.59375 26.515625 31.984375 \nL 29.59375 31.296875 \nQ 39.15625 29.25 43.1875 25.515625 \nQ 47.21875 21.78125 47.21875 15.09375 \nQ 47.21875 7.46875 41.1875 3.015625 \nQ 35.15625 -1.421875 24.609375 -1.421875 \nQ 20.21875 -1.421875 15.453125 -0.5625 \nQ 10.6875 0.296875 5.421875 2 \nL 5.421875 11.28125 \nQ 10.40625 8.6875 15.234375 7.390625 \nQ 20.0625 6.109375 24.8125 6.109375 \nQ 31.15625 6.109375 34.5625 8.28125 \nQ 37.984375 10.453125 37.984375 14.40625 \nQ 37.984375 18.0625 35.515625 20.015625 \nQ 33.0625 21.96875 24.703125 23.78125 \nL 21.578125 24.515625 \nQ 13.234375 26.265625 9.515625 29.90625 \nQ 5.8125 33.546875 5.8125 39.890625 \nQ 5.8125 47.609375 11.28125 51.796875 \nQ 16.75 56 26.8125 56 \nQ 31.78125 56 36.171875 55.265625 \nQ 40.578125 54.546875 44.28125 53.078125 \nz\n\" id=\"DejaVuSans-115\"/>\n     <path d=\"M 56.203125 29.59375 \nL 56.203125 25.203125 \nL 14.890625 25.203125 \nQ 15.484375 15.921875 20.484375 11.0625 \nQ 25.484375 6.203125 34.421875 6.203125 \nQ 39.59375 6.203125 44.453125 7.46875 \nQ 49.3125 8.734375 54.109375 11.28125 \nL 54.109375 2.78125 \nQ 49.265625 0.734375 44.1875 -0.34375 \nQ 39.109375 -1.421875 33.890625 -1.421875 \nQ 20.796875 -1.421875 13.15625 6.1875 \nQ 5.515625 13.8125 5.515625 26.8125 \nQ 5.515625 40.234375 12.765625 48.109375 \nQ 20.015625 56 32.328125 56 \nQ 43.359375 56 49.78125 48.890625 \nQ 56.203125 41.796875 56.203125 29.59375 \nz\nM 47.21875 32.234375 \nQ 47.125 39.59375 43.09375 43.984375 \nQ 39.0625 48.390625 32.421875 48.390625 \nQ 24.90625 48.390625 20.390625 44.140625 \nQ 15.875 39.890625 15.1875 32.171875 \nz\n\" id=\"DejaVuSans-101\"/>\n     <path d=\"M 18.3125 70.21875 \nL 18.3125 54.6875 \nL 36.8125 54.6875 \nL 36.8125 47.703125 \nL 18.3125 47.703125 \nL 18.3125 18.015625 \nQ 18.3125 11.328125 20.140625 9.421875 \nQ 21.96875 7.515625 27.59375 7.515625 \nL 36.8125 7.515625 \nL 36.8125 0 \nL 27.59375 0 \nQ 17.1875 0 13.234375 3.875 \nQ 9.28125 7.765625 9.28125 18.015625 \nL 9.28125 47.703125 \nL 2.6875 47.703125 \nL 2.6875 54.6875 \nL 9.28125 54.6875 \nL 9.28125 70.21875 \nz\n\" id=\"DejaVuSans-116\"/>\n    </defs>\n    <g transform=\"translate(90.306979 237.931292)scale(0.12 -0.12)\">\n     <use xlink:href=\"#DejaVuSans-84\"/>\n     <use x=\"60.865234\" xlink:href=\"#DejaVuSans-114\"/>\n     <use x=\"101.978516\" xlink:href=\"#DejaVuSans-97\"/>\n     <use x=\"163.257812\" xlink:href=\"#DejaVuSans-105\"/>\n     <use x=\"191.041016\" xlink:href=\"#DejaVuSans-110\"/>\n     <use x=\"254.419922\" xlink:href=\"#DejaVuSans-32\"/>\n     <use x=\"286.207031\" xlink:href=\"#DejaVuSans-115\"/>\n     <use x=\"338.306641\" xlink:href=\"#DejaVuSans-101\"/>\n     <use x=\"399.830078\" xlink:href=\"#DejaVuSans-116\"/>\n    </g>\n   </g>\n   <g id=\"text_5\">\n    <!-- Test set -->\n    <g transform=\"translate(259.066673 181.329515)scale(0.12 -0.12)\">\n     <use xlink:href=\"#DejaVuSans-84\"/>\n     <use x=\"60.818359\" xlink:href=\"#DejaVuSans-101\"/>\n     <use x=\"122.341797\" xlink:href=\"#DejaVuSans-115\"/>\n     <use x=\"174.441406\" xlink:href=\"#DejaVuSans-116\"/>\n     <use x=\"213.650391\" xlink:href=\"#DejaVuSans-32\"/>\n     <use x=\"245.4375\" xlink:href=\"#DejaVuSans-115\"/>\n     <use x=\"297.537109\" xlink:href=\"#DejaVuSans-101\"/>\n     <use x=\"359.060547\" xlink:href=\"#DejaVuSans-116\"/>\n    </g>\n   </g>\n   <g id=\"text_6\">\n    <!-- Common question_user_name in training and test data -->\n    <defs>\n     <path d=\"M 64.40625 67.28125 \nL 64.40625 56.890625 \nQ 59.421875 61.53125 53.78125 63.8125 \nQ 48.140625 66.109375 41.796875 66.109375 \nQ 29.296875 66.109375 22.65625 58.46875 \nQ 16.015625 50.828125 16.015625 36.375 \nQ 16.015625 21.96875 22.65625 14.328125 \nQ 29.296875 6.6875 41.796875 6.6875 \nQ 48.140625 6.6875 53.78125 8.984375 \nQ 59.421875 11.28125 64.40625 15.921875 \nL 64.40625 5.609375 \nQ 59.234375 2.09375 53.4375 0.328125 \nQ 47.65625 -1.421875 41.21875 -1.421875 \nQ 24.65625 -1.421875 15.125 8.703125 \nQ 5.609375 18.84375 5.609375 36.375 \nQ 5.609375 53.953125 15.125 64.078125 \nQ 24.65625 74.21875 41.21875 74.21875 \nQ 47.75 74.21875 53.53125 72.484375 \nQ 59.328125 70.75 64.40625 67.28125 \nz\n\" id=\"DejaVuSans-67\"/>\n     <path d=\"M 30.609375 48.390625 \nQ 23.390625 48.390625 19.1875 42.75 \nQ 14.984375 37.109375 14.984375 27.296875 \nQ 14.984375 17.484375 19.15625 11.84375 \nQ 23.34375 6.203125 30.609375 6.203125 \nQ 37.796875 6.203125 41.984375 11.859375 \nQ 46.1875 17.53125 46.1875 27.296875 \nQ 46.1875 37.015625 41.984375 42.703125 \nQ 37.796875 48.390625 30.609375 48.390625 \nz\nM 30.609375 56 \nQ 42.328125 56 49.015625 48.375 \nQ 55.71875 40.765625 55.71875 27.296875 \nQ 55.71875 13.875 49.015625 6.21875 \nQ 42.328125 -1.421875 30.609375 -1.421875 \nQ 18.84375 -1.421875 12.171875 6.21875 \nQ 5.515625 13.875 5.515625 27.296875 \nQ 5.515625 40.765625 12.171875 48.375 \nQ 18.84375 56 30.609375 56 \nz\n\" id=\"DejaVuSans-111\"/>\n     <path d=\"M 52 44.1875 \nQ 55.375 50.25 60.0625 53.125 \nQ 64.75 56 71.09375 56 \nQ 79.640625 56 84.28125 50.015625 \nQ 88.921875 44.046875 88.921875 33.015625 \nL 88.921875 0 \nL 79.890625 0 \nL 79.890625 32.71875 \nQ 79.890625 40.578125 77.09375 44.375 \nQ 74.3125 48.1875 68.609375 48.1875 \nQ 61.625 48.1875 57.5625 43.546875 \nQ 53.515625 38.921875 53.515625 30.90625 \nL 53.515625 0 \nL 44.484375 0 \nL 44.484375 32.71875 \nQ 44.484375 40.625 41.703125 44.40625 \nQ 38.921875 48.1875 33.109375 48.1875 \nQ 26.21875 48.1875 22.15625 43.53125 \nQ 18.109375 38.875 18.109375 30.90625 \nL 18.109375 0 \nL 9.078125 0 \nL 9.078125 54.6875 \nL 18.109375 54.6875 \nL 18.109375 46.1875 \nQ 21.1875 51.21875 25.484375 53.609375 \nQ 29.78125 56 35.6875 56 \nQ 41.65625 56 45.828125 52.96875 \nQ 50 49.953125 52 44.1875 \nz\n\" id=\"DejaVuSans-109\"/>\n     <path d=\"M 14.796875 27.296875 \nQ 14.796875 17.390625 18.875 11.75 \nQ 22.953125 6.109375 30.078125 6.109375 \nQ 37.203125 6.109375 41.296875 11.75 \nQ 45.40625 17.390625 45.40625 27.296875 \nQ 45.40625 37.203125 41.296875 42.84375 \nQ 37.203125 48.484375 30.078125 48.484375 \nQ 22.953125 48.484375 18.875 42.84375 \nQ 14.796875 37.203125 14.796875 27.296875 \nz\nM 45.40625 8.203125 \nQ 42.578125 3.328125 38.25 0.953125 \nQ 33.9375 -1.421875 27.875 -1.421875 \nQ 17.96875 -1.421875 11.734375 6.484375 \nQ 5.515625 14.40625 5.515625 27.296875 \nQ 5.515625 40.1875 11.734375 48.09375 \nQ 17.96875 56 27.875 56 \nQ 33.9375 56 38.25 53.625 \nQ 42.578125 51.265625 45.40625 46.390625 \nL 45.40625 54.6875 \nL 54.390625 54.6875 \nL 54.390625 -20.796875 \nL 45.40625 -20.796875 \nz\n\" id=\"DejaVuSans-113\"/>\n     <path d=\"M 8.5 21.578125 \nL 8.5 54.6875 \nL 17.484375 54.6875 \nL 17.484375 21.921875 \nQ 17.484375 14.15625 20.5 10.265625 \nQ 23.53125 6.390625 29.59375 6.390625 \nQ 36.859375 6.390625 41.078125 11.03125 \nQ 45.3125 15.671875 45.3125 23.6875 \nL 45.3125 54.6875 \nL 54.296875 54.6875 \nL 54.296875 0 \nL 45.3125 0 \nL 45.3125 8.40625 \nQ 42.046875 3.421875 37.71875 1 \nQ 33.40625 -1.421875 27.6875 -1.421875 \nQ 18.265625 -1.421875 13.375 4.4375 \nQ 8.5 10.296875 8.5 21.578125 \nz\nM 31.109375 56 \nz\n\" id=\"DejaVuSans-117\"/>\n     <path d=\"M 50.984375 -16.609375 \nL 50.984375 -23.578125 \nL -0.984375 -23.578125 \nL -0.984375 -16.609375 \nz\n\" id=\"DejaVuSans-95\"/>\n     <path d=\"M 45.40625 27.984375 \nQ 45.40625 37.75 41.375 43.109375 \nQ 37.359375 48.484375 30.078125 48.484375 \nQ 22.859375 48.484375 18.828125 43.109375 \nQ 14.796875 37.75 14.796875 27.984375 \nQ 14.796875 18.265625 18.828125 12.890625 \nQ 22.859375 7.515625 30.078125 7.515625 \nQ 37.359375 7.515625 41.375 12.890625 \nQ 45.40625 18.265625 45.40625 27.984375 \nz\nM 54.390625 6.78125 \nQ 54.390625 -7.171875 48.1875 -13.984375 \nQ 42 -20.796875 29.203125 -20.796875 \nQ 24.46875 -20.796875 20.265625 -20.09375 \nQ 16.0625 -19.390625 12.109375 -17.921875 \nL 12.109375 -9.1875 \nQ 16.0625 -11.328125 19.921875 -12.34375 \nQ 23.78125 -13.375 27.78125 -13.375 \nQ 36.625 -13.375 41.015625 -8.765625 \nQ 45.40625 -4.15625 45.40625 5.171875 \nL 45.40625 9.625 \nQ 42.625 4.78125 38.28125 2.390625 \nQ 33.9375 0 27.875 0 \nQ 17.828125 0 11.671875 7.65625 \nQ 5.515625 15.328125 5.515625 27.984375 \nQ 5.515625 40.671875 11.671875 48.328125 \nQ 17.828125 56 27.875 56 \nQ 33.9375 56 38.28125 53.609375 \nQ 42.625 51.21875 45.40625 46.390625 \nL 45.40625 54.6875 \nL 54.390625 54.6875 \nz\n\" id=\"DejaVuSans-103\"/>\n     <path d=\"M 45.40625 46.390625 \nL 45.40625 75.984375 \nL 54.390625 75.984375 \nL 54.390625 0 \nL 45.40625 0 \nL 45.40625 8.203125 \nQ 42.578125 3.328125 38.25 0.953125 \nQ 33.9375 -1.421875 27.875 -1.421875 \nQ 17.96875 -1.421875 11.734375 6.484375 \nQ 5.515625 14.40625 5.515625 27.296875 \nQ 5.515625 40.1875 11.734375 48.09375 \nQ 17.96875 56 27.875 56 \nQ 33.9375 56 38.25 53.625 \nQ 42.578125 51.265625 45.40625 46.390625 \nz\nM 14.796875 27.296875 \nQ 14.796875 17.390625 18.875 11.75 \nQ 22.953125 6.109375 30.078125 6.109375 \nQ 37.203125 6.109375 41.296875 11.75 \nQ 45.40625 17.390625 45.40625 27.296875 \nQ 45.40625 37.203125 41.296875 42.84375 \nQ 37.203125 48.484375 30.078125 48.484375 \nQ 22.953125 48.484375 18.875 42.84375 \nQ 14.796875 37.203125 14.796875 27.296875 \nz\n\" id=\"DejaVuSans-100\"/>\n    </defs>\n    <g transform=\"translate(7.2 16.318125)scale(0.12 -0.12)\">\n     <use xlink:href=\"#DejaVuSans-67\"/>\n     <use x=\"69.824219\" xlink:href=\"#DejaVuSans-111\"/>\n     <use x=\"131.005859\" xlink:href=\"#DejaVuSans-109\"/>\n     <use x=\"228.417969\" xlink:href=\"#DejaVuSans-109\"/>\n     <use x=\"325.830078\" xlink:href=\"#DejaVuSans-111\"/>\n     <use x=\"387.011719\" xlink:href=\"#DejaVuSans-110\"/>\n     <use x=\"450.390625\" xlink:href=\"#DejaVuSans-32\"/>\n     <use x=\"482.177734\" xlink:href=\"#DejaVuSans-113\"/>\n     <use x=\"545.654297\" xlink:href=\"#DejaVuSans-117\"/>\n     <use x=\"609.033203\" xlink:href=\"#DejaVuSans-101\"/>\n     <use x=\"670.556641\" xlink:href=\"#DejaVuSans-115\"/>\n     <use x=\"722.65625\" xlink:href=\"#DejaVuSans-116\"/>\n     <use x=\"761.865234\" xlink:href=\"#DejaVuSans-105\"/>\n     <use x=\"789.648438\" xlink:href=\"#DejaVuSans-111\"/>\n     <use x=\"850.830078\" xlink:href=\"#DejaVuSans-110\"/>\n     <use x=\"914.208984\" xlink:href=\"#DejaVuSans-95\"/>\n     <use x=\"964.208984\" xlink:href=\"#DejaVuSans-117\"/>\n     <use x=\"1027.587891\" xlink:href=\"#DejaVuSans-115\"/>\n     <use x=\"1079.6875\" xlink:href=\"#DejaVuSans-101\"/>\n     <use x=\"1141.210938\" xlink:href=\"#DejaVuSans-114\"/>\n     <use x=\"1182.324219\" xlink:href=\"#DejaVuSans-95\"/>\n     <use x=\"1232.324219\" xlink:href=\"#DejaVuSans-110\"/>\n     <use x=\"1295.703125\" xlink:href=\"#DejaVuSans-97\"/>\n     <use x=\"1356.982422\" xlink:href=\"#DejaVuSans-109\"/>\n     <use x=\"1454.394531\" xlink:href=\"#DejaVuSans-101\"/>\n     <use x=\"1515.917969\" xlink:href=\"#DejaVuSans-32\"/>\n     <use x=\"1547.705078\" xlink:href=\"#DejaVuSans-105\"/>\n     <use x=\"1575.488281\" xlink:href=\"#DejaVuSans-110\"/>\n     <use x=\"1638.867188\" xlink:href=\"#DejaVuSans-32\"/>\n     <use x=\"1670.654297\" xlink:href=\"#DejaVuSans-116\"/>\n     <use x=\"1709.863281\" xlink:href=\"#DejaVuSans-114\"/>\n     <use x=\"1750.976562\" xlink:href=\"#DejaVuSans-97\"/>\n     <use x=\"1812.255859\" xlink:href=\"#DejaVuSans-105\"/>\n     <use x=\"1840.039062\" xlink:href=\"#DejaVuSans-110\"/>\n     <use x=\"1903.417969\" xlink:href=\"#DejaVuSans-105\"/>\n     <use x=\"1931.201172\" xlink:href=\"#DejaVuSans-110\"/>\n     <use x=\"1994.580078\" xlink:href=\"#DejaVuSans-103\"/>\n     <use x=\"2058.056641\" xlink:href=\"#DejaVuSans-32\"/>\n     <use x=\"2089.84375\" xlink:href=\"#DejaVuSans-97\"/>\n     <use x=\"2151.123047\" xlink:href=\"#DejaVuSans-110\"/>\n     <use x=\"2214.501953\" xlink:href=\"#DejaVuSans-100\"/>\n     <use x=\"2277.978516\" xlink:href=\"#DejaVuSans-32\"/>\n     <use x=\"2309.765625\" xlink:href=\"#DejaVuSans-116\"/>\n     <use x=\"2348.974609\" xlink:href=\"#DejaVuSans-101\"/>\n     <use x=\"2410.498047\" xlink:href=\"#DejaVuSans-115\"/>\n     <use x=\"2462.597656\" xlink:href=\"#DejaVuSans-116\"/>\n     <use x=\"2501.806641\" xlink:href=\"#DejaVuSans-32\"/>\n     <use x=\"2533.59375\" xlink:href=\"#DejaVuSans-100\"/>\n     <use x=\"2597.070312\" xlink:href=\"#DejaVuSans-97\"/>\n     <use x=\"2658.349609\" xlink:href=\"#DejaVuSans-116\"/>\n     <use x=\"2697.558594\" xlink:href=\"#DejaVuSans-97\"/>\n    </g>\n   </g>\n  </g>\n </g>\n <defs>\n  <clipPath id=\"pf6c18b11b8\">\n   <rect height=\"217.44\" width=\"276.916042\" x=\"34.268854\" y=\"22.318125\"/>\n  </clipPath>\n </defs>\n</svg>\n",
      "text/plain": "<Figure size 432x288 with 1 Axes>"
     },
     "metadata": {},
     "output_type": "display_data"
    },
    {
     "data": {
      "image/png": "[encoded data removed]",
      "image/svg+xml": "<?xml version=\"1.0\" encoding=\"utf-8\" standalone=\"no\"?>\n<!DOCTYPE svg PUBLIC \"-//W3C//DTD SVG 1.1//EN\"\n  \"http://www.w3.org/Graphics/SVG/1.1/DTD/svg11.dtd\">\n<!-- Created with matplotlib (https://matplotlib.org/) -->\n<svg height=\"160.118108pt\" version=\"1.1\" viewBox=\"0 0 336.950625 160.118108\" width=\"336.950625pt\" xmlns=\"http://www.w3.org/2000/svg\" xmlns:xlink=\"http://www.w3.org/1999/xlink\">\n <defs>\n  <style type=\"text/css\">\n*{stroke-linecap:butt;stroke-linejoin:round;}\n  </style>\n </defs>\n <g id=\"figure_1\">\n  <g id=\"patch_1\">\n   <path d=\"M 0 160.118108 \nL 336.950625 160.118108 \nL 336.950625 0 \nL 0 0 \nz\n\" style=\"fill:none;\"/>\n  </g>\n  <g id=\"axes_1\">\n   <g id=\"patch_2\">\n    <path clip-path=\"url(#p806f0c18df)\" d=\"M 206.984863 94.976961 \nC 204.659925 92.161581 203.387366 88.622056 203.387366 84.970795 \nC 203.387366 81.319535 204.659925 77.780009 206.984863 74.96463 \nC 205.750917 68.558501 203.342557 62.435543 199.88157 56.905383 \nC 196.420583 51.375223 191.966308 46.532677 186.743991 42.622624 \nC 181.521674 38.712572 175.620853 35.802052 169.339923 34.038245 \nC 163.058992 32.274437 156.50564 31.687584 150.01126 32.30736 \nC 143.516879 32.927136 137.192817 34.742916 131.358872 37.662879 \nC 125.524926 40.582841 120.281121 44.556923 115.892627 49.384161 \nC 111.504134 54.211399 108.046193 59.809029 105.693668 65.893989 \nC 103.341143 71.978948 102.134369 78.446908 102.134369 84.970795 \nC 102.134369 91.494682 103.341143 97.962643 105.693668 104.047602 \nC 108.046193 110.132561 111.504134 115.730191 115.892627 120.557429 \nC 120.281121 125.384667 125.524926 129.358749 131.358872 132.278712 \nC 137.192817 135.198674 143.516879 137.014454 150.01126 137.63423 \nC 156.50564 138.254007 163.058992 137.667153 169.339923 135.903346 \nC 175.620853 134.139539 181.521674 131.229019 186.743991 127.318966 \nC 191.966308 123.408914 196.420583 118.566368 199.88157 113.036208 \nC 203.342557 107.506048 205.750917 101.383089 206.984863 94.976961 \n\" style=\"fill:#ff0000;opacity:0.4;\"/>\n   </g>\n   <g id=\"patch_3\">\n    <path clip-path=\"url(#p806f0c18df)\" d=\"M 206.984863 74.96463 \nC 207.62003 78.262146 207.939779 81.612663 207.939779 84.970795 \nC 207.939779 88.328928 207.62003 91.679444 206.984863 94.976961 \nC 208.00887 96.21698 209.217187 97.292492 210.567539 98.165869 \nC 211.917891 99.039246 213.394345 99.700182 214.945247 100.125555 \nC 216.496148 100.550928 218.103197 100.735718 219.71017 100.67346 \nC 221.317143 100.611202 222.905078 100.302631 224.418421 99.758542 \nC 225.931763 99.214453 227.352656 98.441266 228.631388 97.466032 \nC 229.910121 96.490798 231.031604 95.325024 231.956603 94.009496 \nC 232.881602 92.693967 233.599202 91.244207 234.084296 89.710936 \nC 234.569391 88.177664 234.816256 86.578974 234.816256 84.970795 \nC 234.816256 83.362617 234.569391 81.763926 234.084296 80.230655 \nC 233.599202 78.697383 232.881602 77.247623 231.956603 75.932095 \nC 231.031604 74.616566 229.910121 73.450792 228.631388 72.475558 \nC 227.352656 71.500324 225.931763 70.727138 224.418421 70.183049 \nC 222.905078 69.63896 221.317143 69.330388 219.71017 69.26813 \nC 218.103197 69.205872 216.496148 69.390662 214.945247 69.816035 \nC 213.394345 70.241408 211.917891 70.902345 210.567539 71.775721 \nC 209.217187 72.649098 208.00887 73.72461 206.984863 74.96463 \n\" style=\"fill:#008000;opacity:0.4;\"/>\n   </g>\n   <g id=\"patch_4\">\n    <path clip-path=\"url(#p806f0c18df)\" d=\"M 206.984863 94.976961 \nC 207.62003 91.679444 207.939779 88.328928 207.939779 84.970795 \nC 207.939779 81.612663 207.62003 78.262146 206.984863 74.96463 \nC 204.659925 77.780009 203.387366 81.319535 203.387366 84.970795 \nC 203.387366 88.622056 204.659925 92.161581 206.984863 94.976961 \n\" style=\"fill:#b25900;opacity:0.4;\"/>\n   </g>\n   <g id=\"text_1\">\n    <!-- 4085 -->\n    <defs>\n     <path d=\"M 37.796875 64.3125 \nL 12.890625 25.390625 \nL 37.796875 25.390625 \nz\nM 35.203125 72.90625 \nL 47.609375 72.90625 \nL 47.609375 25.390625 \nL 58.015625 25.390625 \nL 58.015625 17.1875 \nL 47.609375 17.1875 \nL 47.609375 0 \nL 37.796875 0 \nL 37.796875 17.1875 \nL 4.890625 17.1875 \nL 4.890625 26.703125 \nz\n\" id=\"DejaVuSans-52\"/>\n     <path d=\"M 31.78125 66.40625 \nQ 24.171875 66.40625 20.328125 58.90625 \nQ 16.5 51.421875 16.5 36.375 \nQ 16.5 21.390625 20.328125 13.890625 \nQ 24.171875 6.390625 31.78125 6.390625 \nQ 39.453125 6.390625 43.28125 13.890625 \nQ 47.125 21.390625 47.125 36.375 \nQ 47.125 51.421875 43.28125 58.90625 \nQ 39.453125 66.40625 31.78125 66.40625 \nz\nM 31.78125 74.21875 \nQ 44.046875 74.21875 50.515625 64.515625 \nQ 56.984375 54.828125 56.984375 36.375 \nQ 56.984375 17.96875 50.515625 8.265625 \nQ 44.046875 -1.421875 31.78125 -1.421875 \nQ 19.53125 -1.421875 13.0625 8.265625 \nQ 6.59375 17.96875 6.59375 36.375 \nQ 6.59375 54.828125 13.0625 64.515625 \nQ 19.53125 74.21875 31.78125 74.21875 \nz\n\" id=\"DejaVuSans-48\"/>\n     <path d=\"M 31.78125 34.625 \nQ 24.75 34.625 20.71875 30.859375 \nQ 16.703125 27.09375 16.703125 20.515625 \nQ 16.703125 13.921875 20.71875 10.15625 \nQ 24.75 6.390625 31.78125 6.390625 \nQ 38.8125 6.390625 42.859375 10.171875 \nQ 46.921875 13.96875 46.921875 20.515625 \nQ 46.921875 27.09375 42.890625 30.859375 \nQ 38.875 34.625 31.78125 34.625 \nz\nM 21.921875 38.8125 \nQ 15.578125 40.375 12.03125 44.71875 \nQ 8.5 49.078125 8.5 55.328125 \nQ 8.5 64.0625 14.71875 69.140625 \nQ 20.953125 74.21875 31.78125 74.21875 \nQ 42.671875 74.21875 48.875 69.140625 \nQ 55.078125 64.0625 55.078125 55.328125 \nQ 55.078125 49.078125 51.53125 44.71875 \nQ 48 40.375 41.703125 38.8125 \nQ 48.828125 37.15625 52.796875 32.3125 \nQ 56.78125 27.484375 56.78125 20.515625 \nQ 56.78125 9.90625 50.3125 4.234375 \nQ 43.84375 -1.421875 31.78125 -1.421875 \nQ 19.734375 -1.421875 13.25 4.234375 \nQ 6.78125 9.90625 6.78125 20.515625 \nQ 6.78125 27.484375 10.78125 32.3125 \nQ 14.796875 37.15625 21.921875 38.8125 \nz\nM 18.3125 54.390625 \nQ 18.3125 48.734375 21.84375 45.5625 \nQ 25.390625 42.390625 31.78125 42.390625 \nQ 38.140625 42.390625 41.71875 45.5625 \nQ 45.3125 48.734375 45.3125 54.390625 \nQ 45.3125 60.0625 41.71875 63.234375 \nQ 38.140625 66.40625 31.78125 66.40625 \nQ 25.390625 66.40625 21.84375 63.234375 \nQ 18.3125 60.0625 18.3125 54.390625 \nz\n\" id=\"DejaVuSans-56\"/>\n     <path d=\"M 10.796875 72.90625 \nL 49.515625 72.90625 \nL 49.515625 64.59375 \nL 19.828125 64.59375 \nL 19.828125 46.734375 \nQ 21.96875 47.46875 24.109375 47.828125 \nQ 26.265625 48.1875 28.421875 48.1875 \nQ 40.625 48.1875 47.75 41.5 \nQ 54.890625 34.8125 54.890625 23.390625 \nQ 54.890625 11.625 47.5625 5.09375 \nQ 40.234375 -1.421875 26.90625 -1.421875 \nQ 22.3125 -1.421875 17.546875 -0.640625 \nQ 12.796875 0.140625 7.71875 1.703125 \nL 7.71875 11.625 \nQ 12.109375 9.234375 16.796875 8.0625 \nQ 21.484375 6.890625 26.703125 6.890625 \nQ 35.15625 6.890625 40.078125 11.328125 \nQ 45.015625 15.765625 45.015625 23.390625 \nQ 45.015625 31 40.078125 35.4375 \nQ 35.15625 39.890625 26.703125 39.890625 \nQ 22.75 39.890625 18.8125 39.015625 \nQ 14.890625 38.140625 10.796875 36.28125 \nz\n\" id=\"DejaVuSans-53\"/>\n    </defs>\n    <g transform=\"translate(140.035867 87.73017)scale(0.1 -0.1)\">\n     <use xlink:href=\"#DejaVuSans-52\"/>\n     <use x=\"63.623047\" xlink:href=\"#DejaVuSans-48\"/>\n     <use x=\"127.246094\" xlink:href=\"#DejaVuSans-56\"/>\n     <use x=\"190.869141\" xlink:href=\"#DejaVuSans-53\"/>\n    </g>\n   </g>\n   <g id=\"text_2\">\n    <!-- 334 -->\n    <defs>\n     <path d=\"M 40.578125 39.3125 \nQ 47.65625 37.796875 51.625 33 \nQ 55.609375 28.21875 55.609375 21.1875 \nQ 55.609375 10.40625 48.1875 4.484375 \nQ 40.765625 -1.421875 27.09375 -1.421875 \nQ 22.515625 -1.421875 17.65625 -0.515625 \nQ 12.796875 0.390625 7.625 2.203125 \nL 7.625 11.71875 \nQ 11.71875 9.328125 16.59375 8.109375 \nQ 21.484375 6.890625 26.8125 6.890625 \nQ 36.078125 6.890625 40.9375 10.546875 \nQ 45.796875 14.203125 45.796875 21.1875 \nQ 45.796875 27.640625 41.28125 31.265625 \nQ 36.765625 34.90625 28.71875 34.90625 \nL 20.21875 34.90625 \nL 20.21875 43.015625 \nL 29.109375 43.015625 \nQ 36.375 43.015625 40.234375 45.921875 \nQ 44.09375 48.828125 44.09375 54.296875 \nQ 44.09375 59.90625 40.109375 62.90625 \nQ 36.140625 65.921875 28.71875 65.921875 \nQ 24.65625 65.921875 20.015625 65.03125 \nQ 15.375 64.15625 9.8125 62.3125 \nL 9.8125 71.09375 \nQ 15.4375 72.65625 20.34375 73.4375 \nQ 25.25 74.21875 29.59375 74.21875 \nQ 40.828125 74.21875 47.359375 69.109375 \nQ 53.90625 64.015625 53.90625 55.328125 \nQ 53.90625 49.265625 50.4375 45.09375 \nQ 46.96875 40.921875 40.578125 39.3125 \nz\n\" id=\"DejaVuSans-51\"/>\n    </defs>\n    <g transform=\"translate(211.834268 87.73017)scale(0.1 -0.1)\">\n     <use xlink:href=\"#DejaVuSans-51\"/>\n     <use x=\"63.623047\" xlink:href=\"#DejaVuSans-51\"/>\n     <use x=\"127.246094\" xlink:href=\"#DejaVuSans-52\"/>\n    </g>\n   </g>\n   <g id=\"text_3\">\n    <!-- 29 -->\n    <defs>\n     <path d=\"M 19.1875 8.296875 \nL 53.609375 8.296875 \nL 53.609375 0 \nL 7.328125 0 \nL 7.328125 8.296875 \nQ 12.9375 14.109375 22.625 23.890625 \nQ 32.328125 33.6875 34.8125 36.53125 \nQ 39.546875 41.84375 41.421875 45.53125 \nQ 43.3125 49.21875 43.3125 52.78125 \nQ 43.3125 58.59375 39.234375 62.25 \nQ 35.15625 65.921875 28.609375 65.921875 \nQ 23.96875 65.921875 18.8125 64.3125 \nQ 13.671875 62.703125 7.8125 59.421875 \nL 7.8125 69.390625 \nQ 13.765625 71.78125 18.9375 73 \nQ 24.125 74.21875 28.421875 74.21875 \nQ 39.75 74.21875 46.484375 68.546875 \nQ 53.21875 62.890625 53.21875 53.421875 \nQ 53.21875 48.921875 51.53125 44.890625 \nQ 49.859375 40.875 45.40625 35.40625 \nQ 44.1875 33.984375 37.640625 27.21875 \nQ 31.109375 20.453125 19.1875 8.296875 \nz\n\" id=\"DejaVuSans-50\"/>\n     <path d=\"M 10.984375 1.515625 \nL 10.984375 10.5 \nQ 14.703125 8.734375 18.5 7.8125 \nQ 22.3125 6.890625 25.984375 6.890625 \nQ 35.75 6.890625 40.890625 13.453125 \nQ 46.046875 20.015625 46.78125 33.40625 \nQ 43.953125 29.203125 39.59375 26.953125 \nQ 35.25 24.703125 29.984375 24.703125 \nQ 19.046875 24.703125 12.671875 31.3125 \nQ 6.296875 37.9375 6.296875 49.421875 \nQ 6.296875 60.640625 12.9375 67.421875 \nQ 19.578125 74.21875 30.609375 74.21875 \nQ 43.265625 74.21875 49.921875 64.515625 \nQ 56.59375 54.828125 56.59375 36.375 \nQ 56.59375 19.140625 48.40625 8.859375 \nQ 40.234375 -1.421875 26.421875 -1.421875 \nQ 22.703125 -1.421875 18.890625 -0.6875 \nQ 15.09375 0.046875 10.984375 1.515625 \nz\nM 30.609375 32.421875 \nQ 37.25 32.421875 41.125 36.953125 \nQ 45.015625 41.5 45.015625 49.421875 \nQ 45.015625 57.28125 41.125 61.84375 \nQ 37.25 66.40625 30.609375 66.40625 \nQ 23.96875 66.40625 20.09375 61.84375 \nQ 16.21875 57.28125 16.21875 49.421875 \nQ 16.21875 41.5 20.09375 36.953125 \nQ 23.96875 32.421875 30.609375 32.421875 \nz\n\" id=\"DejaVuSans-57\"/>\n    </defs>\n    <g transform=\"translate(199.301073 87.73017)scale(0.1 -0.1)\">\n     <use xlink:href=\"#DejaVuSans-50\"/>\n     <use x=\"63.623047\" xlink:href=\"#DejaVuSans-57\"/>\n    </g>\n   </g>\n   <g id=\"text_4\">\n    <!-- Train set -->\n    <defs>\n     <path d=\"M -0.296875 72.90625 \nL 61.375 72.90625 \nL 61.375 64.59375 \nL 35.5 64.59375 \nL 35.5 0 \nL 25.59375 0 \nL 25.59375 64.59375 \nL -0.296875 64.59375 \nz\n\" id=\"DejaVuSans-84\"/>\n     <path d=\"M 41.109375 46.296875 \nQ 39.59375 47.171875 37.8125 47.578125 \nQ 36.03125 48 33.890625 48 \nQ 26.265625 48 22.1875 43.046875 \nQ 18.109375 38.09375 18.109375 28.8125 \nL 18.109375 0 \nL 9.078125 0 \nL 9.078125 54.6875 \nL 18.109375 54.6875 \nL 18.109375 46.1875 \nQ 20.953125 51.171875 25.484375 53.578125 \nQ 30.03125 56 36.53125 56 \nQ 37.453125 56 38.578125 55.875 \nQ 39.703125 55.765625 41.0625 55.515625 \nz\n\" id=\"DejaVuSans-114\"/>\n     <path d=\"M 34.28125 27.484375 \nQ 23.390625 27.484375 19.1875 25 \nQ 14.984375 22.515625 14.984375 16.5 \nQ 14.984375 11.71875 18.140625 8.90625 \nQ 21.296875 6.109375 26.703125 6.109375 \nQ 34.1875 6.109375 38.703125 11.40625 \nQ 43.21875 16.703125 43.21875 25.484375 \nL 43.21875 27.484375 \nz\nM 52.203125 31.203125 \nL 52.203125 0 \nL 43.21875 0 \nL 43.21875 8.296875 \nQ 40.140625 3.328125 35.546875 0.953125 \nQ 30.953125 -1.421875 24.3125 -1.421875 \nQ 15.921875 -1.421875 10.953125 3.296875 \nQ 6 8.015625 6 15.921875 \nQ 6 25.140625 12.171875 29.828125 \nQ 18.359375 34.515625 30.609375 34.515625 \nL 43.21875 34.515625 \nL 43.21875 35.40625 \nQ 43.21875 41.609375 39.140625 45 \nQ 35.0625 48.390625 27.6875 48.390625 \nQ 23 48.390625 18.546875 47.265625 \nQ 14.109375 46.140625 10.015625 43.890625 \nL 10.015625 52.203125 \nQ 14.9375 54.109375 19.578125 55.046875 \nQ 24.21875 56 28.609375 56 \nQ 40.484375 56 46.34375 49.84375 \nQ 52.203125 43.703125 52.203125 31.203125 \nz\n\" id=\"DejaVuSans-97\"/>\n     <path d=\"M 9.421875 54.6875 \nL 18.40625 54.6875 \nL 18.40625 0 \nL 9.421875 0 \nz\nM 9.421875 75.984375 \nL 18.40625 75.984375 \nL 18.40625 64.59375 \nL 9.421875 64.59375 \nz\n\" id=\"DejaVuSans-105\"/>\n     <path d=\"M 54.890625 33.015625 \nL 54.890625 0 \nL 45.90625 0 \nL 45.90625 32.71875 \nQ 45.90625 40.484375 42.875 44.328125 \nQ 39.84375 48.1875 33.796875 48.1875 \nQ 26.515625 48.1875 22.3125 43.546875 \nQ 18.109375 38.921875 18.109375 30.90625 \nL 18.109375 0 \nL 9.078125 0 \nL 9.078125 54.6875 \nL 18.109375 54.6875 \nL 18.109375 46.1875 \nQ 21.34375 51.125 25.703125 53.5625 \nQ 30.078125 56 35.796875 56 \nQ 45.21875 56 50.046875 50.171875 \nQ 54.890625 44.34375 54.890625 33.015625 \nz\n\" id=\"DejaVuSans-110\"/>\n     <path id=\"DejaVuSans-32\"/>\n     <path d=\"M 44.28125 53.078125 \nL 44.28125 44.578125 \nQ 40.484375 46.53125 36.375 47.5 \nQ 32.28125 48.484375 27.875 48.484375 \nQ 21.1875 48.484375 17.84375 46.4375 \nQ 14.5 44.390625 14.5 40.28125 \nQ 14.5 37.15625 16.890625 35.375 \nQ 19.28125 33.59375 26.515625 31.984375 \nL 29.59375 31.296875 \nQ 39.15625 29.25 43.1875 25.515625 \nQ 47.21875 21.78125 47.21875 15.09375 \nQ 47.21875 7.46875 41.1875 3.015625 \nQ 35.15625 -1.421875 24.609375 -1.421875 \nQ 20.21875 -1.421875 15.453125 -0.5625 \nQ 10.6875 0.296875 5.421875 2 \nL 5.421875 11.28125 \nQ 10.40625 8.6875 15.234375 7.390625 \nQ 20.0625 6.109375 24.8125 6.109375 \nQ 31.15625 6.109375 34.5625 8.28125 \nQ 37.984375 10.453125 37.984375 14.40625 \nQ 37.984375 18.0625 35.515625 20.015625 \nQ 33.0625 21.96875 24.703125 23.78125 \nL 21.578125 24.515625 \nQ 13.234375 26.265625 9.515625 29.90625 \nQ 5.8125 33.546875 5.8125 39.890625 \nQ 5.8125 47.609375 11.28125 51.796875 \nQ 16.75 56 26.8125 56 \nQ 31.78125 56 36.171875 55.265625 \nQ 40.578125 54.546875 44.28125 53.078125 \nz\n\" id=\"DejaVuSans-115\"/>\n     <path d=\"M 56.203125 29.59375 \nL 56.203125 25.203125 \nL 14.890625 25.203125 \nQ 15.484375 15.921875 20.484375 11.0625 \nQ 25.484375 6.203125 34.421875 6.203125 \nQ 39.59375 6.203125 44.453125 7.46875 \nQ 49.3125 8.734375 54.109375 11.28125 \nL 54.109375 2.78125 \nQ 49.265625 0.734375 44.1875 -0.34375 \nQ 39.109375 -1.421875 33.890625 -1.421875 \nQ 20.796875 -1.421875 13.15625 6.1875 \nQ 5.515625 13.8125 5.515625 26.8125 \nQ 5.515625 40.234375 12.765625 48.109375 \nQ 20.015625 56 32.328125 56 \nQ 43.359375 56 49.78125 48.890625 \nQ 56.203125 41.796875 56.203125 29.59375 \nz\nM 47.21875 32.234375 \nQ 47.125 39.59375 43.09375 43.984375 \nQ 39.0625 48.390625 32.421875 48.390625 \nQ 24.90625 48.390625 20.390625 44.140625 \nQ 15.875 39.890625 15.1875 32.171875 \nz\n\" id=\"DejaVuSans-101\"/>\n     <path d=\"M 18.3125 70.21875 \nL 18.3125 54.6875 \nL 36.8125 54.6875 \nL 36.8125 47.703125 \nL 18.3125 47.703125 \nL 18.3125 18.015625 \nQ 18.3125 11.328125 20.140625 9.421875 \nQ 21.96875 7.515625 27.59375 7.515625 \nL 36.8125 7.515625 \nL 36.8125 0 \nL 27.59375 0 \nQ 17.1875 0 13.234375 3.875 \nQ 9.28125 7.765625 9.28125 18.015625 \nL 9.28125 47.703125 \nL 2.6875 47.703125 \nL 2.6875 54.6875 \nL 9.28125 54.6875 \nL 9.28125 70.21875 \nz\n\" id=\"DejaVuSans-116\"/>\n    </defs>\n    <g transform=\"translate(102.355199 150.422483)scale(0.12 -0.12)\">\n     <use xlink:href=\"#DejaVuSans-84\"/>\n     <use x=\"60.865234\" xlink:href=\"#DejaVuSans-114\"/>\n     <use x=\"101.978516\" xlink:href=\"#DejaVuSans-97\"/>\n     <use x=\"163.257812\" xlink:href=\"#DejaVuSans-105\"/>\n     <use x=\"191.041016\" xlink:href=\"#DejaVuSans-110\"/>\n     <use x=\"254.419922\" xlink:href=\"#DejaVuSans-32\"/>\n     <use x=\"286.207031\" xlink:href=\"#DejaVuSans-115\"/>\n     <use x=\"338.306641\" xlink:href=\"#DejaVuSans-101\"/>\n     <use x=\"399.830078\" xlink:href=\"#DejaVuSans-116\"/>\n    </g>\n   </g>\n   <g id=\"text_5\">\n    <!-- Test set -->\n    <g transform=\"translate(219.101811 113.234223)scale(0.12 -0.12)\">\n     <use xlink:href=\"#DejaVuSans-84\"/>\n     <use x=\"60.818359\" xlink:href=\"#DejaVuSans-101\"/>\n     <use x=\"122.341797\" xlink:href=\"#DejaVuSans-115\"/>\n     <use x=\"174.441406\" xlink:href=\"#DejaVuSans-116\"/>\n     <use x=\"213.650391\" xlink:href=\"#DejaVuSans-32\"/>\n     <use x=\"245.4375\" xlink:href=\"#DejaVuSans-115\"/>\n     <use x=\"297.537109\" xlink:href=\"#DejaVuSans-101\"/>\n     <use x=\"359.060547\" xlink:href=\"#DejaVuSans-116\"/>\n    </g>\n   </g>\n   <g id=\"text_6\">\n    <!-- Common answer_user_name in training and test data -->\n    <defs>\n     <path d=\"M 64.40625 67.28125 \nL 64.40625 56.890625 \nQ 59.421875 61.53125 53.78125 63.8125 \nQ 48.140625 66.109375 41.796875 66.109375 \nQ 29.296875 66.109375 22.65625 58.46875 \nQ 16.015625 50.828125 16.015625 36.375 \nQ 16.015625 21.96875 22.65625 14.328125 \nQ 29.296875 6.6875 41.796875 6.6875 \nQ 48.140625 6.6875 53.78125 8.984375 \nQ 59.421875 11.28125 64.40625 15.921875 \nL 64.40625 5.609375 \nQ 59.234375 2.09375 53.4375 0.328125 \nQ 47.65625 -1.421875 41.21875 -1.421875 \nQ 24.65625 -1.421875 15.125 8.703125 \nQ 5.609375 18.84375 5.609375 36.375 \nQ 5.609375 53.953125 15.125 64.078125 \nQ 24.65625 74.21875 41.21875 74.21875 \nQ 47.75 74.21875 53.53125 72.484375 \nQ 59.328125 70.75 64.40625 67.28125 \nz\n\" id=\"DejaVuSans-67\"/>\n     <path d=\"M 30.609375 48.390625 \nQ 23.390625 48.390625 19.1875 42.75 \nQ 14.984375 37.109375 14.984375 27.296875 \nQ 14.984375 17.484375 19.15625 11.84375 \nQ 23.34375 6.203125 30.609375 6.203125 \nQ 37.796875 6.203125 41.984375 11.859375 \nQ 46.1875 17.53125 46.1875 27.296875 \nQ 46.1875 37.015625 41.984375 42.703125 \nQ 37.796875 48.390625 30.609375 48.390625 \nz\nM 30.609375 56 \nQ 42.328125 56 49.015625 48.375 \nQ 55.71875 40.765625 55.71875 27.296875 \nQ 55.71875 13.875 49.015625 6.21875 \nQ 42.328125 -1.421875 30.609375 -1.421875 \nQ 18.84375 -1.421875 12.171875 6.21875 \nQ 5.515625 13.875 5.515625 27.296875 \nQ 5.515625 40.765625 12.171875 48.375 \nQ 18.84375 56 30.609375 56 \nz\n\" id=\"DejaVuSans-111\"/>\n     <path d=\"M 52 44.1875 \nQ 55.375 50.25 60.0625 53.125 \nQ 64.75 56 71.09375 56 \nQ 79.640625 56 84.28125 50.015625 \nQ 88.921875 44.046875 88.921875 33.015625 \nL 88.921875 0 \nL 79.890625 0 \nL 79.890625 32.71875 \nQ 79.890625 40.578125 77.09375 44.375 \nQ 74.3125 48.1875 68.609375 48.1875 \nQ 61.625 48.1875 57.5625 43.546875 \nQ 53.515625 38.921875 53.515625 30.90625 \nL 53.515625 0 \nL 44.484375 0 \nL 44.484375 32.71875 \nQ 44.484375 40.625 41.703125 44.40625 \nQ 38.921875 48.1875 33.109375 48.1875 \nQ 26.21875 48.1875 22.15625 43.53125 \nQ 18.109375 38.875 18.109375 30.90625 \nL 18.109375 0 \nL 9.078125 0 \nL 9.078125 54.6875 \nL 18.109375 54.6875 \nL 18.109375 46.1875 \nQ 21.1875 51.21875 25.484375 53.609375 \nQ 29.78125 56 35.6875 56 \nQ 41.65625 56 45.828125 52.96875 \nQ 50 49.953125 52 44.1875 \nz\n\" id=\"DejaVuSans-109\"/>\n     <path d=\"M 4.203125 54.6875 \nL 13.1875 54.6875 \nL 24.421875 12.015625 \nL 35.59375 54.6875 \nL 46.1875 54.6875 \nL 57.421875 12.015625 \nL 68.609375 54.6875 \nL 77.59375 54.6875 \nL 63.28125 0 \nL 52.6875 0 \nL 40.921875 44.828125 \nL 29.109375 0 \nL 18.5 0 \nz\n\" id=\"DejaVuSans-119\"/>\n     <path d=\"M 50.984375 -16.609375 \nL 50.984375 -23.578125 \nL -0.984375 -23.578125 \nL -0.984375 -16.609375 \nz\n\" id=\"DejaVuSans-95\"/>\n     <path d=\"M 8.5 21.578125 \nL 8.5 54.6875 \nL 17.484375 54.6875 \nL 17.484375 21.921875 \nQ 17.484375 14.15625 20.5 10.265625 \nQ 23.53125 6.390625 29.59375 6.390625 \nQ 36.859375 6.390625 41.078125 11.03125 \nQ 45.3125 15.671875 45.3125 23.6875 \nL 45.3125 54.6875 \nL 54.296875 54.6875 \nL 54.296875 0 \nL 45.3125 0 \nL 45.3125 8.40625 \nQ 42.046875 3.421875 37.71875 1 \nQ 33.40625 -1.421875 27.6875 -1.421875 \nQ 18.265625 -1.421875 13.375 4.4375 \nQ 8.5 10.296875 8.5 21.578125 \nz\nM 31.109375 56 \nz\n\" id=\"DejaVuSans-117\"/>\n     <path d=\"M 45.40625 27.984375 \nQ 45.40625 37.75 41.375 43.109375 \nQ 37.359375 48.484375 30.078125 48.484375 \nQ 22.859375 48.484375 18.828125 43.109375 \nQ 14.796875 37.75 14.796875 27.984375 \nQ 14.796875 18.265625 18.828125 12.890625 \nQ 22.859375 7.515625 30.078125 7.515625 \nQ 37.359375 7.515625 41.375 12.890625 \nQ 45.40625 18.265625 45.40625 27.984375 \nz\nM 54.390625 6.78125 \nQ 54.390625 -7.171875 48.1875 -13.984375 \nQ 42 -20.796875 29.203125 -20.796875 \nQ 24.46875 -20.796875 20.265625 -20.09375 \nQ 16.0625 -19.390625 12.109375 -17.921875 \nL 12.109375 -9.1875 \nQ 16.0625 -11.328125 19.921875 -12.34375 \nQ 23.78125 -13.375 27.78125 -13.375 \nQ 36.625 -13.375 41.015625 -8.765625 \nQ 45.40625 -4.15625 45.40625 5.171875 \nL 45.40625 9.625 \nQ 42.625 4.78125 38.28125 2.390625 \nQ 33.9375 0 27.875 0 \nQ 17.828125 0 11.671875 7.65625 \nQ 5.515625 15.328125 5.515625 27.984375 \nQ 5.515625 40.671875 11.671875 48.328125 \nQ 17.828125 56 27.875 56 \nQ 33.9375 56 38.28125 53.609375 \nQ 42.625 51.21875 45.40625 46.390625 \nL 45.40625 54.6875 \nL 54.390625 54.6875 \nz\n\" id=\"DejaVuSans-103\"/>\n     <path d=\"M 45.40625 46.390625 \nL 45.40625 75.984375 \nL 54.390625 75.984375 \nL 54.390625 0 \nL 45.40625 0 \nL 45.40625 8.203125 \nQ 42.578125 3.328125 38.25 0.953125 \nQ 33.9375 -1.421875 27.875 -1.421875 \nQ 17.96875 -1.421875 11.734375 6.484375 \nQ 5.515625 14.40625 5.515625 27.296875 \nQ 5.515625 40.1875 11.734375 48.09375 \nQ 17.96875 56 27.875 56 \nQ 33.9375 56 38.25 53.625 \nQ 42.578125 51.265625 45.40625 46.390625 \nz\nM 14.796875 27.296875 \nQ 14.796875 17.390625 18.875 11.75 \nQ 22.953125 6.109375 30.078125 6.109375 \nQ 37.203125 6.109375 41.296875 11.75 \nQ 45.40625 17.390625 45.40625 27.296875 \nQ 45.40625 37.203125 41.296875 42.84375 \nQ 37.203125 48.484375 30.078125 48.484375 \nQ 22.953125 48.484375 18.875 42.84375 \nQ 14.796875 37.203125 14.796875 27.296875 \nz\n\" id=\"DejaVuSans-100\"/>\n    </defs>\n    <g transform=\"translate(7.2 16.318125)scale(0.12 -0.12)\">\n     <use xlink:href=\"#DejaVuSans-67\"/>\n     <use x=\"69.824219\" xlink:href=\"#DejaVuSans-111\"/>\n     <use x=\"131.005859\" xlink:href=\"#DejaVuSans-109\"/>\n     <use x=\"228.417969\" xlink:href=\"#DejaVuSans-109\"/>\n     <use x=\"325.830078\" xlink:href=\"#DejaVuSans-111\"/>\n     <use x=\"387.011719\" xlink:href=\"#DejaVuSans-110\"/>\n     <use x=\"450.390625\" xlink:href=\"#DejaVuSans-32\"/>\n     <use x=\"482.177734\" xlink:href=\"#DejaVuSans-97\"/>\n     <use x=\"543.457031\" xlink:href=\"#DejaVuSans-110\"/>\n     <use x=\"606.835938\" xlink:href=\"#DejaVuSans-115\"/>\n     <use x=\"658.935547\" xlink:href=\"#DejaVuSans-119\"/>\n     <use x=\"740.722656\" xlink:href=\"#DejaVuSans-101\"/>\n     <use x=\"802.246094\" xlink:href=\"#DejaVuSans-114\"/>\n     <use x=\"843.359375\" xlink:href=\"#DejaVuSans-95\"/>\n     <use x=\"893.359375\" xlink:href=\"#DejaVuSans-117\"/>\n     <use x=\"956.738281\" xlink:href=\"#DejaVuSans-115\"/>\n     <use x=\"1008.837891\" xlink:href=\"#DejaVuSans-101\"/>\n     <use x=\"1070.361328\" xlink:href=\"#DejaVuSans-114\"/>\n     <use x=\"1111.474609\" xlink:href=\"#DejaVuSans-95\"/>\n     <use x=\"1161.474609\" xlink:href=\"#DejaVuSans-110\"/>\n     <use x=\"1224.853516\" xlink:href=\"#DejaVuSans-97\"/>\n     <use x=\"1286.132812\" xlink:href=\"#DejaVuSans-109\"/>\n     <use x=\"1383.544922\" xlink:href=\"#DejaVuSans-101\"/>\n     <use x=\"1445.068359\" xlink:href=\"#DejaVuSans-32\"/>\n     <use x=\"1476.855469\" xlink:href=\"#DejaVuSans-105\"/>\n     <use x=\"1504.638672\" xlink:href=\"#DejaVuSans-110\"/>\n     <use x=\"1568.017578\" xlink:href=\"#DejaVuSans-32\"/>\n     <use x=\"1599.804688\" xlink:href=\"#DejaVuSans-116\"/>\n     <use x=\"1639.013672\" xlink:href=\"#DejaVuSans-114\"/>\n     <use x=\"1680.126953\" xlink:href=\"#DejaVuSans-97\"/>\n     <use x=\"1741.40625\" xlink:href=\"#DejaVuSans-105\"/>\n     <use x=\"1769.189453\" xlink:href=\"#DejaVuSans-110\"/>\n     <use x=\"1832.568359\" xlink:href=\"#DejaVuSans-105\"/>\n     <use x=\"1860.351562\" xlink:href=\"#DejaVuSans-110\"/>\n     <use x=\"1923.730469\" xlink:href=\"#DejaVuSans-103\"/>\n     <use x=\"1987.207031\" xlink:href=\"#DejaVuSans-32\"/>\n     <use x=\"2018.994141\" xlink:href=\"#DejaVuSans-97\"/>\n     <use x=\"2080.273438\" xlink:href=\"#DejaVuSans-110\"/>\n     <use x=\"2143.652344\" xlink:href=\"#DejaVuSans-100\"/>\n     <use x=\"2207.128906\" xlink:href=\"#DejaVuSans-32\"/>\n     <use x=\"2238.916016\" xlink:href=\"#DejaVuSans-116\"/>\n     <use x=\"2278.125\" xlink:href=\"#DejaVuSans-101\"/>\n     <use x=\"2339.648438\" xlink:href=\"#DejaVuSans-115\"/>\n     <use x=\"2391.748047\" xlink:href=\"#DejaVuSans-116\"/>\n     <use x=\"2430.957031\" xlink:href=\"#DejaVuSans-32\"/>\n     <use x=\"2462.744141\" xlink:href=\"#DejaVuSans-100\"/>\n     <use x=\"2526.220703\" xlink:href=\"#DejaVuSans-97\"/>\n     <use x=\"2587.5\" xlink:href=\"#DejaVuSans-116\"/>\n     <use x=\"2626.708984\" xlink:href=\"#DejaVuSans-97\"/>\n    </g>\n   </g>\n  </g>\n </g>\n <defs>\n  <clipPath id=\"p806f0c18df\">\n   <rect height=\"125.30534\" width=\"152.181818\" x=\"92.384403\" y=\"22.318125\"/>\n  </clipPath>\n </defs>\n</svg>\n",
      "text/plain": "<Figure size 432x288 with 1 Axes>"
     },
     "metadata": {},
     "output_type": "display_data"
    },
    {
     "data": {
      "image/png": "[encoded data removed]",
      "image/svg+xml": "<?xml version=\"1.0\" encoding=\"utf-8\" standalone=\"no\"?>\n<!DOCTYPE svg PUBLIC \"-//W3C//DTD SVG 1.1//EN\"\n  \"http://www.w3.org/Graphics/SVG/1.1/DTD/svg11.dtd\">\n<!-- Created with matplotlib (https://matplotlib.org/) -->\n<svg height=\"98.754593pt\" version=\"1.1\" viewBox=\"0 0 302.709375 98.754593\" width=\"302.709375pt\" xmlns=\"http://www.w3.org/2000/svg\" xmlns:xlink=\"http://www.w3.org/1999/xlink\">\n <defs>\n  <style type=\"text/css\">\n*{stroke-linecap:butt;stroke-linejoin:round;}\n  </style>\n </defs>\n <g id=\"figure_1\">\n  <g id=\"patch_1\">\n   <path d=\"M 0 98.754593 \nL 302.709375 98.754593 \nL 302.709375 0 \nL 0 0 \nz\n\" style=\"fill:none;\"/>\n  </g>\n  <g id=\"axes_1\">\n   <g id=\"patch_2\">\n    <path clip-path=\"url(#p277a6dbbd5)\" d=\"M 132.468135 78.198936 \nC 139.239319 78.198936 145.734085 75.508717 150.522035 70.720766 \nC 155.309985 65.932816 158.000205 59.438051 158.000205 52.666867 \nC 158.000205 45.895683 155.309985 39.400917 150.522035 34.612967 \nC 145.734085 29.825017 139.239319 27.134797 132.468135 27.134797 \nC 125.696951 27.134797 119.202186 29.825017 114.414236 34.612967 \nC 109.626285 39.400917 106.936065 45.895683 106.936065 52.666867 \nC 106.936065 59.438051 109.626285 65.932816 114.414236 70.720766 \nC 119.202186 75.508717 125.696951 78.198936 132.468135 78.198936 \nz\n\" style=\"fill:#ff0000;opacity:0.4;\"/>\n   </g>\n   <g id=\"patch_3\">\n    <path clip-path=\"url(#p277a6dbbd5)\" d=\"M 186.467244 61.972932 \nC 188.935242 61.972932 191.302488 60.992386 193.047626 59.247249 \nC 194.792764 57.502111 195.77331 55.134864 195.77331 52.666867 \nC 195.77331 50.198869 194.792764 47.831623 193.047626 46.086485 \nC 191.302488 44.341347 188.935242 43.360802 186.467244 43.360802 \nC 183.999247 43.360802 181.632 44.341347 179.886862 46.086485 \nC 178.141725 47.831623 177.161179 50.198869 177.161179 52.666867 \nC 177.161179 55.134864 178.141725 57.502111 179.886862 59.247249 \nC 181.632 60.992386 183.999247 61.972932 186.467244 61.972932 \nz\n\" style=\"fill:#008000;opacity:0.4;\"/>\n   </g>\n   <g id=\"text_1\">\n    <!-- 3583 -->\n    <defs>\n     <path d=\"M 40.578125 39.3125 \nQ 47.65625 37.796875 51.625 33 \nQ 55.609375 28.21875 55.609375 21.1875 \nQ 55.609375 10.40625 48.1875 4.484375 \nQ 40.765625 -1.421875 27.09375 -1.421875 \nQ 22.515625 -1.421875 17.65625 -0.515625 \nQ 12.796875 0.390625 7.625 2.203125 \nL 7.625 11.71875 \nQ 11.71875 9.328125 16.59375 8.109375 \nQ 21.484375 6.890625 26.8125 6.890625 \nQ 36.078125 6.890625 40.9375 10.546875 \nQ 45.796875 14.203125 45.796875 21.1875 \nQ 45.796875 27.640625 41.28125 31.265625 \nQ 36.765625 34.90625 28.71875 34.90625 \nL 20.21875 34.90625 \nL 20.21875 43.015625 \nL 29.109375 43.015625 \nQ 36.375 43.015625 40.234375 45.921875 \nQ 44.09375 48.828125 44.09375 54.296875 \nQ 44.09375 59.90625 40.109375 62.90625 \nQ 36.140625 65.921875 28.71875 65.921875 \nQ 24.65625 65.921875 20.015625 65.03125 \nQ 15.375 64.15625 9.8125 62.3125 \nL 9.8125 71.09375 \nQ 15.4375 72.65625 20.34375 73.4375 \nQ 25.25 74.21875 29.59375 74.21875 \nQ 40.828125 74.21875 47.359375 69.109375 \nQ 53.90625 64.015625 53.90625 55.328125 \nQ 53.90625 49.265625 50.4375 45.09375 \nQ 46.96875 40.921875 40.578125 39.3125 \nz\n\" id=\"DejaVuSans-51\"/>\n     <path d=\"M 10.796875 72.90625 \nL 49.515625 72.90625 \nL 49.515625 64.59375 \nL 19.828125 64.59375 \nL 19.828125 46.734375 \nQ 21.96875 47.46875 24.109375 47.828125 \nQ 26.265625 48.1875 28.421875 48.1875 \nQ 40.625 48.1875 47.75 41.5 \nQ 54.890625 34.8125 54.890625 23.390625 \nQ 54.890625 11.625 47.5625 5.09375 \nQ 40.234375 -1.421875 26.90625 -1.421875 \nQ 22.3125 -1.421875 17.546875 -0.640625 \nQ 12.796875 0.140625 7.71875 1.703125 \nL 7.71875 11.625 \nQ 12.109375 9.234375 16.796875 8.0625 \nQ 21.484375 6.890625 26.703125 6.890625 \nQ 35.15625 6.890625 40.078125 11.328125 \nQ 45.015625 15.765625 45.015625 23.390625 \nQ 45.015625 31 40.078125 35.4375 \nQ 35.15625 39.890625 26.703125 39.890625 \nQ 22.75 39.890625 18.8125 39.015625 \nQ 14.890625 38.140625 10.796875 36.28125 \nz\n\" id=\"DejaVuSans-53\"/>\n     <path d=\"M 31.78125 34.625 \nQ 24.75 34.625 20.71875 30.859375 \nQ 16.703125 27.09375 16.703125 20.515625 \nQ 16.703125 13.921875 20.71875 10.15625 \nQ 24.75 6.390625 31.78125 6.390625 \nQ 38.8125 6.390625 42.859375 10.171875 \nQ 46.921875 13.96875 46.921875 20.515625 \nQ 46.921875 27.09375 42.890625 30.859375 \nQ 38.875 34.625 31.78125 34.625 \nz\nM 21.921875 38.8125 \nQ 15.578125 40.375 12.03125 44.71875 \nQ 8.5 49.078125 8.5 55.328125 \nQ 8.5 64.0625 14.71875 69.140625 \nQ 20.953125 74.21875 31.78125 74.21875 \nQ 42.671875 74.21875 48.875 69.140625 \nQ 55.078125 64.0625 55.078125 55.328125 \nQ 55.078125 49.078125 51.53125 44.71875 \nQ 48 40.375 41.703125 38.8125 \nQ 48.828125 37.15625 52.796875 32.3125 \nQ 56.78125 27.484375 56.78125 20.515625 \nQ 56.78125 9.90625 50.3125 4.234375 \nQ 43.84375 -1.421875 31.78125 -1.421875 \nQ 19.734375 -1.421875 13.25 4.234375 \nQ 6.78125 9.90625 6.78125 20.515625 \nQ 6.78125 27.484375 10.78125 32.3125 \nQ 14.796875 37.15625 21.921875 38.8125 \nz\nM 18.3125 54.390625 \nQ 18.3125 48.734375 21.84375 45.5625 \nQ 25.390625 42.390625 31.78125 42.390625 \nQ 38.140625 42.390625 41.71875 45.5625 \nQ 45.3125 48.734375 45.3125 54.390625 \nQ 45.3125 60.0625 41.71875 63.234375 \nQ 38.140625 66.40625 31.78125 66.40625 \nQ 25.390625 66.40625 21.84375 63.234375 \nQ 18.3125 60.0625 18.3125 54.390625 \nz\n\" id=\"DejaVuSans-56\"/>\n    </defs>\n    <g transform=\"translate(119.743135 55.426242)scale(0.1 -0.1)\">\n     <use xlink:href=\"#DejaVuSans-51\"/>\n     <use x=\"63.623047\" xlink:href=\"#DejaVuSans-53\"/>\n     <use x=\"127.246094\" xlink:href=\"#DejaVuSans-56\"/>\n     <use x=\"190.869141\" xlink:href=\"#DejaVuSans-51\"/>\n    </g>\n   </g>\n   <g id=\"text_2\">\n    <!-- 476 -->\n    <defs>\n     <path d=\"M 37.796875 64.3125 \nL 12.890625 25.390625 \nL 37.796875 25.390625 \nz\nM 35.203125 72.90625 \nL 47.609375 72.90625 \nL 47.609375 25.390625 \nL 58.015625 25.390625 \nL 58.015625 17.1875 \nL 47.609375 17.1875 \nL 47.609375 0 \nL 37.796875 0 \nL 37.796875 17.1875 \nL 4.890625 17.1875 \nL 4.890625 26.703125 \nz\n\" id=\"DejaVuSans-52\"/>\n     <path d=\"M 8.203125 72.90625 \nL 55.078125 72.90625 \nL 55.078125 68.703125 \nL 28.609375 0 \nL 18.3125 0 \nL 43.21875 64.59375 \nL 8.203125 64.59375 \nz\n\" id=\"DejaVuSans-55\"/>\n     <path d=\"M 33.015625 40.375 \nQ 26.375 40.375 22.484375 35.828125 \nQ 18.609375 31.296875 18.609375 23.390625 \nQ 18.609375 15.53125 22.484375 10.953125 \nQ 26.375 6.390625 33.015625 6.390625 \nQ 39.65625 6.390625 43.53125 10.953125 \nQ 47.40625 15.53125 47.40625 23.390625 \nQ 47.40625 31.296875 43.53125 35.828125 \nQ 39.65625 40.375 33.015625 40.375 \nz\nM 52.59375 71.296875 \nL 52.59375 62.3125 \nQ 48.875 64.0625 45.09375 64.984375 \nQ 41.3125 65.921875 37.59375 65.921875 \nQ 27.828125 65.921875 22.671875 59.328125 \nQ 17.53125 52.734375 16.796875 39.40625 \nQ 19.671875 43.65625 24.015625 45.921875 \nQ 28.375 48.1875 33.59375 48.1875 \nQ 44.578125 48.1875 50.953125 41.515625 \nQ 57.328125 34.859375 57.328125 23.390625 \nQ 57.328125 12.15625 50.6875 5.359375 \nQ 44.046875 -1.421875 33.015625 -1.421875 \nQ 20.359375 -1.421875 13.671875 8.265625 \nQ 6.984375 17.96875 6.984375 36.375 \nQ 6.984375 53.65625 15.1875 63.9375 \nQ 23.390625 74.21875 37.203125 74.21875 \nQ 40.921875 74.21875 44.703125 73.484375 \nQ 48.484375 72.75 52.59375 71.296875 \nz\n\" id=\"DejaVuSans-54\"/>\n    </defs>\n    <g transform=\"translate(176.923494 55.426242)scale(0.1 -0.1)\">\n     <use xlink:href=\"#DejaVuSans-52\"/>\n     <use x=\"63.623047\" xlink:href=\"#DejaVuSans-55\"/>\n     <use x=\"127.246094\" xlink:href=\"#DejaVuSans-54\"/>\n    </g>\n   </g>\n   <g id=\"text_3\">\n    <!-- Train set -->\n    <defs>\n     <path d=\"M -0.296875 72.90625 \nL 61.375 72.90625 \nL 61.375 64.59375 \nL 35.5 64.59375 \nL 35.5 0 \nL 25.59375 0 \nL 25.59375 64.59375 \nL -0.296875 64.59375 \nz\n\" id=\"DejaVuSans-84\"/>\n     <path d=\"M 41.109375 46.296875 \nQ 39.59375 47.171875 37.8125 47.578125 \nQ 36.03125 48 33.890625 48 \nQ 26.265625 48 22.1875 43.046875 \nQ 18.109375 38.09375 18.109375 28.8125 \nL 18.109375 0 \nL 9.078125 0 \nL 9.078125 54.6875 \nL 18.109375 54.6875 \nL 18.109375 46.1875 \nQ 20.953125 51.171875 25.484375 53.578125 \nQ 30.03125 56 36.53125 56 \nQ 37.453125 56 38.578125 55.875 \nQ 39.703125 55.765625 41.0625 55.515625 \nz\n\" id=\"DejaVuSans-114\"/>\n     <path d=\"M 34.28125 27.484375 \nQ 23.390625 27.484375 19.1875 25 \nQ 14.984375 22.515625 14.984375 16.5 \nQ 14.984375 11.71875 18.140625 8.90625 \nQ 21.296875 6.109375 26.703125 6.109375 \nQ 34.1875 6.109375 38.703125 11.40625 \nQ 43.21875 16.703125 43.21875 25.484375 \nL 43.21875 27.484375 \nz\nM 52.203125 31.203125 \nL 52.203125 0 \nL 43.21875 0 \nL 43.21875 8.296875 \nQ 40.140625 3.328125 35.546875 0.953125 \nQ 30.953125 -1.421875 24.3125 -1.421875 \nQ 15.921875 -1.421875 10.953125 3.296875 \nQ 6 8.015625 6 15.921875 \nQ 6 25.140625 12.171875 29.828125 \nQ 18.359375 34.515625 30.609375 34.515625 \nL 43.21875 34.515625 \nL 43.21875 35.40625 \nQ 43.21875 41.609375 39.140625 45 \nQ 35.0625 48.390625 27.6875 48.390625 \nQ 23 48.390625 18.546875 47.265625 \nQ 14.109375 46.140625 10.015625 43.890625 \nL 10.015625 52.203125 \nQ 14.9375 54.109375 19.578125 55.046875 \nQ 24.21875 56 28.609375 56 \nQ 40.484375 56 46.34375 49.84375 \nQ 52.203125 43.703125 52.203125 31.203125 \nz\n\" id=\"DejaVuSans-97\"/>\n     <path d=\"M 9.421875 54.6875 \nL 18.40625 54.6875 \nL 18.40625 0 \nL 9.421875 0 \nz\nM 9.421875 75.984375 \nL 18.40625 75.984375 \nL 18.40625 64.59375 \nL 9.421875 64.59375 \nz\n\" id=\"DejaVuSans-105\"/>\n     <path d=\"M 54.890625 33.015625 \nL 54.890625 0 \nL 45.90625 0 \nL 45.90625 32.71875 \nQ 45.90625 40.484375 42.875 44.328125 \nQ 39.84375 48.1875 33.796875 48.1875 \nQ 26.515625 48.1875 22.3125 43.546875 \nQ 18.109375 38.921875 18.109375 30.90625 \nL 18.109375 0 \nL 9.078125 0 \nL 9.078125 54.6875 \nL 18.109375 54.6875 \nL 18.109375 46.1875 \nQ 21.34375 51.125 25.703125 53.5625 \nQ 30.078125 56 35.796875 56 \nQ 45.21875 56 50.046875 50.171875 \nQ 54.890625 44.34375 54.890625 33.015625 \nz\n\" id=\"DejaVuSans-110\"/>\n     <path id=\"DejaVuSans-32\"/>\n     <path d=\"M 44.28125 53.078125 \nL 44.28125 44.578125 \nQ 40.484375 46.53125 36.375 47.5 \nQ 32.28125 48.484375 27.875 48.484375 \nQ 21.1875 48.484375 17.84375 46.4375 \nQ 14.5 44.390625 14.5 40.28125 \nQ 14.5 37.15625 16.890625 35.375 \nQ 19.28125 33.59375 26.515625 31.984375 \nL 29.59375 31.296875 \nQ 39.15625 29.25 43.1875 25.515625 \nQ 47.21875 21.78125 47.21875 15.09375 \nQ 47.21875 7.46875 41.1875 3.015625 \nQ 35.15625 -1.421875 24.609375 -1.421875 \nQ 20.21875 -1.421875 15.453125 -0.5625 \nQ 10.6875 0.296875 5.421875 2 \nL 5.421875 11.28125 \nQ 10.40625 8.6875 15.234375 7.390625 \nQ 20.0625 6.109375 24.8125 6.109375 \nQ 31.15625 6.109375 34.5625 8.28125 \nQ 37.984375 10.453125 37.984375 14.40625 \nQ 37.984375 18.0625 35.515625 20.015625 \nQ 33.0625 21.96875 24.703125 23.78125 \nL 21.578125 24.515625 \nQ 13.234375 26.265625 9.515625 29.90625 \nQ 5.8125 33.546875 5.8125 39.890625 \nQ 5.8125 47.609375 11.28125 51.796875 \nQ 16.75 56 26.8125 56 \nQ 31.78125 56 36.171875 55.265625 \nQ 40.578125 54.546875 44.28125 53.078125 \nz\n\" id=\"DejaVuSans-115\"/>\n     <path d=\"M 56.203125 29.59375 \nL 56.203125 25.203125 \nL 14.890625 25.203125 \nQ 15.484375 15.921875 20.484375 11.0625 \nQ 25.484375 6.203125 34.421875 6.203125 \nQ 39.59375 6.203125 44.453125 7.46875 \nQ 49.3125 8.734375 54.109375 11.28125 \nL 54.109375 2.78125 \nQ 49.265625 0.734375 44.1875 -0.34375 \nQ 39.109375 -1.421875 33.890625 -1.421875 \nQ 20.796875 -1.421875 13.15625 6.1875 \nQ 5.515625 13.8125 5.515625 26.8125 \nQ 5.515625 40.234375 12.765625 48.109375 \nQ 20.015625 56 32.328125 56 \nQ 43.359375 56 49.78125 48.890625 \nQ 56.203125 41.796875 56.203125 29.59375 \nz\nM 47.21875 32.234375 \nQ 47.125 39.59375 43.09375 43.984375 \nQ 39.0625 48.390625 32.421875 48.390625 \nQ 24.90625 48.390625 20.390625 44.140625 \nQ 15.875 39.890625 15.1875 32.171875 \nz\n\" id=\"DejaVuSans-101\"/>\n     <path d=\"M 18.3125 70.21875 \nL 18.3125 54.6875 \nL 36.8125 54.6875 \nL 36.8125 47.703125 \nL 18.3125 47.703125 \nL 18.3125 18.015625 \nQ 18.3125 11.328125 20.140625 9.421875 \nQ 21.96875 7.515625 27.59375 7.515625 \nL 36.8125 7.515625 \nL 36.8125 0 \nL 27.59375 0 \nQ 17.1875 0 13.234375 3.875 \nQ 9.28125 7.765625 9.28125 18.015625 \nL 9.28125 47.703125 \nL 2.6875 47.703125 \nL 2.6875 54.6875 \nL 9.28125 54.6875 \nL 9.28125 70.21875 \nz\n\" id=\"DejaVuSans-116\"/>\n    </defs>\n    <g transform=\"translate(79.78626 89.058968)scale(0.12 -0.12)\">\n     <use xlink:href=\"#DejaVuSans-84\"/>\n     <use x=\"60.865234\" xlink:href=\"#DejaVuSans-114\"/>\n     <use x=\"101.978516\" xlink:href=\"#DejaVuSans-97\"/>\n     <use x=\"163.257812\" xlink:href=\"#DejaVuSans-105\"/>\n     <use x=\"191.041016\" xlink:href=\"#DejaVuSans-110\"/>\n     <use x=\"254.419922\" xlink:href=\"#DejaVuSans-32\"/>\n     <use x=\"286.207031\" xlink:href=\"#DejaVuSans-115\"/>\n     <use x=\"338.306641\" xlink:href=\"#DejaVuSans-101\"/>\n     <use x=\"399.830078\" xlink:href=\"#DejaVuSans-116\"/>\n    </g>\n   </g>\n   <g id=\"text_4\">\n    <!-- Test set -->\n    <g transform=\"translate(186.467244 72.832964)scale(0.12 -0.12)\">\n     <use xlink:href=\"#DejaVuSans-84\"/>\n     <use x=\"60.818359\" xlink:href=\"#DejaVuSans-101\"/>\n     <use x=\"122.341797\" xlink:href=\"#DejaVuSans-115\"/>\n     <use x=\"174.441406\" xlink:href=\"#DejaVuSans-116\"/>\n     <use x=\"213.650391\" xlink:href=\"#DejaVuSans-32\"/>\n     <use x=\"245.4375\" xlink:href=\"#DejaVuSans-115\"/>\n     <use x=\"297.537109\" xlink:href=\"#DejaVuSans-101\"/>\n     <use x=\"359.060547\" xlink:href=\"#DejaVuSans-116\"/>\n    </g>\n   </g>\n   <g id=\"text_5\">\n    <!-- Common question_title in training and test data -->\n    <defs>\n     <path d=\"M 64.40625 67.28125 \nL 64.40625 56.890625 \nQ 59.421875 61.53125 53.78125 63.8125 \nQ 48.140625 66.109375 41.796875 66.109375 \nQ 29.296875 66.109375 22.65625 58.46875 \nQ 16.015625 50.828125 16.015625 36.375 \nQ 16.015625 21.96875 22.65625 14.328125 \nQ 29.296875 6.6875 41.796875 6.6875 \nQ 48.140625 6.6875 53.78125 8.984375 \nQ 59.421875 11.28125 64.40625 15.921875 \nL 64.40625 5.609375 \nQ 59.234375 2.09375 53.4375 0.328125 \nQ 47.65625 -1.421875 41.21875 -1.421875 \nQ 24.65625 -1.421875 15.125 8.703125 \nQ 5.609375 18.84375 5.609375 36.375 \nQ 5.609375 53.953125 15.125 64.078125 \nQ 24.65625 74.21875 41.21875 74.21875 \nQ 47.75 74.21875 53.53125 72.484375 \nQ 59.328125 70.75 64.40625 67.28125 \nz\n\" id=\"DejaVuSans-67\"/>\n     <path d=\"M 30.609375 48.390625 \nQ 23.390625 48.390625 19.1875 42.75 \nQ 14.984375 37.109375 14.984375 27.296875 \nQ 14.984375 17.484375 19.15625 11.84375 \nQ 23.34375 6.203125 30.609375 6.203125 \nQ 37.796875 6.203125 41.984375 11.859375 \nQ 46.1875 17.53125 46.1875 27.296875 \nQ 46.1875 37.015625 41.984375 42.703125 \nQ 37.796875 48.390625 30.609375 48.390625 \nz\nM 30.609375 56 \nQ 42.328125 56 49.015625 48.375 \nQ 55.71875 40.765625 55.71875 27.296875 \nQ 55.71875 13.875 49.015625 6.21875 \nQ 42.328125 -1.421875 30.609375 -1.421875 \nQ 18.84375 -1.421875 12.171875 6.21875 \nQ 5.515625 13.875 5.515625 27.296875 \nQ 5.515625 40.765625 12.171875 48.375 \nQ 18.84375 56 30.609375 56 \nz\n\" id=\"DejaVuSans-111\"/>\n     <path d=\"M 52 44.1875 \nQ 55.375 50.25 60.0625 53.125 \nQ 64.75 56 71.09375 56 \nQ 79.640625 56 84.28125 50.015625 \nQ 88.921875 44.046875 88.921875 33.015625 \nL 88.921875 0 \nL 79.890625 0 \nL 79.890625 32.71875 \nQ 79.890625 40.578125 77.09375 44.375 \nQ 74.3125 48.1875 68.609375 48.1875 \nQ 61.625 48.1875 57.5625 43.546875 \nQ 53.515625 38.921875 53.515625 30.90625 \nL 53.515625 0 \nL 44.484375 0 \nL 44.484375 32.71875 \nQ 44.484375 40.625 41.703125 44.40625 \nQ 38.921875 48.1875 33.109375 48.1875 \nQ 26.21875 48.1875 22.15625 43.53125 \nQ 18.109375 38.875 18.109375 30.90625 \nL 18.109375 0 \nL 9.078125 0 \nL 9.078125 54.6875 \nL 18.109375 54.6875 \nL 18.109375 46.1875 \nQ 21.1875 51.21875 25.484375 53.609375 \nQ 29.78125 56 35.6875 56 \nQ 41.65625 56 45.828125 52.96875 \nQ 50 49.953125 52 44.1875 \nz\n\" id=\"DejaVuSans-109\"/>\n     <path d=\"M 14.796875 27.296875 \nQ 14.796875 17.390625 18.875 11.75 \nQ 22.953125 6.109375 30.078125 6.109375 \nQ 37.203125 6.109375 41.296875 11.75 \nQ 45.40625 17.390625 45.40625 27.296875 \nQ 45.40625 37.203125 41.296875 42.84375 \nQ 37.203125 48.484375 30.078125 48.484375 \nQ 22.953125 48.484375 18.875 42.84375 \nQ 14.796875 37.203125 14.796875 27.296875 \nz\nM 45.40625 8.203125 \nQ 42.578125 3.328125 38.25 0.953125 \nQ 33.9375 -1.421875 27.875 -1.421875 \nQ 17.96875 -1.421875 11.734375 6.484375 \nQ 5.515625 14.40625 5.515625 27.296875 \nQ 5.515625 40.1875 11.734375 48.09375 \nQ 17.96875 56 27.875 56 \nQ 33.9375 56 38.25 53.625 \nQ 42.578125 51.265625 45.40625 46.390625 \nL 45.40625 54.6875 \nL 54.390625 54.6875 \nL 54.390625 -20.796875 \nL 45.40625 -20.796875 \nz\n\" id=\"DejaVuSans-113\"/>\n     <path d=\"M 8.5 21.578125 \nL 8.5 54.6875 \nL 17.484375 54.6875 \nL 17.484375 21.921875 \nQ 17.484375 14.15625 20.5 10.265625 \nQ 23.53125 6.390625 29.59375 6.390625 \nQ 36.859375 6.390625 41.078125 11.03125 \nQ 45.3125 15.671875 45.3125 23.6875 \nL 45.3125 54.6875 \nL 54.296875 54.6875 \nL 54.296875 0 \nL 45.3125 0 \nL 45.3125 8.40625 \nQ 42.046875 3.421875 37.71875 1 \nQ 33.40625 -1.421875 27.6875 -1.421875 \nQ 18.265625 -1.421875 13.375 4.4375 \nQ 8.5 10.296875 8.5 21.578125 \nz\nM 31.109375 56 \nz\n\" id=\"DejaVuSans-117\"/>\n     <path d=\"M 50.984375 -16.609375 \nL 50.984375 -23.578125 \nL -0.984375 -23.578125 \nL -0.984375 -16.609375 \nz\n\" id=\"DejaVuSans-95\"/>\n     <path d=\"M 9.421875 75.984375 \nL 18.40625 75.984375 \nL 18.40625 0 \nL 9.421875 0 \nz\n\" id=\"DejaVuSans-108\"/>\n     <path d=\"M 45.40625 27.984375 \nQ 45.40625 37.75 41.375 43.109375 \nQ 37.359375 48.484375 30.078125 48.484375 \nQ 22.859375 48.484375 18.828125 43.109375 \nQ 14.796875 37.75 14.796875 27.984375 \nQ 14.796875 18.265625 18.828125 12.890625 \nQ 22.859375 7.515625 30.078125 7.515625 \nQ 37.359375 7.515625 41.375 12.890625 \nQ 45.40625 18.265625 45.40625 27.984375 \nz\nM 54.390625 6.78125 \nQ 54.390625 -7.171875 48.1875 -13.984375 \nQ 42 -20.796875 29.203125 -20.796875 \nQ 24.46875 -20.796875 20.265625 -20.09375 \nQ 16.0625 -19.390625 12.109375 -17.921875 \nL 12.109375 -9.1875 \nQ 16.0625 -11.328125 19.921875 -12.34375 \nQ 23.78125 -13.375 27.78125 -13.375 \nQ 36.625 -13.375 41.015625 -8.765625 \nQ 45.40625 -4.15625 45.40625 5.171875 \nL 45.40625 9.625 \nQ 42.625 4.78125 38.28125 2.390625 \nQ 33.9375 0 27.875 0 \nQ 17.828125 0 11.671875 7.65625 \nQ 5.515625 15.328125 5.515625 27.984375 \nQ 5.515625 40.671875 11.671875 48.328125 \nQ 17.828125 56 27.875 56 \nQ 33.9375 56 38.28125 53.609375 \nQ 42.625 51.21875 45.40625 46.390625 \nL 45.40625 54.6875 \nL 54.390625 54.6875 \nz\n\" id=\"DejaVuSans-103\"/>\n     <path d=\"M 45.40625 46.390625 \nL 45.40625 75.984375 \nL 54.390625 75.984375 \nL 54.390625 0 \nL 45.40625 0 \nL 45.40625 8.203125 \nQ 42.578125 3.328125 38.25 0.953125 \nQ 33.9375 -1.421875 27.875 -1.421875 \nQ 17.96875 -1.421875 11.734375 6.484375 \nQ 5.515625 14.40625 5.515625 27.296875 \nQ 5.515625 40.1875 11.734375 48.09375 \nQ 17.96875 56 27.875 56 \nQ 33.9375 56 38.25 53.625 \nQ 42.578125 51.265625 45.40625 46.390625 \nz\nM 14.796875 27.296875 \nQ 14.796875 17.390625 18.875 11.75 \nQ 22.953125 6.109375 30.078125 6.109375 \nQ 37.203125 6.109375 41.296875 11.75 \nQ 45.40625 17.390625 45.40625 27.296875 \nQ 45.40625 37.203125 41.296875 42.84375 \nQ 37.203125 48.484375 30.078125 48.484375 \nQ 22.953125 48.484375 18.875 42.84375 \nQ 14.796875 37.203125 14.796875 27.296875 \nz\n\" id=\"DejaVuSans-100\"/>\n    </defs>\n    <g transform=\"translate(7.2 16.318125)scale(0.12 -0.12)\">\n     <use xlink:href=\"#DejaVuSans-67\"/>\n     <use x=\"69.824219\" xlink:href=\"#DejaVuSans-111\"/>\n     <use x=\"131.005859\" xlink:href=\"#DejaVuSans-109\"/>\n     <use x=\"228.417969\" xlink:href=\"#DejaVuSans-109\"/>\n     <use x=\"325.830078\" xlink:href=\"#DejaVuSans-111\"/>\n     <use x=\"387.011719\" xlink:href=\"#DejaVuSans-110\"/>\n     <use x=\"450.390625\" xlink:href=\"#DejaVuSans-32\"/>\n     <use x=\"482.177734\" xlink:href=\"#DejaVuSans-113\"/>\n     <use x=\"545.654297\" xlink:href=\"#DejaVuSans-117\"/>\n     <use x=\"609.033203\" xlink:href=\"#DejaVuSans-101\"/>\n     <use x=\"670.556641\" xlink:href=\"#DejaVuSans-115\"/>\n     <use x=\"722.65625\" xlink:href=\"#DejaVuSans-116\"/>\n     <use x=\"761.865234\" xlink:href=\"#DejaVuSans-105\"/>\n     <use x=\"789.648438\" xlink:href=\"#DejaVuSans-111\"/>\n     <use x=\"850.830078\" xlink:href=\"#DejaVuSans-110\"/>\n     <use x=\"914.208984\" xlink:href=\"#DejaVuSans-95\"/>\n     <use x=\"964.208984\" xlink:href=\"#DejaVuSans-116\"/>\n     <use x=\"1003.417969\" xlink:href=\"#DejaVuSans-105\"/>\n     <use x=\"1031.201172\" xlink:href=\"#DejaVuSans-116\"/>\n     <use x=\"1070.410156\" xlink:href=\"#DejaVuSans-108\"/>\n     <use x=\"1098.193359\" xlink:href=\"#DejaVuSans-101\"/>\n     <use x=\"1159.716797\" xlink:href=\"#DejaVuSans-32\"/>\n     <use x=\"1191.503906\" xlink:href=\"#DejaVuSans-105\"/>\n     <use x=\"1219.287109\" xlink:href=\"#DejaVuSans-110\"/>\n     <use x=\"1282.666016\" xlink:href=\"#DejaVuSans-32\"/>\n     <use x=\"1314.453125\" xlink:href=\"#DejaVuSans-116\"/>\n     <use x=\"1353.662109\" xlink:href=\"#DejaVuSans-114\"/>\n     <use x=\"1394.775391\" xlink:href=\"#DejaVuSans-97\"/>\n     <use x=\"1456.054688\" xlink:href=\"#DejaVuSans-105\"/>\n     <use x=\"1483.837891\" xlink:href=\"#DejaVuSans-110\"/>\n     <use x=\"1547.216797\" xlink:href=\"#DejaVuSans-105\"/>\n     <use x=\"1575\" xlink:href=\"#DejaVuSans-110\"/>\n     <use x=\"1638.378906\" xlink:href=\"#DejaVuSans-103\"/>\n     <use x=\"1701.855469\" xlink:href=\"#DejaVuSans-32\"/>\n     <use x=\"1733.642578\" xlink:href=\"#DejaVuSans-97\"/>\n     <use x=\"1794.921875\" xlink:href=\"#DejaVuSans-110\"/>\n     <use x=\"1858.300781\" xlink:href=\"#DejaVuSans-100\"/>\n     <use x=\"1921.777344\" xlink:href=\"#DejaVuSans-32\"/>\n     <use x=\"1953.564453\" xlink:href=\"#DejaVuSans-116\"/>\n     <use x=\"1992.773438\" xlink:href=\"#DejaVuSans-101\"/>\n     <use x=\"2054.296875\" xlink:href=\"#DejaVuSans-115\"/>\n     <use x=\"2106.396484\" xlink:href=\"#DejaVuSans-116\"/>\n     <use x=\"2145.605469\" xlink:href=\"#DejaVuSans-32\"/>\n     <use x=\"2177.392578\" xlink:href=\"#DejaVuSans-100\"/>\n     <use x=\"2240.869141\" xlink:href=\"#DejaVuSans-97\"/>\n     <use x=\"2302.148438\" xlink:href=\"#DejaVuSans-116\"/>\n     <use x=\"2341.357422\" xlink:href=\"#DejaVuSans-97\"/>\n    </g>\n   </g>\n  </g>\n </g>\n <defs>\n  <clipPath id=\"p277a6dbbd5\">\n   <rect height=\"60.697484\" width=\"98.470588\" x=\"102.119393\" y=\"22.318125\"/>\n  </clipPath>\n </defs>\n</svg>\n",
      "text/plain": "<Figure size 432x288 with 1 Axes>"
     },
     "metadata": {},
     "output_type": "display_data"
    }
   ],
   "source": [
    "analysis.venn_diagrams([X_train['question_user_name'], X_test['question_user_name']], 111, 'Common question_user_name in training and test data')\n",
    "analysis.venn_diagrams([X_train['answer_user_name'], X_test['answer_user_name']], 121, 'Common answer_user_name in training and test data')\n",
    "analysis.venn_diagrams([X_train['question_title'], X_test['question_title']], 131, 'Common question_title in training and test data')"
   ]
  },
  {
   "cell_type": "markdown",
   "execution_count": null,
   "metadata": {},
   "outputs": [],
   "source": [
    "### 2.5. Length of contents"
   ]
  },
  {
   "cell_type": "code",
   "execution_count": 17,
   "metadata": {},
   "outputs": [
    {
     "data": {
      "image/png": "[encoded data removed]",
      "image/svg+xml": "<?xml version=\"1.0\" encoding=\"utf-8\" standalone=\"no\"?>\n<!DOCTYPE svg PUBLIC \"-//W3C//DTD SVG 1.1//EN\"\n  \"http://www.w3.org/Graphics/SVG/1.1/DTD/svg11.dtd\">\n<!-- Created with matplotlib (https://matplotlib.org/) -->\n<svg height=\"386.3125pt\" version=\"1.1\" viewBox=\"0 0 1166.028125 386.3125\" width=\"1166.028125pt\" xmlns=\"http://www.w3.org/2000/svg\" xmlns:xlink=\"http://www.w3.org/1999/xlink\">\n <defs>\n  <style type=\"text/css\">\n*{stroke-linecap:butt;stroke-linejoin:round;}\n  </style>\n </defs>\n <g id=\"figure_1\">\n  <g id=\"patch_1\">\n   <path d=\"M 0 386.3125 \nL 1166.028125 386.3125 \nL 1166.028125 0 \nL 0 0 \nz\n\" style=\"fill:none;\"/>\n  </g>\n  <g id=\"axes_1\">\n   <g id=\"patch_2\">\n    <path d=\"M 42.828125 348.478125 \nL 1158.828125 348.478125 \nL 1158.828125 22.318125 \nL 42.828125 22.318125 \nz\n\" style=\"fill:#ffffff;\"/>\n   </g>\n   <g id=\"patch_3\">\n    <path clip-path=\"url(#p58e1f788b4)\" d=\"M 203.592361 348.478125 \nL 221.391647 348.478125 \nL 221.391647 317.197028 \nL 203.592361 317.197028 \nz\n\" style=\"fill:#1f77b4;opacity:0.4;\"/>\n   </g>\n   <g id=\"patch_4\">\n    <path clip-path=\"url(#p58e1f788b4)\" d=\"M 221.391647 348.478125 \nL 239.190932 348.478125 \nL 239.190932 291.008202 \nL 221.391647 291.008202 \nz\n\" style=\"fill:#1f77b4;opacity:0.4;\"/>\n   </g>\n   <g id=\"patch_5\">\n    <path clip-path=\"url(#p58e1f788b4)\" d=\"M 239.190932 348.478125 \nL 256.990218 348.478125 \nL 256.990218 264.819376 \nL 239.190932 264.819376 \nz\n\" style=\"fill:#1f77b4;opacity:0.4;\"/>\n   </g>\n   <g id=\"patch_6\">\n    <path clip-path=\"url(#p58e1f788b4)\" d=\"M 256.990218 348.478125 \nL 274.789504 348.478125 \nL 274.789504 229.173475 \nL 256.990218 229.173475 \nz\n\" style=\"fill:#1f77b4;opacity:0.4;\"/>\n   </g>\n   <g id=\"patch_7\">\n    <path clip-path=\"url(#p58e1f788b4)\" d=\"M 274.789504 348.478125 \nL 292.58879 348.478125 \nL 292.58879 202.257182 \nL 274.789504 202.257182 \nz\n\" style=\"fill:#1f77b4;opacity:0.4;\"/>\n   </g>\n   <g id=\"patch_8\">\n    <path clip-path=\"url(#p58e1f788b4)\" d=\"M 292.58879 348.478125 \nL 310.388076 348.478125 \nL 310.388076 225.536138 \nL 292.58879 225.536138 \nz\n\" style=\"fill:#1f77b4;opacity:0.4;\"/>\n   </g>\n   <g id=\"patch_9\">\n    <path clip-path=\"url(#p58e1f788b4)\" d=\"M 310.388076 348.478125 \nL 328.187362 348.478125 \nL 328.187362 148.424595 \nL 310.388076 148.424595 \nz\n\" style=\"fill:#1f77b4;opacity:0.4;\"/>\n   </g>\n   <g id=\"patch_10\">\n    <path clip-path=\"url(#p58e1f788b4)\" d=\"M 328.187362 348.478125 \nL 345.986648 348.478125 \nL 345.986648 113.506161 \nL 328.187362 113.506161 \nz\n\" style=\"fill:#1f77b4;opacity:0.4;\"/>\n   </g>\n   <g id=\"patch_11\">\n    <path clip-path=\"url(#p58e1f788b4)\" d=\"M 345.986648 348.478125 \nL 363.785933 348.478125 \nL 363.785933 82.225064 \nL 345.986648 82.225064 \nz\n\" style=\"fill:#1f77b4;opacity:0.4;\"/>\n   </g>\n   <g id=\"patch_12\">\n    <path clip-path=\"url(#p58e1f788b4)\" d=\"M 363.785933 348.478125 \nL 381.585219 348.478125 \nL 381.585219 91.68214 \nL 363.785933 91.68214 \nz\n\" style=\"fill:#1f77b4;opacity:0.4;\"/>\n   </g>\n   <g id=\"patch_13\">\n    <path clip-path=\"url(#p58e1f788b4)\" d=\"M 381.585219 348.478125 \nL 399.384505 348.478125 \nL 399.384505 141.877389 \nL 381.585219 141.877389 \nz\n\" style=\"fill:#1f77b4;opacity:0.4;\"/>\n   </g>\n   <g id=\"patch_14\">\n    <path clip-path=\"url(#p58e1f788b4)\" d=\"M 399.384505 348.478125 \nL 417.183791 348.478125 \nL 417.183791 37.849554 \nL 399.384505 37.849554 \nz\n\" style=\"fill:#1f77b4;opacity:0.4;\"/>\n   </g>\n   <g id=\"patch_15\">\n    <path clip-path=\"url(#p58e1f788b4)\" d=\"M 417.183791 348.478125 \nL 434.983077 348.478125 \nL 434.983077 93.864542 \nL 417.183791 93.864542 \nz\n\" style=\"fill:#1f77b4;opacity:0.4;\"/>\n   </g>\n   <g id=\"patch_16\">\n    <path clip-path=\"url(#p58e1f788b4)\" d=\"M 434.983077 348.478125 \nL 452.782363 348.478125 \nL 452.782363 79.315194 \nL 434.983077 79.315194 \nz\n\" style=\"fill:#1f77b4;opacity:0.4;\"/>\n   </g>\n   <g id=\"patch_17\">\n    <path clip-path=\"url(#p58e1f788b4)\" d=\"M 452.782363 348.478125 \nL 470.581648 348.478125 \nL 470.581648 117.870965 \nL 452.782363 117.870965 \nz\n\" style=\"fill:#1f77b4;opacity:0.4;\"/>\n   </g>\n   <g id=\"patch_18\">\n    <path clip-path=\"url(#p58e1f788b4)\" d=\"M 470.581648 348.478125 \nL 488.380934 348.478125 \nL 488.380934 193.527573 \nL 470.581648 193.527573 \nz\n\" style=\"fill:#1f77b4;opacity:0.4;\"/>\n   </g>\n   <g id=\"patch_19\">\n    <path clip-path=\"url(#p58e1f788b4)\" d=\"M 488.380934 348.478125 \nL 506.18022 348.478125 \nL 506.18022 152.7894 \nL 488.380934 152.7894 \nz\n\" style=\"fill:#1f77b4;opacity:0.4;\"/>\n   </g>\n   <g id=\"patch_20\">\n    <path clip-path=\"url(#p58e1f788b4)\" d=\"M 506.18022 348.478125 \nL 523.979506 348.478125 \nL 523.979506 146.242193 \nL 506.18022 146.242193 \nz\n\" style=\"fill:#1f77b4;opacity:0.4;\"/>\n   </g>\n   <g id=\"patch_21\">\n    <path clip-path=\"url(#p58e1f788b4)\" d=\"M 523.979506 348.478125 \nL 541.778792 348.478125 \nL 541.778792 190.617703 \nL 523.979506 190.617703 \nz\n\" style=\"fill:#1f77b4;opacity:0.4;\"/>\n   </g>\n   <g id=\"patch_22\">\n    <path clip-path=\"url(#p58e1f788b4)\" d=\"M 541.778792 348.478125 \nL 559.578078 348.478125 \nL 559.578078 197.16491 \nL 541.778792 197.16491 \nz\n\" style=\"fill:#1f77b4;opacity:0.4;\"/>\n   </g>\n   <g id=\"patch_23\">\n    <path clip-path=\"url(#p58e1f788b4)\" d=\"M 559.578078 348.478125 \nL 577.377364 348.478125 \nL 577.377364 264.819376 \nL 559.578078 264.819376 \nz\n\" style=\"fill:#1f77b4;opacity:0.4;\"/>\n   </g>\n   <g id=\"patch_24\">\n    <path clip-path=\"url(#p58e1f788b4)\" d=\"M 577.377364 348.478125 \nL 595.176649 348.478125 \nL 595.176649 233.538279 \nL 577.377364 233.538279 \nz\n\" style=\"fill:#1f77b4;opacity:0.4;\"/>\n   </g>\n   <g id=\"patch_25\">\n    <path clip-path=\"url(#p58e1f788b4)\" d=\"M 595.176649 348.478125 \nL 612.975935 348.478125 \nL 612.975935 240.085485 \nL 595.176649 240.085485 \nz\n\" style=\"fill:#1f77b4;opacity:0.4;\"/>\n   </g>\n   <g id=\"patch_26\">\n    <path clip-path=\"url(#p58e1f788b4)\" d=\"M 612.975935 348.478125 \nL 630.775221 348.478125 \nL 630.775221 256.089768 \nL 612.975935 256.089768 \nz\n\" style=\"fill:#1f77b4;opacity:0.4;\"/>\n   </g>\n   <g id=\"patch_27\">\n    <path clip-path=\"url(#p58e1f788b4)\" d=\"M 630.775221 348.478125 \nL 648.574507 348.478125 \nL 648.574507 288.098332 \nL 630.775221 288.098332 \nz\n\" style=\"fill:#1f77b4;opacity:0.4;\"/>\n   </g>\n   <g id=\"patch_28\">\n    <path clip-path=\"url(#p58e1f788b4)\" d=\"M 648.574507 348.478125 \nL 666.373793 348.478125 \nL 666.373793 277.186322 \nL 648.574507 277.186322 \nz\n\" style=\"fill:#1f77b4;opacity:0.4;\"/>\n   </g>\n   <g id=\"patch_29\">\n    <path clip-path=\"url(#p58e1f788b4)\" d=\"M 666.373793 348.478125 \nL 684.173079 348.478125 \nL 684.173079 320.106897 \nL 666.373793 320.106897 \nz\n\" style=\"fill:#1f77b4;opacity:0.4;\"/>\n   </g>\n   <g id=\"patch_30\">\n    <path clip-path=\"url(#p58e1f788b4)\" d=\"M 684.173079 348.478125 \nL 701.972365 348.478125 \nL 701.972365 310.649821 \nL 684.173079 310.649821 \nz\n\" style=\"fill:#1f77b4;opacity:0.4;\"/>\n   </g>\n   <g id=\"patch_31\">\n    <path clip-path=\"url(#p58e1f788b4)\" d=\"M 701.972365 348.478125 \nL 719.77165 348.478125 \nL 719.77165 314.287158 \nL 701.972365 314.287158 \nz\n\" style=\"fill:#1f77b4;opacity:0.4;\"/>\n   </g>\n   <g id=\"patch_32\">\n    <path clip-path=\"url(#p58e1f788b4)\" d=\"M 719.77165 348.478125 \nL 737.570936 348.478125 \nL 737.570936 317.924495 \nL 719.77165 317.924495 \nz\n\" style=\"fill:#1f77b4;opacity:0.4;\"/>\n   </g>\n   <g id=\"patch_33\">\n    <path clip-path=\"url(#p58e1f788b4)\" d=\"M 737.570936 348.478125 \nL 755.370222 348.478125 \nL 755.370222 331.018908 \nL 737.570936 331.018908 \nz\n\" style=\"fill:#1f77b4;opacity:0.4;\"/>\n   </g>\n   <g id=\"patch_34\">\n    <path clip-path=\"url(#p58e1f788b4)\" d=\"M 755.370222 348.478125 \nL 773.169508 348.478125 \nL 773.169508 339.021049 \nL 755.370222 339.021049 \nz\n\" style=\"fill:#1f77b4;opacity:0.4;\"/>\n   </g>\n   <g id=\"patch_35\">\n    <path clip-path=\"url(#p58e1f788b4)\" d=\"M 773.169508 348.478125 \nL 790.968794 348.478125 \nL 790.968794 335.383712 \nL 773.169508 335.383712 \nz\n\" style=\"fill:#1f77b4;opacity:0.4;\"/>\n   </g>\n   <g id=\"patch_36\">\n    <path clip-path=\"url(#p58e1f788b4)\" d=\"M 790.968794 348.478125 \nL 808.76808 348.478125 \nL 808.76808 336.11118 \nL 790.968794 336.11118 \nz\n\" style=\"fill:#1f77b4;opacity:0.4;\"/>\n   </g>\n   <g id=\"patch_37\">\n    <path clip-path=\"url(#p58e1f788b4)\" d=\"M 808.76808 348.478125 \nL 826.567365 348.478125 \nL 826.567365 331.746375 \nL 808.76808 331.746375 \nz\n\" style=\"fill:#1f77b4;opacity:0.4;\"/>\n   </g>\n   <g id=\"patch_38\">\n    <path clip-path=\"url(#p58e1f788b4)\" d=\"M 826.567365 348.478125 \nL 844.366651 348.478125 \nL 844.366651 342.658386 \nL 826.567365 342.658386 \nz\n\" style=\"fill:#1f77b4;opacity:0.4;\"/>\n   </g>\n   <g id=\"patch_39\">\n    <path clip-path=\"url(#p58e1f788b4)\" d=\"M 844.366651 348.478125 \nL 862.165937 348.478125 \nL 862.165937 347.02319 \nL 844.366651 347.02319 \nz\n\" style=\"fill:#1f77b4;opacity:0.4;\"/>\n   </g>\n   <g id=\"patch_40\">\n    <path clip-path=\"url(#p58e1f788b4)\" d=\"M 862.165937 348.478125 \nL 879.965223 348.478125 \nL 879.965223 341.203451 \nL 862.165937 341.203451 \nz\n\" style=\"fill:#1f77b4;opacity:0.4;\"/>\n   </g>\n   <g id=\"patch_41\">\n    <path clip-path=\"url(#p58e1f788b4)\" d=\"M 879.965223 348.478125 \nL 897.764509 348.478125 \nL 897.764509 341.203451 \nL 879.965223 341.203451 \nz\n\" style=\"fill:#1f77b4;opacity:0.4;\"/>\n   </g>\n   <g id=\"patch_42\">\n    <path clip-path=\"url(#p58e1f788b4)\" d=\"M 897.764509 348.478125 \nL 915.563795 348.478125 \nL 915.563795 346.295723 \nL 897.764509 346.295723 \nz\n\" style=\"fill:#1f77b4;opacity:0.4;\"/>\n   </g>\n   <g id=\"patch_43\">\n    <path clip-path=\"url(#p58e1f788b4)\" d=\"M 915.563795 348.478125 \nL 933.363081 348.478125 \nL 933.363081 346.295723 \nL 915.563795 346.295723 \nz\n\" style=\"fill:#1f77b4;opacity:0.4;\"/>\n   </g>\n   <g id=\"patch_44\">\n    <path clip-path=\"url(#p58e1f788b4)\" d=\"M 933.363081 348.478125 \nL 951.162366 348.478125 \nL 951.162366 347.750658 \nL 933.363081 347.750658 \nz\n\" style=\"fill:#1f77b4;opacity:0.4;\"/>\n   </g>\n   <g id=\"patch_45\">\n    <path clip-path=\"url(#p58e1f788b4)\" d=\"M 951.162366 348.478125 \nL 968.961652 348.478125 \nL 968.961652 342.658386 \nL 951.162366 342.658386 \nz\n\" style=\"fill:#1f77b4;opacity:0.4;\"/>\n   </g>\n   <g id=\"patch_46\">\n    <path clip-path=\"url(#p58e1f788b4)\" d=\"M 968.961652 348.478125 \nL 986.760938 348.478125 \nL 986.760938 345.568255 \nL 968.961652 345.568255 \nz\n\" style=\"fill:#1f77b4;opacity:0.4;\"/>\n   </g>\n   <g id=\"patch_47\">\n    <path clip-path=\"url(#p58e1f788b4)\" d=\"M 986.760938 348.478125 \nL 1004.560224 348.478125 \nL 1004.560224 348.478125 \nL 986.760938 348.478125 \nz\n\" style=\"fill:#1f77b4;opacity:0.4;\"/>\n   </g>\n   <g id=\"patch_48\">\n    <path clip-path=\"url(#p58e1f788b4)\" d=\"M 1004.560224 348.478125 \nL 1022.35951 348.478125 \nL 1022.35951 347.02319 \nL 1004.560224 347.02319 \nz\n\" style=\"fill:#1f77b4;opacity:0.4;\"/>\n   </g>\n   <g id=\"patch_49\">\n    <path clip-path=\"url(#p58e1f788b4)\" d=\"M 1022.35951 348.478125 \nL 1040.158796 348.478125 \nL 1040.158796 347.02319 \nL 1022.35951 347.02319 \nz\n\" style=\"fill:#1f77b4;opacity:0.4;\"/>\n   </g>\n   <g id=\"patch_50\">\n    <path clip-path=\"url(#p58e1f788b4)\" d=\"M 203.592361 348.478125 \nL 245.13901 348.478125 \nL 245.13901 288.775071 \nL 203.592361 288.775071 \nz\n\" style=\"fill:#ff7f0e;opacity:0.4;\"/>\n   </g>\n   <g id=\"patch_51\">\n    <path clip-path=\"url(#p58e1f788b4)\" d=\"M 245.13901 348.478125 \nL 286.68566 348.478125 \nL 286.68566 225.091814 \nL 245.13901 225.091814 \nz\n\" style=\"fill:#ff7f0e;opacity:0.4;\"/>\n   </g>\n   <g id=\"patch_52\">\n    <path clip-path=\"url(#p58e1f788b4)\" d=\"M 286.68566 348.478125 \nL 328.232309 348.478125 \nL 328.232309 173.349167 \nL 286.68566 173.349167 \nz\n\" style=\"fill:#ff7f0e;opacity:0.4;\"/>\n   </g>\n   <g id=\"patch_53\">\n    <path clip-path=\"url(#p58e1f788b4)\" d=\"M 328.232309 348.478125 \nL 369.778959 348.478125 \nL 369.778959 77.824282 \nL 328.232309 77.824282 \nz\n\" style=\"fill:#ff7f0e;opacity:0.4;\"/>\n   </g>\n   <g id=\"patch_54\">\n    <path clip-path=\"url(#p58e1f788b4)\" d=\"M 369.778959 348.478125 \nL 411.325608 348.478125 \nL 411.325608 145.487742 \nL 369.778959 145.487742 \nz\n\" style=\"fill:#ff7f0e;opacity:0.4;\"/>\n   </g>\n   <g id=\"patch_55\">\n    <path clip-path=\"url(#p58e1f788b4)\" d=\"M 411.325608 348.478125 \nL 452.872258 348.478125 \nL 452.872258 77.824282 \nL 411.325608 77.824282 \nz\n\" style=\"fill:#ff7f0e;opacity:0.4;\"/>\n   </g>\n   <g id=\"patch_56\">\n    <path clip-path=\"url(#p58e1f788b4)\" d=\"M 452.872258 348.478125 \nL 494.418908 348.478125 \nL 494.418908 145.487742 \nL 452.872258 145.487742 \nz\n\" style=\"fill:#ff7f0e;opacity:0.4;\"/>\n   </g>\n   <g id=\"patch_57\">\n    <path clip-path=\"url(#p58e1f788b4)\" d=\"M 494.418908 348.478125 \nL 535.965557 348.478125 \nL 535.965557 185.289778 \nL 494.418908 185.289778 \nz\n\" style=\"fill:#ff7f0e;opacity:0.4;\"/>\n   </g>\n   <g id=\"patch_58\">\n    <path clip-path=\"url(#p58e1f788b4)\" d=\"M 535.965557 348.478125 \nL 577.512207 348.478125 \nL 577.512207 217.131407 \nL 535.965557 217.131407 \nz\n\" style=\"fill:#ff7f0e;opacity:0.4;\"/>\n   </g>\n   <g id=\"patch_59\">\n    <path clip-path=\"url(#p58e1f788b4)\" d=\"M 577.512207 348.478125 \nL 619.058856 348.478125 \nL 619.058856 185.289778 \nL 577.512207 185.289778 \nz\n\" style=\"fill:#ff7f0e;opacity:0.4;\"/>\n   </g>\n   <g id=\"patch_60\">\n    <path clip-path=\"url(#p58e1f788b4)\" d=\"M 619.058856 348.478125 \nL 660.605506 348.478125 \nL 660.605506 272.854257 \nL 619.058856 272.854257 \nz\n\" style=\"fill:#ff7f0e;opacity:0.4;\"/>\n   </g>\n   <g id=\"patch_61\">\n    <path clip-path=\"url(#p58e1f788b4)\" d=\"M 660.605506 348.478125 \nL 702.152155 348.478125 \nL 702.152155 324.596904 \nL 660.605506 324.596904 \nz\n\" style=\"fill:#ff7f0e;opacity:0.4;\"/>\n   </g>\n   <g id=\"patch_62\">\n    <path clip-path=\"url(#p58e1f788b4)\" d=\"M 702.152155 348.478125 \nL 743.698805 348.478125 \nL 743.698805 328.577107 \nL 702.152155 328.577107 \nz\n\" style=\"fill:#ff7f0e;opacity:0.4;\"/>\n   </g>\n   <g id=\"patch_63\">\n    <path clip-path=\"url(#p58e1f788b4)\" d=\"M 743.698805 348.478125 \nL 785.245454 348.478125 \nL 785.245454 344.497921 \nL 743.698805 344.497921 \nz\n\" style=\"fill:#ff7f0e;opacity:0.4;\"/>\n   </g>\n   <g id=\"patch_64\">\n    <path clip-path=\"url(#p58e1f788b4)\" d=\"M 785.245454 348.478125 \nL 826.792104 348.478125 \nL 826.792104 344.497921 \nL 785.245454 344.497921 \nz\n\" style=\"fill:#ff7f0e;opacity:0.4;\"/>\n   </g>\n   <g id=\"patch_65\">\n    <path clip-path=\"url(#p58e1f788b4)\" d=\"M 826.792104 348.478125 \nL 868.338753 348.478125 \nL 868.338753 348.478125 \nL 826.792104 348.478125 \nz\n\" style=\"fill:#ff7f0e;opacity:0.4;\"/>\n   </g>\n   <g id=\"patch_66\">\n    <path clip-path=\"url(#p58e1f788b4)\" d=\"M 868.338753 348.478125 \nL 909.885403 348.478125 \nL 909.885403 348.478125 \nL 868.338753 348.478125 \nz\n\" style=\"fill:#ff7f0e;opacity:0.4;\"/>\n   </g>\n   <g id=\"patch_67\">\n    <path clip-path=\"url(#p58e1f788b4)\" d=\"M 909.885403 348.478125 \nL 951.432053 348.478125 \nL 951.432053 344.497921 \nL 909.885403 344.497921 \nz\n\" style=\"fill:#ff7f0e;opacity:0.4;\"/>\n   </g>\n   <g id=\"matplotlib.axis_1\">\n    <g id=\"xtick_1\">\n     <g id=\"line2d_1\">\n      <defs>\n       <path d=\"M 0 0 \nL 0 3.5 \n\" id=\"m1cf592b3d7\" style=\"stroke:#000000;stroke-width:0.8;\"/>\n      </defs>\n      <g>\n       <use style=\"stroke:#000000;stroke-width:0.8;\" x=\"108.527993\" xlink:href=\"#m1cf592b3d7\" y=\"348.478125\"/>\n      </g>\n     </g>\n     <g id=\"text_1\">\n      <!-- 0 -->\n      <defs>\n       <path d=\"M 31.78125 66.40625 \nQ 24.171875 66.40625 20.328125 58.90625 \nQ 16.5 51.421875 16.5 36.375 \nQ 16.5 21.390625 20.328125 13.890625 \nQ 24.171875 6.390625 31.78125 6.390625 \nQ 39.453125 6.390625 43.28125 13.890625 \nQ 47.125 21.390625 47.125 36.375 \nQ 47.125 51.421875 43.28125 58.90625 \nQ 39.453125 66.40625 31.78125 66.40625 \nz\nM 31.78125 74.21875 \nQ 44.046875 74.21875 50.515625 64.515625 \nQ 56.984375 54.828125 56.984375 36.375 \nQ 56.984375 17.96875 50.515625 8.265625 \nQ 44.046875 -1.421875 31.78125 -1.421875 \nQ 19.53125 -1.421875 13.0625 8.265625 \nQ 6.59375 17.96875 6.59375 36.375 \nQ 6.59375 54.828125 13.0625 64.515625 \nQ 19.53125 74.21875 31.78125 74.21875 \nz\n\" id=\"DejaVuSans-48\"/>\n      </defs>\n      <g transform=\"translate(105.346743 363.076562)scale(0.1 -0.1)\">\n       <use xlink:href=\"#DejaVuSans-48\"/>\n      </g>\n     </g>\n    </g>\n    <g id=\"xtick_2\">\n     <g id=\"line2d_2\">\n      <g>\n       <use style=\"stroke:#000000;stroke-width:0.8;\" x=\"235.280483\" xlink:href=\"#m1cf592b3d7\" y=\"348.478125\"/>\n      </g>\n     </g>\n     <g id=\"text_2\">\n      <!-- 20 -->\n      <defs>\n       <path d=\"M 19.1875 8.296875 \nL 53.609375 8.296875 \nL 53.609375 0 \nL 7.328125 0 \nL 7.328125 8.296875 \nQ 12.9375 14.109375 22.625 23.890625 \nQ 32.328125 33.6875 34.8125 36.53125 \nQ 39.546875 41.84375 41.421875 45.53125 \nQ 43.3125 49.21875 43.3125 52.78125 \nQ 43.3125 58.59375 39.234375 62.25 \nQ 35.15625 65.921875 28.609375 65.921875 \nQ 23.96875 65.921875 18.8125 64.3125 \nQ 13.671875 62.703125 7.8125 59.421875 \nL 7.8125 69.390625 \nQ 13.765625 71.78125 18.9375 73 \nQ 24.125 74.21875 28.421875 74.21875 \nQ 39.75 74.21875 46.484375 68.546875 \nQ 53.21875 62.890625 53.21875 53.421875 \nQ 53.21875 48.921875 51.53125 44.890625 \nQ 49.859375 40.875 45.40625 35.40625 \nQ 44.1875 33.984375 37.640625 27.21875 \nQ 31.109375 20.453125 19.1875 8.296875 \nz\n\" id=\"DejaVuSans-50\"/>\n      </defs>\n      <g transform=\"translate(228.917983 363.076562)scale(0.1 -0.1)\">\n       <use xlink:href=\"#DejaVuSans-50\"/>\n       <use x=\"63.623047\" xlink:href=\"#DejaVuSans-48\"/>\n      </g>\n     </g>\n    </g>\n    <g id=\"xtick_3\">\n     <g id=\"line2d_3\">\n      <g>\n       <use style=\"stroke:#000000;stroke-width:0.8;\" x=\"362.032973\" xlink:href=\"#m1cf592b3d7\" y=\"348.478125\"/>\n      </g>\n     </g>\n     <g id=\"text_3\">\n      <!-- 40 -->\n      <defs>\n       <path d=\"M 37.796875 64.3125 \nL 12.890625 25.390625 \nL 37.796875 25.390625 \nz\nM 35.203125 72.90625 \nL 47.609375 72.90625 \nL 47.609375 25.390625 \nL 58.015625 25.390625 \nL 58.015625 17.1875 \nL 47.609375 17.1875 \nL 47.609375 0 \nL 37.796875 0 \nL 37.796875 17.1875 \nL 4.890625 17.1875 \nL 4.890625 26.703125 \nz\n\" id=\"DejaVuSans-52\"/>\n      </defs>\n      <g transform=\"translate(355.670473 363.076562)scale(0.1 -0.1)\">\n       <use xlink:href=\"#DejaVuSans-52\"/>\n       <use x=\"63.623047\" xlink:href=\"#DejaVuSans-48\"/>\n      </g>\n     </g>\n    </g>\n    <g id=\"xtick_4\">\n     <g id=\"line2d_4\">\n      <g>\n       <use style=\"stroke:#000000;stroke-width:0.8;\" x=\"488.785464\" xlink:href=\"#m1cf592b3d7\" y=\"348.478125\"/>\n      </g>\n     </g>\n     <g id=\"text_4\">\n      <!-- 60 -->\n      <defs>\n       <path d=\"M 33.015625 40.375 \nQ 26.375 40.375 22.484375 35.828125 \nQ 18.609375 31.296875 18.609375 23.390625 \nQ 18.609375 15.53125 22.484375 10.953125 \nQ 26.375 6.390625 33.015625 6.390625 \nQ 39.65625 6.390625 43.53125 10.953125 \nQ 47.40625 15.53125 47.40625 23.390625 \nQ 47.40625 31.296875 43.53125 35.828125 \nQ 39.65625 40.375 33.015625 40.375 \nz\nM 52.59375 71.296875 \nL 52.59375 62.3125 \nQ 48.875 64.0625 45.09375 64.984375 \nQ 41.3125 65.921875 37.59375 65.921875 \nQ 27.828125 65.921875 22.671875 59.328125 \nQ 17.53125 52.734375 16.796875 39.40625 \nQ 19.671875 43.65625 24.015625 45.921875 \nQ 28.375 48.1875 33.59375 48.1875 \nQ 44.578125 48.1875 50.953125 41.515625 \nQ 57.328125 34.859375 57.328125 23.390625 \nQ 57.328125 12.15625 50.6875 5.359375 \nQ 44.046875 -1.421875 33.015625 -1.421875 \nQ 20.359375 -1.421875 13.671875 8.265625 \nQ 6.984375 17.96875 6.984375 36.375 \nQ 6.984375 53.65625 15.1875 63.9375 \nQ 23.390625 74.21875 37.203125 74.21875 \nQ 40.921875 74.21875 44.703125 73.484375 \nQ 48.484375 72.75 52.59375 71.296875 \nz\n\" id=\"DejaVuSans-54\"/>\n      </defs>\n      <g transform=\"translate(482.422964 363.076562)scale(0.1 -0.1)\">\n       <use xlink:href=\"#DejaVuSans-54\"/>\n       <use x=\"63.623047\" xlink:href=\"#DejaVuSans-48\"/>\n      </g>\n     </g>\n    </g>\n    <g id=\"xtick_5\">\n     <g id=\"line2d_5\">\n      <g>\n       <use style=\"stroke:#000000;stroke-width:0.8;\" x=\"615.537954\" xlink:href=\"#m1cf592b3d7\" y=\"348.478125\"/>\n      </g>\n     </g>\n     <g id=\"text_5\">\n      <!-- 80 -->\n      <defs>\n       <path d=\"M 31.78125 34.625 \nQ 24.75 34.625 20.71875 30.859375 \nQ 16.703125 27.09375 16.703125 20.515625 \nQ 16.703125 13.921875 20.71875 10.15625 \nQ 24.75 6.390625 31.78125 6.390625 \nQ 38.8125 6.390625 42.859375 10.171875 \nQ 46.921875 13.96875 46.921875 20.515625 \nQ 46.921875 27.09375 42.890625 30.859375 \nQ 38.875 34.625 31.78125 34.625 \nz\nM 21.921875 38.8125 \nQ 15.578125 40.375 12.03125 44.71875 \nQ 8.5 49.078125 8.5 55.328125 \nQ 8.5 64.0625 14.71875 69.140625 \nQ 20.953125 74.21875 31.78125 74.21875 \nQ 42.671875 74.21875 48.875 69.140625 \nQ 55.078125 64.0625 55.078125 55.328125 \nQ 55.078125 49.078125 51.53125 44.71875 \nQ 48 40.375 41.703125 38.8125 \nQ 48.828125 37.15625 52.796875 32.3125 \nQ 56.78125 27.484375 56.78125 20.515625 \nQ 56.78125 9.90625 50.3125 4.234375 \nQ 43.84375 -1.421875 31.78125 -1.421875 \nQ 19.734375 -1.421875 13.25 4.234375 \nQ 6.78125 9.90625 6.78125 20.515625 \nQ 6.78125 27.484375 10.78125 32.3125 \nQ 14.796875 37.15625 21.921875 38.8125 \nz\nM 18.3125 54.390625 \nQ 18.3125 48.734375 21.84375 45.5625 \nQ 25.390625 42.390625 31.78125 42.390625 \nQ 38.140625 42.390625 41.71875 45.5625 \nQ 45.3125 48.734375 45.3125 54.390625 \nQ 45.3125 60.0625 41.71875 63.234375 \nQ 38.140625 66.40625 31.78125 66.40625 \nQ 25.390625 66.40625 21.84375 63.234375 \nQ 18.3125 60.0625 18.3125 54.390625 \nz\n\" id=\"DejaVuSans-56\"/>\n      </defs>\n      <g transform=\"translate(609.175454 363.076562)scale(0.1 -0.1)\">\n       <use xlink:href=\"#DejaVuSans-56\"/>\n       <use x=\"63.623047\" xlink:href=\"#DejaVuSans-48\"/>\n      </g>\n     </g>\n    </g>\n    <g id=\"xtick_6\">\n     <g id=\"line2d_6\">\n      <g>\n       <use style=\"stroke:#000000;stroke-width:0.8;\" x=\"742.290444\" xlink:href=\"#m1cf592b3d7\" y=\"348.478125\"/>\n      </g>\n     </g>\n     <g id=\"text_6\">\n      <!-- 100 -->\n      <defs>\n       <path d=\"M 12.40625 8.296875 \nL 28.515625 8.296875 \nL 28.515625 63.921875 \nL 10.984375 60.40625 \nL 10.984375 69.390625 \nL 28.421875 72.90625 \nL 38.28125 72.90625 \nL 38.28125 8.296875 \nL 54.390625 8.296875 \nL 54.390625 0 \nL 12.40625 0 \nz\n\" id=\"DejaVuSans-49\"/>\n      </defs>\n      <g transform=\"translate(732.746694 363.076562)scale(0.1 -0.1)\">\n       <use xlink:href=\"#DejaVuSans-49\"/>\n       <use x=\"63.623047\" xlink:href=\"#DejaVuSans-48\"/>\n       <use x=\"127.246094\" xlink:href=\"#DejaVuSans-48\"/>\n      </g>\n     </g>\n    </g>\n    <g id=\"xtick_7\">\n     <g id=\"line2d_7\">\n      <g>\n       <use style=\"stroke:#000000;stroke-width:0.8;\" x=\"869.042934\" xlink:href=\"#m1cf592b3d7\" y=\"348.478125\"/>\n      </g>\n     </g>\n     <g id=\"text_7\">\n      <!-- 120 -->\n      <g transform=\"translate(859.499184 363.076562)scale(0.1 -0.1)\">\n       <use xlink:href=\"#DejaVuSans-49\"/>\n       <use x=\"63.623047\" xlink:href=\"#DejaVuSans-50\"/>\n       <use x=\"127.246094\" xlink:href=\"#DejaVuSans-48\"/>\n      </g>\n     </g>\n    </g>\n    <g id=\"xtick_8\">\n     <g id=\"line2d_8\">\n      <g>\n       <use style=\"stroke:#000000;stroke-width:0.8;\" x=\"995.795424\" xlink:href=\"#m1cf592b3d7\" y=\"348.478125\"/>\n      </g>\n     </g>\n     <g id=\"text_8\">\n      <!-- 140 -->\n      <g transform=\"translate(986.251674 363.076562)scale(0.1 -0.1)\">\n       <use xlink:href=\"#DejaVuSans-49\"/>\n       <use x=\"63.623047\" xlink:href=\"#DejaVuSans-52\"/>\n       <use x=\"127.246094\" xlink:href=\"#DejaVuSans-48\"/>\n      </g>\n     </g>\n    </g>\n    <g id=\"xtick_9\">\n     <g id=\"line2d_9\">\n      <g>\n       <use style=\"stroke:#000000;stroke-width:0.8;\" x=\"1122.547914\" xlink:href=\"#m1cf592b3d7\" y=\"348.478125\"/>\n      </g>\n     </g>\n     <g id=\"text_9\">\n      <!-- 160 -->\n      <g transform=\"translate(1113.004164 363.076562)scale(0.1 -0.1)\">\n       <use xlink:href=\"#DejaVuSans-49\"/>\n       <use x=\"63.623047\" xlink:href=\"#DejaVuSans-54\"/>\n       <use x=\"127.246094\" xlink:href=\"#DejaVuSans-48\"/>\n      </g>\n     </g>\n    </g>\n    <g id=\"text_10\">\n     <!-- question_title -->\n     <defs>\n      <path d=\"M 14.796875 27.296875 \nQ 14.796875 17.390625 18.875 11.75 \nQ 22.953125 6.109375 30.078125 6.109375 \nQ 37.203125 6.109375 41.296875 11.75 \nQ 45.40625 17.390625 45.40625 27.296875 \nQ 45.40625 37.203125 41.296875 42.84375 \nQ 37.203125 48.484375 30.078125 48.484375 \nQ 22.953125 48.484375 18.875 42.84375 \nQ 14.796875 37.203125 14.796875 27.296875 \nz\nM 45.40625 8.203125 \nQ 42.578125 3.328125 38.25 0.953125 \nQ 33.9375 -1.421875 27.875 -1.421875 \nQ 17.96875 -1.421875 11.734375 6.484375 \nQ 5.515625 14.40625 5.515625 27.296875 \nQ 5.515625 40.1875 11.734375 48.09375 \nQ 17.96875 56 27.875 56 \nQ 33.9375 56 38.25 53.625 \nQ 42.578125 51.265625 45.40625 46.390625 \nL 45.40625 54.6875 \nL 54.390625 54.6875 \nL 54.390625 -20.796875 \nL 45.40625 -20.796875 \nz\n\" id=\"DejaVuSans-113\"/>\n      <path d=\"M 8.5 21.578125 \nL 8.5 54.6875 \nL 17.484375 54.6875 \nL 17.484375 21.921875 \nQ 17.484375 14.15625 20.5 10.265625 \nQ 23.53125 6.390625 29.59375 6.390625 \nQ 36.859375 6.390625 41.078125 11.03125 \nQ 45.3125 15.671875 45.3125 23.6875 \nL 45.3125 54.6875 \nL 54.296875 54.6875 \nL 54.296875 0 \nL 45.3125 0 \nL 45.3125 8.40625 \nQ 42.046875 3.421875 37.71875 1 \nQ 33.40625 -1.421875 27.6875 -1.421875 \nQ 18.265625 -1.421875 13.375 4.4375 \nQ 8.5 10.296875 8.5 21.578125 \nz\nM 31.109375 56 \nz\n\" id=\"DejaVuSans-117\"/>\n      <path d=\"M 56.203125 29.59375 \nL 56.203125 25.203125 \nL 14.890625 25.203125 \nQ 15.484375 15.921875 20.484375 11.0625 \nQ 25.484375 6.203125 34.421875 6.203125 \nQ 39.59375 6.203125 44.453125 7.46875 \nQ 49.3125 8.734375 54.109375 11.28125 \nL 54.109375 2.78125 \nQ 49.265625 0.734375 44.1875 -0.34375 \nQ 39.109375 -1.421875 33.890625 -1.421875 \nQ 20.796875 -1.421875 13.15625 6.1875 \nQ 5.515625 13.8125 5.515625 26.8125 \nQ 5.515625 40.234375 12.765625 48.109375 \nQ 20.015625 56 32.328125 56 \nQ 43.359375 56 49.78125 48.890625 \nQ 56.203125 41.796875 56.203125 29.59375 \nz\nM 47.21875 32.234375 \nQ 47.125 39.59375 43.09375 43.984375 \nQ 39.0625 48.390625 32.421875 48.390625 \nQ 24.90625 48.390625 20.390625 44.140625 \nQ 15.875 39.890625 15.1875 32.171875 \nz\n\" id=\"DejaVuSans-101\"/>\n      <path d=\"M 44.28125 53.078125 \nL 44.28125 44.578125 \nQ 40.484375 46.53125 36.375 47.5 \nQ 32.28125 48.484375 27.875 48.484375 \nQ 21.1875 48.484375 17.84375 46.4375 \nQ 14.5 44.390625 14.5 40.28125 \nQ 14.5 37.15625 16.890625 35.375 \nQ 19.28125 33.59375 26.515625 31.984375 \nL 29.59375 31.296875 \nQ 39.15625 29.25 43.1875 25.515625 \nQ 47.21875 21.78125 47.21875 15.09375 \nQ 47.21875 7.46875 41.1875 3.015625 \nQ 35.15625 -1.421875 24.609375 -1.421875 \nQ 20.21875 -1.421875 15.453125 -0.5625 \nQ 10.6875 0.296875 5.421875 2 \nL 5.421875 11.28125 \nQ 10.40625 8.6875 15.234375 7.390625 \nQ 20.0625 6.109375 24.8125 6.109375 \nQ 31.15625 6.109375 34.5625 8.28125 \nQ 37.984375 10.453125 37.984375 14.40625 \nQ 37.984375 18.0625 35.515625 20.015625 \nQ 33.0625 21.96875 24.703125 23.78125 \nL 21.578125 24.515625 \nQ 13.234375 26.265625 9.515625 29.90625 \nQ 5.8125 33.546875 5.8125 39.890625 \nQ 5.8125 47.609375 11.28125 51.796875 \nQ 16.75 56 26.8125 56 \nQ 31.78125 56 36.171875 55.265625 \nQ 40.578125 54.546875 44.28125 53.078125 \nz\n\" id=\"DejaVuSans-115\"/>\n      <path d=\"M 18.3125 70.21875 \nL 18.3125 54.6875 \nL 36.8125 54.6875 \nL 36.8125 47.703125 \nL 18.3125 47.703125 \nL 18.3125 18.015625 \nQ 18.3125 11.328125 20.140625 9.421875 \nQ 21.96875 7.515625 27.59375 7.515625 \nL 36.8125 7.515625 \nL 36.8125 0 \nL 27.59375 0 \nQ 17.1875 0 13.234375 3.875 \nQ 9.28125 7.765625 9.28125 18.015625 \nL 9.28125 47.703125 \nL 2.6875 47.703125 \nL 2.6875 54.6875 \nL 9.28125 54.6875 \nL 9.28125 70.21875 \nz\n\" id=\"DejaVuSans-116\"/>\n      <path d=\"M 9.421875 54.6875 \nL 18.40625 54.6875 \nL 18.40625 0 \nL 9.421875 0 \nz\nM 9.421875 75.984375 \nL 18.40625 75.984375 \nL 18.40625 64.59375 \nL 9.421875 64.59375 \nz\n\" id=\"DejaVuSans-105\"/>\n      <path d=\"M 30.609375 48.390625 \nQ 23.390625 48.390625 19.1875 42.75 \nQ 14.984375 37.109375 14.984375 27.296875 \nQ 14.984375 17.484375 19.15625 11.84375 \nQ 23.34375 6.203125 30.609375 6.203125 \nQ 37.796875 6.203125 41.984375 11.859375 \nQ 46.1875 17.53125 46.1875 27.296875 \nQ 46.1875 37.015625 41.984375 42.703125 \nQ 37.796875 48.390625 30.609375 48.390625 \nz\nM 30.609375 56 \nQ 42.328125 56 49.015625 48.375 \nQ 55.71875 40.765625 55.71875 27.296875 \nQ 55.71875 13.875 49.015625 6.21875 \nQ 42.328125 -1.421875 30.609375 -1.421875 \nQ 18.84375 -1.421875 12.171875 6.21875 \nQ 5.515625 13.875 5.515625 27.296875 \nQ 5.515625 40.765625 12.171875 48.375 \nQ 18.84375 56 30.609375 56 \nz\n\" id=\"DejaVuSans-111\"/>\n      <path d=\"M 54.890625 33.015625 \nL 54.890625 0 \nL 45.90625 0 \nL 45.90625 32.71875 \nQ 45.90625 40.484375 42.875 44.328125 \nQ 39.84375 48.1875 33.796875 48.1875 \nQ 26.515625 48.1875 22.3125 43.546875 \nQ 18.109375 38.921875 18.109375 30.90625 \nL 18.109375 0 \nL 9.078125 0 \nL 9.078125 54.6875 \nL 18.109375 54.6875 \nL 18.109375 46.1875 \nQ 21.34375 51.125 25.703125 53.5625 \nQ 30.078125 56 35.796875 56 \nQ 45.21875 56 50.046875 50.171875 \nQ 54.890625 44.34375 54.890625 33.015625 \nz\n\" id=\"DejaVuSans-110\"/>\n      <path d=\"M 50.984375 -16.609375 \nL 50.984375 -23.578125 \nL -0.984375 -23.578125 \nL -0.984375 -16.609375 \nz\n\" id=\"DejaVuSans-95\"/>\n      <path d=\"M 9.421875 75.984375 \nL 18.40625 75.984375 \nL 18.40625 0 \nL 9.421875 0 \nz\n\" id=\"DejaVuSans-108\"/>\n     </defs>\n     <g transform=\"translate(566.951563 376.754687)scale(0.1 -0.1)\">\n      <use xlink:href=\"#DejaVuSans-113\"/>\n      <use x=\"63.476562\" xlink:href=\"#DejaVuSans-117\"/>\n      <use x=\"126.855469\" xlink:href=\"#DejaVuSans-101\"/>\n      <use x=\"188.378906\" xlink:href=\"#DejaVuSans-115\"/>\n      <use x=\"240.478516\" xlink:href=\"#DejaVuSans-116\"/>\n      <use x=\"279.6875\" xlink:href=\"#DejaVuSans-105\"/>\n      <use x=\"307.470703\" xlink:href=\"#DejaVuSans-111\"/>\n      <use x=\"368.652344\" xlink:href=\"#DejaVuSans-110\"/>\n      <use x=\"432.03125\" xlink:href=\"#DejaVuSans-95\"/>\n      <use x=\"482.03125\" xlink:href=\"#DejaVuSans-116\"/>\n      <use x=\"521.240234\" xlink:href=\"#DejaVuSans-105\"/>\n      <use x=\"549.023438\" xlink:href=\"#DejaVuSans-116\"/>\n      <use x=\"588.232422\" xlink:href=\"#DejaVuSans-108\"/>\n      <use x=\"616.015625\" xlink:href=\"#DejaVuSans-101\"/>\n     </g>\n    </g>\n   </g>\n   <g id=\"matplotlib.axis_2\">\n    <g id=\"ytick_1\">\n     <g id=\"line2d_10\">\n      <defs>\n       <path d=\"M 0 0 \nL -3.5 0 \n\" id=\"md76dabcb0e\" style=\"stroke:#000000;stroke-width:0.8;\"/>\n      </defs>\n      <g>\n       <use style=\"stroke:#000000;stroke-width:0.8;\" x=\"42.828125\" xlink:href=\"#md76dabcb0e\" y=\"348.478125\"/>\n      </g>\n     </g>\n     <g id=\"text_11\">\n      <!-- 0.000 -->\n      <defs>\n       <path d=\"M 10.6875 12.40625 \nL 21 12.40625 \nL 21 0 \nL 10.6875 0 \nz\n\" id=\"DejaVuSans-46\"/>\n      </defs>\n      <g transform=\"translate(7.2 352.277344)scale(0.1 -0.1)\">\n       <use xlink:href=\"#DejaVuSans-48\"/>\n       <use x=\"63.623047\" xlink:href=\"#DejaVuSans-46\"/>\n       <use x=\"95.410156\" xlink:href=\"#DejaVuSans-48\"/>\n       <use x=\"159.033203\" xlink:href=\"#DejaVuSans-48\"/>\n       <use x=\"222.65625\" xlink:href=\"#DejaVuSans-48\"/>\n      </g>\n     </g>\n    </g>\n    <g id=\"ytick_2\">\n     <g id=\"line2d_11\">\n      <g>\n       <use style=\"stroke:#000000;stroke-width:0.8;\" x=\"42.828125\" xlink:href=\"#md76dabcb0e\" y=\"286.378104\"/>\n      </g>\n     </g>\n     <g id=\"text_12\">\n      <!-- 0.005 -->\n      <defs>\n       <path d=\"M 10.796875 72.90625 \nL 49.515625 72.90625 \nL 49.515625 64.59375 \nL 19.828125 64.59375 \nL 19.828125 46.734375 \nQ 21.96875 47.46875 24.109375 47.828125 \nQ 26.265625 48.1875 28.421875 48.1875 \nQ 40.625 48.1875 47.75 41.5 \nQ 54.890625 34.8125 54.890625 23.390625 \nQ 54.890625 11.625 47.5625 5.09375 \nQ 40.234375 -1.421875 26.90625 -1.421875 \nQ 22.3125 -1.421875 17.546875 -0.640625 \nQ 12.796875 0.140625 7.71875 1.703125 \nL 7.71875 11.625 \nQ 12.109375 9.234375 16.796875 8.0625 \nQ 21.484375 6.890625 26.703125 6.890625 \nQ 35.15625 6.890625 40.078125 11.328125 \nQ 45.015625 15.765625 45.015625 23.390625 \nQ 45.015625 31 40.078125 35.4375 \nQ 35.15625 39.890625 26.703125 39.890625 \nQ 22.75 39.890625 18.8125 39.015625 \nQ 14.890625 38.140625 10.796875 36.28125 \nz\n\" id=\"DejaVuSans-53\"/>\n      </defs>\n      <g transform=\"translate(7.2 290.177323)scale(0.1 -0.1)\">\n       <use xlink:href=\"#DejaVuSans-48\"/>\n       <use x=\"63.623047\" xlink:href=\"#DejaVuSans-46\"/>\n       <use x=\"95.410156\" xlink:href=\"#DejaVuSans-48\"/>\n       <use x=\"159.033203\" xlink:href=\"#DejaVuSans-48\"/>\n       <use x=\"222.65625\" xlink:href=\"#DejaVuSans-53\"/>\n      </g>\n     </g>\n    </g>\n    <g id=\"ytick_3\">\n     <g id=\"line2d_12\">\n      <g>\n       <use style=\"stroke:#000000;stroke-width:0.8;\" x=\"42.828125\" xlink:href=\"#md76dabcb0e\" y=\"224.278083\"/>\n      </g>\n     </g>\n     <g id=\"text_13\">\n      <!-- 0.010 -->\n      <g transform=\"translate(7.2 228.077302)scale(0.1 -0.1)\">\n       <use xlink:href=\"#DejaVuSans-48\"/>\n       <use x=\"63.623047\" xlink:href=\"#DejaVuSans-46\"/>\n       <use x=\"95.410156\" xlink:href=\"#DejaVuSans-48\"/>\n       <use x=\"159.033203\" xlink:href=\"#DejaVuSans-49\"/>\n       <use x=\"222.65625\" xlink:href=\"#DejaVuSans-48\"/>\n      </g>\n     </g>\n    </g>\n    <g id=\"ytick_4\">\n     <g id=\"line2d_13\">\n      <g>\n       <use style=\"stroke:#000000;stroke-width:0.8;\" x=\"42.828125\" xlink:href=\"#md76dabcb0e\" y=\"162.178063\"/>\n      </g>\n     </g>\n     <g id=\"text_14\">\n      <!-- 0.015 -->\n      <g transform=\"translate(7.2 165.977281)scale(0.1 -0.1)\">\n       <use xlink:href=\"#DejaVuSans-48\"/>\n       <use x=\"63.623047\" xlink:href=\"#DejaVuSans-46\"/>\n       <use x=\"95.410156\" xlink:href=\"#DejaVuSans-48\"/>\n       <use x=\"159.033203\" xlink:href=\"#DejaVuSans-49\"/>\n       <use x=\"222.65625\" xlink:href=\"#DejaVuSans-53\"/>\n      </g>\n     </g>\n    </g>\n    <g id=\"ytick_5\">\n     <g id=\"line2d_14\">\n      <g>\n       <use style=\"stroke:#000000;stroke-width:0.8;\" x=\"42.828125\" xlink:href=\"#md76dabcb0e\" y=\"100.078042\"/>\n      </g>\n     </g>\n     <g id=\"text_15\">\n      <!-- 0.020 -->\n      <g transform=\"translate(7.2 103.877261)scale(0.1 -0.1)\">\n       <use xlink:href=\"#DejaVuSans-48\"/>\n       <use x=\"63.623047\" xlink:href=\"#DejaVuSans-46\"/>\n       <use x=\"95.410156\" xlink:href=\"#DejaVuSans-48\"/>\n       <use x=\"159.033203\" xlink:href=\"#DejaVuSans-50\"/>\n       <use x=\"222.65625\" xlink:href=\"#DejaVuSans-48\"/>\n      </g>\n     </g>\n    </g>\n    <g id=\"ytick_6\">\n     <g id=\"line2d_15\">\n      <g>\n       <use style=\"stroke:#000000;stroke-width:0.8;\" x=\"42.828125\" xlink:href=\"#md76dabcb0e\" y=\"37.978021\"/>\n      </g>\n     </g>\n     <g id=\"text_16\">\n      <!-- 0.025 -->\n      <g transform=\"translate(7.2 41.77724)scale(0.1 -0.1)\">\n       <use xlink:href=\"#DejaVuSans-48\"/>\n       <use x=\"63.623047\" xlink:href=\"#DejaVuSans-46\"/>\n       <use x=\"95.410156\" xlink:href=\"#DejaVuSans-48\"/>\n       <use x=\"159.033203\" xlink:href=\"#DejaVuSans-50\"/>\n       <use x=\"222.65625\" xlink:href=\"#DejaVuSans-53\"/>\n      </g>\n     </g>\n    </g>\n   </g>\n   <g id=\"line2d_16\">\n    <path clip-path=\"url(#p58e1f788b4)\" d=\"M 135.650304 348.430644 \nL 143.307395 348.345439 \nL 150.964486 348.131444 \nL 158.621577 347.653238 \nL 166.278668 346.691795 \nL 173.935759 344.947232 \nL 181.59285 342.081939 \nL 189.249941 337.804621 \nL 196.907032 331.965133 \nL 204.564122 324.608395 \nL 212.221213 315.948872 \nL 219.878304 306.276487 \nL 227.535395 295.854609 \nL 235.192486 284.874944 \nL 242.849577 273.483578 \nL 304.106305 180.438287 \nL 311.763396 168.89308 \nL 319.420486 157.557747 \nL 327.077577 146.595687 \nL 334.734668 136.199728 \nL 342.391759 126.559624 \nL 350.04885 117.787722 \nL 357.705941 109.854031 \nL 365.363032 102.60809 \nL 373.020123 95.913993 \nL 380.677214 89.832246 \nL 388.334305 84.72865 \nL 395.991396 81.22149 \nL 403.648487 79.968993 \nL 411.305578 81.38934 \nL 418.962669 85.44881 \nL 426.619759 91.628283 \nL 434.27685 99.090161 \nL 441.933941 106.962047 \nL 449.591032 114.598935 \nL 457.248123 121.715419 \nL 464.905214 128.359926 \nL 480.219396 141.227296 \nL 487.876487 147.879114 \nL 495.533578 154.765335 \nL 503.190669 161.848297 \nL 510.84776 169.096601 \nL 518.504851 176.521292 \nL 526.161942 184.156197 \nL 533.819032 192.013844 \nL 556.790305 215.986439 \nL 564.447396 223.340722 \nL 572.104487 229.906038 \nL 579.761578 235.596327 \nL 587.418669 240.607985 \nL 595.07576 245.368102 \nL 602.732851 250.345536 \nL 610.389942 255.833497 \nL 618.047033 261.831069 \nL 633.361215 274.233345 \nL 641.018306 280.011669 \nL 648.675396 285.321254 \nL 656.332487 290.218288 \nL 663.989578 294.801114 \nL 671.646669 299.105125 \nL 679.30376 303.077416 \nL 686.960851 306.638382 \nL 694.617942 309.771717 \nL 702.275033 312.570665 \nL 717.589215 317.859188 \nL 748.217579 328.775423 \nL 755.874669 330.950588 \nL 763.53176 332.665343 \nL 771.188851 333.92228 \nL 778.845942 334.795346 \nL 786.503033 335.402327 \nL 801.817215 336.365779 \nL 809.474306 336.977464 \nL 817.131397 337.783541 \nL 832.445579 339.852892 \nL 840.10267 340.873114 \nL 847.759761 341.698148 \nL 855.416852 342.265123 \nL 870.731033 342.849992 \nL 878.388124 343.115542 \nL 886.045215 343.498743 \nL 916.673579 345.478844 \nL 924.33067 345.649123 \nL 939.644852 345.542558 \nL 954.959034 345.464548 \nL 962.616125 345.608429 \nL 977.930306 346.208338 \nL 993.244488 346.876757 \nL 1008.55867 347.327554 \nL 1039.187034 347.770477 \nL 1085.129579 348.410757 \nL 1108.100852 348.458499 \nL 1108.100852 348.458499 \n\" style=\"fill:none;stroke:#1f77b4;stroke-linecap:square;stroke-width:1.5;\"/>\n   </g>\n   <g id=\"line2d_17\">\n    <path clip-path=\"url(#p58e1f788b4)\" d=\"M 93.555398 348.407156 \nL 108.798132 348.258239 \nL 116.419499 348.08414 \nL 124.040866 347.791816 \nL 131.662233 347.321288 \nL 139.2836 346.592769 \nL 146.904967 345.50638 \nL 154.526334 343.944942 \nL 162.147701 341.780571 \nL 169.769068 338.885095 \nL 177.390435 335.143255 \nL 185.011803 330.466547 \nL 192.63317 324.804789 \nL 200.254537 318.152388 \nL 207.875904 310.54717 \nL 215.497271 302.061343 \nL 223.118638 292.78637 \nL 230.740005 282.815551 \nL 238.361372 272.229213 \nL 245.982739 261.087178 \nL 253.604106 249.431463 \nL 261.225473 237.299375 \nL 268.84684 224.744123 \nL 284.089574 198.78834 \nL 291.710942 185.750155 \nL 299.332309 173.015368 \nL 306.953676 160.894637 \nL 314.575043 149.704966 \nL 322.19641 139.732081 \nL 329.817777 131.194173 \nL 337.439144 124.213871 \nL 345.060511 118.803865 \nL 352.681878 114.869253 \nL 360.303245 112.226799 \nL 367.924612 110.638222 \nL 375.545979 109.851646 \nL 383.167346 109.643099 \nL 390.788713 109.849285 \nL 398.410081 110.38442 \nL 406.031448 111.237974 \nL 413.652815 112.455595 \nL 421.274182 114.110587 \nL 428.895549 116.275847 \nL 436.516916 119.004942 \nL 444.138283 122.326249 \nL 451.75965 126.247853 \nL 459.381017 130.765973 \nL 467.002384 135.868436 \nL 474.623751 141.527802 \nL 482.245118 147.684786 \nL 489.866485 154.228832 \nL 505.109219 167.724325 \nL 512.730587 174.178418 \nL 520.351954 180.094207 \nL 527.973321 185.280027 \nL 535.594688 189.653107 \nL 543.216055 193.267858 \nL 550.837422 196.317758 \nL 566.080156 202.01261 \nL 573.701523 205.401137 \nL 581.32289 209.590101 \nL 588.944257 214.788932 \nL 596.565624 221.07434 \nL 604.186991 228.387984 \nL 611.808358 236.556434 \nL 619.429726 245.326761 \nL 634.67246 263.514153 \nL 642.293827 272.388287 \nL 649.915194 280.827614 \nL 657.536561 288.686973 \nL 665.157928 295.877396 \nL 672.779295 302.358954 \nL 680.400662 308.13181 \nL 688.022029 313.227392 \nL 695.643396 317.700199 \nL 703.264763 321.619891 \nL 710.88613 325.063189 \nL 718.507497 328.105639 \nL 726.128864 330.813973 \nL 733.750232 333.240279 \nL 741.371599 335.41919 \nL 748.992966 337.368723 \nL 756.614333 339.094536 \nL 764.2357 340.596464 \nL 771.857067 341.875593 \nL 779.478434 342.940039 \nL 787.099801 343.808014 \nL 794.721168 344.507567 \nL 809.963902 345.541431 \nL 832.828003 346.638218 \nL 855.692105 347.467736 \nL 870.934839 347.792439 \nL 886.177573 347.858097 \nL 901.420307 347.665562 \nL 947.14851 346.706239 \nL 962.391244 346.772404 \nL 977.633978 347.090937 \nL 1015.740813 348.083569 \nL 1038.604914 348.363746 \nL 1061.469016 348.427078 \nL 1061.469016 348.427078 \n\" style=\"fill:none;stroke:#ff7f0e;stroke-linecap:square;stroke-width:1.5;\"/>\n   </g>\n   <g id=\"patch_68\">\n    <path d=\"M 42.828125 348.478125 \nL 42.828125 22.318125 \n\" style=\"fill:none;stroke:#000000;stroke-linecap:square;stroke-linejoin:miter;stroke-width:0.8;\"/>\n   </g>\n   <g id=\"patch_69\">\n    <path d=\"M 1158.828125 348.478125 \nL 1158.828125 22.318125 \n\" style=\"fill:none;stroke:#000000;stroke-linecap:square;stroke-linejoin:miter;stroke-width:0.8;\"/>\n   </g>\n   <g id=\"patch_70\">\n    <path d=\"M 42.828125 348.478125 \nL 1158.828125 348.478125 \n\" style=\"fill:none;stroke:#000000;stroke-linecap:square;stroke-linejoin:miter;stroke-width:0.8;\"/>\n   </g>\n   <g id=\"patch_71\">\n    <path d=\"M 42.828125 22.318125 \nL 1158.828125 22.318125 \n\" style=\"fill:none;stroke:#000000;stroke-linecap:square;stroke-linejoin:miter;stroke-width:0.8;\"/>\n   </g>\n   <g id=\"text_17\">\n    <!-- Length of Question Title represented as cumulative distribution plots -->\n    <defs>\n     <path d=\"M 9.8125 72.90625 \nL 19.671875 72.90625 \nL 19.671875 8.296875 \nL 55.171875 8.296875 \nL 55.171875 0 \nL 9.8125 0 \nz\n\" id=\"DejaVuSans-76\"/>\n     <path d=\"M 45.40625 27.984375 \nQ 45.40625 37.75 41.375 43.109375 \nQ 37.359375 48.484375 30.078125 48.484375 \nQ 22.859375 48.484375 18.828125 43.109375 \nQ 14.796875 37.75 14.796875 27.984375 \nQ 14.796875 18.265625 18.828125 12.890625 \nQ 22.859375 7.515625 30.078125 7.515625 \nQ 37.359375 7.515625 41.375 12.890625 \nQ 45.40625 18.265625 45.40625 27.984375 \nz\nM 54.390625 6.78125 \nQ 54.390625 -7.171875 48.1875 -13.984375 \nQ 42 -20.796875 29.203125 -20.796875 \nQ 24.46875 -20.796875 20.265625 -20.09375 \nQ 16.0625 -19.390625 12.109375 -17.921875 \nL 12.109375 -9.1875 \nQ 16.0625 -11.328125 19.921875 -12.34375 \nQ 23.78125 -13.375 27.78125 -13.375 \nQ 36.625 -13.375 41.015625 -8.765625 \nQ 45.40625 -4.15625 45.40625 5.171875 \nL 45.40625 9.625 \nQ 42.625 4.78125 38.28125 2.390625 \nQ 33.9375 0 27.875 0 \nQ 17.828125 0 11.671875 7.65625 \nQ 5.515625 15.328125 5.515625 27.984375 \nQ 5.515625 40.671875 11.671875 48.328125 \nQ 17.828125 56 27.875 56 \nQ 33.9375 56 38.28125 53.609375 \nQ 42.625 51.21875 45.40625 46.390625 \nL 45.40625 54.6875 \nL 54.390625 54.6875 \nz\n\" id=\"DejaVuSans-103\"/>\n     <path d=\"M 54.890625 33.015625 \nL 54.890625 0 \nL 45.90625 0 \nL 45.90625 32.71875 \nQ 45.90625 40.484375 42.875 44.328125 \nQ 39.84375 48.1875 33.796875 48.1875 \nQ 26.515625 48.1875 22.3125 43.546875 \nQ 18.109375 38.921875 18.109375 30.90625 \nL 18.109375 0 \nL 9.078125 0 \nL 9.078125 75.984375 \nL 18.109375 75.984375 \nL 18.109375 46.1875 \nQ 21.34375 51.125 25.703125 53.5625 \nQ 30.078125 56 35.796875 56 \nQ 45.21875 56 50.046875 50.171875 \nQ 54.890625 44.34375 54.890625 33.015625 \nz\n\" id=\"DejaVuSans-104\"/>\n     <path id=\"DejaVuSans-32\"/>\n     <path d=\"M 37.109375 75.984375 \nL 37.109375 68.5 \nL 28.515625 68.5 \nQ 23.6875 68.5 21.796875 66.546875 \nQ 19.921875 64.59375 19.921875 59.515625 \nL 19.921875 54.6875 \nL 34.71875 54.6875 \nL 34.71875 47.703125 \nL 19.921875 47.703125 \nL 19.921875 0 \nL 10.890625 0 \nL 10.890625 47.703125 \nL 2.296875 47.703125 \nL 2.296875 54.6875 \nL 10.890625 54.6875 \nL 10.890625 58.5 \nQ 10.890625 67.625 15.140625 71.796875 \nQ 19.390625 75.984375 28.609375 75.984375 \nz\n\" id=\"DejaVuSans-102\"/>\n     <path d=\"M 39.40625 66.21875 \nQ 28.65625 66.21875 22.328125 58.203125 \nQ 16.015625 50.203125 16.015625 36.375 \nQ 16.015625 22.609375 22.328125 14.59375 \nQ 28.65625 6.59375 39.40625 6.59375 \nQ 50.140625 6.59375 56.421875 14.59375 \nQ 62.703125 22.609375 62.703125 36.375 \nQ 62.703125 50.203125 56.421875 58.203125 \nQ 50.140625 66.21875 39.40625 66.21875 \nz\nM 53.21875 1.3125 \nL 66.21875 -12.890625 \nL 54.296875 -12.890625 \nL 43.5 -1.21875 \nQ 41.890625 -1.3125 41.03125 -1.359375 \nQ 40.1875 -1.421875 39.40625 -1.421875 \nQ 24.03125 -1.421875 14.8125 8.859375 \nQ 5.609375 19.140625 5.609375 36.375 \nQ 5.609375 53.65625 14.8125 63.9375 \nQ 24.03125 74.21875 39.40625 74.21875 \nQ 54.734375 74.21875 63.90625 63.9375 \nQ 73.09375 53.65625 73.09375 36.375 \nQ 73.09375 23.6875 67.984375 14.640625 \nQ 62.890625 5.609375 53.21875 1.3125 \nz\n\" id=\"DejaVuSans-81\"/>\n     <path d=\"M -0.296875 72.90625 \nL 61.375 72.90625 \nL 61.375 64.59375 \nL 35.5 64.59375 \nL 35.5 0 \nL 25.59375 0 \nL 25.59375 64.59375 \nL -0.296875 64.59375 \nz\n\" id=\"DejaVuSans-84\"/>\n     <path d=\"M 41.109375 46.296875 \nQ 39.59375 47.171875 37.8125 47.578125 \nQ 36.03125 48 33.890625 48 \nQ 26.265625 48 22.1875 43.046875 \nQ 18.109375 38.09375 18.109375 28.8125 \nL 18.109375 0 \nL 9.078125 0 \nL 9.078125 54.6875 \nL 18.109375 54.6875 \nL 18.109375 46.1875 \nQ 20.953125 51.171875 25.484375 53.578125 \nQ 30.03125 56 36.53125 56 \nQ 37.453125 56 38.578125 55.875 \nQ 39.703125 55.765625 41.0625 55.515625 \nz\n\" id=\"DejaVuSans-114\"/>\n     <path d=\"M 18.109375 8.203125 \nL 18.109375 -20.796875 \nL 9.078125 -20.796875 \nL 9.078125 54.6875 \nL 18.109375 54.6875 \nL 18.109375 46.390625 \nQ 20.953125 51.265625 25.265625 53.625 \nQ 29.59375 56 35.59375 56 \nQ 45.5625 56 51.78125 48.09375 \nQ 58.015625 40.1875 58.015625 27.296875 \nQ 58.015625 14.40625 51.78125 6.484375 \nQ 45.5625 -1.421875 35.59375 -1.421875 \nQ 29.59375 -1.421875 25.265625 0.953125 \nQ 20.953125 3.328125 18.109375 8.203125 \nz\nM 48.6875 27.296875 \nQ 48.6875 37.203125 44.609375 42.84375 \nQ 40.53125 48.484375 33.40625 48.484375 \nQ 26.265625 48.484375 22.1875 42.84375 \nQ 18.109375 37.203125 18.109375 27.296875 \nQ 18.109375 17.390625 22.1875 11.75 \nQ 26.265625 6.109375 33.40625 6.109375 \nQ 40.53125 6.109375 44.609375 11.75 \nQ 48.6875 17.390625 48.6875 27.296875 \nz\n\" id=\"DejaVuSans-112\"/>\n     <path d=\"M 45.40625 46.390625 \nL 45.40625 75.984375 \nL 54.390625 75.984375 \nL 54.390625 0 \nL 45.40625 0 \nL 45.40625 8.203125 \nQ 42.578125 3.328125 38.25 0.953125 \nQ 33.9375 -1.421875 27.875 -1.421875 \nQ 17.96875 -1.421875 11.734375 6.484375 \nQ 5.515625 14.40625 5.515625 27.296875 \nQ 5.515625 40.1875 11.734375 48.09375 \nQ 17.96875 56 27.875 56 \nQ 33.9375 56 38.25 53.625 \nQ 42.578125 51.265625 45.40625 46.390625 \nz\nM 14.796875 27.296875 \nQ 14.796875 17.390625 18.875 11.75 \nQ 22.953125 6.109375 30.078125 6.109375 \nQ 37.203125 6.109375 41.296875 11.75 \nQ 45.40625 17.390625 45.40625 27.296875 \nQ 45.40625 37.203125 41.296875 42.84375 \nQ 37.203125 48.484375 30.078125 48.484375 \nQ 22.953125 48.484375 18.875 42.84375 \nQ 14.796875 37.203125 14.796875 27.296875 \nz\n\" id=\"DejaVuSans-100\"/>\n     <path d=\"M 34.28125 27.484375 \nQ 23.390625 27.484375 19.1875 25 \nQ 14.984375 22.515625 14.984375 16.5 \nQ 14.984375 11.71875 18.140625 8.90625 \nQ 21.296875 6.109375 26.703125 6.109375 \nQ 34.1875 6.109375 38.703125 11.40625 \nQ 43.21875 16.703125 43.21875 25.484375 \nL 43.21875 27.484375 \nz\nM 52.203125 31.203125 \nL 52.203125 0 \nL 43.21875 0 \nL 43.21875 8.296875 \nQ 40.140625 3.328125 35.546875 0.953125 \nQ 30.953125 -1.421875 24.3125 -1.421875 \nQ 15.921875 -1.421875 10.953125 3.296875 \nQ 6 8.015625 6 15.921875 \nQ 6 25.140625 12.171875 29.828125 \nQ 18.359375 34.515625 30.609375 34.515625 \nL 43.21875 34.515625 \nL 43.21875 35.40625 \nQ 43.21875 41.609375 39.140625 45 \nQ 35.0625 48.390625 27.6875 48.390625 \nQ 23 48.390625 18.546875 47.265625 \nQ 14.109375 46.140625 10.015625 43.890625 \nL 10.015625 52.203125 \nQ 14.9375 54.109375 19.578125 55.046875 \nQ 24.21875 56 28.609375 56 \nQ 40.484375 56 46.34375 49.84375 \nQ 52.203125 43.703125 52.203125 31.203125 \nz\n\" id=\"DejaVuSans-97\"/>\n     <path d=\"M 48.78125 52.59375 \nL 48.78125 44.1875 \nQ 44.96875 46.296875 41.140625 47.34375 \nQ 37.3125 48.390625 33.40625 48.390625 \nQ 24.65625 48.390625 19.8125 42.84375 \nQ 14.984375 37.3125 14.984375 27.296875 \nQ 14.984375 17.28125 19.8125 11.734375 \nQ 24.65625 6.203125 33.40625 6.203125 \nQ 37.3125 6.203125 41.140625 7.25 \nQ 44.96875 8.296875 48.78125 10.40625 \nL 48.78125 2.09375 \nQ 45.015625 0.34375 40.984375 -0.53125 \nQ 36.96875 -1.421875 32.421875 -1.421875 \nQ 20.0625 -1.421875 12.78125 6.34375 \nQ 5.515625 14.109375 5.515625 27.296875 \nQ 5.515625 40.671875 12.859375 48.328125 \nQ 20.21875 56 33.015625 56 \nQ 37.15625 56 41.109375 55.140625 \nQ 45.0625 54.296875 48.78125 52.59375 \nz\n\" id=\"DejaVuSans-99\"/>\n     <path d=\"M 52 44.1875 \nQ 55.375 50.25 60.0625 53.125 \nQ 64.75 56 71.09375 56 \nQ 79.640625 56 84.28125 50.015625 \nQ 88.921875 44.046875 88.921875 33.015625 \nL 88.921875 0 \nL 79.890625 0 \nL 79.890625 32.71875 \nQ 79.890625 40.578125 77.09375 44.375 \nQ 74.3125 48.1875 68.609375 48.1875 \nQ 61.625 48.1875 57.5625 43.546875 \nQ 53.515625 38.921875 53.515625 30.90625 \nL 53.515625 0 \nL 44.484375 0 \nL 44.484375 32.71875 \nQ 44.484375 40.625 41.703125 44.40625 \nQ 38.921875 48.1875 33.109375 48.1875 \nQ 26.21875 48.1875 22.15625 43.53125 \nQ 18.109375 38.875 18.109375 30.90625 \nL 18.109375 0 \nL 9.078125 0 \nL 9.078125 54.6875 \nL 18.109375 54.6875 \nL 18.109375 46.1875 \nQ 21.1875 51.21875 25.484375 53.609375 \nQ 29.78125 56 35.6875 56 \nQ 41.65625 56 45.828125 52.96875 \nQ 50 49.953125 52 44.1875 \nz\n\" id=\"DejaVuSans-109\"/>\n     <path d=\"M 2.984375 54.6875 \nL 12.5 54.6875 \nL 29.59375 8.796875 \nL 46.6875 54.6875 \nL 56.203125 54.6875 \nL 35.6875 0 \nL 23.484375 0 \nz\n\" id=\"DejaVuSans-118\"/>\n     <path d=\"M 48.6875 27.296875 \nQ 48.6875 37.203125 44.609375 42.84375 \nQ 40.53125 48.484375 33.40625 48.484375 \nQ 26.265625 48.484375 22.1875 42.84375 \nQ 18.109375 37.203125 18.109375 27.296875 \nQ 18.109375 17.390625 22.1875 11.75 \nQ 26.265625 6.109375 33.40625 6.109375 \nQ 40.53125 6.109375 44.609375 11.75 \nQ 48.6875 17.390625 48.6875 27.296875 \nz\nM 18.109375 46.390625 \nQ 20.953125 51.265625 25.265625 53.625 \nQ 29.59375 56 35.59375 56 \nQ 45.5625 56 51.78125 48.09375 \nQ 58.015625 40.1875 58.015625 27.296875 \nQ 58.015625 14.40625 51.78125 6.484375 \nQ 45.5625 -1.421875 35.59375 -1.421875 \nQ 29.59375 -1.421875 25.265625 0.953125 \nQ 20.953125 3.328125 18.109375 8.203125 \nL 18.109375 0 \nL 9.078125 0 \nL 9.078125 75.984375 \nL 18.109375 75.984375 \nz\n\" id=\"DejaVuSans-98\"/>\n    </defs>\n    <g transform=\"translate(393.545 16.318125)scale(0.12 -0.12)\">\n     <use xlink:href=\"#DejaVuSans-76\"/>\n     <use x=\"55.697266\" xlink:href=\"#DejaVuSans-101\"/>\n     <use x=\"117.220703\" xlink:href=\"#DejaVuSans-110\"/>\n     <use x=\"180.599609\" xlink:href=\"#DejaVuSans-103\"/>\n     <use x=\"244.076172\" xlink:href=\"#DejaVuSans-116\"/>\n     <use x=\"283.285156\" xlink:href=\"#DejaVuSans-104\"/>\n     <use x=\"346.664062\" xlink:href=\"#DejaVuSans-32\"/>\n     <use x=\"378.451172\" xlink:href=\"#DejaVuSans-111\"/>\n     <use x=\"439.632812\" xlink:href=\"#DejaVuSans-102\"/>\n     <use x=\"474.837891\" xlink:href=\"#DejaVuSans-32\"/>\n     <use x=\"506.625\" xlink:href=\"#DejaVuSans-81\"/>\n     <use x=\"585.335938\" xlink:href=\"#DejaVuSans-117\"/>\n     <use x=\"648.714844\" xlink:href=\"#DejaVuSans-101\"/>\n     <use x=\"710.238281\" xlink:href=\"#DejaVuSans-115\"/>\n     <use x=\"762.337891\" xlink:href=\"#DejaVuSans-116\"/>\n     <use x=\"801.546875\" xlink:href=\"#DejaVuSans-105\"/>\n     <use x=\"829.330078\" xlink:href=\"#DejaVuSans-111\"/>\n     <use x=\"890.511719\" xlink:href=\"#DejaVuSans-110\"/>\n     <use x=\"953.890625\" xlink:href=\"#DejaVuSans-32\"/>\n     <use x=\"985.677734\" xlink:href=\"#DejaVuSans-84\"/>\n     <use x=\"1046.714844\" xlink:href=\"#DejaVuSans-105\"/>\n     <use x=\"1074.498047\" xlink:href=\"#DejaVuSans-116\"/>\n     <use x=\"1113.707031\" xlink:href=\"#DejaVuSans-108\"/>\n     <use x=\"1141.490234\" xlink:href=\"#DejaVuSans-101\"/>\n     <use x=\"1203.013672\" xlink:href=\"#DejaVuSans-32\"/>\n     <use x=\"1234.800781\" xlink:href=\"#DejaVuSans-114\"/>\n     <use x=\"1275.882812\" xlink:href=\"#DejaVuSans-101\"/>\n     <use x=\"1337.40625\" xlink:href=\"#DejaVuSans-112\"/>\n     <use x=\"1400.882812\" xlink:href=\"#DejaVuSans-114\"/>\n     <use x=\"1441.964844\" xlink:href=\"#DejaVuSans-101\"/>\n     <use x=\"1503.488281\" xlink:href=\"#DejaVuSans-115\"/>\n     <use x=\"1555.587891\" xlink:href=\"#DejaVuSans-101\"/>\n     <use x=\"1617.111328\" xlink:href=\"#DejaVuSans-110\"/>\n     <use x=\"1680.490234\" xlink:href=\"#DejaVuSans-116\"/>\n     <use x=\"1719.699219\" xlink:href=\"#DejaVuSans-101\"/>\n     <use x=\"1781.222656\" xlink:href=\"#DejaVuSans-100\"/>\n     <use x=\"1844.699219\" xlink:href=\"#DejaVuSans-32\"/>\n     <use x=\"1876.486328\" xlink:href=\"#DejaVuSans-97\"/>\n     <use x=\"1937.765625\" xlink:href=\"#DejaVuSans-115\"/>\n     <use x=\"1989.865234\" xlink:href=\"#DejaVuSans-32\"/>\n     <use x=\"2021.652344\" xlink:href=\"#DejaVuSans-99\"/>\n     <use x=\"2076.632812\" xlink:href=\"#DejaVuSans-117\"/>\n     <use x=\"2140.011719\" xlink:href=\"#DejaVuSans-109\"/>\n     <use x=\"2237.423828\" xlink:href=\"#DejaVuSans-117\"/>\n     <use x=\"2300.802734\" xlink:href=\"#DejaVuSans-108\"/>\n     <use x=\"2328.585938\" xlink:href=\"#DejaVuSans-97\"/>\n     <use x=\"2389.865234\" xlink:href=\"#DejaVuSans-116\"/>\n     <use x=\"2429.074219\" xlink:href=\"#DejaVuSans-105\"/>\n     <use x=\"2456.857422\" xlink:href=\"#DejaVuSans-118\"/>\n     <use x=\"2516.037109\" xlink:href=\"#DejaVuSans-101\"/>\n     <use x=\"2577.560547\" xlink:href=\"#DejaVuSans-32\"/>\n     <use x=\"2609.347656\" xlink:href=\"#DejaVuSans-100\"/>\n     <use x=\"2672.824219\" xlink:href=\"#DejaVuSans-105\"/>\n     <use x=\"2700.607422\" xlink:href=\"#DejaVuSans-115\"/>\n     <use x=\"2752.707031\" xlink:href=\"#DejaVuSans-116\"/>\n     <use x=\"2791.916016\" xlink:href=\"#DejaVuSans-114\"/>\n     <use x=\"2833.029297\" xlink:href=\"#DejaVuSans-105\"/>\n     <use x=\"2860.8125\" xlink:href=\"#DejaVuSans-98\"/>\n     <use x=\"2924.289062\" xlink:href=\"#DejaVuSans-117\"/>\n     <use x=\"2987.667969\" xlink:href=\"#DejaVuSans-116\"/>\n     <use x=\"3026.876953\" xlink:href=\"#DejaVuSans-105\"/>\n     <use x=\"3054.660156\" xlink:href=\"#DejaVuSans-111\"/>\n     <use x=\"3115.841797\" xlink:href=\"#DejaVuSans-110\"/>\n     <use x=\"3179.220703\" xlink:href=\"#DejaVuSans-32\"/>\n     <use x=\"3211.007812\" xlink:href=\"#DejaVuSans-112\"/>\n     <use x=\"3274.484375\" xlink:href=\"#DejaVuSans-108\"/>\n     <use x=\"3302.267578\" xlink:href=\"#DejaVuSans-111\"/>\n     <use x=\"3363.449219\" xlink:href=\"#DejaVuSans-116\"/>\n     <use x=\"3402.658203\" xlink:href=\"#DejaVuSans-115\"/>\n    </g>\n   </g>\n  </g>\n </g>\n <defs>\n  <clipPath id=\"p58e1f788b4\">\n   <rect height=\"326.16\" width=\"1116\" x=\"42.828125\" y=\"22.318125\"/>\n  </clipPath>\n </defs>\n</svg>\n",
      "text/plain": "<Figure size 1440x432 with 1 Axes>"
     },
     "metadata": {
      "needs_background": "light"
     },
     "output_type": "display_data"
    }
   ],
   "source": [
    "analysis.distribution_imposition(X_train['question_title'], X_test['question_title'], 'Length of Question Title represented as cumulative distribution plots')"
   ]
  },
  {
   "cell_type": "code",
   "execution_count": 18,
   "metadata": {},
   "outputs": [
    {
     "data": {
      "image/png": "[encoded data removed]",
      "image/svg+xml": "<?xml version=\"1.0\" encoding=\"utf-8\" standalone=\"no\"?>\n<!DOCTYPE svg PUBLIC \"-//W3C//DTD SVG 1.1//EN\"\n  \"http://www.w3.org/Graphics/SVG/1.1/DTD/svg11.dtd\">\n<!-- Created with matplotlib (https://matplotlib.org/) -->\n<svg height=\"386.3125pt\" version=\"1.1\" viewBox=\"0 0 1172.390625 386.3125\" width=\"1172.390625pt\" xmlns=\"http://www.w3.org/2000/svg\" xmlns:xlink=\"http://www.w3.org/1999/xlink\">\n <defs>\n  <style type=\"text/css\">\n*{stroke-linecap:butt;stroke-linejoin:round;}\n  </style>\n </defs>\n <g id=\"figure_1\">\n  <g id=\"patch_1\">\n   <path d=\"M 0 386.3125 \nL 1172.390625 386.3125 \nL 1172.390625 0 \nL 0 0 \nz\n\" style=\"fill:none;\"/>\n  </g>\n  <g id=\"axes_1\">\n   <g id=\"patch_2\">\n    <path d=\"M 49.190625 348.478125 \nL 1165.190625 348.478125 \nL 1165.190625 22.318125 \nL 49.190625 22.318125 \nz\n\" style=\"fill:#ffffff;\"/>\n   </g>\n   <g id=\"patch_3\">\n    <path clip-path=\"url(#p526f400cd5)\" d=\"M 122.177702 348.478125 \nL 141.75238 348.478125 \nL 141.75238 122.133554 \nL 122.177702 122.133554 \nz\n\" style=\"fill:#1f77b4;opacity:0.4;\"/>\n   </g>\n   <g id=\"patch_4\">\n    <path clip-path=\"url(#p526f400cd5)\" d=\"M 141.75238 348.478125 \nL 161.327057 348.478125 \nL 161.327057 125.881357 \nL 141.75238 125.881357 \nz\n\" style=\"fill:#1f77b4;opacity:0.4;\"/>\n   </g>\n   <g id=\"patch_5\">\n    <path clip-path=\"url(#p526f400cd5)\" d=\"M 161.327057 348.478125 \nL 180.901735 348.478125 \nL 180.901735 241.154683 \nL 161.327057 241.154683 \nz\n\" style=\"fill:#1f77b4;opacity:0.4;\"/>\n   </g>\n   <g id=\"patch_6\">\n    <path clip-path=\"url(#p526f400cd5)\" d=\"M 180.901735 348.478125 \nL 200.476412 348.478125 \nL 200.476412 291.920375 \nL 180.901735 291.920375 \nz\n\" style=\"fill:#1f77b4;opacity:0.4;\"/>\n   </g>\n   <g id=\"patch_7\">\n    <path clip-path=\"url(#p526f400cd5)\" d=\"M 200.476412 348.478125 \nL 220.05109 348.478125 \nL 220.05109 319.063552 \nL 200.476412 319.063552 \nz\n\" style=\"fill:#1f77b4;opacity:0.4;\"/>\n   </g>\n   <g id=\"patch_8\">\n    <path clip-path=\"url(#p526f400cd5)\" d=\"M 220.05109 348.478125 \nL 239.625767 348.478125 \nL 239.625767 335.076891 \nL 220.05109 335.076891 \nz\n\" style=\"fill:#1f77b4;opacity:0.4;\"/>\n   </g>\n   <g id=\"patch_9\">\n    <path clip-path=\"url(#p526f400cd5)\" d=\"M 239.625767 348.478125 \nL 259.200445 348.478125 \nL 259.200445 338.938264 \nL 239.625767 338.938264 \nz\n\" style=\"fill:#1f77b4;opacity:0.4;\"/>\n   </g>\n   <g id=\"patch_10\">\n    <path clip-path=\"url(#p526f400cd5)\" d=\"M 259.200445 348.478125 \nL 278.775122 348.478125 \nL 278.775122 343.140345 \nL 259.200445 343.140345 \nz\n\" style=\"fill:#1f77b4;opacity:0.4;\"/>\n   </g>\n   <g id=\"patch_11\">\n    <path clip-path=\"url(#p526f400cd5)\" d=\"M 278.775122 348.478125 \nL 298.3498 348.478125 \nL 298.3498 344.843892 \nL 278.775122 344.843892 \nz\n\" style=\"fill:#1f77b4;opacity:0.4;\"/>\n   </g>\n   <g id=\"patch_12\">\n    <path clip-path=\"url(#p526f400cd5)\" d=\"M 298.3498 348.478125 \nL 317.924477 348.478125 \nL 317.924477 344.276043 \nL 298.3498 344.276043 \nz\n\" style=\"fill:#1f77b4;opacity:0.4;\"/>\n   </g>\n   <g id=\"patch_13\">\n    <path clip-path=\"url(#p526f400cd5)\" d=\"M 317.924477 348.478125 \nL 337.499155 348.478125 \nL 337.499155 346.433869 \nL 317.924477 346.433869 \nz\n\" style=\"fill:#1f77b4;opacity:0.4;\"/>\n   </g>\n   <g id=\"patch_14\">\n    <path clip-path=\"url(#p526f400cd5)\" d=\"M 337.499155 348.478125 \nL 357.073832 348.478125 \nL 357.073832 347.342427 \nL 337.499155 347.342427 \nz\n\" style=\"fill:#1f77b4;opacity:0.4;\"/>\n   </g>\n   <g id=\"patch_15\">\n    <path clip-path=\"url(#p526f400cd5)\" d=\"M 357.073832 348.478125 \nL 376.64851 348.478125 \nL 376.64851 346.888148 \nL 357.073832 346.888148 \nz\n\" style=\"fill:#1f77b4;opacity:0.4;\"/>\n   </g>\n   <g id=\"patch_16\">\n    <path clip-path=\"url(#p526f400cd5)\" d=\"M 376.64851 348.478125 \nL 396.223188 348.478125 \nL 396.223188 347.796706 \nL 376.64851 347.796706 \nz\n\" style=\"fill:#1f77b4;opacity:0.4;\"/>\n   </g>\n   <g id=\"patch_17\">\n    <path clip-path=\"url(#p526f400cd5)\" d=\"M 396.223188 348.478125 \nL 415.797865 348.478125 \nL 415.797865 347.796706 \nL 396.223188 347.796706 \nz\n\" style=\"fill:#1f77b4;opacity:0.4;\"/>\n   </g>\n   <g id=\"patch_18\">\n    <path clip-path=\"url(#p526f400cd5)\" d=\"M 415.797865 348.478125 \nL 435.372543 348.478125 \nL 435.372543 347.910276 \nL 415.797865 347.910276 \nz\n\" style=\"fill:#1f77b4;opacity:0.4;\"/>\n   </g>\n   <g id=\"patch_19\">\n    <path clip-path=\"url(#p526f400cd5)\" d=\"M 435.372543 348.478125 \nL 454.94722 348.478125 \nL 454.94722 346.888148 \nL 435.372543 346.888148 \nz\n\" style=\"fill:#1f77b4;opacity:0.4;\"/>\n   </g>\n   <g id=\"patch_20\">\n    <path clip-path=\"url(#p526f400cd5)\" d=\"M 454.94722 348.478125 \nL 474.521898 348.478125 \nL 474.521898 347.910276 \nL 454.94722 347.910276 \nz\n\" style=\"fill:#1f77b4;opacity:0.4;\"/>\n   </g>\n   <g id=\"patch_21\">\n    <path clip-path=\"url(#p526f400cd5)\" d=\"M 474.521898 348.478125 \nL 494.096575 348.478125 \nL 494.096575 348.023846 \nL 474.521898 348.023846 \nz\n\" style=\"fill:#1f77b4;opacity:0.4;\"/>\n   </g>\n   <g id=\"patch_22\">\n    <path clip-path=\"url(#p526f400cd5)\" d=\"M 494.096575 348.478125 \nL 513.671253 348.478125 \nL 513.671253 348.023846 \nL 494.096575 348.023846 \nz\n\" style=\"fill:#1f77b4;opacity:0.4;\"/>\n   </g>\n   <g id=\"patch_23\">\n    <path clip-path=\"url(#p526f400cd5)\" d=\"M 513.671253 348.478125 \nL 533.24593 348.478125 \nL 533.24593 348.478125 \nL 513.671253 348.478125 \nz\n\" style=\"fill:#1f77b4;opacity:0.4;\"/>\n   </g>\n   <g id=\"patch_24\">\n    <path clip-path=\"url(#p526f400cd5)\" d=\"M 533.24593 348.478125 \nL 552.820608 348.478125 \nL 552.820608 348.250985 \nL 533.24593 348.250985 \nz\n\" style=\"fill:#1f77b4;opacity:0.4;\"/>\n   </g>\n   <g id=\"patch_25\">\n    <path clip-path=\"url(#p526f400cd5)\" d=\"M 552.820608 348.478125 \nL 572.395285 348.478125 \nL 572.395285 348.137416 \nL 552.820608 348.137416 \nz\n\" style=\"fill:#1f77b4;opacity:0.4;\"/>\n   </g>\n   <g id=\"patch_26\">\n    <path clip-path=\"url(#p526f400cd5)\" d=\"M 572.395285 348.478125 \nL 591.969963 348.478125 \nL 591.969963 348.250985 \nL 572.395285 348.250985 \nz\n\" style=\"fill:#1f77b4;opacity:0.4;\"/>\n   </g>\n   <g id=\"patch_27\">\n    <path clip-path=\"url(#p526f400cd5)\" d=\"M 591.969963 348.478125 \nL 611.54464 348.478125 \nL 611.54464 348.478125 \nL 591.969963 348.478125 \nz\n\" style=\"fill:#1f77b4;opacity:0.4;\"/>\n   </g>\n   <g id=\"patch_28\">\n    <path clip-path=\"url(#p526f400cd5)\" d=\"M 611.54464 348.478125 \nL 631.119318 348.478125 \nL 631.119318 348.250985 \nL 611.54464 348.250985 \nz\n\" style=\"fill:#1f77b4;opacity:0.4;\"/>\n   </g>\n   <g id=\"patch_29\">\n    <path clip-path=\"url(#p526f400cd5)\" d=\"M 631.119318 348.478125 \nL 650.693996 348.478125 \nL 650.693996 348.023846 \nL 631.119318 348.023846 \nz\n\" style=\"fill:#1f77b4;opacity:0.4;\"/>\n   </g>\n   <g id=\"patch_30\">\n    <path clip-path=\"url(#p526f400cd5)\" d=\"M 650.693996 348.478125 \nL 670.268673 348.478125 \nL 670.268673 348.364555 \nL 650.693996 348.364555 \nz\n\" style=\"fill:#1f77b4;opacity:0.4;\"/>\n   </g>\n   <g id=\"patch_31\">\n    <path clip-path=\"url(#p526f400cd5)\" d=\"M 670.268673 348.478125 \nL 689.843351 348.478125 \nL 689.843351 348.478125 \nL 670.268673 348.478125 \nz\n\" style=\"fill:#1f77b4;opacity:0.4;\"/>\n   </g>\n   <g id=\"patch_32\">\n    <path clip-path=\"url(#p526f400cd5)\" d=\"M 689.843351 348.478125 \nL 709.418028 348.478125 \nL 709.418028 348.364555 \nL 689.843351 348.364555 \nz\n\" style=\"fill:#1f77b4;opacity:0.4;\"/>\n   </g>\n   <g id=\"patch_33\">\n    <path clip-path=\"url(#p526f400cd5)\" d=\"M 709.418028 348.478125 \nL 728.992706 348.478125 \nL 728.992706 348.478125 \nL 709.418028 348.478125 \nz\n\" style=\"fill:#1f77b4;opacity:0.4;\"/>\n   </g>\n   <g id=\"patch_34\">\n    <path clip-path=\"url(#p526f400cd5)\" d=\"M 728.992706 348.478125 \nL 748.567383 348.478125 \nL 748.567383 348.250985 \nL 728.992706 348.250985 \nz\n\" style=\"fill:#1f77b4;opacity:0.4;\"/>\n   </g>\n   <g id=\"patch_35\">\n    <path clip-path=\"url(#p526f400cd5)\" d=\"M 748.567383 348.478125 \nL 768.142061 348.478125 \nL 768.142061 348.478125 \nL 748.567383 348.478125 \nz\n\" style=\"fill:#1f77b4;opacity:0.4;\"/>\n   </g>\n   <g id=\"patch_36\">\n    <path clip-path=\"url(#p526f400cd5)\" d=\"M 768.142061 348.478125 \nL 787.716738 348.478125 \nL 787.716738 348.478125 \nL 768.142061 348.478125 \nz\n\" style=\"fill:#1f77b4;opacity:0.4;\"/>\n   </g>\n   <g id=\"patch_37\">\n    <path clip-path=\"url(#p526f400cd5)\" d=\"M 787.716738 348.478125 \nL 807.291416 348.478125 \nL 807.291416 348.478125 \nL 787.716738 348.478125 \nz\n\" style=\"fill:#1f77b4;opacity:0.4;\"/>\n   </g>\n   <g id=\"patch_38\">\n    <path clip-path=\"url(#p526f400cd5)\" d=\"M 807.291416 348.478125 \nL 826.866093 348.478125 \nL 826.866093 348.478125 \nL 807.291416 348.478125 \nz\n\" style=\"fill:#1f77b4;opacity:0.4;\"/>\n   </g>\n   <g id=\"patch_39\">\n    <path clip-path=\"url(#p526f400cd5)\" d=\"M 826.866093 348.478125 \nL 846.440771 348.478125 \nL 846.440771 348.478125 \nL 826.866093 348.478125 \nz\n\" style=\"fill:#1f77b4;opacity:0.4;\"/>\n   </g>\n   <g id=\"patch_40\">\n    <path clip-path=\"url(#p526f400cd5)\" d=\"M 846.440771 348.478125 \nL 866.015448 348.478125 \nL 866.015448 348.364555 \nL 846.440771 348.364555 \nz\n\" style=\"fill:#1f77b4;opacity:0.4;\"/>\n   </g>\n   <g id=\"patch_41\">\n    <path clip-path=\"url(#p526f400cd5)\" d=\"M 866.015448 348.478125 \nL 885.590126 348.478125 \nL 885.590126 348.478125 \nL 866.015448 348.478125 \nz\n\" style=\"fill:#1f77b4;opacity:0.4;\"/>\n   </g>\n   <g id=\"patch_42\">\n    <path clip-path=\"url(#p526f400cd5)\" d=\"M 885.590126 348.478125 \nL 905.164803 348.478125 \nL 905.164803 348.478125 \nL 885.590126 348.478125 \nz\n\" style=\"fill:#1f77b4;opacity:0.4;\"/>\n   </g>\n   <g id=\"patch_43\">\n    <path clip-path=\"url(#p526f400cd5)\" d=\"M 905.164803 348.478125 \nL 924.739481 348.478125 \nL 924.739481 348.478125 \nL 905.164803 348.478125 \nz\n\" style=\"fill:#1f77b4;opacity:0.4;\"/>\n   </g>\n   <g id=\"patch_44\">\n    <path clip-path=\"url(#p526f400cd5)\" d=\"M 924.739481 348.478125 \nL 944.314159 348.478125 \nL 944.314159 348.478125 \nL 924.739481 348.478125 \nz\n\" style=\"fill:#1f77b4;opacity:0.4;\"/>\n   </g>\n   <g id=\"patch_45\">\n    <path clip-path=\"url(#p526f400cd5)\" d=\"M 944.314159 348.478125 \nL 963.888836 348.478125 \nL 963.888836 348.478125 \nL 944.314159 348.478125 \nz\n\" style=\"fill:#1f77b4;opacity:0.4;\"/>\n   </g>\n   <g id=\"patch_46\">\n    <path clip-path=\"url(#p526f400cd5)\" d=\"M 963.888836 348.478125 \nL 983.463514 348.478125 \nL 983.463514 348.478125 \nL 963.888836 348.478125 \nz\n\" style=\"fill:#1f77b4;opacity:0.4;\"/>\n   </g>\n   <g id=\"patch_47\">\n    <path clip-path=\"url(#p526f400cd5)\" d=\"M 983.463514 348.478125 \nL 1003.038191 348.478125 \nL 1003.038191 348.478125 \nL 983.463514 348.478125 \nz\n\" style=\"fill:#1f77b4;opacity:0.4;\"/>\n   </g>\n   <g id=\"patch_48\">\n    <path clip-path=\"url(#p526f400cd5)\" d=\"M 1003.038191 348.478125 \nL 1022.612869 348.478125 \nL 1022.612869 348.478125 \nL 1003.038191 348.478125 \nz\n\" style=\"fill:#1f77b4;opacity:0.4;\"/>\n   </g>\n   <g id=\"patch_49\">\n    <path clip-path=\"url(#p526f400cd5)\" d=\"M 1022.612869 348.478125 \nL 1042.187546 348.478125 \nL 1042.187546 348.478125 \nL 1022.612869 348.478125 \nz\n\" style=\"fill:#1f77b4;opacity:0.4;\"/>\n   </g>\n   <g id=\"patch_50\">\n    <path clip-path=\"url(#p526f400cd5)\" d=\"M 1042.187546 348.478125 \nL 1061.762224 348.478125 \nL 1061.762224 348.478125 \nL 1042.187546 348.478125 \nz\n\" style=\"fill:#1f77b4;opacity:0.4;\"/>\n   </g>\n   <g id=\"patch_51\">\n    <path clip-path=\"url(#p526f400cd5)\" d=\"M 1061.762224 348.478125 \nL 1081.336901 348.478125 \nL 1081.336901 348.478125 \nL 1061.762224 348.478125 \nz\n\" style=\"fill:#1f77b4;opacity:0.4;\"/>\n   </g>\n   <g id=\"patch_52\">\n    <path clip-path=\"url(#p526f400cd5)\" d=\"M 1081.336901 348.478125 \nL 1100.911579 348.478125 \nL 1100.911579 348.250985 \nL 1081.336901 348.250985 \nz\n\" style=\"fill:#1f77b4;opacity:0.4;\"/>\n   </g>\n   <g id=\"patch_53\">\n    <path clip-path=\"url(#p526f400cd5)\" d=\"M 124.007871 348.478125 \nL 140.810859 348.478125 \nL 140.810859 105.168903 \nL 124.007871 105.168903 \nz\n\" style=\"fill:#ff7f0e;opacity:0.4;\"/>\n   </g>\n   <g id=\"patch_54\">\n    <path clip-path=\"url(#p526f400cd5)\" d=\"M 140.810859 348.478125 \nL 157.613847 348.478125 \nL 157.613847 96.720666 \nL 140.810859 96.720666 \nz\n\" style=\"fill:#ff7f0e;opacity:0.4;\"/>\n   </g>\n   <g id=\"patch_55\">\n    <path clip-path=\"url(#p526f400cd5)\" d=\"M 157.613847 348.478125 \nL 174.416835 348.478125 \nL 174.416835 223.444219 \nL 157.613847 223.444219 \nz\n\" style=\"fill:#ff7f0e;opacity:0.4;\"/>\n   </g>\n   <g id=\"patch_56\">\n    <path clip-path=\"url(#p526f400cd5)\" d=\"M 174.416835 348.478125 \nL 191.219823 348.478125 \nL 191.219823 275.823288 \nL 174.416835 275.823288 \nz\n\" style=\"fill:#ff7f0e;opacity:0.4;\"/>\n   </g>\n   <g id=\"patch_57\">\n    <path clip-path=\"url(#p526f400cd5)\" d=\"M 191.219823 348.478125 \nL 208.02281 348.478125 \nL 208.02281 314.685177 \nL 191.219823 314.685177 \nz\n\" style=\"fill:#ff7f0e;opacity:0.4;\"/>\n   </g>\n   <g id=\"patch_58\">\n    <path clip-path=\"url(#p526f400cd5)\" d=\"M 208.02281 348.478125 \nL 224.825798 348.478125 \nL 224.825798 328.202356 \nL 208.02281 328.202356 \nz\n\" style=\"fill:#ff7f0e;opacity:0.4;\"/>\n   </g>\n   <g id=\"patch_59\">\n    <path clip-path=\"url(#p526f400cd5)\" d=\"M 224.825798 348.478125 \nL 241.628786 348.478125 \nL 241.628786 336.650593 \nL 224.825798 336.650593 \nz\n\" style=\"fill:#ff7f0e;opacity:0.4;\"/>\n   </g>\n   <g id=\"patch_60\">\n    <path clip-path=\"url(#p526f400cd5)\" d=\"M 241.628786 348.478125 \nL 258.431774 348.478125 \nL 258.431774 340.029888 \nL 241.628786 340.029888 \nz\n\" style=\"fill:#ff7f0e;opacity:0.4;\"/>\n   </g>\n   <g id=\"patch_61\">\n    <path clip-path=\"url(#p526f400cd5)\" d=\"M 258.431774 348.478125 \nL 275.234762 348.478125 \nL 275.234762 346.788478 \nL 258.431774 346.788478 \nz\n\" style=\"fill:#ff7f0e;opacity:0.4;\"/>\n   </g>\n   <g id=\"patch_62\">\n    <path clip-path=\"url(#p526f400cd5)\" d=\"M 275.234762 348.478125 \nL 292.037749 348.478125 \nL 292.037749 341.719535 \nL 275.234762 341.719535 \nz\n\" style=\"fill:#ff7f0e;opacity:0.4;\"/>\n   </g>\n   <g id=\"patch_63\">\n    <path clip-path=\"url(#p526f400cd5)\" d=\"M 292.037749 348.478125 \nL 308.840737 348.478125 \nL 308.840737 346.788478 \nL 292.037749 346.788478 \nz\n\" style=\"fill:#ff7f0e;opacity:0.4;\"/>\n   </g>\n   <g id=\"patch_64\">\n    <path clip-path=\"url(#p526f400cd5)\" d=\"M 308.840737 348.478125 \nL 325.643725 348.478125 \nL 325.643725 340.029888 \nL 308.840737 340.029888 \nz\n\" style=\"fill:#ff7f0e;opacity:0.4;\"/>\n   </g>\n   <g id=\"patch_65\">\n    <path clip-path=\"url(#p526f400cd5)\" d=\"M 325.643725 348.478125 \nL 342.446713 348.478125 \nL 342.446713 336.650593 \nL 325.643725 336.650593 \nz\n\" style=\"fill:#ff7f0e;opacity:0.4;\"/>\n   </g>\n   <g id=\"patch_66\">\n    <path clip-path=\"url(#p526f400cd5)\" d=\"M 342.446713 348.478125 \nL 359.2497 348.478125 \nL 359.2497 348.478125 \nL 342.446713 348.478125 \nz\n\" style=\"fill:#ff7f0e;opacity:0.4;\"/>\n   </g>\n   <g id=\"patch_67\">\n    <path clip-path=\"url(#p526f400cd5)\" d=\"M 359.2497 348.478125 \nL 376.052688 348.478125 \nL 376.052688 348.478125 \nL 359.2497 348.478125 \nz\n\" style=\"fill:#ff7f0e;opacity:0.4;\"/>\n   </g>\n   <g id=\"patch_68\">\n    <path clip-path=\"url(#p526f400cd5)\" d=\"M 376.052688 348.478125 \nL 392.855676 348.478125 \nL 392.855676 343.409183 \nL 376.052688 343.409183 \nz\n\" style=\"fill:#ff7f0e;opacity:0.4;\"/>\n   </g>\n   <g id=\"patch_69\">\n    <path clip-path=\"url(#p526f400cd5)\" d=\"M 392.855676 348.478125 \nL 409.658664 348.478125 \nL 409.658664 348.478125 \nL 392.855676 348.478125 \nz\n\" style=\"fill:#ff7f0e;opacity:0.4;\"/>\n   </g>\n   <g id=\"patch_70\">\n    <path clip-path=\"url(#p526f400cd5)\" d=\"M 409.658664 348.478125 \nL 426.461652 348.478125 \nL 426.461652 348.478125 \nL 409.658664 348.478125 \nz\n\" style=\"fill:#ff7f0e;opacity:0.4;\"/>\n   </g>\n   <g id=\"patch_71\">\n    <path clip-path=\"url(#p526f400cd5)\" d=\"M 426.461652 348.478125 \nL 443.264639 348.478125 \nL 443.264639 348.478125 \nL 426.461652 348.478125 \nz\n\" style=\"fill:#ff7f0e;opacity:0.4;\"/>\n   </g>\n   <g id=\"patch_72\">\n    <path clip-path=\"url(#p526f400cd5)\" d=\"M 443.264639 348.478125 \nL 460.067627 348.478125 \nL 460.067627 348.478125 \nL 443.264639 348.478125 \nz\n\" style=\"fill:#ff7f0e;opacity:0.4;\"/>\n   </g>\n   <g id=\"patch_73\">\n    <path clip-path=\"url(#p526f400cd5)\" d=\"M 460.067627 348.478125 \nL 476.870615 348.478125 \nL 476.870615 348.478125 \nL 460.067627 348.478125 \nz\n\" style=\"fill:#ff7f0e;opacity:0.4;\"/>\n   </g>\n   <g id=\"patch_74\">\n    <path clip-path=\"url(#p526f400cd5)\" d=\"M 476.870615 348.478125 \nL 493.673603 348.478125 \nL 493.673603 348.478125 \nL 476.870615 348.478125 \nz\n\" style=\"fill:#ff7f0e;opacity:0.4;\"/>\n   </g>\n   <g id=\"patch_75\">\n    <path clip-path=\"url(#p526f400cd5)\" d=\"M 493.673603 348.478125 \nL 510.476591 348.478125 \nL 510.476591 348.478125 \nL 493.673603 348.478125 \nz\n\" style=\"fill:#ff7f0e;opacity:0.4;\"/>\n   </g>\n   <g id=\"patch_76\">\n    <path clip-path=\"url(#p526f400cd5)\" d=\"M 510.476591 348.478125 \nL 527.279578 348.478125 \nL 527.279578 348.478125 \nL 510.476591 348.478125 \nz\n\" style=\"fill:#ff7f0e;opacity:0.4;\"/>\n   </g>\n   <g id=\"patch_77\">\n    <path clip-path=\"url(#p526f400cd5)\" d=\"M 527.279578 348.478125 \nL 544.082566 348.478125 \nL 544.082566 348.478125 \nL 527.279578 348.478125 \nz\n\" style=\"fill:#ff7f0e;opacity:0.4;\"/>\n   </g>\n   <g id=\"patch_78\">\n    <path clip-path=\"url(#p526f400cd5)\" d=\"M 544.082566 348.478125 \nL 560.885554 348.478125 \nL 560.885554 348.478125 \nL 544.082566 348.478125 \nz\n\" style=\"fill:#ff7f0e;opacity:0.4;\"/>\n   </g>\n   <g id=\"patch_79\">\n    <path clip-path=\"url(#p526f400cd5)\" d=\"M 560.885554 348.478125 \nL 577.688542 348.478125 \nL 577.688542 348.478125 \nL 560.885554 348.478125 \nz\n\" style=\"fill:#ff7f0e;opacity:0.4;\"/>\n   </g>\n   <g id=\"patch_80\">\n    <path clip-path=\"url(#p526f400cd5)\" d=\"M 577.688542 348.478125 \nL 594.49153 348.478125 \nL 594.49153 348.478125 \nL 577.688542 348.478125 \nz\n\" style=\"fill:#ff7f0e;opacity:0.4;\"/>\n   </g>\n   <g id=\"patch_81\">\n    <path clip-path=\"url(#p526f400cd5)\" d=\"M 594.49153 348.478125 \nL 611.294517 348.478125 \nL 611.294517 348.478125 \nL 594.49153 348.478125 \nz\n\" style=\"fill:#ff7f0e;opacity:0.4;\"/>\n   </g>\n   <g id=\"patch_82\">\n    <path clip-path=\"url(#p526f400cd5)\" d=\"M 611.294517 348.478125 \nL 628.097505 348.478125 \nL 628.097505 348.478125 \nL 611.294517 348.478125 \nz\n\" style=\"fill:#ff7f0e;opacity:0.4;\"/>\n   </g>\n   <g id=\"patch_83\">\n    <path clip-path=\"url(#p526f400cd5)\" d=\"M 628.097505 348.478125 \nL 644.900493 348.478125 \nL 644.900493 348.478125 \nL 628.097505 348.478125 \nz\n\" style=\"fill:#ff7f0e;opacity:0.4;\"/>\n   </g>\n   <g id=\"patch_84\">\n    <path clip-path=\"url(#p526f400cd5)\" d=\"M 644.900493 348.478125 \nL 661.703481 348.478125 \nL 661.703481 348.478125 \nL 644.900493 348.478125 \nz\n\" style=\"fill:#ff7f0e;opacity:0.4;\"/>\n   </g>\n   <g id=\"patch_85\">\n    <path clip-path=\"url(#p526f400cd5)\" d=\"M 661.703481 348.478125 \nL 678.506468 348.478125 \nL 678.506468 348.478125 \nL 661.703481 348.478125 \nz\n\" style=\"fill:#ff7f0e;opacity:0.4;\"/>\n   </g>\n   <g id=\"patch_86\">\n    <path clip-path=\"url(#p526f400cd5)\" d=\"M 678.506468 348.478125 \nL 695.309456 348.478125 \nL 695.309456 348.478125 \nL 678.506468 348.478125 \nz\n\" style=\"fill:#ff7f0e;opacity:0.4;\"/>\n   </g>\n   <g id=\"patch_87\">\n    <path clip-path=\"url(#p526f400cd5)\" d=\"M 695.309456 348.478125 \nL 712.112444 348.478125 \nL 712.112444 348.478125 \nL 695.309456 348.478125 \nz\n\" style=\"fill:#ff7f0e;opacity:0.4;\"/>\n   </g>\n   <g id=\"patch_88\">\n    <path clip-path=\"url(#p526f400cd5)\" d=\"M 712.112444 348.478125 \nL 728.915432 348.478125 \nL 728.915432 348.478125 \nL 712.112444 348.478125 \nz\n\" style=\"fill:#ff7f0e;opacity:0.4;\"/>\n   </g>\n   <g id=\"patch_89\">\n    <path clip-path=\"url(#p526f400cd5)\" d=\"M 728.915432 348.478125 \nL 745.71842 348.478125 \nL 745.71842 348.478125 \nL 728.915432 348.478125 \nz\n\" style=\"fill:#ff7f0e;opacity:0.4;\"/>\n   </g>\n   <g id=\"patch_90\">\n    <path clip-path=\"url(#p526f400cd5)\" d=\"M 745.71842 348.478125 \nL 762.521407 348.478125 \nL 762.521407 348.478125 \nL 745.71842 348.478125 \nz\n\" style=\"fill:#ff7f0e;opacity:0.4;\"/>\n   </g>\n   <g id=\"patch_91\">\n    <path clip-path=\"url(#p526f400cd5)\" d=\"M 762.521407 348.478125 \nL 779.324395 348.478125 \nL 779.324395 348.478125 \nL 762.521407 348.478125 \nz\n\" style=\"fill:#ff7f0e;opacity:0.4;\"/>\n   </g>\n   <g id=\"patch_92\">\n    <path clip-path=\"url(#p526f400cd5)\" d=\"M 779.324395 348.478125 \nL 796.127383 348.478125 \nL 796.127383 348.478125 \nL 779.324395 348.478125 \nz\n\" style=\"fill:#ff7f0e;opacity:0.4;\"/>\n   </g>\n   <g id=\"patch_93\">\n    <path clip-path=\"url(#p526f400cd5)\" d=\"M 796.127383 348.478125 \nL 812.930371 348.478125 \nL 812.930371 348.478125 \nL 796.127383 348.478125 \nz\n\" style=\"fill:#ff7f0e;opacity:0.4;\"/>\n   </g>\n   <g id=\"patch_94\">\n    <path clip-path=\"url(#p526f400cd5)\" d=\"M 812.930371 348.478125 \nL 829.733359 348.478125 \nL 829.733359 348.478125 \nL 812.930371 348.478125 \nz\n\" style=\"fill:#ff7f0e;opacity:0.4;\"/>\n   </g>\n   <g id=\"patch_95\">\n    <path clip-path=\"url(#p526f400cd5)\" d=\"M 829.733359 348.478125 \nL 846.536346 348.478125 \nL 846.536346 348.478125 \nL 829.733359 348.478125 \nz\n\" style=\"fill:#ff7f0e;opacity:0.4;\"/>\n   </g>\n   <g id=\"patch_96\">\n    <path clip-path=\"url(#p526f400cd5)\" d=\"M 846.536346 348.478125 \nL 863.339334 348.478125 \nL 863.339334 348.478125 \nL 846.536346 348.478125 \nz\n\" style=\"fill:#ff7f0e;opacity:0.4;\"/>\n   </g>\n   <g id=\"patch_97\">\n    <path clip-path=\"url(#p526f400cd5)\" d=\"M 863.339334 348.478125 \nL 880.142322 348.478125 \nL 880.142322 348.478125 \nL 863.339334 348.478125 \nz\n\" style=\"fill:#ff7f0e;opacity:0.4;\"/>\n   </g>\n   <g id=\"patch_98\">\n    <path clip-path=\"url(#p526f400cd5)\" d=\"M 880.142322 348.478125 \nL 896.94531 348.478125 \nL 896.94531 348.478125 \nL 880.142322 348.478125 \nz\n\" style=\"fill:#ff7f0e;opacity:0.4;\"/>\n   </g>\n   <g id=\"patch_99\">\n    <path clip-path=\"url(#p526f400cd5)\" d=\"M 896.94531 348.478125 \nL 913.748298 348.478125 \nL 913.748298 348.478125 \nL 896.94531 348.478125 \nz\n\" style=\"fill:#ff7f0e;opacity:0.4;\"/>\n   </g>\n   <g id=\"patch_100\">\n    <path clip-path=\"url(#p526f400cd5)\" d=\"M 913.748298 348.478125 \nL 930.551285 348.478125 \nL 930.551285 348.478125 \nL 913.748298 348.478125 \nz\n\" style=\"fill:#ff7f0e;opacity:0.4;\"/>\n   </g>\n   <g id=\"patch_101\">\n    <path clip-path=\"url(#p526f400cd5)\" d=\"M 930.551285 348.478125 \nL 947.354273 348.478125 \nL 947.354273 348.478125 \nL 930.551285 348.478125 \nz\n\" style=\"fill:#ff7f0e;opacity:0.4;\"/>\n   </g>\n   <g id=\"patch_102\">\n    <path clip-path=\"url(#p526f400cd5)\" d=\"M 947.354273 348.478125 \nL 964.157261 348.478125 \nL 964.157261 346.788478 \nL 947.354273 346.788478 \nz\n\" style=\"fill:#ff7f0e;opacity:0.4;\"/>\n   </g>\n   <g id=\"matplotlib.axis_1\">\n    <g id=\"xtick_1\">\n     <g id=\"line2d_1\">\n      <defs>\n       <path d=\"M 0 0 \nL 0 3.5 \n\" id=\"m0e141c3482\" style=\"stroke:#000000;stroke-width:0.8;\"/>\n      </defs>\n      <g>\n       <use style=\"stroke:#000000;stroke-width:0.8;\" x=\"122.126864\" xlink:href=\"#m0e141c3482\" y=\"348.478125\"/>\n      </g>\n     </g>\n     <g id=\"text_1\">\n      <!-- 0 -->\n      <defs>\n       <path d=\"M 31.78125 66.40625 \nQ 24.171875 66.40625 20.328125 58.90625 \nQ 16.5 51.421875 16.5 36.375 \nQ 16.5 21.390625 20.328125 13.890625 \nQ 24.171875 6.390625 31.78125 6.390625 \nQ 39.453125 6.390625 43.28125 13.890625 \nQ 47.125 21.390625 47.125 36.375 \nQ 47.125 51.421875 43.28125 58.90625 \nQ 39.453125 66.40625 31.78125 66.40625 \nz\nM 31.78125 74.21875 \nQ 44.046875 74.21875 50.515625 64.515625 \nQ 56.984375 54.828125 56.984375 36.375 \nQ 56.984375 17.96875 50.515625 8.265625 \nQ 44.046875 -1.421875 31.78125 -1.421875 \nQ 19.53125 -1.421875 13.0625 8.265625 \nQ 6.59375 17.96875 6.59375 36.375 \nQ 6.59375 54.828125 13.0625 64.515625 \nQ 19.53125 74.21875 31.78125 74.21875 \nz\n\" id=\"DejaVuSans-48\"/>\n      </defs>\n      <g transform=\"translate(118.945614 363.076562)scale(0.1 -0.1)\">\n       <use xlink:href=\"#DejaVuSans-48\"/>\n      </g>\n     </g>\n    </g>\n    <g id=\"xtick_2\">\n     <g id=\"line2d_2\">\n      <g>\n       <use style=\"stroke:#000000;stroke-width:0.8;\" x=\"249.221955\" xlink:href=\"#m0e141c3482\" y=\"348.478125\"/>\n      </g>\n     </g>\n     <g id=\"text_2\">\n      <!-- 2500 -->\n      <defs>\n       <path d=\"M 19.1875 8.296875 \nL 53.609375 8.296875 \nL 53.609375 0 \nL 7.328125 0 \nL 7.328125 8.296875 \nQ 12.9375 14.109375 22.625 23.890625 \nQ 32.328125 33.6875 34.8125 36.53125 \nQ 39.546875 41.84375 41.421875 45.53125 \nQ 43.3125 49.21875 43.3125 52.78125 \nQ 43.3125 58.59375 39.234375 62.25 \nQ 35.15625 65.921875 28.609375 65.921875 \nQ 23.96875 65.921875 18.8125 64.3125 \nQ 13.671875 62.703125 7.8125 59.421875 \nL 7.8125 69.390625 \nQ 13.765625 71.78125 18.9375 73 \nQ 24.125 74.21875 28.421875 74.21875 \nQ 39.75 74.21875 46.484375 68.546875 \nQ 53.21875 62.890625 53.21875 53.421875 \nQ 53.21875 48.921875 51.53125 44.890625 \nQ 49.859375 40.875 45.40625 35.40625 \nQ 44.1875 33.984375 37.640625 27.21875 \nQ 31.109375 20.453125 19.1875 8.296875 \nz\n\" id=\"DejaVuSans-50\"/>\n       <path d=\"M 10.796875 72.90625 \nL 49.515625 72.90625 \nL 49.515625 64.59375 \nL 19.828125 64.59375 \nL 19.828125 46.734375 \nQ 21.96875 47.46875 24.109375 47.828125 \nQ 26.265625 48.1875 28.421875 48.1875 \nQ 40.625 48.1875 47.75 41.5 \nQ 54.890625 34.8125 54.890625 23.390625 \nQ 54.890625 11.625 47.5625 5.09375 \nQ 40.234375 -1.421875 26.90625 -1.421875 \nQ 22.3125 -1.421875 17.546875 -0.640625 \nQ 12.796875 0.140625 7.71875 1.703125 \nL 7.71875 11.625 \nQ 12.109375 9.234375 16.796875 8.0625 \nQ 21.484375 6.890625 26.703125 6.890625 \nQ 35.15625 6.890625 40.078125 11.328125 \nQ 45.015625 15.765625 45.015625 23.390625 \nQ 45.015625 31 40.078125 35.4375 \nQ 35.15625 39.890625 26.703125 39.890625 \nQ 22.75 39.890625 18.8125 39.015625 \nQ 14.890625 38.140625 10.796875 36.28125 \nz\n\" id=\"DejaVuSans-53\"/>\n      </defs>\n      <g transform=\"translate(236.496955 363.076562)scale(0.1 -0.1)\">\n       <use xlink:href=\"#DejaVuSans-50\"/>\n       <use x=\"63.623047\" xlink:href=\"#DejaVuSans-53\"/>\n       <use x=\"127.246094\" xlink:href=\"#DejaVuSans-48\"/>\n       <use x=\"190.869141\" xlink:href=\"#DejaVuSans-48\"/>\n      </g>\n     </g>\n    </g>\n    <g id=\"xtick_3\">\n     <g id=\"line2d_3\">\n      <g>\n       <use style=\"stroke:#000000;stroke-width:0.8;\" x=\"376.317046\" xlink:href=\"#m0e141c3482\" y=\"348.478125\"/>\n      </g>\n     </g>\n     <g id=\"text_3\">\n      <!-- 5000 -->\n      <g transform=\"translate(363.592046 363.076562)scale(0.1 -0.1)\">\n       <use xlink:href=\"#DejaVuSans-53\"/>\n       <use x=\"63.623047\" xlink:href=\"#DejaVuSans-48\"/>\n       <use x=\"127.246094\" xlink:href=\"#DejaVuSans-48\"/>\n       <use x=\"190.869141\" xlink:href=\"#DejaVuSans-48\"/>\n      </g>\n     </g>\n    </g>\n    <g id=\"xtick_4\">\n     <g id=\"line2d_4\">\n      <g>\n       <use style=\"stroke:#000000;stroke-width:0.8;\" x=\"503.412137\" xlink:href=\"#m0e141c3482\" y=\"348.478125\"/>\n      </g>\n     </g>\n     <g id=\"text_4\">\n      <!-- 7500 -->\n      <defs>\n       <path d=\"M 8.203125 72.90625 \nL 55.078125 72.90625 \nL 55.078125 68.703125 \nL 28.609375 0 \nL 18.3125 0 \nL 43.21875 64.59375 \nL 8.203125 64.59375 \nz\n\" id=\"DejaVuSans-55\"/>\n      </defs>\n      <g transform=\"translate(490.687137 363.076562)scale(0.1 -0.1)\">\n       <use xlink:href=\"#DejaVuSans-55\"/>\n       <use x=\"63.623047\" xlink:href=\"#DejaVuSans-53\"/>\n       <use x=\"127.246094\" xlink:href=\"#DejaVuSans-48\"/>\n       <use x=\"190.869141\" xlink:href=\"#DejaVuSans-48\"/>\n      </g>\n     </g>\n    </g>\n    <g id=\"xtick_5\">\n     <g id=\"line2d_5\">\n      <g>\n       <use style=\"stroke:#000000;stroke-width:0.8;\" x=\"630.507228\" xlink:href=\"#m0e141c3482\" y=\"348.478125\"/>\n      </g>\n     </g>\n     <g id=\"text_5\">\n      <!-- 10000 -->\n      <defs>\n       <path d=\"M 12.40625 8.296875 \nL 28.515625 8.296875 \nL 28.515625 63.921875 \nL 10.984375 60.40625 \nL 10.984375 69.390625 \nL 28.421875 72.90625 \nL 38.28125 72.90625 \nL 38.28125 8.296875 \nL 54.390625 8.296875 \nL 54.390625 0 \nL 12.40625 0 \nz\n\" id=\"DejaVuSans-49\"/>\n      </defs>\n      <g transform=\"translate(614.600978 363.076562)scale(0.1 -0.1)\">\n       <use xlink:href=\"#DejaVuSans-49\"/>\n       <use x=\"63.623047\" xlink:href=\"#DejaVuSans-48\"/>\n       <use x=\"127.246094\" xlink:href=\"#DejaVuSans-48\"/>\n       <use x=\"190.869141\" xlink:href=\"#DejaVuSans-48\"/>\n       <use x=\"254.492188\" xlink:href=\"#DejaVuSans-48\"/>\n      </g>\n     </g>\n    </g>\n    <g id=\"xtick_6\">\n     <g id=\"line2d_6\">\n      <g>\n       <use style=\"stroke:#000000;stroke-width:0.8;\" x=\"757.602319\" xlink:href=\"#m0e141c3482\" y=\"348.478125\"/>\n      </g>\n     </g>\n     <g id=\"text_6\">\n      <!-- 12500 -->\n      <g transform=\"translate(741.696069 363.076562)scale(0.1 -0.1)\">\n       <use xlink:href=\"#DejaVuSans-49\"/>\n       <use x=\"63.623047\" xlink:href=\"#DejaVuSans-50\"/>\n       <use x=\"127.246094\" xlink:href=\"#DejaVuSans-53\"/>\n       <use x=\"190.869141\" xlink:href=\"#DejaVuSans-48\"/>\n       <use x=\"254.492188\" xlink:href=\"#DejaVuSans-48\"/>\n      </g>\n     </g>\n    </g>\n    <g id=\"xtick_7\">\n     <g id=\"line2d_7\">\n      <g>\n       <use style=\"stroke:#000000;stroke-width:0.8;\" x=\"884.69741\" xlink:href=\"#m0e141c3482\" y=\"348.478125\"/>\n      </g>\n     </g>\n     <g id=\"text_7\">\n      <!-- 15000 -->\n      <g transform=\"translate(868.79116 363.076562)scale(0.1 -0.1)\">\n       <use xlink:href=\"#DejaVuSans-49\"/>\n       <use x=\"63.623047\" xlink:href=\"#DejaVuSans-53\"/>\n       <use x=\"127.246094\" xlink:href=\"#DejaVuSans-48\"/>\n       <use x=\"190.869141\" xlink:href=\"#DejaVuSans-48\"/>\n       <use x=\"254.492188\" xlink:href=\"#DejaVuSans-48\"/>\n      </g>\n     </g>\n    </g>\n    <g id=\"xtick_8\">\n     <g id=\"line2d_8\">\n      <g>\n       <use style=\"stroke:#000000;stroke-width:0.8;\" x=\"1011.792501\" xlink:href=\"#m0e141c3482\" y=\"348.478125\"/>\n      </g>\n     </g>\n     <g id=\"text_8\">\n      <!-- 17500 -->\n      <g transform=\"translate(995.886251 363.076562)scale(0.1 -0.1)\">\n       <use xlink:href=\"#DejaVuSans-49\"/>\n       <use x=\"63.623047\" xlink:href=\"#DejaVuSans-55\"/>\n       <use x=\"127.246094\" xlink:href=\"#DejaVuSans-53\"/>\n       <use x=\"190.869141\" xlink:href=\"#DejaVuSans-48\"/>\n       <use x=\"254.492188\" xlink:href=\"#DejaVuSans-48\"/>\n      </g>\n     </g>\n    </g>\n    <g id=\"xtick_9\">\n     <g id=\"line2d_9\">\n      <g>\n       <use style=\"stroke:#000000;stroke-width:0.8;\" x=\"1138.887592\" xlink:href=\"#m0e141c3482\" y=\"348.478125\"/>\n      </g>\n     </g>\n     <g id=\"text_9\">\n      <!-- 20000 -->\n      <g transform=\"translate(1122.981342 363.076562)scale(0.1 -0.1)\">\n       <use xlink:href=\"#DejaVuSans-50\"/>\n       <use x=\"63.623047\" xlink:href=\"#DejaVuSans-48\"/>\n       <use x=\"127.246094\" xlink:href=\"#DejaVuSans-48\"/>\n       <use x=\"190.869141\" xlink:href=\"#DejaVuSans-48\"/>\n       <use x=\"254.492188\" xlink:href=\"#DejaVuSans-48\"/>\n      </g>\n     </g>\n    </g>\n    <g id=\"text_10\">\n     <!-- question_body -->\n     <defs>\n      <path d=\"M 14.796875 27.296875 \nQ 14.796875 17.390625 18.875 11.75 \nQ 22.953125 6.109375 30.078125 6.109375 \nQ 37.203125 6.109375 41.296875 11.75 \nQ 45.40625 17.390625 45.40625 27.296875 \nQ 45.40625 37.203125 41.296875 42.84375 \nQ 37.203125 48.484375 30.078125 48.484375 \nQ 22.953125 48.484375 18.875 42.84375 \nQ 14.796875 37.203125 14.796875 27.296875 \nz\nM 45.40625 8.203125 \nQ 42.578125 3.328125 38.25 0.953125 \nQ 33.9375 -1.421875 27.875 -1.421875 \nQ 17.96875 -1.421875 11.734375 6.484375 \nQ 5.515625 14.40625 5.515625 27.296875 \nQ 5.515625 40.1875 11.734375 48.09375 \nQ 17.96875 56 27.875 56 \nQ 33.9375 56 38.25 53.625 \nQ 42.578125 51.265625 45.40625 46.390625 \nL 45.40625 54.6875 \nL 54.390625 54.6875 \nL 54.390625 -20.796875 \nL 45.40625 -20.796875 \nz\n\" id=\"DejaVuSans-113\"/>\n      <path d=\"M 8.5 21.578125 \nL 8.5 54.6875 \nL 17.484375 54.6875 \nL 17.484375 21.921875 \nQ 17.484375 14.15625 20.5 10.265625 \nQ 23.53125 6.390625 29.59375 6.390625 \nQ 36.859375 6.390625 41.078125 11.03125 \nQ 45.3125 15.671875 45.3125 23.6875 \nL 45.3125 54.6875 \nL 54.296875 54.6875 \nL 54.296875 0 \nL 45.3125 0 \nL 45.3125 8.40625 \nQ 42.046875 3.421875 37.71875 1 \nQ 33.40625 -1.421875 27.6875 -1.421875 \nQ 18.265625 -1.421875 13.375 4.4375 \nQ 8.5 10.296875 8.5 21.578125 \nz\nM 31.109375 56 \nz\n\" id=\"DejaVuSans-117\"/>\n      <path d=\"M 56.203125 29.59375 \nL 56.203125 25.203125 \nL 14.890625 25.203125 \nQ 15.484375 15.921875 20.484375 11.0625 \nQ 25.484375 6.203125 34.421875 6.203125 \nQ 39.59375 6.203125 44.453125 7.46875 \nQ 49.3125 8.734375 54.109375 11.28125 \nL 54.109375 2.78125 \nQ 49.265625 0.734375 44.1875 -0.34375 \nQ 39.109375 -1.421875 33.890625 -1.421875 \nQ 20.796875 -1.421875 13.15625 6.1875 \nQ 5.515625 13.8125 5.515625 26.8125 \nQ 5.515625 40.234375 12.765625 48.109375 \nQ 20.015625 56 32.328125 56 \nQ 43.359375 56 49.78125 48.890625 \nQ 56.203125 41.796875 56.203125 29.59375 \nz\nM 47.21875 32.234375 \nQ 47.125 39.59375 43.09375 43.984375 \nQ 39.0625 48.390625 32.421875 48.390625 \nQ 24.90625 48.390625 20.390625 44.140625 \nQ 15.875 39.890625 15.1875 32.171875 \nz\n\" id=\"DejaVuSans-101\"/>\n      <path d=\"M 44.28125 53.078125 \nL 44.28125 44.578125 \nQ 40.484375 46.53125 36.375 47.5 \nQ 32.28125 48.484375 27.875 48.484375 \nQ 21.1875 48.484375 17.84375 46.4375 \nQ 14.5 44.390625 14.5 40.28125 \nQ 14.5 37.15625 16.890625 35.375 \nQ 19.28125 33.59375 26.515625 31.984375 \nL 29.59375 31.296875 \nQ 39.15625 29.25 43.1875 25.515625 \nQ 47.21875 21.78125 47.21875 15.09375 \nQ 47.21875 7.46875 41.1875 3.015625 \nQ 35.15625 -1.421875 24.609375 -1.421875 \nQ 20.21875 -1.421875 15.453125 -0.5625 \nQ 10.6875 0.296875 5.421875 2 \nL 5.421875 11.28125 \nQ 10.40625 8.6875 15.234375 7.390625 \nQ 20.0625 6.109375 24.8125 6.109375 \nQ 31.15625 6.109375 34.5625 8.28125 \nQ 37.984375 10.453125 37.984375 14.40625 \nQ 37.984375 18.0625 35.515625 20.015625 \nQ 33.0625 21.96875 24.703125 23.78125 \nL 21.578125 24.515625 \nQ 13.234375 26.265625 9.515625 29.90625 \nQ 5.8125 33.546875 5.8125 39.890625 \nQ 5.8125 47.609375 11.28125 51.796875 \nQ 16.75 56 26.8125 56 \nQ 31.78125 56 36.171875 55.265625 \nQ 40.578125 54.546875 44.28125 53.078125 \nz\n\" id=\"DejaVuSans-115\"/>\n      <path d=\"M 18.3125 70.21875 \nL 18.3125 54.6875 \nL 36.8125 54.6875 \nL 36.8125 47.703125 \nL 18.3125 47.703125 \nL 18.3125 18.015625 \nQ 18.3125 11.328125 20.140625 9.421875 \nQ 21.96875 7.515625 27.59375 7.515625 \nL 36.8125 7.515625 \nL 36.8125 0 \nL 27.59375 0 \nQ 17.1875 0 13.234375 3.875 \nQ 9.28125 7.765625 9.28125 18.015625 \nL 9.28125 47.703125 \nL 2.6875 47.703125 \nL 2.6875 54.6875 \nL 9.28125 54.6875 \nL 9.28125 70.21875 \nz\n\" id=\"DejaVuSans-116\"/>\n      <path d=\"M 9.421875 54.6875 \nL 18.40625 54.6875 \nL 18.40625 0 \nL 9.421875 0 \nz\nM 9.421875 75.984375 \nL 18.40625 75.984375 \nL 18.40625 64.59375 \nL 9.421875 64.59375 \nz\n\" id=\"DejaVuSans-105\"/>\n      <path d=\"M 30.609375 48.390625 \nQ 23.390625 48.390625 19.1875 42.75 \nQ 14.984375 37.109375 14.984375 27.296875 \nQ 14.984375 17.484375 19.15625 11.84375 \nQ 23.34375 6.203125 30.609375 6.203125 \nQ 37.796875 6.203125 41.984375 11.859375 \nQ 46.1875 17.53125 46.1875 27.296875 \nQ 46.1875 37.015625 41.984375 42.703125 \nQ 37.796875 48.390625 30.609375 48.390625 \nz\nM 30.609375 56 \nQ 42.328125 56 49.015625 48.375 \nQ 55.71875 40.765625 55.71875 27.296875 \nQ 55.71875 13.875 49.015625 6.21875 \nQ 42.328125 -1.421875 30.609375 -1.421875 \nQ 18.84375 -1.421875 12.171875 6.21875 \nQ 5.515625 13.875 5.515625 27.296875 \nQ 5.515625 40.765625 12.171875 48.375 \nQ 18.84375 56 30.609375 56 \nz\n\" id=\"DejaVuSans-111\"/>\n      <path d=\"M 54.890625 33.015625 \nL 54.890625 0 \nL 45.90625 0 \nL 45.90625 32.71875 \nQ 45.90625 40.484375 42.875 44.328125 \nQ 39.84375 48.1875 33.796875 48.1875 \nQ 26.515625 48.1875 22.3125 43.546875 \nQ 18.109375 38.921875 18.109375 30.90625 \nL 18.109375 0 \nL 9.078125 0 \nL 9.078125 54.6875 \nL 18.109375 54.6875 \nL 18.109375 46.1875 \nQ 21.34375 51.125 25.703125 53.5625 \nQ 30.078125 56 35.796875 56 \nQ 45.21875 56 50.046875 50.171875 \nQ 54.890625 44.34375 54.890625 33.015625 \nz\n\" id=\"DejaVuSans-110\"/>\n      <path d=\"M 50.984375 -16.609375 \nL 50.984375 -23.578125 \nL -0.984375 -23.578125 \nL -0.984375 -16.609375 \nz\n\" id=\"DejaVuSans-95\"/>\n      <path d=\"M 48.6875 27.296875 \nQ 48.6875 37.203125 44.609375 42.84375 \nQ 40.53125 48.484375 33.40625 48.484375 \nQ 26.265625 48.484375 22.1875 42.84375 \nQ 18.109375 37.203125 18.109375 27.296875 \nQ 18.109375 17.390625 22.1875 11.75 \nQ 26.265625 6.109375 33.40625 6.109375 \nQ 40.53125 6.109375 44.609375 11.75 \nQ 48.6875 17.390625 48.6875 27.296875 \nz\nM 18.109375 46.390625 \nQ 20.953125 51.265625 25.265625 53.625 \nQ 29.59375 56 35.59375 56 \nQ 45.5625 56 51.78125 48.09375 \nQ 58.015625 40.1875 58.015625 27.296875 \nQ 58.015625 14.40625 51.78125 6.484375 \nQ 45.5625 -1.421875 35.59375 -1.421875 \nQ 29.59375 -1.421875 25.265625 0.953125 \nQ 20.953125 3.328125 18.109375 8.203125 \nL 18.109375 0 \nL 9.078125 0 \nL 9.078125 75.984375 \nL 18.109375 75.984375 \nz\n\" id=\"DejaVuSans-98\"/>\n      <path d=\"M 45.40625 46.390625 \nL 45.40625 75.984375 \nL 54.390625 75.984375 \nL 54.390625 0 \nL 45.40625 0 \nL 45.40625 8.203125 \nQ 42.578125 3.328125 38.25 0.953125 \nQ 33.9375 -1.421875 27.875 -1.421875 \nQ 17.96875 -1.421875 11.734375 6.484375 \nQ 5.515625 14.40625 5.515625 27.296875 \nQ 5.515625 40.1875 11.734375 48.09375 \nQ 17.96875 56 27.875 56 \nQ 33.9375 56 38.25 53.625 \nQ 42.578125 51.265625 45.40625 46.390625 \nz\nM 14.796875 27.296875 \nQ 14.796875 17.390625 18.875 11.75 \nQ 22.953125 6.109375 30.078125 6.109375 \nQ 37.203125 6.109375 41.296875 11.75 \nQ 45.40625 17.390625 45.40625 27.296875 \nQ 45.40625 37.203125 41.296875 42.84375 \nQ 37.203125 48.484375 30.078125 48.484375 \nQ 22.953125 48.484375 18.875 42.84375 \nQ 14.796875 37.203125 14.796875 27.296875 \nz\n\" id=\"DejaVuSans-100\"/>\n      <path d=\"M 32.171875 -5.078125 \nQ 28.375 -14.84375 24.75 -17.8125 \nQ 21.140625 -20.796875 15.09375 -20.796875 \nL 7.90625 -20.796875 \nL 7.90625 -13.28125 \nL 13.1875 -13.28125 \nQ 16.890625 -13.28125 18.9375 -11.515625 \nQ 21 -9.765625 23.484375 -3.21875 \nL 25.09375 0.875 \nL 2.984375 54.6875 \nL 12.5 54.6875 \nL 29.59375 11.921875 \nL 46.6875 54.6875 \nL 56.203125 54.6875 \nz\n\" id=\"DejaVuSans-121\"/>\n     </defs>\n     <g transform=\"translate(570.721875 376.754687)scale(0.1 -0.1)\">\n      <use xlink:href=\"#DejaVuSans-113\"/>\n      <use x=\"63.476562\" xlink:href=\"#DejaVuSans-117\"/>\n      <use x=\"126.855469\" xlink:href=\"#DejaVuSans-101\"/>\n      <use x=\"188.378906\" xlink:href=\"#DejaVuSans-115\"/>\n      <use x=\"240.478516\" xlink:href=\"#DejaVuSans-116\"/>\n      <use x=\"279.6875\" xlink:href=\"#DejaVuSans-105\"/>\n      <use x=\"307.470703\" xlink:href=\"#DejaVuSans-111\"/>\n      <use x=\"368.652344\" xlink:href=\"#DejaVuSans-110\"/>\n      <use x=\"432.03125\" xlink:href=\"#DejaVuSans-95\"/>\n      <use x=\"482.03125\" xlink:href=\"#DejaVuSans-98\"/>\n      <use x=\"545.507812\" xlink:href=\"#DejaVuSans-111\"/>\n      <use x=\"606.689453\" xlink:href=\"#DejaVuSans-100\"/>\n      <use x=\"670.166016\" xlink:href=\"#DejaVuSans-121\"/>\n     </g>\n    </g>\n   </g>\n   <g id=\"matplotlib.axis_2\">\n    <g id=\"ytick_1\">\n     <g id=\"line2d_10\">\n      <defs>\n       <path d=\"M 0 0 \nL -3.5 0 \n\" id=\"m4da073808a\" style=\"stroke:#000000;stroke-width:0.8;\"/>\n      </defs>\n      <g>\n       <use style=\"stroke:#000000;stroke-width:0.8;\" x=\"49.190625\" xlink:href=\"#m4da073808a\" y=\"348.478125\"/>\n      </g>\n     </g>\n     <g id=\"text_11\">\n      <!-- 0.0000 -->\n      <defs>\n       <path d=\"M 10.6875 12.40625 \nL 21 12.40625 \nL 21 0 \nL 10.6875 0 \nz\n\" id=\"DejaVuSans-46\"/>\n      </defs>\n      <g transform=\"translate(7.2 352.277344)scale(0.1 -0.1)\">\n       <use xlink:href=\"#DejaVuSans-48\"/>\n       <use x=\"63.623047\" xlink:href=\"#DejaVuSans-46\"/>\n       <use x=\"95.410156\" xlink:href=\"#DejaVuSans-48\"/>\n       <use x=\"159.033203\" xlink:href=\"#DejaVuSans-48\"/>\n       <use x=\"222.65625\" xlink:href=\"#DejaVuSans-48\"/>\n       <use x=\"286.279297\" xlink:href=\"#DejaVuSans-48\"/>\n      </g>\n     </g>\n    </g>\n    <g id=\"ytick_2\">\n     <g id=\"line2d_11\">\n      <g>\n       <use style=\"stroke:#000000;stroke-width:0.8;\" x=\"49.190625\" xlink:href=\"#m4da073808a\" y=\"295.312519\"/>\n      </g>\n     </g>\n     <g id=\"text_12\">\n      <!-- 0.0002 -->\n      <g transform=\"translate(7.2 299.111737)scale(0.1 -0.1)\">\n       <use xlink:href=\"#DejaVuSans-48\"/>\n       <use x=\"63.623047\" xlink:href=\"#DejaVuSans-46\"/>\n       <use x=\"95.410156\" xlink:href=\"#DejaVuSans-48\"/>\n       <use x=\"159.033203\" xlink:href=\"#DejaVuSans-48\"/>\n       <use x=\"222.65625\" xlink:href=\"#DejaVuSans-48\"/>\n       <use x=\"286.279297\" xlink:href=\"#DejaVuSans-50\"/>\n      </g>\n     </g>\n    </g>\n    <g id=\"ytick_3\">\n     <g id=\"line2d_12\">\n      <g>\n       <use style=\"stroke:#000000;stroke-width:0.8;\" x=\"49.190625\" xlink:href=\"#m4da073808a\" y=\"242.146912\"/>\n      </g>\n     </g>\n     <g id=\"text_13\">\n      <!-- 0.0004 -->\n      <defs>\n       <path d=\"M 37.796875 64.3125 \nL 12.890625 25.390625 \nL 37.796875 25.390625 \nz\nM 35.203125 72.90625 \nL 47.609375 72.90625 \nL 47.609375 25.390625 \nL 58.015625 25.390625 \nL 58.015625 17.1875 \nL 47.609375 17.1875 \nL 47.609375 0 \nL 37.796875 0 \nL 37.796875 17.1875 \nL 4.890625 17.1875 \nL 4.890625 26.703125 \nz\n\" id=\"DejaVuSans-52\"/>\n      </defs>\n      <g transform=\"translate(7.2 245.946131)scale(0.1 -0.1)\">\n       <use xlink:href=\"#DejaVuSans-48\"/>\n       <use x=\"63.623047\" xlink:href=\"#DejaVuSans-46\"/>\n       <use x=\"95.410156\" xlink:href=\"#DejaVuSans-48\"/>\n       <use x=\"159.033203\" xlink:href=\"#DejaVuSans-48\"/>\n       <use x=\"222.65625\" xlink:href=\"#DejaVuSans-48\"/>\n       <use x=\"286.279297\" xlink:href=\"#DejaVuSans-52\"/>\n      </g>\n     </g>\n    </g>\n    <g id=\"ytick_4\">\n     <g id=\"line2d_13\">\n      <g>\n       <use style=\"stroke:#000000;stroke-width:0.8;\" x=\"49.190625\" xlink:href=\"#m4da073808a\" y=\"188.981306\"/>\n      </g>\n     </g>\n     <g id=\"text_14\">\n      <!-- 0.0006 -->\n      <defs>\n       <path d=\"M 33.015625 40.375 \nQ 26.375 40.375 22.484375 35.828125 \nQ 18.609375 31.296875 18.609375 23.390625 \nQ 18.609375 15.53125 22.484375 10.953125 \nQ 26.375 6.390625 33.015625 6.390625 \nQ 39.65625 6.390625 43.53125 10.953125 \nQ 47.40625 15.53125 47.40625 23.390625 \nQ 47.40625 31.296875 43.53125 35.828125 \nQ 39.65625 40.375 33.015625 40.375 \nz\nM 52.59375 71.296875 \nL 52.59375 62.3125 \nQ 48.875 64.0625 45.09375 64.984375 \nQ 41.3125 65.921875 37.59375 65.921875 \nQ 27.828125 65.921875 22.671875 59.328125 \nQ 17.53125 52.734375 16.796875 39.40625 \nQ 19.671875 43.65625 24.015625 45.921875 \nQ 28.375 48.1875 33.59375 48.1875 \nQ 44.578125 48.1875 50.953125 41.515625 \nQ 57.328125 34.859375 57.328125 23.390625 \nQ 57.328125 12.15625 50.6875 5.359375 \nQ 44.046875 -1.421875 33.015625 -1.421875 \nQ 20.359375 -1.421875 13.671875 8.265625 \nQ 6.984375 17.96875 6.984375 36.375 \nQ 6.984375 53.65625 15.1875 63.9375 \nQ 23.390625 74.21875 37.203125 74.21875 \nQ 40.921875 74.21875 44.703125 73.484375 \nQ 48.484375 72.75 52.59375 71.296875 \nz\n\" id=\"DejaVuSans-54\"/>\n      </defs>\n      <g transform=\"translate(7.2 192.780525)scale(0.1 -0.1)\">\n       <use xlink:href=\"#DejaVuSans-48\"/>\n       <use x=\"63.623047\" xlink:href=\"#DejaVuSans-46\"/>\n       <use x=\"95.410156\" xlink:href=\"#DejaVuSans-48\"/>\n       <use x=\"159.033203\" xlink:href=\"#DejaVuSans-48\"/>\n       <use x=\"222.65625\" xlink:href=\"#DejaVuSans-48\"/>\n       <use x=\"286.279297\" xlink:href=\"#DejaVuSans-54\"/>\n      </g>\n     </g>\n    </g>\n    <g id=\"ytick_5\">\n     <g id=\"line2d_14\">\n      <g>\n       <use style=\"stroke:#000000;stroke-width:0.8;\" x=\"49.190625\" xlink:href=\"#m4da073808a\" y=\"135.8157\"/>\n      </g>\n     </g>\n     <g id=\"text_15\">\n      <!-- 0.0008 -->\n      <defs>\n       <path d=\"M 31.78125 34.625 \nQ 24.75 34.625 20.71875 30.859375 \nQ 16.703125 27.09375 16.703125 20.515625 \nQ 16.703125 13.921875 20.71875 10.15625 \nQ 24.75 6.390625 31.78125 6.390625 \nQ 38.8125 6.390625 42.859375 10.171875 \nQ 46.921875 13.96875 46.921875 20.515625 \nQ 46.921875 27.09375 42.890625 30.859375 \nQ 38.875 34.625 31.78125 34.625 \nz\nM 21.921875 38.8125 \nQ 15.578125 40.375 12.03125 44.71875 \nQ 8.5 49.078125 8.5 55.328125 \nQ 8.5 64.0625 14.71875 69.140625 \nQ 20.953125 74.21875 31.78125 74.21875 \nQ 42.671875 74.21875 48.875 69.140625 \nQ 55.078125 64.0625 55.078125 55.328125 \nQ 55.078125 49.078125 51.53125 44.71875 \nQ 48 40.375 41.703125 38.8125 \nQ 48.828125 37.15625 52.796875 32.3125 \nQ 56.78125 27.484375 56.78125 20.515625 \nQ 56.78125 9.90625 50.3125 4.234375 \nQ 43.84375 -1.421875 31.78125 -1.421875 \nQ 19.734375 -1.421875 13.25 4.234375 \nQ 6.78125 9.90625 6.78125 20.515625 \nQ 6.78125 27.484375 10.78125 32.3125 \nQ 14.796875 37.15625 21.921875 38.8125 \nz\nM 18.3125 54.390625 \nQ 18.3125 48.734375 21.84375 45.5625 \nQ 25.390625 42.390625 31.78125 42.390625 \nQ 38.140625 42.390625 41.71875 45.5625 \nQ 45.3125 48.734375 45.3125 54.390625 \nQ 45.3125 60.0625 41.71875 63.234375 \nQ 38.140625 66.40625 31.78125 66.40625 \nQ 25.390625 66.40625 21.84375 63.234375 \nQ 18.3125 60.0625 18.3125 54.390625 \nz\n\" id=\"DejaVuSans-56\"/>\n      </defs>\n      <g transform=\"translate(7.2 139.614918)scale(0.1 -0.1)\">\n       <use xlink:href=\"#DejaVuSans-48\"/>\n       <use x=\"63.623047\" xlink:href=\"#DejaVuSans-46\"/>\n       <use x=\"95.410156\" xlink:href=\"#DejaVuSans-48\"/>\n       <use x=\"159.033203\" xlink:href=\"#DejaVuSans-48\"/>\n       <use x=\"222.65625\" xlink:href=\"#DejaVuSans-48\"/>\n       <use x=\"286.279297\" xlink:href=\"#DejaVuSans-56\"/>\n      </g>\n     </g>\n    </g>\n    <g id=\"ytick_6\">\n     <g id=\"line2d_15\">\n      <g>\n       <use style=\"stroke:#000000;stroke-width:0.8;\" x=\"49.190625\" xlink:href=\"#m4da073808a\" y=\"82.650093\"/>\n      </g>\n     </g>\n     <g id=\"text_16\">\n      <!-- 0.0010 -->\n      <g transform=\"translate(7.2 86.449312)scale(0.1 -0.1)\">\n       <use xlink:href=\"#DejaVuSans-48\"/>\n       <use x=\"63.623047\" xlink:href=\"#DejaVuSans-46\"/>\n       <use x=\"95.410156\" xlink:href=\"#DejaVuSans-48\"/>\n       <use x=\"159.033203\" xlink:href=\"#DejaVuSans-48\"/>\n       <use x=\"222.65625\" xlink:href=\"#DejaVuSans-49\"/>\n       <use x=\"286.279297\" xlink:href=\"#DejaVuSans-48\"/>\n      </g>\n     </g>\n    </g>\n    <g id=\"ytick_7\">\n     <g id=\"line2d_16\">\n      <g>\n       <use style=\"stroke:#000000;stroke-width:0.8;\" x=\"49.190625\" xlink:href=\"#m4da073808a\" y=\"29.484487\"/>\n      </g>\n     </g>\n     <g id=\"text_17\">\n      <!-- 0.0012 -->\n      <g transform=\"translate(7.2 33.283706)scale(0.1 -0.1)\">\n       <use xlink:href=\"#DejaVuSans-48\"/>\n       <use x=\"63.623047\" xlink:href=\"#DejaVuSans-46\"/>\n       <use x=\"95.410156\" xlink:href=\"#DejaVuSans-48\"/>\n       <use x=\"159.033203\" xlink:href=\"#DejaVuSans-48\"/>\n       <use x=\"222.65625\" xlink:href=\"#DejaVuSans-49\"/>\n       <use x=\"286.279297\" xlink:href=\"#DejaVuSans-50\"/>\n      </g>\n     </g>\n    </g>\n   </g>\n   <g id=\"line2d_17\">\n    <path clip-path=\"url(#p526f400cd5)\" d=\"M 108.625929 348.478125 \nL 116.545908 341.981234 \nL 124.465888 275.435846 \nL 132.385868 88.894312 \nL 140.305847 37.849554 \nL 148.225827 89.633086 \nL 156.145807 174.981164 \nL 164.065787 206.240503 \nL 171.985766 244.550634 \nL 179.905746 277.136635 \nL 187.825726 284.116956 \nL 195.745705 300.439239 \nL 203.665685 315.172175 \nL 211.585665 322.911361 \nL 219.505645 327.113509 \nL 227.425624 333.786536 \nL 243.265584 337.404288 \nL 251.185563 338.837477 \nL 259.105543 341.247339 \nL 267.025523 341.967874 \nL 274.945503 344.890762 \nL 282.865482 345.398636 \nL 290.785462 345.610989 \nL 298.705442 344.312778 \nL 306.625421 345.290087 \nL 314.545401 342.926926 \nL 322.465381 346.540496 \nL 330.385361 346.153064 \nL 338.30534 346.359984 \nL 346.22532 347.238743 \nL 354.1453 347.723765 \nL 362.065279 346.03504 \nL 369.985259 347.628485 \nL 377.905239 347.834041 \nL 385.825219 347.719358 \nL 393.745198 347.962997 \nL 401.665178 347.721471 \nL 409.585158 348.069123 \nL 417.505137 347.98095 \nL 425.425117 348.297911 \nL 433.345097 347.410488 \nL 441.265077 347.121685 \nL 449.185056 346.197799 \nL 457.105036 347.278153 \nL 465.025016 348.016583 \nL 472.944995 348.478125 \nL 480.864975 348.371547 \nL 488.784955 347.725585 \nL 496.704935 347.253092 \nL 504.624914 348.328649 \nL 520.464874 348.478125 \nL 536.304833 348.431524 \nL 544.224813 348.007784 \nL 552.144793 348.440584 \nL 560.064772 347.976176 \nL 567.984752 348.191465 \nL 575.904732 348.115742 \nL 591.744691 348.437884 \nL 607.584651 348.409533 \nL 615.50463 348.032161 \nL 623.42461 348.392266 \nL 631.34459 348.227909 \nL 639.264569 347.691203 \nL 647.184549 348.427372 \nL 655.104529 348.2766 \nL 663.024509 348.418764 \nL 686.784448 348.441198 \nL 702.624407 348.307592 \nL 710.544387 348.478125 \nL 726.384346 348.472849 \nL 734.304326 348.025626 \nL 742.224306 348.413742 \nL 789.744184 348.478125 \nL 829.344083 348.449699 \nL 853.104022 348.451645 \nL 861.024001 348.245284 \nL 868.943981 348.478125 \nL 892.70392 348.441091 \nL 916.463859 348.478125 \nL 940.223799 348.430121 \nL 963.983738 348.478125 \nL 971.903717 348.41532 \nL 979.823697 348.478125 \nL 987.743677 348.404465 \nL 995.663657 348.478125 \nL 1003.583636 348.390125 \nL 1011.503616 348.478125 \nL 1019.423596 348.370773 \nL 1027.343575 348.478125 \nL 1035.263555 348.343942 \nL 1043.183535 348.478125 \nL 1051.103515 348.305451 \nL 1059.023494 348.478125 \nL 1066.943474 348.247815 \nL 1074.863454 348.478125 \nL 1082.783433 348.157167 \nL 1090.703413 348.478125 \nL 1098.623393 347.661765 \nL 1106.543373 348.478125 \nL 1114.463352 347.722936 \nL 1114.463352 347.722936 \n\" style=\"fill:none;stroke:#1f77b4;stroke-linecap:square;stroke-width:1.5;\"/>\n   </g>\n   <g id=\"line2d_18\">\n    <path clip-path=\"url(#p526f400cd5)\" d=\"M 99.917898 348.283764 \nL 106.912617 346.029154 \nL 113.907336 331.242095 \nL 120.902055 278.869246 \nL 127.896774 182.760296 \nL 134.891494 97.736293 \nL 141.886213 78.282352 \nL 148.880932 111.200145 \nL 155.875651 158.72413 \nL 162.87037 203.69095 \nL 169.86509 239.870883 \nL 176.859809 262.087209 \nL 183.854528 277.602249 \nL 190.849247 294.820197 \nL 197.843966 307.376694 \nL 204.838686 313.966273 \nL 211.833405 322.566024 \nL 218.828124 332.021467 \nL 225.822843 336.59476 \nL 232.817562 336.094264 \nL 239.812281 335.003437 \nL 246.807001 337.701771 \nL 253.80172 341.618739 \nL 260.796439 344.469548 \nL 267.791158 346.270164 \nL 274.785877 345.787586 \nL 281.780597 343.757306 \nL 288.775316 343.282435 \nL 295.770035 344.153113 \nL 302.764754 343.171746 \nL 309.759473 341.041734 \nL 316.754193 340.684227 \nL 323.748912 340.54619 \nL 330.743631 339.09976 \nL 337.73835 340.10802 \nL 344.733069 344.220445 \nL 351.727788 347.325842 \nL 358.722508 348.277384 \nL 365.717227 348.170832 \nL 372.711946 347.162022 \nL 379.706665 345.426515 \nL 386.701384 344.688509 \nL 393.696104 345.930666 \nL 400.690823 347.542491 \nL 407.685542 348.29135 \nL 414.680261 348.458583 \nL 463.643295 348.478125 \nL 939.2842 348.462276 \nL 946.278919 348.340011 \nL 953.273639 347.898977 \nL 960.268358 347.267062 \nL 967.263077 347.207873 \nL 974.257796 347.8188 \nL 981.252515 348.315466 \nL 988.247235 348.447564 \nL 988.247235 348.447564 \n\" style=\"fill:none;stroke:#ff7f0e;stroke-linecap:square;stroke-width:1.5;\"/>\n   </g>\n   <g id=\"patch_103\">\n    <path d=\"M 49.190625 348.478125 \nL 49.190625 22.318125 \n\" style=\"fill:none;stroke:#000000;stroke-linecap:square;stroke-linejoin:miter;stroke-width:0.8;\"/>\n   </g>\n   <g id=\"patch_104\">\n    <path d=\"M 1165.190625 348.478125 \nL 1165.190625 22.318125 \n\" style=\"fill:none;stroke:#000000;stroke-linecap:square;stroke-linejoin:miter;stroke-width:0.8;\"/>\n   </g>\n   <g id=\"patch_105\">\n    <path d=\"M 49.190625 348.478125 \nL 1165.190625 348.478125 \n\" style=\"fill:none;stroke:#000000;stroke-linecap:square;stroke-linejoin:miter;stroke-width:0.8;\"/>\n   </g>\n   <g id=\"patch_106\">\n    <path d=\"M 49.190625 22.318125 \nL 1165.190625 22.318125 \n\" style=\"fill:none;stroke:#000000;stroke-linecap:square;stroke-linejoin:miter;stroke-width:0.8;\"/>\n   </g>\n   <g id=\"text_18\">\n    <!-- Length of Question Body represented as cumulative distribution plots -->\n    <defs>\n     <path d=\"M 9.8125 72.90625 \nL 19.671875 72.90625 \nL 19.671875 8.296875 \nL 55.171875 8.296875 \nL 55.171875 0 \nL 9.8125 0 \nz\n\" id=\"DejaVuSans-76\"/>\n     <path d=\"M 45.40625 27.984375 \nQ 45.40625 37.75 41.375 43.109375 \nQ 37.359375 48.484375 30.078125 48.484375 \nQ 22.859375 48.484375 18.828125 43.109375 \nQ 14.796875 37.75 14.796875 27.984375 \nQ 14.796875 18.265625 18.828125 12.890625 \nQ 22.859375 7.515625 30.078125 7.515625 \nQ 37.359375 7.515625 41.375 12.890625 \nQ 45.40625 18.265625 45.40625 27.984375 \nz\nM 54.390625 6.78125 \nQ 54.390625 -7.171875 48.1875 -13.984375 \nQ 42 -20.796875 29.203125 -20.796875 \nQ 24.46875 -20.796875 20.265625 -20.09375 \nQ 16.0625 -19.390625 12.109375 -17.921875 \nL 12.109375 -9.1875 \nQ 16.0625 -11.328125 19.921875 -12.34375 \nQ 23.78125 -13.375 27.78125 -13.375 \nQ 36.625 -13.375 41.015625 -8.765625 \nQ 45.40625 -4.15625 45.40625 5.171875 \nL 45.40625 9.625 \nQ 42.625 4.78125 38.28125 2.390625 \nQ 33.9375 0 27.875 0 \nQ 17.828125 0 11.671875 7.65625 \nQ 5.515625 15.328125 5.515625 27.984375 \nQ 5.515625 40.671875 11.671875 48.328125 \nQ 17.828125 56 27.875 56 \nQ 33.9375 56 38.28125 53.609375 \nQ 42.625 51.21875 45.40625 46.390625 \nL 45.40625 54.6875 \nL 54.390625 54.6875 \nz\n\" id=\"DejaVuSans-103\"/>\n     <path d=\"M 54.890625 33.015625 \nL 54.890625 0 \nL 45.90625 0 \nL 45.90625 32.71875 \nQ 45.90625 40.484375 42.875 44.328125 \nQ 39.84375 48.1875 33.796875 48.1875 \nQ 26.515625 48.1875 22.3125 43.546875 \nQ 18.109375 38.921875 18.109375 30.90625 \nL 18.109375 0 \nL 9.078125 0 \nL 9.078125 75.984375 \nL 18.109375 75.984375 \nL 18.109375 46.1875 \nQ 21.34375 51.125 25.703125 53.5625 \nQ 30.078125 56 35.796875 56 \nQ 45.21875 56 50.046875 50.171875 \nQ 54.890625 44.34375 54.890625 33.015625 \nz\n\" id=\"DejaVuSans-104\"/>\n     <path id=\"DejaVuSans-32\"/>\n     <path d=\"M 37.109375 75.984375 \nL 37.109375 68.5 \nL 28.515625 68.5 \nQ 23.6875 68.5 21.796875 66.546875 \nQ 19.921875 64.59375 19.921875 59.515625 \nL 19.921875 54.6875 \nL 34.71875 54.6875 \nL 34.71875 47.703125 \nL 19.921875 47.703125 \nL 19.921875 0 \nL 10.890625 0 \nL 10.890625 47.703125 \nL 2.296875 47.703125 \nL 2.296875 54.6875 \nL 10.890625 54.6875 \nL 10.890625 58.5 \nQ 10.890625 67.625 15.140625 71.796875 \nQ 19.390625 75.984375 28.609375 75.984375 \nz\n\" id=\"DejaVuSans-102\"/>\n     <path d=\"M 39.40625 66.21875 \nQ 28.65625 66.21875 22.328125 58.203125 \nQ 16.015625 50.203125 16.015625 36.375 \nQ 16.015625 22.609375 22.328125 14.59375 \nQ 28.65625 6.59375 39.40625 6.59375 \nQ 50.140625 6.59375 56.421875 14.59375 \nQ 62.703125 22.609375 62.703125 36.375 \nQ 62.703125 50.203125 56.421875 58.203125 \nQ 50.140625 66.21875 39.40625 66.21875 \nz\nM 53.21875 1.3125 \nL 66.21875 -12.890625 \nL 54.296875 -12.890625 \nL 43.5 -1.21875 \nQ 41.890625 -1.3125 41.03125 -1.359375 \nQ 40.1875 -1.421875 39.40625 -1.421875 \nQ 24.03125 -1.421875 14.8125 8.859375 \nQ 5.609375 19.140625 5.609375 36.375 \nQ 5.609375 53.65625 14.8125 63.9375 \nQ 24.03125 74.21875 39.40625 74.21875 \nQ 54.734375 74.21875 63.90625 63.9375 \nQ 73.09375 53.65625 73.09375 36.375 \nQ 73.09375 23.6875 67.984375 14.640625 \nQ 62.890625 5.609375 53.21875 1.3125 \nz\n\" id=\"DejaVuSans-81\"/>\n     <path d=\"M 19.671875 34.8125 \nL 19.671875 8.109375 \nL 35.5 8.109375 \nQ 43.453125 8.109375 47.28125 11.40625 \nQ 51.125 14.703125 51.125 21.484375 \nQ 51.125 28.328125 47.28125 31.5625 \nQ 43.453125 34.8125 35.5 34.8125 \nz\nM 19.671875 64.796875 \nL 19.671875 42.828125 \nL 34.28125 42.828125 \nQ 41.5 42.828125 45.03125 45.53125 \nQ 48.578125 48.25 48.578125 53.8125 \nQ 48.578125 59.328125 45.03125 62.0625 \nQ 41.5 64.796875 34.28125 64.796875 \nz\nM 9.8125 72.90625 \nL 35.015625 72.90625 \nQ 46.296875 72.90625 52.390625 68.21875 \nQ 58.5 63.53125 58.5 54.890625 \nQ 58.5 48.1875 55.375 44.234375 \nQ 52.25 40.28125 46.1875 39.3125 \nQ 53.46875 37.75 57.5 32.78125 \nQ 61.53125 27.828125 61.53125 20.40625 \nQ 61.53125 10.640625 54.890625 5.3125 \nQ 48.25 0 35.984375 0 \nL 9.8125 0 \nz\n\" id=\"DejaVuSans-66\"/>\n     <path d=\"M 41.109375 46.296875 \nQ 39.59375 47.171875 37.8125 47.578125 \nQ 36.03125 48 33.890625 48 \nQ 26.265625 48 22.1875 43.046875 \nQ 18.109375 38.09375 18.109375 28.8125 \nL 18.109375 0 \nL 9.078125 0 \nL 9.078125 54.6875 \nL 18.109375 54.6875 \nL 18.109375 46.1875 \nQ 20.953125 51.171875 25.484375 53.578125 \nQ 30.03125 56 36.53125 56 \nQ 37.453125 56 38.578125 55.875 \nQ 39.703125 55.765625 41.0625 55.515625 \nz\n\" id=\"DejaVuSans-114\"/>\n     <path d=\"M 18.109375 8.203125 \nL 18.109375 -20.796875 \nL 9.078125 -20.796875 \nL 9.078125 54.6875 \nL 18.109375 54.6875 \nL 18.109375 46.390625 \nQ 20.953125 51.265625 25.265625 53.625 \nQ 29.59375 56 35.59375 56 \nQ 45.5625 56 51.78125 48.09375 \nQ 58.015625 40.1875 58.015625 27.296875 \nQ 58.015625 14.40625 51.78125 6.484375 \nQ 45.5625 -1.421875 35.59375 -1.421875 \nQ 29.59375 -1.421875 25.265625 0.953125 \nQ 20.953125 3.328125 18.109375 8.203125 \nz\nM 48.6875 27.296875 \nQ 48.6875 37.203125 44.609375 42.84375 \nQ 40.53125 48.484375 33.40625 48.484375 \nQ 26.265625 48.484375 22.1875 42.84375 \nQ 18.109375 37.203125 18.109375 27.296875 \nQ 18.109375 17.390625 22.1875 11.75 \nQ 26.265625 6.109375 33.40625 6.109375 \nQ 40.53125 6.109375 44.609375 11.75 \nQ 48.6875 17.390625 48.6875 27.296875 \nz\n\" id=\"DejaVuSans-112\"/>\n     <path d=\"M 34.28125 27.484375 \nQ 23.390625 27.484375 19.1875 25 \nQ 14.984375 22.515625 14.984375 16.5 \nQ 14.984375 11.71875 18.140625 8.90625 \nQ 21.296875 6.109375 26.703125 6.109375 \nQ 34.1875 6.109375 38.703125 11.40625 \nQ 43.21875 16.703125 43.21875 25.484375 \nL 43.21875 27.484375 \nz\nM 52.203125 31.203125 \nL 52.203125 0 \nL 43.21875 0 \nL 43.21875 8.296875 \nQ 40.140625 3.328125 35.546875 0.953125 \nQ 30.953125 -1.421875 24.3125 -1.421875 \nQ 15.921875 -1.421875 10.953125 3.296875 \nQ 6 8.015625 6 15.921875 \nQ 6 25.140625 12.171875 29.828125 \nQ 18.359375 34.515625 30.609375 34.515625 \nL 43.21875 34.515625 \nL 43.21875 35.40625 \nQ 43.21875 41.609375 39.140625 45 \nQ 35.0625 48.390625 27.6875 48.390625 \nQ 23 48.390625 18.546875 47.265625 \nQ 14.109375 46.140625 10.015625 43.890625 \nL 10.015625 52.203125 \nQ 14.9375 54.109375 19.578125 55.046875 \nQ 24.21875 56 28.609375 56 \nQ 40.484375 56 46.34375 49.84375 \nQ 52.203125 43.703125 52.203125 31.203125 \nz\n\" id=\"DejaVuSans-97\"/>\n     <path d=\"M 48.78125 52.59375 \nL 48.78125 44.1875 \nQ 44.96875 46.296875 41.140625 47.34375 \nQ 37.3125 48.390625 33.40625 48.390625 \nQ 24.65625 48.390625 19.8125 42.84375 \nQ 14.984375 37.3125 14.984375 27.296875 \nQ 14.984375 17.28125 19.8125 11.734375 \nQ 24.65625 6.203125 33.40625 6.203125 \nQ 37.3125 6.203125 41.140625 7.25 \nQ 44.96875 8.296875 48.78125 10.40625 \nL 48.78125 2.09375 \nQ 45.015625 0.34375 40.984375 -0.53125 \nQ 36.96875 -1.421875 32.421875 -1.421875 \nQ 20.0625 -1.421875 12.78125 6.34375 \nQ 5.515625 14.109375 5.515625 27.296875 \nQ 5.515625 40.671875 12.859375 48.328125 \nQ 20.21875 56 33.015625 56 \nQ 37.15625 56 41.109375 55.140625 \nQ 45.0625 54.296875 48.78125 52.59375 \nz\n\" id=\"DejaVuSans-99\"/>\n     <path d=\"M 52 44.1875 \nQ 55.375 50.25 60.0625 53.125 \nQ 64.75 56 71.09375 56 \nQ 79.640625 56 84.28125 50.015625 \nQ 88.921875 44.046875 88.921875 33.015625 \nL 88.921875 0 \nL 79.890625 0 \nL 79.890625 32.71875 \nQ 79.890625 40.578125 77.09375 44.375 \nQ 74.3125 48.1875 68.609375 48.1875 \nQ 61.625 48.1875 57.5625 43.546875 \nQ 53.515625 38.921875 53.515625 30.90625 \nL 53.515625 0 \nL 44.484375 0 \nL 44.484375 32.71875 \nQ 44.484375 40.625 41.703125 44.40625 \nQ 38.921875 48.1875 33.109375 48.1875 \nQ 26.21875 48.1875 22.15625 43.53125 \nQ 18.109375 38.875 18.109375 30.90625 \nL 18.109375 0 \nL 9.078125 0 \nL 9.078125 54.6875 \nL 18.109375 54.6875 \nL 18.109375 46.1875 \nQ 21.1875 51.21875 25.484375 53.609375 \nQ 29.78125 56 35.6875 56 \nQ 41.65625 56 45.828125 52.96875 \nQ 50 49.953125 52 44.1875 \nz\n\" id=\"DejaVuSans-109\"/>\n     <path d=\"M 9.421875 75.984375 \nL 18.40625 75.984375 \nL 18.40625 0 \nL 9.421875 0 \nz\n\" id=\"DejaVuSans-108\"/>\n     <path d=\"M 2.984375 54.6875 \nL 12.5 54.6875 \nL 29.59375 8.796875 \nL 46.6875 54.6875 \nL 56.203125 54.6875 \nL 35.6875 0 \nL 23.484375 0 \nz\n\" id=\"DejaVuSans-118\"/>\n    </defs>\n    <g transform=\"translate(397.799062 16.318125)scale(0.12 -0.12)\">\n     <use xlink:href=\"#DejaVuSans-76\"/>\n     <use x=\"55.697266\" xlink:href=\"#DejaVuSans-101\"/>\n     <use x=\"117.220703\" xlink:href=\"#DejaVuSans-110\"/>\n     <use x=\"180.599609\" xlink:href=\"#DejaVuSans-103\"/>\n     <use x=\"244.076172\" xlink:href=\"#DejaVuSans-116\"/>\n     <use x=\"283.285156\" xlink:href=\"#DejaVuSans-104\"/>\n     <use x=\"346.664062\" xlink:href=\"#DejaVuSans-32\"/>\n     <use x=\"378.451172\" xlink:href=\"#DejaVuSans-111\"/>\n     <use x=\"439.632812\" xlink:href=\"#DejaVuSans-102\"/>\n     <use x=\"474.837891\" xlink:href=\"#DejaVuSans-32\"/>\n     <use x=\"506.625\" xlink:href=\"#DejaVuSans-81\"/>\n     <use x=\"585.335938\" xlink:href=\"#DejaVuSans-117\"/>\n     <use x=\"648.714844\" xlink:href=\"#DejaVuSans-101\"/>\n     <use x=\"710.238281\" xlink:href=\"#DejaVuSans-115\"/>\n     <use x=\"762.337891\" xlink:href=\"#DejaVuSans-116\"/>\n     <use x=\"801.546875\" xlink:href=\"#DejaVuSans-105\"/>\n     <use x=\"829.330078\" xlink:href=\"#DejaVuSans-111\"/>\n     <use x=\"890.511719\" xlink:href=\"#DejaVuSans-110\"/>\n     <use x=\"953.890625\" xlink:href=\"#DejaVuSans-32\"/>\n     <use x=\"985.677734\" xlink:href=\"#DejaVuSans-66\"/>\n     <use x=\"1054.28125\" xlink:href=\"#DejaVuSans-111\"/>\n     <use x=\"1115.462891\" xlink:href=\"#DejaVuSans-100\"/>\n     <use x=\"1178.939453\" xlink:href=\"#DejaVuSans-121\"/>\n     <use x=\"1238.119141\" xlink:href=\"#DejaVuSans-32\"/>\n     <use x=\"1269.90625\" xlink:href=\"#DejaVuSans-114\"/>\n     <use x=\"1310.988281\" xlink:href=\"#DejaVuSans-101\"/>\n     <use x=\"1372.511719\" xlink:href=\"#DejaVuSans-112\"/>\n     <use x=\"1435.988281\" xlink:href=\"#DejaVuSans-114\"/>\n     <use x=\"1477.070312\" xlink:href=\"#DejaVuSans-101\"/>\n     <use x=\"1538.59375\" xlink:href=\"#DejaVuSans-115\"/>\n     <use x=\"1590.693359\" xlink:href=\"#DejaVuSans-101\"/>\n     <use x=\"1652.216797\" xlink:href=\"#DejaVuSans-110\"/>\n     <use x=\"1715.595703\" xlink:href=\"#DejaVuSans-116\"/>\n     <use x=\"1754.804688\" xlink:href=\"#DejaVuSans-101\"/>\n     <use x=\"1816.328125\" xlink:href=\"#DejaVuSans-100\"/>\n     <use x=\"1879.804688\" xlink:href=\"#DejaVuSans-32\"/>\n     <use x=\"1911.591797\" xlink:href=\"#DejaVuSans-97\"/>\n     <use x=\"1972.871094\" xlink:href=\"#DejaVuSans-115\"/>\n     <use x=\"2024.970703\" xlink:href=\"#DejaVuSans-32\"/>\n     <use x=\"2056.757812\" xlink:href=\"#DejaVuSans-99\"/>\n     <use x=\"2111.738281\" xlink:href=\"#DejaVuSans-117\"/>\n     <use x=\"2175.117188\" xlink:href=\"#DejaVuSans-109\"/>\n     <use x=\"2272.529297\" xlink:href=\"#DejaVuSans-117\"/>\n     <use x=\"2335.908203\" xlink:href=\"#DejaVuSans-108\"/>\n     <use x=\"2363.691406\" xlink:href=\"#DejaVuSans-97\"/>\n     <use x=\"2424.970703\" xlink:href=\"#DejaVuSans-116\"/>\n     <use x=\"2464.179688\" xlink:href=\"#DejaVuSans-105\"/>\n     <use x=\"2491.962891\" xlink:href=\"#DejaVuSans-118\"/>\n     <use x=\"2551.142578\" xlink:href=\"#DejaVuSans-101\"/>\n     <use x=\"2612.666016\" xlink:href=\"#DejaVuSans-32\"/>\n     <use x=\"2644.453125\" xlink:href=\"#DejaVuSans-100\"/>\n     <use x=\"2707.929688\" xlink:href=\"#DejaVuSans-105\"/>\n     <use x=\"2735.712891\" xlink:href=\"#DejaVuSans-115\"/>\n     <use x=\"2787.8125\" xlink:href=\"#DejaVuSans-116\"/>\n     <use x=\"2827.021484\" xlink:href=\"#DejaVuSans-114\"/>\n     <use x=\"2868.134766\" xlink:href=\"#DejaVuSans-105\"/>\n     <use x=\"2895.917969\" xlink:href=\"#DejaVuSans-98\"/>\n     <use x=\"2959.394531\" xlink:href=\"#DejaVuSans-117\"/>\n     <use x=\"3022.773438\" xlink:href=\"#DejaVuSans-116\"/>\n     <use x=\"3061.982422\" xlink:href=\"#DejaVuSans-105\"/>\n     <use x=\"3089.765625\" xlink:href=\"#DejaVuSans-111\"/>\n     <use x=\"3150.947266\" xlink:href=\"#DejaVuSans-110\"/>\n     <use x=\"3214.326172\" xlink:href=\"#DejaVuSans-32\"/>\n     <use x=\"3246.113281\" xlink:href=\"#DejaVuSans-112\"/>\n     <use x=\"3309.589844\" xlink:href=\"#DejaVuSans-108\"/>\n     <use x=\"3337.373047\" xlink:href=\"#DejaVuSans-111\"/>\n     <use x=\"3398.554688\" xlink:href=\"#DejaVuSans-116\"/>\n     <use x=\"3437.763672\" xlink:href=\"#DejaVuSans-115\"/>\n    </g>\n   </g>\n  </g>\n </g>\n <defs>\n  <clipPath id=\"p526f400cd5\">\n   <rect height=\"326.16\" width=\"1116\" x=\"49.190625\" y=\"22.318125\"/>\n  </clipPath>\n </defs>\n</svg>\n",
      "text/plain": "<Figure size 1440x432 with 1 Axes>"
     },
     "metadata": {
      "needs_background": "light"
     },
     "output_type": "display_data"
    }
   ],
   "source": [
    "analysis.distribution_imposition(X_train['question_body'], X_test['question_body'], 'Length of Question Body represented as cumulative distribution plots')"
   ]
  },
  {
   "cell_type": "code",
   "execution_count": 19,
   "metadata": {},
   "outputs": [
    {
     "data": {
      "image/png": "[encoded data removed]",
      "image/svg+xml": "<?xml version=\"1.0\" encoding=\"utf-8\" standalone=\"no\"?>\n<!DOCTYPE svg PUBLIC \"-//W3C//DTD SVG 1.1//EN\"\n  \"http://www.w3.org/Graphics/SVG/1.1/DTD/svg11.dtd\">\n<!-- Created with matplotlib (https://matplotlib.org/) -->\n<svg height=\"386.034375pt\" version=\"1.1\" viewBox=\"0 0 1172.390625 386.034375\" width=\"1172.390625pt\" xmlns=\"http://www.w3.org/2000/svg\" xmlns:xlink=\"http://www.w3.org/1999/xlink\">\n <defs>\n  <style type=\"text/css\">\n*{stroke-linecap:butt;stroke-linejoin:round;}\n  </style>\n </defs>\n <g id=\"figure_1\">\n  <g id=\"patch_1\">\n   <path d=\"M 0 386.034375 \nL 1172.390625 386.034375 \nL 1172.390625 0 \nL 0 0 \nz\n\" style=\"fill:none;\"/>\n  </g>\n  <g id=\"axes_1\">\n   <g id=\"patch_2\">\n    <path d=\"M 49.190625 348.478125 \nL 1165.190625 348.478125 \nL 1165.190625 22.318125 \nL 49.190625 22.318125 \nz\n\" style=\"fill:#ffffff;\"/>\n   </g>\n   <g id=\"patch_3\">\n    <path clip-path=\"url(#p0ba717ddf5)\" d=\"M 121.732672 348.478125 \nL 141.330554 348.478125 \nL 141.330554 102.290396 \nL 121.732672 102.290396 \nz\n\" style=\"fill:#1f77b4;opacity:0.4;\"/>\n   </g>\n   <g id=\"patch_4\">\n    <path clip-path=\"url(#p0ba717ddf5)\" d=\"M 141.330554 348.478125 \nL 160.928437 348.478125 \nL 160.928437 181.57119 \nL 141.330554 181.57119 \nz\n\" style=\"fill:#1f77b4;opacity:0.4;\"/>\n   </g>\n   <g id=\"patch_5\">\n    <path clip-path=\"url(#p0ba717ddf5)\" d=\"M 160.928437 348.478125 \nL 180.52632 348.478125 \nL 180.52632 273.370004 \nL 160.928437 273.370004 \nz\n\" style=\"fill:#1f77b4;opacity:0.4;\"/>\n   </g>\n   <g id=\"patch_6\">\n    <path clip-path=\"url(#p0ba717ddf5)\" d=\"M 180.52632 348.478125 \nL 200.124202 348.478125 \nL 200.124202 313.010401 \nL 180.52632 313.010401 \nz\n\" style=\"fill:#1f77b4;opacity:0.4;\"/>\n   </g>\n   <g id=\"patch_7\">\n    <path clip-path=\"url(#p0ba717ddf5)\" d=\"M 200.124202 348.478125 \nL 219.722085 348.478125 \nL 219.722085 329.701095 \nL 200.124202 329.701095 \nz\n\" style=\"fill:#1f77b4;opacity:0.4;\"/>\n   </g>\n   <g id=\"patch_8\">\n    <path clip-path=\"url(#p0ba717ddf5)\" d=\"M 219.722085 348.478125 \nL 239.319968 348.478125 \nL 239.319968 337.572274 \nL 219.722085 337.572274 \nz\n\" style=\"fill:#1f77b4;opacity:0.4;\"/>\n   </g>\n   <g id=\"patch_9\">\n    <path clip-path=\"url(#p0ba717ddf5)\" d=\"M 239.319968 348.478125 \nL 258.917851 348.478125 \nL 258.917851 341.27078 \nL 239.319968 341.27078 \nz\n\" style=\"fill:#1f77b4;opacity:0.4;\"/>\n   </g>\n   <g id=\"patch_10\">\n    <path clip-path=\"url(#p0ba717ddf5)\" d=\"M 258.917851 348.478125 \nL 278.515733 348.478125 \nL 278.515733 343.736451 \nL 258.917851 343.736451 \nz\n\" style=\"fill:#1f77b4;opacity:0.4;\"/>\n   </g>\n   <g id=\"patch_11\">\n    <path clip-path=\"url(#p0ba717ddf5)\" d=\"M 278.515733 348.478125 \nL 298.113616 348.478125 \nL 298.113616 345.06412 \nL 278.515733 345.06412 \nz\n\" style=\"fill:#1f77b4;opacity:0.4;\"/>\n   </g>\n   <g id=\"patch_12\">\n    <path clip-path=\"url(#p0ba717ddf5)\" d=\"M 298.113616 348.478125 \nL 317.711499 348.478125 \nL 317.711499 346.391788 \nL 298.113616 346.391788 \nz\n\" style=\"fill:#1f77b4;opacity:0.4;\"/>\n   </g>\n   <g id=\"patch_13\">\n    <path clip-path=\"url(#p0ba717ddf5)\" d=\"M 317.711499 348.478125 \nL 337.309381 348.478125 \nL 337.309381 347.52979 \nL 317.711499 347.52979 \nz\n\" style=\"fill:#1f77b4;opacity:0.4;\"/>\n   </g>\n   <g id=\"patch_14\">\n    <path clip-path=\"url(#p0ba717ddf5)\" d=\"M 337.309381 348.478125 \nL 356.907264 348.478125 \nL 356.907264 347.719457 \nL 337.309381 347.719457 \nz\n\" style=\"fill:#1f77b4;opacity:0.4;\"/>\n   </g>\n   <g id=\"patch_15\">\n    <path clip-path=\"url(#p0ba717ddf5)\" d=\"M 356.907264 348.478125 \nL 376.505147 348.478125 \nL 376.505147 347.814291 \nL 356.907264 347.814291 \nz\n\" style=\"fill:#1f77b4;opacity:0.4;\"/>\n   </g>\n   <g id=\"patch_16\">\n    <path clip-path=\"url(#p0ba717ddf5)\" d=\"M 376.505147 348.478125 \nL 396.103029 348.478125 \nL 396.103029 348.098791 \nL 376.505147 348.098791 \nz\n\" style=\"fill:#1f77b4;opacity:0.4;\"/>\n   </g>\n   <g id=\"patch_17\">\n    <path clip-path=\"url(#p0ba717ddf5)\" d=\"M 396.103029 348.478125 \nL 415.700912 348.478125 \nL 415.700912 347.909124 \nL 396.103029 347.909124 \nz\n\" style=\"fill:#1f77b4;opacity:0.4;\"/>\n   </g>\n   <g id=\"patch_18\">\n    <path clip-path=\"url(#p0ba717ddf5)\" d=\"M 415.700912 348.478125 \nL 435.298795 348.478125 \nL 435.298795 348.003958 \nL 415.700912 348.003958 \nz\n\" style=\"fill:#1f77b4;opacity:0.4;\"/>\n   </g>\n   <g id=\"patch_19\">\n    <path clip-path=\"url(#p0ba717ddf5)\" d=\"M 435.298795 348.478125 \nL 454.896678 348.478125 \nL 454.896678 348.193625 \nL 435.298795 348.193625 \nz\n\" style=\"fill:#1f77b4;opacity:0.4;\"/>\n   </g>\n   <g id=\"patch_20\">\n    <path clip-path=\"url(#p0ba717ddf5)\" d=\"M 454.896678 348.478125 \nL 474.49456 348.478125 \nL 474.49456 348.193625 \nL 454.896678 348.193625 \nz\n\" style=\"fill:#1f77b4;opacity:0.4;\"/>\n   </g>\n   <g id=\"patch_21\">\n    <path clip-path=\"url(#p0ba717ddf5)\" d=\"M 474.49456 348.478125 \nL 494.092443 348.478125 \nL 494.092443 348.288458 \nL 474.49456 348.288458 \nz\n\" style=\"fill:#1f77b4;opacity:0.4;\"/>\n   </g>\n   <g id=\"patch_22\">\n    <path clip-path=\"url(#p0ba717ddf5)\" d=\"M 494.092443 348.478125 \nL 513.690326 348.478125 \nL 513.690326 348.383292 \nL 494.092443 348.383292 \nz\n\" style=\"fill:#1f77b4;opacity:0.4;\"/>\n   </g>\n   <g id=\"patch_23\">\n    <path clip-path=\"url(#p0ba717ddf5)\" d=\"M 513.690326 348.478125 \nL 533.288208 348.478125 \nL 533.288208 348.383292 \nL 513.690326 348.383292 \nz\n\" style=\"fill:#1f77b4;opacity:0.4;\"/>\n   </g>\n   <g id=\"patch_24\">\n    <path clip-path=\"url(#p0ba717ddf5)\" d=\"M 533.288208 348.478125 \nL 552.886091 348.478125 \nL 552.886091 348.383292 \nL 533.288208 348.383292 \nz\n\" style=\"fill:#1f77b4;opacity:0.4;\"/>\n   </g>\n   <g id=\"patch_25\">\n    <path clip-path=\"url(#p0ba717ddf5)\" d=\"M 552.886091 348.478125 \nL 572.483974 348.478125 \nL 572.483974 348.383292 \nL 552.886091 348.383292 \nz\n\" style=\"fill:#1f77b4;opacity:0.4;\"/>\n   </g>\n   <g id=\"patch_26\">\n    <path clip-path=\"url(#p0ba717ddf5)\" d=\"M 572.483974 348.478125 \nL 592.081856 348.478125 \nL 592.081856 348.478125 \nL 572.483974 348.478125 \nz\n\" style=\"fill:#1f77b4;opacity:0.4;\"/>\n   </g>\n   <g id=\"patch_27\">\n    <path clip-path=\"url(#p0ba717ddf5)\" d=\"M 592.081856 348.478125 \nL 611.679739 348.478125 \nL 611.679739 348.383292 \nL 592.081856 348.383292 \nz\n\" style=\"fill:#1f77b4;opacity:0.4;\"/>\n   </g>\n   <g id=\"patch_28\">\n    <path clip-path=\"url(#p0ba717ddf5)\" d=\"M 611.679739 348.478125 \nL 631.277622 348.478125 \nL 631.277622 348.383292 \nL 611.679739 348.383292 \nz\n\" style=\"fill:#1f77b4;opacity:0.4;\"/>\n   </g>\n   <g id=\"patch_29\">\n    <path clip-path=\"url(#p0ba717ddf5)\" d=\"M 631.277622 348.478125 \nL 650.875504 348.478125 \nL 650.875504 348.478125 \nL 631.277622 348.478125 \nz\n\" style=\"fill:#1f77b4;opacity:0.4;\"/>\n   </g>\n   <g id=\"patch_30\">\n    <path clip-path=\"url(#p0ba717ddf5)\" d=\"M 650.875504 348.478125 \nL 670.473387 348.478125 \nL 670.473387 348.478125 \nL 650.875504 348.478125 \nz\n\" style=\"fill:#1f77b4;opacity:0.4;\"/>\n   </g>\n   <g id=\"patch_31\">\n    <path clip-path=\"url(#p0ba717ddf5)\" d=\"M 670.473387 348.478125 \nL 690.07127 348.478125 \nL 690.07127 348.478125 \nL 670.473387 348.478125 \nz\n\" style=\"fill:#1f77b4;opacity:0.4;\"/>\n   </g>\n   <g id=\"patch_32\">\n    <path clip-path=\"url(#p0ba717ddf5)\" d=\"M 690.07127 348.478125 \nL 709.669153 348.478125 \nL 709.669153 348.288458 \nL 690.07127 348.288458 \nz\n\" style=\"fill:#1f77b4;opacity:0.4;\"/>\n   </g>\n   <g id=\"patch_33\">\n    <path clip-path=\"url(#p0ba717ddf5)\" d=\"M 709.669153 348.478125 \nL 729.267035 348.478125 \nL 729.267035 348.288458 \nL 709.669153 348.288458 \nz\n\" style=\"fill:#1f77b4;opacity:0.4;\"/>\n   </g>\n   <g id=\"patch_34\">\n    <path clip-path=\"url(#p0ba717ddf5)\" d=\"M 729.267035 348.478125 \nL 748.864918 348.478125 \nL 748.864918 348.478125 \nL 729.267035 348.478125 \nz\n\" style=\"fill:#1f77b4;opacity:0.4;\"/>\n   </g>\n   <g id=\"patch_35\">\n    <path clip-path=\"url(#p0ba717ddf5)\" d=\"M 748.864918 348.478125 \nL 768.462801 348.478125 \nL 768.462801 348.383292 \nL 748.864918 348.383292 \nz\n\" style=\"fill:#1f77b4;opacity:0.4;\"/>\n   </g>\n   <g id=\"patch_36\">\n    <path clip-path=\"url(#p0ba717ddf5)\" d=\"M 768.462801 348.478125 \nL 788.060683 348.478125 \nL 788.060683 348.478125 \nL 768.462801 348.478125 \nz\n\" style=\"fill:#1f77b4;opacity:0.4;\"/>\n   </g>\n   <g id=\"patch_37\">\n    <path clip-path=\"url(#p0ba717ddf5)\" d=\"M 788.060683 348.478125 \nL 807.658566 348.478125 \nL 807.658566 348.478125 \nL 788.060683 348.478125 \nz\n\" style=\"fill:#1f77b4;opacity:0.4;\"/>\n   </g>\n   <g id=\"patch_38\">\n    <path clip-path=\"url(#p0ba717ddf5)\" d=\"M 807.658566 348.478125 \nL 827.256449 348.478125 \nL 827.256449 348.478125 \nL 807.658566 348.478125 \nz\n\" style=\"fill:#1f77b4;opacity:0.4;\"/>\n   </g>\n   <g id=\"patch_39\">\n    <path clip-path=\"url(#p0ba717ddf5)\" d=\"M 827.256449 348.478125 \nL 846.854331 348.478125 \nL 846.854331 348.478125 \nL 827.256449 348.478125 \nz\n\" style=\"fill:#1f77b4;opacity:0.4;\"/>\n   </g>\n   <g id=\"patch_40\">\n    <path clip-path=\"url(#p0ba717ddf5)\" d=\"M 846.854331 348.478125 \nL 866.452214 348.478125 \nL 866.452214 348.478125 \nL 846.854331 348.478125 \nz\n\" style=\"fill:#1f77b4;opacity:0.4;\"/>\n   </g>\n   <g id=\"patch_41\">\n    <path clip-path=\"url(#p0ba717ddf5)\" d=\"M 866.452214 348.478125 \nL 886.050097 348.478125 \nL 886.050097 348.478125 \nL 866.452214 348.478125 \nz\n\" style=\"fill:#1f77b4;opacity:0.4;\"/>\n   </g>\n   <g id=\"patch_42\">\n    <path clip-path=\"url(#p0ba717ddf5)\" d=\"M 886.050097 348.478125 \nL 905.64798 348.478125 \nL 905.64798 348.478125 \nL 886.050097 348.478125 \nz\n\" style=\"fill:#1f77b4;opacity:0.4;\"/>\n   </g>\n   <g id=\"patch_43\">\n    <path clip-path=\"url(#p0ba717ddf5)\" d=\"M 905.64798 348.478125 \nL 925.245862 348.478125 \nL 925.245862 348.478125 \nL 905.64798 348.478125 \nz\n\" style=\"fill:#1f77b4;opacity:0.4;\"/>\n   </g>\n   <g id=\"patch_44\">\n    <path clip-path=\"url(#p0ba717ddf5)\" d=\"M 925.245862 348.478125 \nL 944.843745 348.478125 \nL 944.843745 348.478125 \nL 925.245862 348.478125 \nz\n\" style=\"fill:#1f77b4;opacity:0.4;\"/>\n   </g>\n   <g id=\"patch_45\">\n    <path clip-path=\"url(#p0ba717ddf5)\" d=\"M 944.843745 348.478125 \nL 964.441628 348.478125 \nL 964.441628 348.478125 \nL 944.843745 348.478125 \nz\n\" style=\"fill:#1f77b4;opacity:0.4;\"/>\n   </g>\n   <g id=\"patch_46\">\n    <path clip-path=\"url(#p0ba717ddf5)\" d=\"M 964.441628 348.478125 \nL 984.03951 348.478125 \nL 984.03951 348.478125 \nL 964.441628 348.478125 \nz\n\" style=\"fill:#1f77b4;opacity:0.4;\"/>\n   </g>\n   <g id=\"patch_47\">\n    <path clip-path=\"url(#p0ba717ddf5)\" d=\"M 984.03951 348.478125 \nL 1003.637393 348.478125 \nL 1003.637393 348.478125 \nL 984.03951 348.478125 \nz\n\" style=\"fill:#1f77b4;opacity:0.4;\"/>\n   </g>\n   <g id=\"patch_48\">\n    <path clip-path=\"url(#p0ba717ddf5)\" d=\"M 1003.637393 348.478125 \nL 1023.235276 348.478125 \nL 1023.235276 348.478125 \nL 1003.637393 348.478125 \nz\n\" style=\"fill:#1f77b4;opacity:0.4;\"/>\n   </g>\n   <g id=\"patch_49\">\n    <path clip-path=\"url(#p0ba717ddf5)\" d=\"M 1023.235276 348.478125 \nL 1042.833158 348.478125 \nL 1042.833158 348.478125 \nL 1023.235276 348.478125 \nz\n\" style=\"fill:#1f77b4;opacity:0.4;\"/>\n   </g>\n   <g id=\"patch_50\">\n    <path clip-path=\"url(#p0ba717ddf5)\" d=\"M 1042.833158 348.478125 \nL 1062.431041 348.478125 \nL 1062.431041 348.478125 \nL 1042.833158 348.478125 \nz\n\" style=\"fill:#1f77b4;opacity:0.4;\"/>\n   </g>\n   <g id=\"patch_51\">\n    <path clip-path=\"url(#p0ba717ddf5)\" d=\"M 1062.431041 348.478125 \nL 1082.028924 348.478125 \nL 1082.028924 348.478125 \nL 1062.431041 348.478125 \nz\n\" style=\"fill:#1f77b4;opacity:0.4;\"/>\n   </g>\n   <g id=\"patch_52\">\n    <path clip-path=\"url(#p0ba717ddf5)\" d=\"M 1082.028924 348.478125 \nL 1101.626806 348.478125 \nL 1101.626806 348.383292 \nL 1082.028924 348.383292 \nz\n\" style=\"fill:#1f77b4;opacity:0.4;\"/>\n   </g>\n   <g id=\"patch_53\">\n    <path clip-path=\"url(#p0ba717ddf5)\" d=\"M 122.382613 348.478125 \nL 130.634977 348.478125 \nL 130.634977 147.144792 \nL 122.382613 147.144792 \nz\n\" style=\"fill:#ff7f0e;opacity:0.4;\"/>\n   </g>\n   <g id=\"patch_54\">\n    <path clip-path=\"url(#p0ba717ddf5)\" d=\"M 130.634977 348.478125 \nL 138.887342 348.478125 \nL 138.887342 37.849554 \nL 130.634977 37.849554 \nz\n\" style=\"fill:#ff7f0e;opacity:0.4;\"/>\n   </g>\n   <g id=\"patch_55\">\n    <path clip-path=\"url(#p0ba717ddf5)\" d=\"M 138.887342 348.478125 \nL 147.139707 348.478125 \nL 147.139707 132.763839 \nL 138.887342 132.763839 \nz\n\" style=\"fill:#ff7f0e;opacity:0.4;\"/>\n   </g>\n   <g id=\"patch_56\">\n    <path clip-path=\"url(#p0ba717ddf5)\" d=\"M 147.139707 348.478125 \nL 155.392071 348.478125 \nL 155.392071 178.782887 \nL 147.139707 178.782887 \nz\n\" style=\"fill:#ff7f0e;opacity:0.4;\"/>\n   </g>\n   <g id=\"patch_57\">\n    <path clip-path=\"url(#p0ba717ddf5)\" d=\"M 155.392071 348.478125 \nL 163.644436 348.478125 \nL 163.644436 244.935268 \nL 155.392071 244.935268 \nz\n\" style=\"fill:#ff7f0e;opacity:0.4;\"/>\n   </g>\n   <g id=\"patch_58\">\n    <path clip-path=\"url(#p0ba717ddf5)\" d=\"M 163.644436 348.478125 \nL 171.896801 348.478125 \nL 171.896801 276.573363 \nL 163.644436 276.573363 \nz\n\" style=\"fill:#ff7f0e;opacity:0.4;\"/>\n   </g>\n   <g id=\"patch_59\">\n    <path clip-path=\"url(#p0ba717ddf5)\" d=\"M 171.896801 348.478125 \nL 180.149166 348.478125 \nL 180.149166 279.449554 \nL 171.896801 279.449554 \nz\n\" style=\"fill:#ff7f0e;opacity:0.4;\"/>\n   </g>\n   <g id=\"patch_60\">\n    <path clip-path=\"url(#p0ba717ddf5)\" d=\"M 180.149166 348.478125 \nL 188.40153 348.478125 \nL 188.40153 308.211458 \nL 180.149166 308.211458 \nz\n\" style=\"fill:#ff7f0e;opacity:0.4;\"/>\n   </g>\n   <g id=\"patch_61\">\n    <path clip-path=\"url(#p0ba717ddf5)\" d=\"M 188.40153 348.478125 \nL 196.653895 348.478125 \nL 196.653895 316.84003 \nL 188.40153 316.84003 \nz\n\" style=\"fill:#ff7f0e;opacity:0.4;\"/>\n   </g>\n   <g id=\"patch_62\">\n    <path clip-path=\"url(#p0ba717ddf5)\" d=\"M 196.653895 348.478125 \nL 204.90626 348.478125 \nL 204.90626 331.220982 \nL 196.653895 331.220982 \nz\n\" style=\"fill:#ff7f0e;opacity:0.4;\"/>\n   </g>\n   <g id=\"patch_63\">\n    <path clip-path=\"url(#p0ba717ddf5)\" d=\"M 204.90626 348.478125 \nL 213.158625 348.478125 \nL 213.158625 325.468601 \nL 204.90626 325.468601 \nz\n\" style=\"fill:#ff7f0e;opacity:0.4;\"/>\n   </g>\n   <g id=\"patch_64\">\n    <path clip-path=\"url(#p0ba717ddf5)\" d=\"M 213.158625 348.478125 \nL 221.410989 348.478125 \nL 221.410989 328.344792 \nL 213.158625 328.344792 \nz\n\" style=\"fill:#ff7f0e;opacity:0.4;\"/>\n   </g>\n   <g id=\"patch_65\">\n    <path clip-path=\"url(#p0ba717ddf5)\" d=\"M 221.410989 348.478125 \nL 229.663354 348.478125 \nL 229.663354 334.097173 \nL 221.410989 334.097173 \nz\n\" style=\"fill:#ff7f0e;opacity:0.4;\"/>\n   </g>\n   <g id=\"patch_66\">\n    <path clip-path=\"url(#p0ba717ddf5)\" d=\"M 229.663354 348.478125 \nL 237.915719 348.478125 \nL 237.915719 336.973363 \nL 229.663354 336.973363 \nz\n\" style=\"fill:#ff7f0e;opacity:0.4;\"/>\n   </g>\n   <g id=\"patch_67\">\n    <path clip-path=\"url(#p0ba717ddf5)\" d=\"M 237.915719 348.478125 \nL 246.168084 348.478125 \nL 246.168084 331.220982 \nL 237.915719 331.220982 \nz\n\" style=\"fill:#ff7f0e;opacity:0.4;\"/>\n   </g>\n   <g id=\"patch_68\">\n    <path clip-path=\"url(#p0ba717ddf5)\" d=\"M 246.168084 348.478125 \nL 254.420448 348.478125 \nL 254.420448 339.849554 \nL 246.168084 339.849554 \nz\n\" style=\"fill:#ff7f0e;opacity:0.4;\"/>\n   </g>\n   <g id=\"patch_69\">\n    <path clip-path=\"url(#p0ba717ddf5)\" d=\"M 254.420448 348.478125 \nL 262.672813 348.478125 \nL 262.672813 345.601935 \nL 254.420448 345.601935 \nz\n\" style=\"fill:#ff7f0e;opacity:0.4;\"/>\n   </g>\n   <g id=\"patch_70\">\n    <path clip-path=\"url(#p0ba717ddf5)\" d=\"M 262.672813 348.478125 \nL 270.925178 348.478125 \nL 270.925178 345.601935 \nL 262.672813 345.601935 \nz\n\" style=\"fill:#ff7f0e;opacity:0.4;\"/>\n   </g>\n   <g id=\"patch_71\">\n    <path clip-path=\"url(#p0ba717ddf5)\" d=\"M 270.925178 348.478125 \nL 279.177543 348.478125 \nL 279.177543 348.478125 \nL 270.925178 348.478125 \nz\n\" style=\"fill:#ff7f0e;opacity:0.4;\"/>\n   </g>\n   <g id=\"patch_72\">\n    <path clip-path=\"url(#p0ba717ddf5)\" d=\"M 279.177543 348.478125 \nL 287.429907 348.478125 \nL 287.429907 348.478125 \nL 279.177543 348.478125 \nz\n\" style=\"fill:#ff7f0e;opacity:0.4;\"/>\n   </g>\n   <g id=\"patch_73\">\n    <path clip-path=\"url(#p0ba717ddf5)\" d=\"M 287.429907 348.478125 \nL 295.682272 348.478125 \nL 295.682272 345.601935 \nL 287.429907 345.601935 \nz\n\" style=\"fill:#ff7f0e;opacity:0.4;\"/>\n   </g>\n   <g id=\"patch_74\">\n    <path clip-path=\"url(#p0ba717ddf5)\" d=\"M 295.682272 348.478125 \nL 303.934637 348.478125 \nL 303.934637 348.478125 \nL 295.682272 348.478125 \nz\n\" style=\"fill:#ff7f0e;opacity:0.4;\"/>\n   </g>\n   <g id=\"patch_75\">\n    <path clip-path=\"url(#p0ba717ddf5)\" d=\"M 303.934637 348.478125 \nL 312.187002 348.478125 \nL 312.187002 348.478125 \nL 303.934637 348.478125 \nz\n\" style=\"fill:#ff7f0e;opacity:0.4;\"/>\n   </g>\n   <g id=\"patch_76\">\n    <path clip-path=\"url(#p0ba717ddf5)\" d=\"M 312.187002 348.478125 \nL 320.439366 348.478125 \nL 320.439366 345.601935 \nL 312.187002 345.601935 \nz\n\" style=\"fill:#ff7f0e;opacity:0.4;\"/>\n   </g>\n   <g id=\"patch_77\">\n    <path clip-path=\"url(#p0ba717ddf5)\" d=\"M 320.439366 348.478125 \nL 328.691731 348.478125 \nL 328.691731 348.478125 \nL 320.439366 348.478125 \nz\n\" style=\"fill:#ff7f0e;opacity:0.4;\"/>\n   </g>\n   <g id=\"patch_78\">\n    <path clip-path=\"url(#p0ba717ddf5)\" d=\"M 328.691731 348.478125 \nL 336.944096 348.478125 \nL 336.944096 348.478125 \nL 328.691731 348.478125 \nz\n\" style=\"fill:#ff7f0e;opacity:0.4;\"/>\n   </g>\n   <g id=\"patch_79\">\n    <path clip-path=\"url(#p0ba717ddf5)\" d=\"M 336.944096 348.478125 \nL 345.19646 348.478125 \nL 345.19646 348.478125 \nL 336.944096 348.478125 \nz\n\" style=\"fill:#ff7f0e;opacity:0.4;\"/>\n   </g>\n   <g id=\"patch_80\">\n    <path clip-path=\"url(#p0ba717ddf5)\" d=\"M 345.19646 348.478125 \nL 353.448825 348.478125 \nL 353.448825 345.601935 \nL 345.19646 345.601935 \nz\n\" style=\"fill:#ff7f0e;opacity:0.4;\"/>\n   </g>\n   <g id=\"patch_81\">\n    <path clip-path=\"url(#p0ba717ddf5)\" d=\"M 353.448825 348.478125 \nL 361.70119 348.478125 \nL 361.70119 339.849554 \nL 353.448825 339.849554 \nz\n\" style=\"fill:#ff7f0e;opacity:0.4;\"/>\n   </g>\n   <g id=\"patch_82\">\n    <path clip-path=\"url(#p0ba717ddf5)\" d=\"M 361.70119 348.478125 \nL 369.953555 348.478125 \nL 369.953555 348.478125 \nL 361.70119 348.478125 \nz\n\" style=\"fill:#ff7f0e;opacity:0.4;\"/>\n   </g>\n   <g id=\"patch_83\">\n    <path clip-path=\"url(#p0ba717ddf5)\" d=\"M 369.953555 348.478125 \nL 378.205919 348.478125 \nL 378.205919 345.601935 \nL 369.953555 345.601935 \nz\n\" style=\"fill:#ff7f0e;opacity:0.4;\"/>\n   </g>\n   <g id=\"patch_84\">\n    <path clip-path=\"url(#p0ba717ddf5)\" d=\"M 378.205919 348.478125 \nL 386.458284 348.478125 \nL 386.458284 345.601935 \nL 378.205919 345.601935 \nz\n\" style=\"fill:#ff7f0e;opacity:0.4;\"/>\n   </g>\n   <g id=\"patch_85\">\n    <path clip-path=\"url(#p0ba717ddf5)\" d=\"M 386.458284 348.478125 \nL 394.710649 348.478125 \nL 394.710649 348.478125 \nL 386.458284 348.478125 \nz\n\" style=\"fill:#ff7f0e;opacity:0.4;\"/>\n   </g>\n   <g id=\"patch_86\">\n    <path clip-path=\"url(#p0ba717ddf5)\" d=\"M 394.710649 348.478125 \nL 402.963014 348.478125 \nL 402.963014 345.601935 \nL 394.710649 345.601935 \nz\n\" style=\"fill:#ff7f0e;opacity:0.4;\"/>\n   </g>\n   <g id=\"patch_87\">\n    <path clip-path=\"url(#p0ba717ddf5)\" d=\"M 402.963014 348.478125 \nL 411.215378 348.478125 \nL 411.215378 345.601935 \nL 402.963014 345.601935 \nz\n\" style=\"fill:#ff7f0e;opacity:0.4;\"/>\n   </g>\n   <g id=\"patch_88\">\n    <path clip-path=\"url(#p0ba717ddf5)\" d=\"M 411.215378 348.478125 \nL 419.467743 348.478125 \nL 419.467743 348.478125 \nL 411.215378 348.478125 \nz\n\" style=\"fill:#ff7f0e;opacity:0.4;\"/>\n   </g>\n   <g id=\"patch_89\">\n    <path clip-path=\"url(#p0ba717ddf5)\" d=\"M 419.467743 348.478125 \nL 427.720108 348.478125 \nL 427.720108 348.478125 \nL 419.467743 348.478125 \nz\n\" style=\"fill:#ff7f0e;opacity:0.4;\"/>\n   </g>\n   <g id=\"patch_90\">\n    <path clip-path=\"url(#p0ba717ddf5)\" d=\"M 427.720108 348.478125 \nL 435.972473 348.478125 \nL 435.972473 345.601935 \nL 427.720108 345.601935 \nz\n\" style=\"fill:#ff7f0e;opacity:0.4;\"/>\n   </g>\n   <g id=\"patch_91\">\n    <path clip-path=\"url(#p0ba717ddf5)\" d=\"M 435.972473 348.478125 \nL 444.224837 348.478125 \nL 444.224837 348.478125 \nL 435.972473 348.478125 \nz\n\" style=\"fill:#ff7f0e;opacity:0.4;\"/>\n   </g>\n   <g id=\"patch_92\">\n    <path clip-path=\"url(#p0ba717ddf5)\" d=\"M 444.224837 348.478125 \nL 452.477202 348.478125 \nL 452.477202 348.478125 \nL 444.224837 348.478125 \nz\n\" style=\"fill:#ff7f0e;opacity:0.4;\"/>\n   </g>\n   <g id=\"patch_93\">\n    <path clip-path=\"url(#p0ba717ddf5)\" d=\"M 452.477202 348.478125 \nL 460.729567 348.478125 \nL 460.729567 348.478125 \nL 452.477202 348.478125 \nz\n\" style=\"fill:#ff7f0e;opacity:0.4;\"/>\n   </g>\n   <g id=\"patch_94\">\n    <path clip-path=\"url(#p0ba717ddf5)\" d=\"M 460.729567 348.478125 \nL 468.981932 348.478125 \nL 468.981932 348.478125 \nL 460.729567 348.478125 \nz\n\" style=\"fill:#ff7f0e;opacity:0.4;\"/>\n   </g>\n   <g id=\"patch_95\">\n    <path clip-path=\"url(#p0ba717ddf5)\" d=\"M 468.981932 348.478125 \nL 477.234296 348.478125 \nL 477.234296 348.478125 \nL 468.981932 348.478125 \nz\n\" style=\"fill:#ff7f0e;opacity:0.4;\"/>\n   </g>\n   <g id=\"patch_96\">\n    <path clip-path=\"url(#p0ba717ddf5)\" d=\"M 477.234296 348.478125 \nL 485.486661 348.478125 \nL 485.486661 345.601935 \nL 477.234296 345.601935 \nz\n\" style=\"fill:#ff7f0e;opacity:0.4;\"/>\n   </g>\n   <g id=\"patch_97\">\n    <path clip-path=\"url(#p0ba717ddf5)\" d=\"M 485.486661 348.478125 \nL 493.739026 348.478125 \nL 493.739026 348.478125 \nL 485.486661 348.478125 \nz\n\" style=\"fill:#ff7f0e;opacity:0.4;\"/>\n   </g>\n   <g id=\"patch_98\">\n    <path clip-path=\"url(#p0ba717ddf5)\" d=\"M 493.739026 348.478125 \nL 501.991391 348.478125 \nL 501.991391 345.601935 \nL 493.739026 345.601935 \nz\n\" style=\"fill:#ff7f0e;opacity:0.4;\"/>\n   </g>\n   <g id=\"matplotlib.axis_1\">\n    <g id=\"xtick_1\">\n     <g id=\"line2d_1\">\n      <defs>\n       <path d=\"M 0 0 \nL 0 3.5 \n\" id=\"m64aa50d4d4\" style=\"stroke:#000000;stroke-width:0.8;\"/>\n      </defs>\n      <g>\n       <use style=\"stroke:#000000;stroke-width:0.8;\" x=\"120.822755\" xlink:href=\"#m64aa50d4d4\" y=\"348.478125\"/>\n      </g>\n     </g>\n     <g id=\"text_1\">\n      <!-- 0 -->\n      <defs>\n       <path d=\"M 31.78125 66.40625 \nQ 24.171875 66.40625 20.328125 58.90625 \nQ 16.5 51.421875 16.5 36.375 \nQ 16.5 21.390625 20.328125 13.890625 \nQ 24.171875 6.390625 31.78125 6.390625 \nQ 39.453125 6.390625 43.28125 13.890625 \nQ 47.125 21.390625 47.125 36.375 \nQ 47.125 51.421875 43.28125 58.90625 \nQ 39.453125 66.40625 31.78125 66.40625 \nz\nM 31.78125 74.21875 \nQ 44.046875 74.21875 50.515625 64.515625 \nQ 56.984375 54.828125 56.984375 36.375 \nQ 56.984375 17.96875 50.515625 8.265625 \nQ 44.046875 -1.421875 31.78125 -1.421875 \nQ 19.53125 -1.421875 13.0625 8.265625 \nQ 6.59375 17.96875 6.59375 36.375 \nQ 6.59375 54.828125 13.0625 64.515625 \nQ 19.53125 74.21875 31.78125 74.21875 \nz\n\" id=\"DejaVuSans-48\"/>\n      </defs>\n      <g transform=\"translate(117.641505 363.076562)scale(0.1 -0.1)\">\n       <use xlink:href=\"#DejaVuSans-48\"/>\n      </g>\n     </g>\n    </g>\n    <g id=\"xtick_2\">\n     <g id=\"line2d_2\">\n      <g>\n       <use style=\"stroke:#000000;stroke-width:0.8;\" x=\"337.4697\" xlink:href=\"#m64aa50d4d4\" y=\"348.478125\"/>\n      </g>\n     </g>\n     <g id=\"text_2\">\n      <!-- 5000 -->\n      <defs>\n       <path d=\"M 10.796875 72.90625 \nL 49.515625 72.90625 \nL 49.515625 64.59375 \nL 19.828125 64.59375 \nL 19.828125 46.734375 \nQ 21.96875 47.46875 24.109375 47.828125 \nQ 26.265625 48.1875 28.421875 48.1875 \nQ 40.625 48.1875 47.75 41.5 \nQ 54.890625 34.8125 54.890625 23.390625 \nQ 54.890625 11.625 47.5625 5.09375 \nQ 40.234375 -1.421875 26.90625 -1.421875 \nQ 22.3125 -1.421875 17.546875 -0.640625 \nQ 12.796875 0.140625 7.71875 1.703125 \nL 7.71875 11.625 \nQ 12.109375 9.234375 16.796875 8.0625 \nQ 21.484375 6.890625 26.703125 6.890625 \nQ 35.15625 6.890625 40.078125 11.328125 \nQ 45.015625 15.765625 45.015625 23.390625 \nQ 45.015625 31 40.078125 35.4375 \nQ 35.15625 39.890625 26.703125 39.890625 \nQ 22.75 39.890625 18.8125 39.015625 \nQ 14.890625 38.140625 10.796875 36.28125 \nz\n\" id=\"DejaVuSans-53\"/>\n      </defs>\n      <g transform=\"translate(324.7447 363.076562)scale(0.1 -0.1)\">\n       <use xlink:href=\"#DejaVuSans-53\"/>\n       <use x=\"63.623047\" xlink:href=\"#DejaVuSans-48\"/>\n       <use x=\"127.246094\" xlink:href=\"#DejaVuSans-48\"/>\n       <use x=\"190.869141\" xlink:href=\"#DejaVuSans-48\"/>\n      </g>\n     </g>\n    </g>\n    <g id=\"xtick_3\">\n     <g id=\"line2d_3\">\n      <g>\n       <use style=\"stroke:#000000;stroke-width:0.8;\" x=\"554.116646\" xlink:href=\"#m64aa50d4d4\" y=\"348.478125\"/>\n      </g>\n     </g>\n     <g id=\"text_3\">\n      <!-- 10000 -->\n      <defs>\n       <path d=\"M 12.40625 8.296875 \nL 28.515625 8.296875 \nL 28.515625 63.921875 \nL 10.984375 60.40625 \nL 10.984375 69.390625 \nL 28.421875 72.90625 \nL 38.28125 72.90625 \nL 38.28125 8.296875 \nL 54.390625 8.296875 \nL 54.390625 0 \nL 12.40625 0 \nz\n\" id=\"DejaVuSans-49\"/>\n      </defs>\n      <g transform=\"translate(538.210396 363.076562)scale(0.1 -0.1)\">\n       <use xlink:href=\"#DejaVuSans-49\"/>\n       <use x=\"63.623047\" xlink:href=\"#DejaVuSans-48\"/>\n       <use x=\"127.246094\" xlink:href=\"#DejaVuSans-48\"/>\n       <use x=\"190.869141\" xlink:href=\"#DejaVuSans-48\"/>\n       <use x=\"254.492188\" xlink:href=\"#DejaVuSans-48\"/>\n      </g>\n     </g>\n    </g>\n    <g id=\"xtick_4\">\n     <g id=\"line2d_4\">\n      <g>\n       <use style=\"stroke:#000000;stroke-width:0.8;\" x=\"770.763591\" xlink:href=\"#m64aa50d4d4\" y=\"348.478125\"/>\n      </g>\n     </g>\n     <g id=\"text_4\">\n      <!-- 15000 -->\n      <g transform=\"translate(754.857341 363.076562)scale(0.1 -0.1)\">\n       <use xlink:href=\"#DejaVuSans-49\"/>\n       <use x=\"63.623047\" xlink:href=\"#DejaVuSans-53\"/>\n       <use x=\"127.246094\" xlink:href=\"#DejaVuSans-48\"/>\n       <use x=\"190.869141\" xlink:href=\"#DejaVuSans-48\"/>\n       <use x=\"254.492188\" xlink:href=\"#DejaVuSans-48\"/>\n      </g>\n     </g>\n    </g>\n    <g id=\"xtick_5\">\n     <g id=\"line2d_5\">\n      <g>\n       <use style=\"stroke:#000000;stroke-width:0.8;\" x=\"987.410537\" xlink:href=\"#m64aa50d4d4\" y=\"348.478125\"/>\n      </g>\n     </g>\n     <g id=\"text_5\">\n      <!-- 20000 -->\n      <defs>\n       <path d=\"M 19.1875 8.296875 \nL 53.609375 8.296875 \nL 53.609375 0 \nL 7.328125 0 \nL 7.328125 8.296875 \nQ 12.9375 14.109375 22.625 23.890625 \nQ 32.328125 33.6875 34.8125 36.53125 \nQ 39.546875 41.84375 41.421875 45.53125 \nQ 43.3125 49.21875 43.3125 52.78125 \nQ 43.3125 58.59375 39.234375 62.25 \nQ 35.15625 65.921875 28.609375 65.921875 \nQ 23.96875 65.921875 18.8125 64.3125 \nQ 13.671875 62.703125 7.8125 59.421875 \nL 7.8125 69.390625 \nQ 13.765625 71.78125 18.9375 73 \nQ 24.125 74.21875 28.421875 74.21875 \nQ 39.75 74.21875 46.484375 68.546875 \nQ 53.21875 62.890625 53.21875 53.421875 \nQ 53.21875 48.921875 51.53125 44.890625 \nQ 49.859375 40.875 45.40625 35.40625 \nQ 44.1875 33.984375 37.640625 27.21875 \nQ 31.109375 20.453125 19.1875 8.296875 \nz\n\" id=\"DejaVuSans-50\"/>\n      </defs>\n      <g transform=\"translate(971.504287 363.076562)scale(0.1 -0.1)\">\n       <use xlink:href=\"#DejaVuSans-50\"/>\n       <use x=\"63.623047\" xlink:href=\"#DejaVuSans-48\"/>\n       <use x=\"127.246094\" xlink:href=\"#DejaVuSans-48\"/>\n       <use x=\"190.869141\" xlink:href=\"#DejaVuSans-48\"/>\n       <use x=\"254.492188\" xlink:href=\"#DejaVuSans-48\"/>\n      </g>\n     </g>\n    </g>\n    <g id=\"text_6\">\n     <!-- answer -->\n     <defs>\n      <path d=\"M 34.28125 27.484375 \nQ 23.390625 27.484375 19.1875 25 \nQ 14.984375 22.515625 14.984375 16.5 \nQ 14.984375 11.71875 18.140625 8.90625 \nQ 21.296875 6.109375 26.703125 6.109375 \nQ 34.1875 6.109375 38.703125 11.40625 \nQ 43.21875 16.703125 43.21875 25.484375 \nL 43.21875 27.484375 \nz\nM 52.203125 31.203125 \nL 52.203125 0 \nL 43.21875 0 \nL 43.21875 8.296875 \nQ 40.140625 3.328125 35.546875 0.953125 \nQ 30.953125 -1.421875 24.3125 -1.421875 \nQ 15.921875 -1.421875 10.953125 3.296875 \nQ 6 8.015625 6 15.921875 \nQ 6 25.140625 12.171875 29.828125 \nQ 18.359375 34.515625 30.609375 34.515625 \nL 43.21875 34.515625 \nL 43.21875 35.40625 \nQ 43.21875 41.609375 39.140625 45 \nQ 35.0625 48.390625 27.6875 48.390625 \nQ 23 48.390625 18.546875 47.265625 \nQ 14.109375 46.140625 10.015625 43.890625 \nL 10.015625 52.203125 \nQ 14.9375 54.109375 19.578125 55.046875 \nQ 24.21875 56 28.609375 56 \nQ 40.484375 56 46.34375 49.84375 \nQ 52.203125 43.703125 52.203125 31.203125 \nz\n\" id=\"DejaVuSans-97\"/>\n      <path d=\"M 54.890625 33.015625 \nL 54.890625 0 \nL 45.90625 0 \nL 45.90625 32.71875 \nQ 45.90625 40.484375 42.875 44.328125 \nQ 39.84375 48.1875 33.796875 48.1875 \nQ 26.515625 48.1875 22.3125 43.546875 \nQ 18.109375 38.921875 18.109375 30.90625 \nL 18.109375 0 \nL 9.078125 0 \nL 9.078125 54.6875 \nL 18.109375 54.6875 \nL 18.109375 46.1875 \nQ 21.34375 51.125 25.703125 53.5625 \nQ 30.078125 56 35.796875 56 \nQ 45.21875 56 50.046875 50.171875 \nQ 54.890625 44.34375 54.890625 33.015625 \nz\n\" id=\"DejaVuSans-110\"/>\n      <path d=\"M 44.28125 53.078125 \nL 44.28125 44.578125 \nQ 40.484375 46.53125 36.375 47.5 \nQ 32.28125 48.484375 27.875 48.484375 \nQ 21.1875 48.484375 17.84375 46.4375 \nQ 14.5 44.390625 14.5 40.28125 \nQ 14.5 37.15625 16.890625 35.375 \nQ 19.28125 33.59375 26.515625 31.984375 \nL 29.59375 31.296875 \nQ 39.15625 29.25 43.1875 25.515625 \nQ 47.21875 21.78125 47.21875 15.09375 \nQ 47.21875 7.46875 41.1875 3.015625 \nQ 35.15625 -1.421875 24.609375 -1.421875 \nQ 20.21875 -1.421875 15.453125 -0.5625 \nQ 10.6875 0.296875 5.421875 2 \nL 5.421875 11.28125 \nQ 10.40625 8.6875 15.234375 7.390625 \nQ 20.0625 6.109375 24.8125 6.109375 \nQ 31.15625 6.109375 34.5625 8.28125 \nQ 37.984375 10.453125 37.984375 14.40625 \nQ 37.984375 18.0625 35.515625 20.015625 \nQ 33.0625 21.96875 24.703125 23.78125 \nL 21.578125 24.515625 \nQ 13.234375 26.265625 9.515625 29.90625 \nQ 5.8125 33.546875 5.8125 39.890625 \nQ 5.8125 47.609375 11.28125 51.796875 \nQ 16.75 56 26.8125 56 \nQ 31.78125 56 36.171875 55.265625 \nQ 40.578125 54.546875 44.28125 53.078125 \nz\n\" id=\"DejaVuSans-115\"/>\n      <path d=\"M 4.203125 54.6875 \nL 13.1875 54.6875 \nL 24.421875 12.015625 \nL 35.59375 54.6875 \nL 46.1875 54.6875 \nL 57.421875 12.015625 \nL 68.609375 54.6875 \nL 77.59375 54.6875 \nL 63.28125 0 \nL 52.6875 0 \nL 40.921875 44.828125 \nL 29.109375 0 \nL 18.5 0 \nz\n\" id=\"DejaVuSans-119\"/>\n      <path d=\"M 56.203125 29.59375 \nL 56.203125 25.203125 \nL 14.890625 25.203125 \nQ 15.484375 15.921875 20.484375 11.0625 \nQ 25.484375 6.203125 34.421875 6.203125 \nQ 39.59375 6.203125 44.453125 7.46875 \nQ 49.3125 8.734375 54.109375 11.28125 \nL 54.109375 2.78125 \nQ 49.265625 0.734375 44.1875 -0.34375 \nQ 39.109375 -1.421875 33.890625 -1.421875 \nQ 20.796875 -1.421875 13.15625 6.1875 \nQ 5.515625 13.8125 5.515625 26.8125 \nQ 5.515625 40.234375 12.765625 48.109375 \nQ 20.015625 56 32.328125 56 \nQ 43.359375 56 49.78125 48.890625 \nQ 56.203125 41.796875 56.203125 29.59375 \nz\nM 47.21875 32.234375 \nQ 47.125 39.59375 43.09375 43.984375 \nQ 39.0625 48.390625 32.421875 48.390625 \nQ 24.90625 48.390625 20.390625 44.140625 \nQ 15.875 39.890625 15.1875 32.171875 \nz\n\" id=\"DejaVuSans-101\"/>\n      <path d=\"M 41.109375 46.296875 \nQ 39.59375 47.171875 37.8125 47.578125 \nQ 36.03125 48 33.890625 48 \nQ 26.265625 48 22.1875 43.046875 \nQ 18.109375 38.09375 18.109375 28.8125 \nL 18.109375 0 \nL 9.078125 0 \nL 9.078125 54.6875 \nL 18.109375 54.6875 \nL 18.109375 46.1875 \nQ 20.953125 51.171875 25.484375 53.578125 \nQ 30.03125 56 36.53125 56 \nQ 37.453125 56 38.578125 55.875 \nQ 39.703125 55.765625 41.0625 55.515625 \nz\n\" id=\"DejaVuSans-114\"/>\n     </defs>\n     <g transform=\"translate(589.132031 376.754687)scale(0.1 -0.1)\">\n      <use xlink:href=\"#DejaVuSans-97\"/>\n      <use x=\"61.279297\" xlink:href=\"#DejaVuSans-110\"/>\n      <use x=\"124.658203\" xlink:href=\"#DejaVuSans-115\"/>\n      <use x=\"176.757812\" xlink:href=\"#DejaVuSans-119\"/>\n      <use x=\"258.544922\" xlink:href=\"#DejaVuSans-101\"/>\n      <use x=\"320.068359\" xlink:href=\"#DejaVuSans-114\"/>\n     </g>\n    </g>\n   </g>\n   <g id=\"matplotlib.axis_2\">\n    <g id=\"ytick_1\">\n     <g id=\"line2d_6\">\n      <defs>\n       <path d=\"M 0 0 \nL -3.5 0 \n\" id=\"m5be14cc962\" style=\"stroke:#000000;stroke-width:0.8;\"/>\n      </defs>\n      <g>\n       <use style=\"stroke:#000000;stroke-width:0.8;\" x=\"49.190625\" xlink:href=\"#m5be14cc962\" y=\"348.478125\"/>\n      </g>\n     </g>\n     <g id=\"text_7\">\n      <!-- 0.0000 -->\n      <defs>\n       <path d=\"M 10.6875 12.40625 \nL 21 12.40625 \nL 21 0 \nL 10.6875 0 \nz\n\" id=\"DejaVuSans-46\"/>\n      </defs>\n      <g transform=\"translate(7.2 352.277344)scale(0.1 -0.1)\">\n       <use xlink:href=\"#DejaVuSans-48\"/>\n       <use x=\"63.623047\" xlink:href=\"#DejaVuSans-46\"/>\n       <use x=\"95.410156\" xlink:href=\"#DejaVuSans-48\"/>\n       <use x=\"159.033203\" xlink:href=\"#DejaVuSans-48\"/>\n       <use x=\"222.65625\" xlink:href=\"#DejaVuSans-48\"/>\n       <use x=\"286.279297\" xlink:href=\"#DejaVuSans-48\"/>\n      </g>\n     </g>\n    </g>\n    <g id=\"ytick_2\">\n     <g id=\"line2d_7\">\n      <g>\n       <use style=\"stroke:#000000;stroke-width:0.8;\" x=\"49.190625\" xlink:href=\"#m5be14cc962\" y=\"296.32859\"/>\n      </g>\n     </g>\n     <g id=\"text_8\">\n      <!-- 0.0002 -->\n      <g transform=\"translate(7.2 300.127809)scale(0.1 -0.1)\">\n       <use xlink:href=\"#DejaVuSans-48\"/>\n       <use x=\"63.623047\" xlink:href=\"#DejaVuSans-46\"/>\n       <use x=\"95.410156\" xlink:href=\"#DejaVuSans-48\"/>\n       <use x=\"159.033203\" xlink:href=\"#DejaVuSans-48\"/>\n       <use x=\"222.65625\" xlink:href=\"#DejaVuSans-48\"/>\n       <use x=\"286.279297\" xlink:href=\"#DejaVuSans-50\"/>\n      </g>\n     </g>\n    </g>\n    <g id=\"ytick_3\">\n     <g id=\"line2d_8\">\n      <g>\n       <use style=\"stroke:#000000;stroke-width:0.8;\" x=\"49.190625\" xlink:href=\"#m5be14cc962\" y=\"244.179055\"/>\n      </g>\n     </g>\n     <g id=\"text_9\">\n      <!-- 0.0004 -->\n      <defs>\n       <path d=\"M 37.796875 64.3125 \nL 12.890625 25.390625 \nL 37.796875 25.390625 \nz\nM 35.203125 72.90625 \nL 47.609375 72.90625 \nL 47.609375 25.390625 \nL 58.015625 25.390625 \nL 58.015625 17.1875 \nL 47.609375 17.1875 \nL 47.609375 0 \nL 37.796875 0 \nL 37.796875 17.1875 \nL 4.890625 17.1875 \nL 4.890625 26.703125 \nz\n\" id=\"DejaVuSans-52\"/>\n      </defs>\n      <g transform=\"translate(7.2 247.978274)scale(0.1 -0.1)\">\n       <use xlink:href=\"#DejaVuSans-48\"/>\n       <use x=\"63.623047\" xlink:href=\"#DejaVuSans-46\"/>\n       <use x=\"95.410156\" xlink:href=\"#DejaVuSans-48\"/>\n       <use x=\"159.033203\" xlink:href=\"#DejaVuSans-48\"/>\n       <use x=\"222.65625\" xlink:href=\"#DejaVuSans-48\"/>\n       <use x=\"286.279297\" xlink:href=\"#DejaVuSans-52\"/>\n      </g>\n     </g>\n    </g>\n    <g id=\"ytick_4\">\n     <g id=\"line2d_9\">\n      <g>\n       <use style=\"stroke:#000000;stroke-width:0.8;\" x=\"49.190625\" xlink:href=\"#m5be14cc962\" y=\"192.02952\"/>\n      </g>\n     </g>\n     <g id=\"text_10\">\n      <!-- 0.0006 -->\n      <defs>\n       <path d=\"M 33.015625 40.375 \nQ 26.375 40.375 22.484375 35.828125 \nQ 18.609375 31.296875 18.609375 23.390625 \nQ 18.609375 15.53125 22.484375 10.953125 \nQ 26.375 6.390625 33.015625 6.390625 \nQ 39.65625 6.390625 43.53125 10.953125 \nQ 47.40625 15.53125 47.40625 23.390625 \nQ 47.40625 31.296875 43.53125 35.828125 \nQ 39.65625 40.375 33.015625 40.375 \nz\nM 52.59375 71.296875 \nL 52.59375 62.3125 \nQ 48.875 64.0625 45.09375 64.984375 \nQ 41.3125 65.921875 37.59375 65.921875 \nQ 27.828125 65.921875 22.671875 59.328125 \nQ 17.53125 52.734375 16.796875 39.40625 \nQ 19.671875 43.65625 24.015625 45.921875 \nQ 28.375 48.1875 33.59375 48.1875 \nQ 44.578125 48.1875 50.953125 41.515625 \nQ 57.328125 34.859375 57.328125 23.390625 \nQ 57.328125 12.15625 50.6875 5.359375 \nQ 44.046875 -1.421875 33.015625 -1.421875 \nQ 20.359375 -1.421875 13.671875 8.265625 \nQ 6.984375 17.96875 6.984375 36.375 \nQ 6.984375 53.65625 15.1875 63.9375 \nQ 23.390625 74.21875 37.203125 74.21875 \nQ 40.921875 74.21875 44.703125 73.484375 \nQ 48.484375 72.75 52.59375 71.296875 \nz\n\" id=\"DejaVuSans-54\"/>\n      </defs>\n      <g transform=\"translate(7.2 195.828739)scale(0.1 -0.1)\">\n       <use xlink:href=\"#DejaVuSans-48\"/>\n       <use x=\"63.623047\" xlink:href=\"#DejaVuSans-46\"/>\n       <use x=\"95.410156\" xlink:href=\"#DejaVuSans-48\"/>\n       <use x=\"159.033203\" xlink:href=\"#DejaVuSans-48\"/>\n       <use x=\"222.65625\" xlink:href=\"#DejaVuSans-48\"/>\n       <use x=\"286.279297\" xlink:href=\"#DejaVuSans-54\"/>\n      </g>\n     </g>\n    </g>\n    <g id=\"ytick_5\">\n     <g id=\"line2d_10\">\n      <g>\n       <use style=\"stroke:#000000;stroke-width:0.8;\" x=\"49.190625\" xlink:href=\"#m5be14cc962\" y=\"139.879985\"/>\n      </g>\n     </g>\n     <g id=\"text_11\">\n      <!-- 0.0008 -->\n      <defs>\n       <path d=\"M 31.78125 34.625 \nQ 24.75 34.625 20.71875 30.859375 \nQ 16.703125 27.09375 16.703125 20.515625 \nQ 16.703125 13.921875 20.71875 10.15625 \nQ 24.75 6.390625 31.78125 6.390625 \nQ 38.8125 6.390625 42.859375 10.171875 \nQ 46.921875 13.96875 46.921875 20.515625 \nQ 46.921875 27.09375 42.890625 30.859375 \nQ 38.875 34.625 31.78125 34.625 \nz\nM 21.921875 38.8125 \nQ 15.578125 40.375 12.03125 44.71875 \nQ 8.5 49.078125 8.5 55.328125 \nQ 8.5 64.0625 14.71875 69.140625 \nQ 20.953125 74.21875 31.78125 74.21875 \nQ 42.671875 74.21875 48.875 69.140625 \nQ 55.078125 64.0625 55.078125 55.328125 \nQ 55.078125 49.078125 51.53125 44.71875 \nQ 48 40.375 41.703125 38.8125 \nQ 48.828125 37.15625 52.796875 32.3125 \nQ 56.78125 27.484375 56.78125 20.515625 \nQ 56.78125 9.90625 50.3125 4.234375 \nQ 43.84375 -1.421875 31.78125 -1.421875 \nQ 19.734375 -1.421875 13.25 4.234375 \nQ 6.78125 9.90625 6.78125 20.515625 \nQ 6.78125 27.484375 10.78125 32.3125 \nQ 14.796875 37.15625 21.921875 38.8125 \nz\nM 18.3125 54.390625 \nQ 18.3125 48.734375 21.84375 45.5625 \nQ 25.390625 42.390625 31.78125 42.390625 \nQ 38.140625 42.390625 41.71875 45.5625 \nQ 45.3125 48.734375 45.3125 54.390625 \nQ 45.3125 60.0625 41.71875 63.234375 \nQ 38.140625 66.40625 31.78125 66.40625 \nQ 25.390625 66.40625 21.84375 63.234375 \nQ 18.3125 60.0625 18.3125 54.390625 \nz\n\" id=\"DejaVuSans-56\"/>\n      </defs>\n      <g transform=\"translate(7.2 143.679203)scale(0.1 -0.1)\">\n       <use xlink:href=\"#DejaVuSans-48\"/>\n       <use x=\"63.623047\" xlink:href=\"#DejaVuSans-46\"/>\n       <use x=\"95.410156\" xlink:href=\"#DejaVuSans-48\"/>\n       <use x=\"159.033203\" xlink:href=\"#DejaVuSans-48\"/>\n       <use x=\"222.65625\" xlink:href=\"#DejaVuSans-48\"/>\n       <use x=\"286.279297\" xlink:href=\"#DejaVuSans-56\"/>\n      </g>\n     </g>\n    </g>\n    <g id=\"ytick_6\">\n     <g id=\"line2d_11\">\n      <g>\n       <use style=\"stroke:#000000;stroke-width:0.8;\" x=\"49.190625\" xlink:href=\"#m5be14cc962\" y=\"87.73045\"/>\n      </g>\n     </g>\n     <g id=\"text_12\">\n      <!-- 0.0010 -->\n      <g transform=\"translate(7.2 91.529668)scale(0.1 -0.1)\">\n       <use xlink:href=\"#DejaVuSans-48\"/>\n       <use x=\"63.623047\" xlink:href=\"#DejaVuSans-46\"/>\n       <use x=\"95.410156\" xlink:href=\"#DejaVuSans-48\"/>\n       <use x=\"159.033203\" xlink:href=\"#DejaVuSans-48\"/>\n       <use x=\"222.65625\" xlink:href=\"#DejaVuSans-49\"/>\n       <use x=\"286.279297\" xlink:href=\"#DejaVuSans-48\"/>\n      </g>\n     </g>\n    </g>\n    <g id=\"ytick_7\">\n     <g id=\"line2d_12\">\n      <g>\n       <use style=\"stroke:#000000;stroke-width:0.8;\" x=\"49.190625\" xlink:href=\"#m5be14cc962\" y=\"35.580915\"/>\n      </g>\n     </g>\n     <g id=\"text_13\">\n      <!-- 0.0012 -->\n      <g transform=\"translate(7.2 39.380133)scale(0.1 -0.1)\">\n       <use xlink:href=\"#DejaVuSans-48\"/>\n       <use x=\"63.623047\" xlink:href=\"#DejaVuSans-46\"/>\n       <use x=\"95.410156\" xlink:href=\"#DejaVuSans-48\"/>\n       <use x=\"159.033203\" xlink:href=\"#DejaVuSans-48\"/>\n       <use x=\"222.65625\" xlink:href=\"#DejaVuSans-49\"/>\n       <use x=\"286.279297\" xlink:href=\"#DejaVuSans-50\"/>\n      </g>\n     </g>\n    </g>\n   </g>\n   <g id=\"line2d_13\">\n    <path clip-path=\"url(#p0ba717ddf5)\" d=\"M 108.896126 348.414685 \nL 116.813978 339.606487 \nL 124.73183 215.310774 \nL 132.649682 69.262173 \nL 140.567535 106.063298 \nL 148.485387 162.501896 \nL 156.403239 219.940533 \nL 164.321091 251.955845 \nL 172.238943 276.429236 \nL 180.156795 299.148124 \nL 188.074648 308.528793 \nL 195.9925 320.968961 \nL 203.910352 325.991423 \nL 211.828204 332.440392 \nL 219.746056 332.955634 \nL 227.663909 338.57635 \nL 235.581761 338.858764 \nL 243.499613 341.510379 \nL 251.417465 340.237607 \nL 259.335317 343.291646 \nL 267.253169 342.885622 \nL 275.171022 344.36891 \nL 283.088874 344.635856 \nL 291.006726 345.791068 \nL 298.924578 345.112825 \nL 306.84243 346.502212 \nL 314.760282 347.045451 \nL 322.678135 347.276113 \nL 330.595987 347.721962 \nL 338.513839 347.445211 \nL 346.431691 347.800717 \nL 354.349543 347.662384 \nL 370.185248 348.08179 \nL 378.1031 347.670773 \nL 386.020952 348.14162 \nL 393.938804 348.203367 \nL 401.856656 348.146177 \nL 409.774509 347.829366 \nL 417.692361 347.62555 \nL 425.610213 348.137653 \nL 449.363769 348.149888 \nL 465.199474 348.143917 \nL 473.117326 348.338475 \nL 488.95303 348.207375 \nL 496.870883 348.451822 \nL 504.788735 348.394346 \nL 512.706587 348.166642 \nL 520.624439 348.414468 \nL 528.542291 348.438476 \nL 536.460143 348.293513 \nL 544.377996 348.461712 \nL 552.295848 348.470282 \nL 560.2137 348.295245 \nL 568.131552 348.441543 \nL 583.967256 348.473428 \nL 591.885109 348.347542 \nL 607.720813 348.450632 \nL 615.638665 348.278518 \nL 623.556517 348.468673 \nL 686.899335 348.46264 \nL 702.735039 348.203363 \nL 710.652891 348.379998 \nL 718.570743 348.274723 \nL 750.242152 348.381496 \nL 758.160004 348.354631 \nL 773.995709 348.478125 \nL 1035.284831 348.447841 \nL 1059.038387 348.478125 \nL 1082.791944 348.439235 \nL 1090.709796 348.478125 \nL 1098.627648 348.328742 \nL 1114.463352 348.478125 \nL 1114.463352 348.478125 \n\" style=\"fill:none;stroke:#1f77b4;stroke-linecap:square;stroke-width:1.5;\"/>\n   </g>\n   <g id=\"line2d_14\">\n    <path clip-path=\"url(#p0ba717ddf5)\" d=\"M 99.917898 348.265555 \nL 103.260718 347.63333 \nL 106.603539 345.597324 \nL 109.946359 340.148606 \nL 113.28918 327.971651 \nL 116.632 305.225118 \nL 119.974821 269.721202 \nL 123.317641 223.565584 \nL 126.660462 174.117946 \nL 130.003283 131.785177 \nL 133.346103 105.566832 \nL 136.688924 99.139129 \nL 140.031744 109.863416 \nL 143.374565 131.046261 \nL 146.717385 155.717814 \nL 150.060206 179.420107 \nL 153.403026 200.57458 \nL 156.745847 219.111294 \nL 160.088667 235.164321 \nL 163.431488 248.784966 \nL 166.774308 260.203691 \nL 170.117129 269.919999 \nL 173.459949 278.542935 \nL 180.145591 294.397929 \nL 183.488411 301.917851 \nL 186.831232 308.902458 \nL 190.174052 315.005141 \nL 193.516873 319.927143 \nL 196.859693 323.497233 \nL 200.202514 325.737727 \nL 203.545334 326.898661 \nL 206.888155 327.402465 \nL 210.230975 327.710446 \nL 213.573796 328.184263 \nL 216.916616 328.996437 \nL 220.259437 330.11611 \nL 226.945078 332.575574 \nL 230.287898 333.562705 \nL 233.630719 334.284775 \nL 240.31636 335.400857 \nL 243.659181 336.27412 \nL 247.002001 337.606074 \nL 250.344822 339.336496 \nL 253.687642 341.211388 \nL 257.030463 342.94425 \nL 260.373283 344.369392 \nL 263.716104 345.477352 \nL 267.058924 346.344821 \nL 270.401745 347.036304 \nL 273.744565 347.55057 \nL 277.087386 347.840445 \nL 280.430206 347.875422 \nL 293.801489 347.266087 \nL 303.82995 347.947186 \nL 307.172771 347.945195 \nL 320.544053 347.254608 \nL 327.229694 347.75557 \nL 330.572514 348.002735 \nL 333.915335 348.063456 \nL 337.258156 347.844278 \nL 340.600976 347.286718 \nL 343.943797 346.405534 \nL 347.286617 345.357014 \nL 350.629438 344.444692 \nL 353.972258 343.991093 \nL 357.315079 344.13405 \nL 367.34354 345.766472 \nL 370.686361 345.85363 \nL 374.029181 345.825719 \nL 377.372002 345.944427 \nL 387.400464 347.012419 \nL 390.743284 346.96981 \nL 400.771746 346.158923 \nL 404.114566 346.326024 \nL 414.143028 347.629032 \nL 417.485848 347.737518 \nL 424.171489 347.371889 \nL 427.51431 347.22619 \nL 430.85713 347.287841 \nL 444.228413 348.33439 \nL 450.914054 348.462102 \nL 464.285336 348.406472 \nL 470.970977 348.078964 \nL 480.999438 347.228954 \nL 484.342259 347.189571 \nL 491.0279 347.380537 \nL 497.713541 347.243466 \nL 501.056362 347.173703 \nL 504.399182 347.271217 \nL 517.770464 348.333804 \nL 524.456105 348.419013 \nL 524.456105 348.419013 \n\" style=\"fill:none;stroke:#ff7f0e;stroke-linecap:square;stroke-width:1.5;\"/>\n   </g>\n   <g id=\"patch_99\">\n    <path d=\"M 49.190625 348.478125 \nL 49.190625 22.318125 \n\" style=\"fill:none;stroke:#000000;stroke-linecap:square;stroke-linejoin:miter;stroke-width:0.8;\"/>\n   </g>\n   <g id=\"patch_100\">\n    <path d=\"M 1165.190625 348.478125 \nL 1165.190625 22.318125 \n\" style=\"fill:none;stroke:#000000;stroke-linecap:square;stroke-linejoin:miter;stroke-width:0.8;\"/>\n   </g>\n   <g id=\"patch_101\">\n    <path d=\"M 49.190625 348.478125 \nL 1165.190625 348.478125 \n\" style=\"fill:none;stroke:#000000;stroke-linecap:square;stroke-linejoin:miter;stroke-width:0.8;\"/>\n   </g>\n   <g id=\"patch_102\">\n    <path d=\"M 49.190625 22.318125 \nL 1165.190625 22.318125 \n\" style=\"fill:none;stroke:#000000;stroke-linecap:square;stroke-linejoin:miter;stroke-width:0.8;\"/>\n   </g>\n   <g id=\"text_14\">\n    <!-- Length of Question Body represented as cumulative distribution plots -->\n    <defs>\n     <path d=\"M 9.8125 72.90625 \nL 19.671875 72.90625 \nL 19.671875 8.296875 \nL 55.171875 8.296875 \nL 55.171875 0 \nL 9.8125 0 \nz\n\" id=\"DejaVuSans-76\"/>\n     <path d=\"M 45.40625 27.984375 \nQ 45.40625 37.75 41.375 43.109375 \nQ 37.359375 48.484375 30.078125 48.484375 \nQ 22.859375 48.484375 18.828125 43.109375 \nQ 14.796875 37.75 14.796875 27.984375 \nQ 14.796875 18.265625 18.828125 12.890625 \nQ 22.859375 7.515625 30.078125 7.515625 \nQ 37.359375 7.515625 41.375 12.890625 \nQ 45.40625 18.265625 45.40625 27.984375 \nz\nM 54.390625 6.78125 \nQ 54.390625 -7.171875 48.1875 -13.984375 \nQ 42 -20.796875 29.203125 -20.796875 \nQ 24.46875 -20.796875 20.265625 -20.09375 \nQ 16.0625 -19.390625 12.109375 -17.921875 \nL 12.109375 -9.1875 \nQ 16.0625 -11.328125 19.921875 -12.34375 \nQ 23.78125 -13.375 27.78125 -13.375 \nQ 36.625 -13.375 41.015625 -8.765625 \nQ 45.40625 -4.15625 45.40625 5.171875 \nL 45.40625 9.625 \nQ 42.625 4.78125 38.28125 2.390625 \nQ 33.9375 0 27.875 0 \nQ 17.828125 0 11.671875 7.65625 \nQ 5.515625 15.328125 5.515625 27.984375 \nQ 5.515625 40.671875 11.671875 48.328125 \nQ 17.828125 56 27.875 56 \nQ 33.9375 56 38.28125 53.609375 \nQ 42.625 51.21875 45.40625 46.390625 \nL 45.40625 54.6875 \nL 54.390625 54.6875 \nz\n\" id=\"DejaVuSans-103\"/>\n     <path d=\"M 18.3125 70.21875 \nL 18.3125 54.6875 \nL 36.8125 54.6875 \nL 36.8125 47.703125 \nL 18.3125 47.703125 \nL 18.3125 18.015625 \nQ 18.3125 11.328125 20.140625 9.421875 \nQ 21.96875 7.515625 27.59375 7.515625 \nL 36.8125 7.515625 \nL 36.8125 0 \nL 27.59375 0 \nQ 17.1875 0 13.234375 3.875 \nQ 9.28125 7.765625 9.28125 18.015625 \nL 9.28125 47.703125 \nL 2.6875 47.703125 \nL 2.6875 54.6875 \nL 9.28125 54.6875 \nL 9.28125 70.21875 \nz\n\" id=\"DejaVuSans-116\"/>\n     <path d=\"M 54.890625 33.015625 \nL 54.890625 0 \nL 45.90625 0 \nL 45.90625 32.71875 \nQ 45.90625 40.484375 42.875 44.328125 \nQ 39.84375 48.1875 33.796875 48.1875 \nQ 26.515625 48.1875 22.3125 43.546875 \nQ 18.109375 38.921875 18.109375 30.90625 \nL 18.109375 0 \nL 9.078125 0 \nL 9.078125 75.984375 \nL 18.109375 75.984375 \nL 18.109375 46.1875 \nQ 21.34375 51.125 25.703125 53.5625 \nQ 30.078125 56 35.796875 56 \nQ 45.21875 56 50.046875 50.171875 \nQ 54.890625 44.34375 54.890625 33.015625 \nz\n\" id=\"DejaVuSans-104\"/>\n     <path id=\"DejaVuSans-32\"/>\n     <path d=\"M 30.609375 48.390625 \nQ 23.390625 48.390625 19.1875 42.75 \nQ 14.984375 37.109375 14.984375 27.296875 \nQ 14.984375 17.484375 19.15625 11.84375 \nQ 23.34375 6.203125 30.609375 6.203125 \nQ 37.796875 6.203125 41.984375 11.859375 \nQ 46.1875 17.53125 46.1875 27.296875 \nQ 46.1875 37.015625 41.984375 42.703125 \nQ 37.796875 48.390625 30.609375 48.390625 \nz\nM 30.609375 56 \nQ 42.328125 56 49.015625 48.375 \nQ 55.71875 40.765625 55.71875 27.296875 \nQ 55.71875 13.875 49.015625 6.21875 \nQ 42.328125 -1.421875 30.609375 -1.421875 \nQ 18.84375 -1.421875 12.171875 6.21875 \nQ 5.515625 13.875 5.515625 27.296875 \nQ 5.515625 40.765625 12.171875 48.375 \nQ 18.84375 56 30.609375 56 \nz\n\" id=\"DejaVuSans-111\"/>\n     <path d=\"M 37.109375 75.984375 \nL 37.109375 68.5 \nL 28.515625 68.5 \nQ 23.6875 68.5 21.796875 66.546875 \nQ 19.921875 64.59375 19.921875 59.515625 \nL 19.921875 54.6875 \nL 34.71875 54.6875 \nL 34.71875 47.703125 \nL 19.921875 47.703125 \nL 19.921875 0 \nL 10.890625 0 \nL 10.890625 47.703125 \nL 2.296875 47.703125 \nL 2.296875 54.6875 \nL 10.890625 54.6875 \nL 10.890625 58.5 \nQ 10.890625 67.625 15.140625 71.796875 \nQ 19.390625 75.984375 28.609375 75.984375 \nz\n\" id=\"DejaVuSans-102\"/>\n     <path d=\"M 39.40625 66.21875 \nQ 28.65625 66.21875 22.328125 58.203125 \nQ 16.015625 50.203125 16.015625 36.375 \nQ 16.015625 22.609375 22.328125 14.59375 \nQ 28.65625 6.59375 39.40625 6.59375 \nQ 50.140625 6.59375 56.421875 14.59375 \nQ 62.703125 22.609375 62.703125 36.375 \nQ 62.703125 50.203125 56.421875 58.203125 \nQ 50.140625 66.21875 39.40625 66.21875 \nz\nM 53.21875 1.3125 \nL 66.21875 -12.890625 \nL 54.296875 -12.890625 \nL 43.5 -1.21875 \nQ 41.890625 -1.3125 41.03125 -1.359375 \nQ 40.1875 -1.421875 39.40625 -1.421875 \nQ 24.03125 -1.421875 14.8125 8.859375 \nQ 5.609375 19.140625 5.609375 36.375 \nQ 5.609375 53.65625 14.8125 63.9375 \nQ 24.03125 74.21875 39.40625 74.21875 \nQ 54.734375 74.21875 63.90625 63.9375 \nQ 73.09375 53.65625 73.09375 36.375 \nQ 73.09375 23.6875 67.984375 14.640625 \nQ 62.890625 5.609375 53.21875 1.3125 \nz\n\" id=\"DejaVuSans-81\"/>\n     <path d=\"M 8.5 21.578125 \nL 8.5 54.6875 \nL 17.484375 54.6875 \nL 17.484375 21.921875 \nQ 17.484375 14.15625 20.5 10.265625 \nQ 23.53125 6.390625 29.59375 6.390625 \nQ 36.859375 6.390625 41.078125 11.03125 \nQ 45.3125 15.671875 45.3125 23.6875 \nL 45.3125 54.6875 \nL 54.296875 54.6875 \nL 54.296875 0 \nL 45.3125 0 \nL 45.3125 8.40625 \nQ 42.046875 3.421875 37.71875 1 \nQ 33.40625 -1.421875 27.6875 -1.421875 \nQ 18.265625 -1.421875 13.375 4.4375 \nQ 8.5 10.296875 8.5 21.578125 \nz\nM 31.109375 56 \nz\n\" id=\"DejaVuSans-117\"/>\n     <path d=\"M 9.421875 54.6875 \nL 18.40625 54.6875 \nL 18.40625 0 \nL 9.421875 0 \nz\nM 9.421875 75.984375 \nL 18.40625 75.984375 \nL 18.40625 64.59375 \nL 9.421875 64.59375 \nz\n\" id=\"DejaVuSans-105\"/>\n     <path d=\"M 19.671875 34.8125 \nL 19.671875 8.109375 \nL 35.5 8.109375 \nQ 43.453125 8.109375 47.28125 11.40625 \nQ 51.125 14.703125 51.125 21.484375 \nQ 51.125 28.328125 47.28125 31.5625 \nQ 43.453125 34.8125 35.5 34.8125 \nz\nM 19.671875 64.796875 \nL 19.671875 42.828125 \nL 34.28125 42.828125 \nQ 41.5 42.828125 45.03125 45.53125 \nQ 48.578125 48.25 48.578125 53.8125 \nQ 48.578125 59.328125 45.03125 62.0625 \nQ 41.5 64.796875 34.28125 64.796875 \nz\nM 9.8125 72.90625 \nL 35.015625 72.90625 \nQ 46.296875 72.90625 52.390625 68.21875 \nQ 58.5 63.53125 58.5 54.890625 \nQ 58.5 48.1875 55.375 44.234375 \nQ 52.25 40.28125 46.1875 39.3125 \nQ 53.46875 37.75 57.5 32.78125 \nQ 61.53125 27.828125 61.53125 20.40625 \nQ 61.53125 10.640625 54.890625 5.3125 \nQ 48.25 0 35.984375 0 \nL 9.8125 0 \nz\n\" id=\"DejaVuSans-66\"/>\n     <path d=\"M 45.40625 46.390625 \nL 45.40625 75.984375 \nL 54.390625 75.984375 \nL 54.390625 0 \nL 45.40625 0 \nL 45.40625 8.203125 \nQ 42.578125 3.328125 38.25 0.953125 \nQ 33.9375 -1.421875 27.875 -1.421875 \nQ 17.96875 -1.421875 11.734375 6.484375 \nQ 5.515625 14.40625 5.515625 27.296875 \nQ 5.515625 40.1875 11.734375 48.09375 \nQ 17.96875 56 27.875 56 \nQ 33.9375 56 38.25 53.625 \nQ 42.578125 51.265625 45.40625 46.390625 \nz\nM 14.796875 27.296875 \nQ 14.796875 17.390625 18.875 11.75 \nQ 22.953125 6.109375 30.078125 6.109375 \nQ 37.203125 6.109375 41.296875 11.75 \nQ 45.40625 17.390625 45.40625 27.296875 \nQ 45.40625 37.203125 41.296875 42.84375 \nQ 37.203125 48.484375 30.078125 48.484375 \nQ 22.953125 48.484375 18.875 42.84375 \nQ 14.796875 37.203125 14.796875 27.296875 \nz\n\" id=\"DejaVuSans-100\"/>\n     <path d=\"M 32.171875 -5.078125 \nQ 28.375 -14.84375 24.75 -17.8125 \nQ 21.140625 -20.796875 15.09375 -20.796875 \nL 7.90625 -20.796875 \nL 7.90625 -13.28125 \nL 13.1875 -13.28125 \nQ 16.890625 -13.28125 18.9375 -11.515625 \nQ 21 -9.765625 23.484375 -3.21875 \nL 25.09375 0.875 \nL 2.984375 54.6875 \nL 12.5 54.6875 \nL 29.59375 11.921875 \nL 46.6875 54.6875 \nL 56.203125 54.6875 \nz\n\" id=\"DejaVuSans-121\"/>\n     <path d=\"M 18.109375 8.203125 \nL 18.109375 -20.796875 \nL 9.078125 -20.796875 \nL 9.078125 54.6875 \nL 18.109375 54.6875 \nL 18.109375 46.390625 \nQ 20.953125 51.265625 25.265625 53.625 \nQ 29.59375 56 35.59375 56 \nQ 45.5625 56 51.78125 48.09375 \nQ 58.015625 40.1875 58.015625 27.296875 \nQ 58.015625 14.40625 51.78125 6.484375 \nQ 45.5625 -1.421875 35.59375 -1.421875 \nQ 29.59375 -1.421875 25.265625 0.953125 \nQ 20.953125 3.328125 18.109375 8.203125 \nz\nM 48.6875 27.296875 \nQ 48.6875 37.203125 44.609375 42.84375 \nQ 40.53125 48.484375 33.40625 48.484375 \nQ 26.265625 48.484375 22.1875 42.84375 \nQ 18.109375 37.203125 18.109375 27.296875 \nQ 18.109375 17.390625 22.1875 11.75 \nQ 26.265625 6.109375 33.40625 6.109375 \nQ 40.53125 6.109375 44.609375 11.75 \nQ 48.6875 17.390625 48.6875 27.296875 \nz\n\" id=\"DejaVuSans-112\"/>\n     <path d=\"M 48.78125 52.59375 \nL 48.78125 44.1875 \nQ 44.96875 46.296875 41.140625 47.34375 \nQ 37.3125 48.390625 33.40625 48.390625 \nQ 24.65625 48.390625 19.8125 42.84375 \nQ 14.984375 37.3125 14.984375 27.296875 \nQ 14.984375 17.28125 19.8125 11.734375 \nQ 24.65625 6.203125 33.40625 6.203125 \nQ 37.3125 6.203125 41.140625 7.25 \nQ 44.96875 8.296875 48.78125 10.40625 \nL 48.78125 2.09375 \nQ 45.015625 0.34375 40.984375 -0.53125 \nQ 36.96875 -1.421875 32.421875 -1.421875 \nQ 20.0625 -1.421875 12.78125 6.34375 \nQ 5.515625 14.109375 5.515625 27.296875 \nQ 5.515625 40.671875 12.859375 48.328125 \nQ 20.21875 56 33.015625 56 \nQ 37.15625 56 41.109375 55.140625 \nQ 45.0625 54.296875 48.78125 52.59375 \nz\n\" id=\"DejaVuSans-99\"/>\n     <path d=\"M 52 44.1875 \nQ 55.375 50.25 60.0625 53.125 \nQ 64.75 56 71.09375 56 \nQ 79.640625 56 84.28125 50.015625 \nQ 88.921875 44.046875 88.921875 33.015625 \nL 88.921875 0 \nL 79.890625 0 \nL 79.890625 32.71875 \nQ 79.890625 40.578125 77.09375 44.375 \nQ 74.3125 48.1875 68.609375 48.1875 \nQ 61.625 48.1875 57.5625 43.546875 \nQ 53.515625 38.921875 53.515625 30.90625 \nL 53.515625 0 \nL 44.484375 0 \nL 44.484375 32.71875 \nQ 44.484375 40.625 41.703125 44.40625 \nQ 38.921875 48.1875 33.109375 48.1875 \nQ 26.21875 48.1875 22.15625 43.53125 \nQ 18.109375 38.875 18.109375 30.90625 \nL 18.109375 0 \nL 9.078125 0 \nL 9.078125 54.6875 \nL 18.109375 54.6875 \nL 18.109375 46.1875 \nQ 21.1875 51.21875 25.484375 53.609375 \nQ 29.78125 56 35.6875 56 \nQ 41.65625 56 45.828125 52.96875 \nQ 50 49.953125 52 44.1875 \nz\n\" id=\"DejaVuSans-109\"/>\n     <path d=\"M 9.421875 75.984375 \nL 18.40625 75.984375 \nL 18.40625 0 \nL 9.421875 0 \nz\n\" id=\"DejaVuSans-108\"/>\n     <path d=\"M 2.984375 54.6875 \nL 12.5 54.6875 \nL 29.59375 8.796875 \nL 46.6875 54.6875 \nL 56.203125 54.6875 \nL 35.6875 0 \nL 23.484375 0 \nz\n\" id=\"DejaVuSans-118\"/>\n     <path d=\"M 48.6875 27.296875 \nQ 48.6875 37.203125 44.609375 42.84375 \nQ 40.53125 48.484375 33.40625 48.484375 \nQ 26.265625 48.484375 22.1875 42.84375 \nQ 18.109375 37.203125 18.109375 27.296875 \nQ 18.109375 17.390625 22.1875 11.75 \nQ 26.265625 6.109375 33.40625 6.109375 \nQ 40.53125 6.109375 44.609375 11.75 \nQ 48.6875 17.390625 48.6875 27.296875 \nz\nM 18.109375 46.390625 \nQ 20.953125 51.265625 25.265625 53.625 \nQ 29.59375 56 35.59375 56 \nQ 45.5625 56 51.78125 48.09375 \nQ 58.015625 40.1875 58.015625 27.296875 \nQ 58.015625 14.40625 51.78125 6.484375 \nQ 45.5625 -1.421875 35.59375 -1.421875 \nQ 29.59375 -1.421875 25.265625 0.953125 \nQ 20.953125 3.328125 18.109375 8.203125 \nL 18.109375 0 \nL 9.078125 0 \nL 9.078125 75.984375 \nL 18.109375 75.984375 \nz\n\" id=\"DejaVuSans-98\"/>\n    </defs>\n    <g transform=\"translate(397.799062 16.318125)scale(0.12 -0.12)\">\n     <use xlink:href=\"#DejaVuSans-76\"/>\n     <use x=\"55.697266\" xlink:href=\"#DejaVuSans-101\"/>\n     <use x=\"117.220703\" xlink:href=\"#DejaVuSans-110\"/>\n     <use x=\"180.599609\" xlink:href=\"#DejaVuSans-103\"/>\n     <use x=\"244.076172\" xlink:href=\"#DejaVuSans-116\"/>\n     <use x=\"283.285156\" xlink:href=\"#DejaVuSans-104\"/>\n     <use x=\"346.664062\" xlink:href=\"#DejaVuSans-32\"/>\n     <use x=\"378.451172\" xlink:href=\"#DejaVuSans-111\"/>\n     <use x=\"439.632812\" xlink:href=\"#DejaVuSans-102\"/>\n     <use x=\"474.837891\" xlink:href=\"#DejaVuSans-32\"/>\n     <use x=\"506.625\" xlink:href=\"#DejaVuSans-81\"/>\n     <use x=\"585.335938\" xlink:href=\"#DejaVuSans-117\"/>\n     <use x=\"648.714844\" xlink:href=\"#DejaVuSans-101\"/>\n     <use x=\"710.238281\" xlink:href=\"#DejaVuSans-115\"/>\n     <use x=\"762.337891\" xlink:href=\"#DejaVuSans-116\"/>\n     <use x=\"801.546875\" xlink:href=\"#DejaVuSans-105\"/>\n     <use x=\"829.330078\" xlink:href=\"#DejaVuSans-111\"/>\n     <use x=\"890.511719\" xlink:href=\"#DejaVuSans-110\"/>\n     <use x=\"953.890625\" xlink:href=\"#DejaVuSans-32\"/>\n     <use x=\"985.677734\" xlink:href=\"#DejaVuSans-66\"/>\n     <use x=\"1054.28125\" xlink:href=\"#DejaVuSans-111\"/>\n     <use x=\"1115.462891\" xlink:href=\"#DejaVuSans-100\"/>\n     <use x=\"1178.939453\" xlink:href=\"#DejaVuSans-121\"/>\n     <use x=\"1238.119141\" xlink:href=\"#DejaVuSans-32\"/>\n     <use x=\"1269.90625\" xlink:href=\"#DejaVuSans-114\"/>\n     <use x=\"1310.988281\" xlink:href=\"#DejaVuSans-101\"/>\n     <use x=\"1372.511719\" xlink:href=\"#DejaVuSans-112\"/>\n     <use x=\"1435.988281\" xlink:href=\"#DejaVuSans-114\"/>\n     <use x=\"1477.070312\" xlink:href=\"#DejaVuSans-101\"/>\n     <use x=\"1538.59375\" xlink:href=\"#DejaVuSans-115\"/>\n     <use x=\"1590.693359\" xlink:href=\"#DejaVuSans-101\"/>\n     <use x=\"1652.216797\" xlink:href=\"#DejaVuSans-110\"/>\n     <use x=\"1715.595703\" xlink:href=\"#DejaVuSans-116\"/>\n     <use x=\"1754.804688\" xlink:href=\"#DejaVuSans-101\"/>\n     <use x=\"1816.328125\" xlink:href=\"#DejaVuSans-100\"/>\n     <use x=\"1879.804688\" xlink:href=\"#DejaVuSans-32\"/>\n     <use x=\"1911.591797\" xlink:href=\"#DejaVuSans-97\"/>\n     <use x=\"1972.871094\" xlink:href=\"#DejaVuSans-115\"/>\n     <use x=\"2024.970703\" xlink:href=\"#DejaVuSans-32\"/>\n     <use x=\"2056.757812\" xlink:href=\"#DejaVuSans-99\"/>\n     <use x=\"2111.738281\" xlink:href=\"#DejaVuSans-117\"/>\n     <use x=\"2175.117188\" xlink:href=\"#DejaVuSans-109\"/>\n     <use x=\"2272.529297\" xlink:href=\"#DejaVuSans-117\"/>\n     <use x=\"2335.908203\" xlink:href=\"#DejaVuSans-108\"/>\n     <use x=\"2363.691406\" xlink:href=\"#DejaVuSans-97\"/>\n     <use x=\"2424.970703\" xlink:href=\"#DejaVuSans-116\"/>\n     <use x=\"2464.179688\" xlink:href=\"#DejaVuSans-105\"/>\n     <use x=\"2491.962891\" xlink:href=\"#DejaVuSans-118\"/>\n     <use x=\"2551.142578\" xlink:href=\"#DejaVuSans-101\"/>\n     <use x=\"2612.666016\" xlink:href=\"#DejaVuSans-32\"/>\n     <use x=\"2644.453125\" xlink:href=\"#DejaVuSans-100\"/>\n     <use x=\"2707.929688\" xlink:href=\"#DejaVuSans-105\"/>\n     <use x=\"2735.712891\" xlink:href=\"#DejaVuSans-115\"/>\n     <use x=\"2787.8125\" xlink:href=\"#DejaVuSans-116\"/>\n     <use x=\"2827.021484\" xlink:href=\"#DejaVuSans-114\"/>\n     <use x=\"2868.134766\" xlink:href=\"#DejaVuSans-105\"/>\n     <use x=\"2895.917969\" xlink:href=\"#DejaVuSans-98\"/>\n     <use x=\"2959.394531\" xlink:href=\"#DejaVuSans-117\"/>\n     <use x=\"3022.773438\" xlink:href=\"#DejaVuSans-116\"/>\n     <use x=\"3061.982422\" xlink:href=\"#DejaVuSans-105\"/>\n     <use x=\"3089.765625\" xlink:href=\"#DejaVuSans-111\"/>\n     <use x=\"3150.947266\" xlink:href=\"#DejaVuSans-110\"/>\n     <use x=\"3214.326172\" xlink:href=\"#DejaVuSans-32\"/>\n     <use x=\"3246.113281\" xlink:href=\"#DejaVuSans-112\"/>\n     <use x=\"3309.589844\" xlink:href=\"#DejaVuSans-108\"/>\n     <use x=\"3337.373047\" xlink:href=\"#DejaVuSans-111\"/>\n     <use x=\"3398.554688\" xlink:href=\"#DejaVuSans-116\"/>\n     <use x=\"3437.763672\" xlink:href=\"#DejaVuSans-115\"/>\n    </g>\n   </g>\n  </g>\n </g>\n <defs>\n  <clipPath id=\"p0ba717ddf5\">\n   <rect height=\"326.16\" width=\"1116\" x=\"49.190625\" y=\"22.318125\"/>\n  </clipPath>\n </defs>\n</svg>\n",
      "text/plain": "<Figure size 1440x432 with 1 Axes>"
     },
     "metadata": {
      "needs_background": "light"
     },
     "output_type": "display_data"
    }
   ],
   "source": [
    "analysis.distribution_imposition(X_train['answer'], X_test['answer'], 'Length of Question Body represented as cumulative distribution plots')"
   ]
  },
  {
   "cell_type": "markdown",
   "execution_count": null,
   "metadata": {},
   "outputs": [],
   "source": [
    "### 2.6. Most popular questions"
   ]
  },
  {
   "cell_type": "code",
   "execution_count": 32,
   "metadata": {},
   "outputs": [
    {
     "data": {
      "text/plain": "question_title\nWhat is the best introductory Bayesian statistics textbook?                        12\nWhat does mathematics have to do with programming?                                 11\nImportant non-technical course for programmers?                                    11\nHow to prevent the \"Too awesome to use\" syndrome                                    9\nAnother instructor is pushing me out of the classroom right after my class ends     7\nNo sound in Ubuntu except at log in                                                 7\nHow do I deal with a slow and undedicated colleague in the team?                    7\nWhat are the benefits of owning a physical book?                                    7\nHouse rules to make the cloister less of a game winning tile in Carcassonne?        6\nMaking sure that you have comprehended a concept                                    6\nhide javascript/jquery scripts from html page?                                      6\nWhat is the best place to start Warhammer 40k?                                      6\nIs pretending to want to trade before playing a monopoly card objectionable?        6\nDoes \"so far, so good\" carry a negative connotation?                                6\nGood travel games for two players, especially for playing on trains?                6\nEffects of nuclear explosions in space?                                             6\nIs there any performance difference between ++i and i++ in C#?                      6\nWhen should a supervisor be a co-author?                                            6\nIsn’t the FAQ label obsolete by now?                                                6\nShould I tell other interviewers where else I've interviewed?                       6\nCASTING attributes for Ordering on a Doctrine2 DQL Query                            5\nWhat is the Goal of \"Hot Network Questions\"?                                        5\nHow to make extra crispy and crunchy breading like KFC?                             5\nbusiness-class fiber to the home                                                    5\nWhy are there so many different types of screws (phillps/flat/hex/star/etc)?        5\nName: qa_id, dtype: int64"
     },
     "execution_count": 32,
     "metadata": {},
     "output_type": "execute_result"
    }
   ],
   "source": [
    "X_train.groupby('question_title').count()['qa_id'].sort_values(ascending=False).head(25)"
   ]
  },
  {
   "cell_type": "code",
   "execution_count": 33,
   "metadata": {},
   "outputs": [
    {
     "data": {
      "text/html": "<div>\n<style scoped>\n    .dataframe tbody tr th:only-of-type {\n        vertical-align: middle;\n    }\n\n    .dataframe tbody tr th {\n        vertical-align: top;\n    }\n\n    .dataframe thead th {\n        text-align: right;\n    }\n</style>\n<table border=\"1\" class=\"dataframe\">\n  <thead>\n    <tr style=\"text-align: right;\">\n      <th></th>\n      <th>qa_id</th>\n      <th>question_title</th>\n      <th>question_body</th>\n      <th>question_user_name</th>\n      <th>question_user_page</th>\n      <th>answer</th>\n      <th>answer_user_name</th>\n      <th>answer_user_page</th>\n      <th>url</th>\n      <th>category</th>\n      <th>host</th>\n    </tr>\n  </thead>\n  <tbody>\n    <tr>\n      <th>229</th>\n      <td>366</td>\n      <td>What is the best introductory Bayesian statist...</td>\n      <td>Which is the best introductory textbook for Ba...</td>\n      <td>Shane</td>\n      <td>https://stats.stackexchange.com/users/5</td>\n      <td>\"Bayesian Core: A Practical Approach to Comput...</td>\n      <td>gappy</td>\n      <td>https://stats.stackexchange.com/users/30</td>\n      <td>http://stats.stackexchange.com/questions/125/w...</td>\n      <td>SCIENCE</td>\n      <td>stats.stackexchange.com</td>\n    </tr>\n    <tr>\n      <th>1616</th>\n      <td>2536</td>\n      <td>What is the best introductory Bayesian statist...</td>\n      <td>Which is the best introductory textbook for Ba...</td>\n      <td>Shane</td>\n      <td>https://stats.stackexchange.com/users/5</td>\n      <td>I am now reading : From Algorithm to Z-Scores:...</td>\n      <td>Fabio</td>\n      <td>https://stats.stackexchange.com/users/40316</td>\n      <td>http://stats.stackexchange.com/questions/125/w...</td>\n      <td>SCIENCE</td>\n      <td>stats.stackexchange.com</td>\n    </tr>\n    <tr>\n      <th>1647</th>\n      <td>2591</td>\n      <td>What is the best introductory Bayesian statist...</td>\n      <td>Which is the best introductory textbook for Ba...</td>\n      <td>Shane</td>\n      <td>https://stats.stackexchange.com/users/5</td>\n      <td>My favorite is \"Bayesian Data Analysis\" by Gel...</td>\n      <td>Shane</td>\n      <td>https://stats.stackexchange.com/users/5</td>\n      <td>http://stats.stackexchange.com/questions/125/w...</td>\n      <td>SCIENCE</td>\n      <td>stats.stackexchange.com</td>\n    </tr>\n    <tr>\n      <th>2104</th>\n      <td>3349</td>\n      <td>What is the best introductory Bayesian statist...</td>\n      <td>Which is the best introductory textbook for Ba...</td>\n      <td>Shane</td>\n      <td>https://stats.stackexchange.com/users/5</td>\n      <td>I have read some parts of A First Course in Ba...</td>\n      <td>George Dontas</td>\n      <td>https://stats.stackexchange.com/users/339</td>\n      <td>http://stats.stackexchange.com/questions/125/w...</td>\n      <td>SCIENCE</td>\n      <td>stats.stackexchange.com</td>\n    </tr>\n    <tr>\n      <th>3476</th>\n      <td>5543</td>\n      <td>What is the best introductory Bayesian statist...</td>\n      <td>Which is the best introductory textbook for Ba...</td>\n      <td>Shane</td>\n      <td>https://stats.stackexchange.com/users/5</td>\n      <td>Sivia and Skilling, Data analysis: a Bayesian ...</td>\n      <td>denis</td>\n      <td>https://stats.stackexchange.com/users/557</td>\n      <td>http://stats.stackexchange.com/questions/125/w...</td>\n      <td>SCIENCE</td>\n      <td>stats.stackexchange.com</td>\n    </tr>\n    <tr>\n      <th>3762</th>\n      <td>5989</td>\n      <td>What is the best introductory Bayesian statist...</td>\n      <td>Which is the best introductory textbook for Ba...</td>\n      <td>Shane</td>\n      <td>https://stats.stackexchange.com/users/5</td>\n      <td>If I had to choose a single text for a beginne...</td>\n      <td>Jim Stone</td>\n      <td>https://stats.stackexchange.com/users/26779</td>\n      <td>http://stats.stackexchange.com/questions/125/w...</td>\n      <td>SCIENCE</td>\n      <td>stats.stackexchange.com</td>\n    </tr>\n    <tr>\n      <th>3801</th>\n      <td>6041</td>\n      <td>What is the best introductory Bayesian statist...</td>\n      <td>Which is the best introductory textbook for Ba...</td>\n      <td>Shane</td>\n      <td>https://stats.stackexchange.com/users/5</td>\n      <td>Take a look at \"The Bayesian Choice\". It has t...</td>\n      <td>Zen</td>\n      <td>https://stats.stackexchange.com/users/9394</td>\n      <td>http://stats.stackexchange.com/questions/125/w...</td>\n      <td>SCIENCE</td>\n      <td>stats.stackexchange.com</td>\n    </tr>\n    <tr>\n      <th>3899</th>\n      <td>6215</td>\n      <td>What is the best introductory Bayesian statist...</td>\n      <td>Which is the best introductory textbook for Ba...</td>\n      <td>Shane</td>\n      <td>https://stats.stackexchange.com/users/5</td>\n      <td>I found an excellent introduction in Gelman an...</td>\n      <td>Jack Tanner</td>\n      <td>https://stats.stackexchange.com/users/8207</td>\n      <td>http://stats.stackexchange.com/questions/125/w...</td>\n      <td>SCIENCE</td>\n      <td>stats.stackexchange.com</td>\n    </tr>\n    <tr>\n      <th>4408</th>\n      <td>7003</td>\n      <td>What is the best introductory Bayesian statist...</td>\n      <td>Which is the best introductory textbook for Ba...</td>\n      <td>Shane</td>\n      <td>https://stats.stackexchange.com/users/5</td>\n      <td>Its focus isn't strictly on Bayesian statistic...</td>\n      <td>Joe</td>\n      <td>https://stats.stackexchange.com/users/1119</td>\n      <td>http://stats.stackexchange.com/questions/125/w...</td>\n      <td>SCIENCE</td>\n      <td>stats.stackexchange.com</td>\n    </tr>\n    <tr>\n      <th>5239</th>\n      <td>8328</td>\n      <td>What is the best introductory Bayesian statist...</td>\n      <td>Which is the best introductory textbook for Ba...</td>\n      <td>Shane</td>\n      <td>https://stats.stackexchange.com/users/5</td>\n      <td>I read:\\n\\nGelman et al (2013). Bayesian Data ...</td>\n      <td>stochazesthai</td>\n      <td>https://stats.stackexchange.com/users/44171</td>\n      <td>http://stats.stackexchange.com/questions/125/w...</td>\n      <td>SCIENCE</td>\n      <td>stats.stackexchange.com</td>\n    </tr>\n    <tr>\n      <th>5587</th>\n      <td>8867</td>\n      <td>What is the best introductory Bayesian statist...</td>\n      <td>Which is the best introductory textbook for Ba...</td>\n      <td>Shane</td>\n      <td>https://stats.stackexchange.com/users/5</td>\n      <td>Not strictly Bayesian Statistics as such, but ...</td>\n      <td>Dikran Marsupial</td>\n      <td>https://stats.stackexchange.com/users/887</td>\n      <td>http://stats.stackexchange.com/questions/125/w...</td>\n      <td>SCIENCE</td>\n      <td>stats.stackexchange.com</td>\n    </tr>\n    <tr>\n      <th>5766</th>\n      <td>9137</td>\n      <td>What is the best introductory Bayesian statist...</td>\n      <td>Which is the best introductory textbook for Ba...</td>\n      <td>Shane</td>\n      <td>https://stats.stackexchange.com/users/5</td>\n      <td>Coming from non-statistical background I found...</td>\n      <td>radek</td>\n      <td>https://stats.stackexchange.com/users/22</td>\n      <td>http://stats.stackexchange.com/questions/125/w...</td>\n      <td>SCIENCE</td>\n      <td>stats.stackexchange.com</td>\n    </tr>\n  </tbody>\n</table>\n</div>",
      "text/plain": "     qa_id                                     question_title  \\\n229    366  What is the best introductory Bayesian statist...   \n1616  2536  What is the best introductory Bayesian statist...   \n1647  2591  What is the best introductory Bayesian statist...   \n2104  3349  What is the best introductory Bayesian statist...   \n3476  5543  What is the best introductory Bayesian statist...   \n3762  5989  What is the best introductory Bayesian statist...   \n3801  6041  What is the best introductory Bayesian statist...   \n3899  6215  What is the best introductory Bayesian statist...   \n4408  7003  What is the best introductory Bayesian statist...   \n5239  8328  What is the best introductory Bayesian statist...   \n5587  8867  What is the best introductory Bayesian statist...   \n5766  9137  What is the best introductory Bayesian statist...   \n\n                                          question_body question_user_name  \\\n229   Which is the best introductory textbook for Ba...              Shane   \n1616  Which is the best introductory textbook for Ba...              Shane   \n1647  Which is the best introductory textbook for Ba...              Shane   \n2104  Which is the best introductory textbook for Ba...              Shane   \n3476  Which is the best introductory textbook for Ba...              Shane   \n3762  Which is the best introductory textbook for Ba...              Shane   \n3801  Which is the best introductory textbook for Ba...              Shane   \n3899  Which is the best introductory textbook for Ba...              Shane   \n4408  Which is the best introductory textbook for Ba...              Shane   \n5239  Which is the best introductory textbook for Ba...              Shane   \n5587  Which is the best introductory textbook for Ba...              Shane   \n5766  Which is the best introductory textbook for Ba...              Shane   \n\n                           question_user_page  \\\n229   https://stats.stackexchange.com/users/5   \n1616  https://stats.stackexchange.com/users/5   \n1647  https://stats.stackexchange.com/users/5   \n2104  https://stats.stackexchange.com/users/5   \n3476  https://stats.stackexchange.com/users/5   \n3762  https://stats.stackexchange.com/users/5   \n3801  https://stats.stackexchange.com/users/5   \n3899  https://stats.stackexchange.com/users/5   \n4408  https://stats.stackexchange.com/users/5   \n5239  https://stats.stackexchange.com/users/5   \n5587  https://stats.stackexchange.com/users/5   \n5766  https://stats.stackexchange.com/users/5   \n\n                                                 answer  answer_user_name  \\\n229   \"Bayesian Core: A Practical Approach to Comput...             gappy   \n1616  I am now reading : From Algorithm to Z-Scores:...             Fabio   \n1647  My favorite is \"Bayesian Data Analysis\" by Gel...             Shane   \n2104  I have read some parts of A First Course in Ba...     George Dontas   \n3476  Sivia and Skilling, Data analysis: a Bayesian ...             denis   \n3762  If I had to choose a single text for a beginne...         Jim Stone   \n3801  Take a look at \"The Bayesian Choice\". It has t...               Zen   \n3899  I found an excellent introduction in Gelman an...       Jack Tanner   \n4408  Its focus isn't strictly on Bayesian statistic...               Joe   \n5239  I read:\\n\\nGelman et al (2013). Bayesian Data ...     stochazesthai   \n5587  Not strictly Bayesian Statistics as such, but ...  Dikran Marsupial   \n5766  Coming from non-statistical background I found...             radek   \n\n                                 answer_user_page  \\\n229      https://stats.stackexchange.com/users/30   \n1616  https://stats.stackexchange.com/users/40316   \n1647      https://stats.stackexchange.com/users/5   \n2104    https://stats.stackexchange.com/users/339   \n3476    https://stats.stackexchange.com/users/557   \n3762  https://stats.stackexchange.com/users/26779   \n3801   https://stats.stackexchange.com/users/9394   \n3899   https://stats.stackexchange.com/users/8207   \n4408   https://stats.stackexchange.com/users/1119   \n5239  https://stats.stackexchange.com/users/44171   \n5587    https://stats.stackexchange.com/users/887   \n5766     https://stats.stackexchange.com/users/22   \n\n                                                    url category  \\\n229   http://stats.stackexchange.com/questions/125/w...  SCIENCE   \n1616  http://stats.stackexchange.com/questions/125/w...  SCIENCE   \n1647  http://stats.stackexchange.com/questions/125/w...  SCIENCE   \n2104  http://stats.stackexchange.com/questions/125/w...  SCIENCE   \n3476  http://stats.stackexchange.com/questions/125/w...  SCIENCE   \n3762  http://stats.stackexchange.com/questions/125/w...  SCIENCE   \n3801  http://stats.stackexchange.com/questions/125/w...  SCIENCE   \n3899  http://stats.stackexchange.com/questions/125/w...  SCIENCE   \n4408  http://stats.stackexchange.com/questions/125/w...  SCIENCE   \n5239  http://stats.stackexchange.com/questions/125/w...  SCIENCE   \n5587  http://stats.stackexchange.com/questions/125/w...  SCIENCE   \n5766  http://stats.stackexchange.com/questions/125/w...  SCIENCE   \n\n                         host  \n229   stats.stackexchange.com  \n1616  stats.stackexchange.com  \n1647  stats.stackexchange.com  \n2104  stats.stackexchange.com  \n3476  stats.stackexchange.com  \n3762  stats.stackexchange.com  \n3801  stats.stackexchange.com  \n3899  stats.stackexchange.com  \n4408  stats.stackexchange.com  \n5239  stats.stackexchange.com  \n5587  stats.stackexchange.com  \n5766  stats.stackexchange.com  "
     },
     "execution_count": 33,
     "metadata": {},
     "output_type": "execute_result"
    }
   ],
   "source": [
    "X_train[X_train['question_title'] == 'What is the best introductory Bayesian statistics textbook?']"
   ]
  },
  {
   "cell_type": "markdown",
   "execution_count": null,
   "metadata": {},
   "outputs": [],
   "source": [
    "## 3. Feature Engineering"
   ]
  },
  {
   "cell_type": "code",
   "execution_count": null,
   "metadata": {},
   "outputs": [],
   "source": []
  }
 ],
 "metadata": {
  "kernelspec": {
   "display_name": "Python 3",
   "language": "python",
   "name": "python3"
  },
  "language_info": {
   "codemirror_mode": {
    "name": "ipython",
    "version": 3
   },
   "file_extension": ".py",
   "mimetype": "text/x-python",
   "name": "python",
   "nbconvert_exporter": "python",
   "pygments_lexer": "ipython3",
   "version": "3.6.9-final"
  }
 },
 "nbformat": 4,
 "nbformat_minor": 2
}