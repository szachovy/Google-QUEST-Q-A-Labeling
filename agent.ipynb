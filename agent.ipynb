{
 "cells": [
  {
   "cell_type": "markdown",
   "metadata": {},
   "source": [
    "# Google Quest QA Labeling"
   ]
  },
  {
   "cell_type": "markdown",
   "metadata": {},
   "source": [
    "## 1. Data retrieval"
   ]
  },
  {
   "cell_type": "markdown",
   "metadata": {},
   "source": [
    "### 1.1. Import modules"
   ]
  },
  {
   "cell_type": "code",
   "execution_count": 16,
   "metadata": {},
   "outputs": [],
   "source": [
    "import pandas as pd\n",
    "import numpy as np\n",
    "\n",
    "import matplotlib.pyplot as plt\n",
    "import seaborn as sns\n",
    "import plotly.express as px\n",
    "import plotly.graph_objs as go\n",
    "\n",
    "from sklearn.feature_extraction.text import TfidfVectorizer\n",
    "\n",
    "\n",
    "from src import brain\n",
    "\n",
    "%matplotlib inline"
   ]
  },
  {
   "cell_type": "markdown",
   "metadata": {},
   "source": [
    "### 1.2. Reading Data"
   ]
  },
  {
   "cell_type": "code",
   "execution_count": 17,
   "metadata": {},
   "outputs": [
    {
     "data": {
      "text/html": "<div>\n<style scoped>\n    .dataframe tbody tr th:only-of-type {\n        vertical-align: middle;\n    }\n\n    .dataframe tbody tr th {\n        vertical-align: top;\n    }\n\n    .dataframe thead th {\n        text-align: right;\n    }\n</style>\n<table border=\"1\" class=\"dataframe\">\n  <thead>\n    <tr style=\"text-align: right;\">\n      <th></th>\n      <th>qa_id</th>\n      <th>question_title</th>\n      <th>question_body</th>\n      <th>question_user_name</th>\n      <th>question_user_page</th>\n      <th>answer</th>\n      <th>answer_user_name</th>\n      <th>answer_user_page</th>\n      <th>url</th>\n      <th>category</th>\n      <th>host</th>\n    </tr>\n  </thead>\n  <tbody>\n    <tr>\n      <th>0</th>\n      <td>39</td>\n      <td>Will leaving corpses lying around upset my pri...</td>\n      <td>I see questions/information online about how t...</td>\n      <td>Dylan</td>\n      <td>https://gaming.stackexchange.com/users/64471</td>\n      <td>There is no consequence for leaving corpses an...</td>\n      <td>Nelson868</td>\n      <td>https://gaming.stackexchange.com/users/97324</td>\n      <td>http://gaming.stackexchange.com/questions/1979...</td>\n      <td>CULTURE</td>\n      <td>gaming.stackexchange.com</td>\n    </tr>\n    <tr>\n      <th>1</th>\n      <td>46</td>\n      <td>Url link to feature image in the portfolio</td>\n      <td>I am new to Wordpress. i have issue with Featu...</td>\n      <td>Anu</td>\n      <td>https://wordpress.stackexchange.com/users/72927</td>\n      <td>I think it is possible with custom fields.\\n\\n...</td>\n      <td>Irina</td>\n      <td>https://wordpress.stackexchange.com/users/27233</td>\n      <td>http://wordpress.stackexchange.com/questions/1...</td>\n      <td>TECHNOLOGY</td>\n      <td>wordpress.stackexchange.com</td>\n    </tr>\n    <tr>\n      <th>2</th>\n      <td>70</td>\n      <td>Is accuracy, recoil or bullet spread affected ...</td>\n      <td>To experiment I started a bot game, toggled in...</td>\n      <td>Konsta</td>\n      <td>https://gaming.stackexchange.com/users/37545</td>\n      <td>You do not have armour in the screenshots. Thi...</td>\n      <td>Damon Smithies</td>\n      <td>https://gaming.stackexchange.com/users/70641</td>\n      <td>http://gaming.stackexchange.com/questions/2154...</td>\n      <td>CULTURE</td>\n      <td>gaming.stackexchange.com</td>\n    </tr>\n    <tr>\n      <th>3</th>\n      <td>132</td>\n      <td>Suddenly got an I/O error from my external HDD</td>\n      <td>I have used my Raspberry Pi as a torrent-serve...</td>\n      <td>robbannn</td>\n      <td>https://raspberrypi.stackexchange.com/users/17341</td>\n      <td>Your Western Digital hard drive is disappearin...</td>\n      <td>HeatfanJohn</td>\n      <td>https://raspberrypi.stackexchange.com/users/1311</td>\n      <td>http://raspberrypi.stackexchange.com/questions...</td>\n      <td>TECHNOLOGY</td>\n      <td>raspberrypi.stackexchange.com</td>\n    </tr>\n    <tr>\n      <th>4</th>\n      <td>200</td>\n      <td>Passenger Name - Flight Booking Passenger only...</td>\n      <td>I have bought Delhi-London return flights for ...</td>\n      <td>Amit</td>\n      <td>https://travel.stackexchange.com/users/29089</td>\n      <td>I called two persons who work for Saudia (tick...</td>\n      <td>Nean Der Thal</td>\n      <td>https://travel.stackexchange.com/users/10051</td>\n      <td>http://travel.stackexchange.com/questions/4704...</td>\n      <td>CULTURE</td>\n      <td>travel.stackexchange.com</td>\n    </tr>\n    <tr>\n      <th>...</th>\n      <td>...</td>\n      <td>...</td>\n      <td>...</td>\n      <td>...</td>\n      <td>...</td>\n      <td>...</td>\n      <td>...</td>\n      <td>...</td>\n      <td>...</td>\n      <td>...</td>\n      <td>...</td>\n    </tr>\n    <tr>\n      <th>471</th>\n      <td>9569</td>\n      <td>change gb4e enumeration in only one chapter</td>\n      <td>I am using gb4e for glossing examples in my th...</td>\n      <td>ToddAO</td>\n      <td>https://tex.stackexchange.com/users/28332</td>\n      <td>You can simply reset the exx counter just afte...</td>\n      <td>karlkoeller</td>\n      <td>https://tex.stackexchange.com/users/27635</td>\n      <td>http://tex.stackexchange.com/questions/165120/...</td>\n      <td>TECHNOLOGY</td>\n      <td>tex.stackexchange.com</td>\n    </tr>\n    <tr>\n      <th>472</th>\n      <td>9590</td>\n      <td>All anagrams in a File</td>\n      <td>Source : Microsoft Interview Question\\n\\nWe ar...</td>\n      <td>Spandan</td>\n      <td>https://stackoverflow.com/users/2426101</td>\n      <td>Slightly different approach from the one above...</td>\n      <td>Algorithmatic</td>\n      <td>https://stackoverflow.com/users/1122229</td>\n      <td>http://stackoverflow.com/questions/16872513/al...</td>\n      <td>STACKOVERFLOW</td>\n      <td>stackoverflow.com</td>\n    </tr>\n    <tr>\n      <th>473</th>\n      <td>9597</td>\n      <td>SQL Server: Time Series Table Design</td>\n      <td>I am creating a time series database that foll...</td>\n      <td>Jay Michael</td>\n      <td>https://dba.stackexchange.com/users/47001</td>\n      <td>A foreign key can reference a unique constrain...</td>\n      <td>mustaccio</td>\n      <td>https://dba.stackexchange.com/users/23721</td>\n      <td>http://dba.stackexchange.com/questions/105287/...</td>\n      <td>TECHNOLOGY</td>\n      <td>dba.stackexchange.com</td>\n    </tr>\n    <tr>\n      <th>474</th>\n      <td>9623</td>\n      <td>Is a countered flashback spell exiled?</td>\n      <td>If I flashback Past in Flames and it is counte...</td>\n      <td>BolasStone</td>\n      <td>https://boardgames.stackexchange.com/users/9981</td>\n      <td>If you counter a spell cast for its Flashback ...</td>\n      <td>murgatroid99</td>\n      <td>https://boardgames.stackexchange.com/users/2537</td>\n      <td>http://boardgames.stackexchange.com/questions/...</td>\n      <td>CULTURE</td>\n      <td>boardgames.stackexchange.com</td>\n    </tr>\n    <tr>\n      <th>475</th>\n      <td>9640</td>\n      <td>Find Friends In-Game</td>\n      <td>Is there a way to mark friends you have queued...</td>\n      <td>Molten Ice</td>\n      <td>https://gaming.stackexchange.com/users/54729</td>\n      <td>Not officially, although you could both use cl...</td>\n      <td>Damon Smithies</td>\n      <td>https://gaming.stackexchange.com/users/70641</td>\n      <td>http://gaming.stackexchange.com/questions/1582...</td>\n      <td>CULTURE</td>\n      <td>gaming.stackexchange.com</td>\n    </tr>\n  </tbody>\n</table>\n<p>476 rows × 11 columns</p>\n</div>",
      "text/plain": "     qa_id                                     question_title  \\\n0       39  Will leaving corpses lying around upset my pri...   \n1       46         Url link to feature image in the portfolio   \n2       70  Is accuracy, recoil or bullet spread affected ...   \n3      132     Suddenly got an I/O error from my external HDD   \n4      200  Passenger Name - Flight Booking Passenger only...   \n..     ...                                                ...   \n471   9569        change gb4e enumeration in only one chapter   \n472   9590                             All anagrams in a File   \n473   9597               SQL Server: Time Series Table Design   \n474   9623             Is a countered flashback spell exiled?   \n475   9640                               Find Friends In-Game   \n\n                                         question_body question_user_name  \\\n0    I see questions/information online about how t...              Dylan   \n1    I am new to Wordpress. i have issue with Featu...                Anu   \n2    To experiment I started a bot game, toggled in...             Konsta   \n3    I have used my Raspberry Pi as a torrent-serve...           robbannn   \n4    I have bought Delhi-London return flights for ...               Amit   \n..                                                 ...                ...   \n471  I am using gb4e for glossing examples in my th...             ToddAO   \n472  Source : Microsoft Interview Question\\n\\nWe ar...            Spandan   \n473  I am creating a time series database that foll...        Jay Michael   \n474  If I flashback Past in Flames and it is counte...         BolasStone   \n475  Is there a way to mark friends you have queued...         Molten Ice   \n\n                                    question_user_page  \\\n0         https://gaming.stackexchange.com/users/64471   \n1      https://wordpress.stackexchange.com/users/72927   \n2         https://gaming.stackexchange.com/users/37545   \n3    https://raspberrypi.stackexchange.com/users/17341   \n4         https://travel.stackexchange.com/users/29089   \n..                                                 ...   \n471          https://tex.stackexchange.com/users/28332   \n472            https://stackoverflow.com/users/2426101   \n473          https://dba.stackexchange.com/users/47001   \n474    https://boardgames.stackexchange.com/users/9981   \n475       https://gaming.stackexchange.com/users/54729   \n\n                                                answer answer_user_name  \\\n0    There is no consequence for leaving corpses an...        Nelson868   \n1    I think it is possible with custom fields.\\n\\n...            Irina   \n2    You do not have armour in the screenshots. Thi...   Damon Smithies   \n3    Your Western Digital hard drive is disappearin...      HeatfanJohn   \n4    I called two persons who work for Saudia (tick...    Nean Der Thal   \n..                                                 ...              ...   \n471  You can simply reset the exx counter just afte...      karlkoeller   \n472  Slightly different approach from the one above...    Algorithmatic   \n473  A foreign key can reference a unique constrain...        mustaccio   \n474  If you counter a spell cast for its Flashback ...     murgatroid99   \n475  Not officially, although you could both use cl...   Damon Smithies   \n\n                                     answer_user_page  \\\n0        https://gaming.stackexchange.com/users/97324   \n1     https://wordpress.stackexchange.com/users/27233   \n2        https://gaming.stackexchange.com/users/70641   \n3    https://raspberrypi.stackexchange.com/users/1311   \n4        https://travel.stackexchange.com/users/10051   \n..                                                ...   \n471         https://tex.stackexchange.com/users/27635   \n472           https://stackoverflow.com/users/1122229   \n473         https://dba.stackexchange.com/users/23721   \n474   https://boardgames.stackexchange.com/users/2537   \n475      https://gaming.stackexchange.com/users/70641   \n\n                                                   url       category  \\\n0    http://gaming.stackexchange.com/questions/1979...        CULTURE   \n1    http://wordpress.stackexchange.com/questions/1...     TECHNOLOGY   \n2    http://gaming.stackexchange.com/questions/2154...        CULTURE   \n3    http://raspberrypi.stackexchange.com/questions...     TECHNOLOGY   \n4    http://travel.stackexchange.com/questions/4704...        CULTURE   \n..                                                 ...            ...   \n471  http://tex.stackexchange.com/questions/165120/...     TECHNOLOGY   \n472  http://stackoverflow.com/questions/16872513/al...  STACKOVERFLOW   \n473  http://dba.stackexchange.com/questions/105287/...     TECHNOLOGY   \n474  http://boardgames.stackexchange.com/questions/...        CULTURE   \n475  http://gaming.stackexchange.com/questions/1582...        CULTURE   \n\n                              host  \n0         gaming.stackexchange.com  \n1      wordpress.stackexchange.com  \n2         gaming.stackexchange.com  \n3    raspberrypi.stackexchange.com  \n4         travel.stackexchange.com  \n..                             ...  \n471          tex.stackexchange.com  \n472              stackoverflow.com  \n473          dba.stackexchange.com  \n474   boardgames.stackexchange.com  \n475       gaming.stackexchange.com  \n\n[476 rows x 11 columns]"
     },
     "execution_count": 17,
     "metadata": {},
     "output_type": "execute_result"
    }
   ],
   "source": [
    "train_set = pd.read_csv('data/train.csv')\n",
    "X_test = pd.read_csv('data/test.csv')\n",
    "X_test"
   ]
  },
  {
   "cell_type": "code",
   "execution_count": 18,
   "metadata": {},
   "outputs": [
    {
     "data": {
      "text/html": "<div>\n<style scoped>\n    .dataframe tbody tr th:only-of-type {\n        vertical-align: middle;\n    }\n\n    .dataframe tbody tr th {\n        vertical-align: top;\n    }\n\n    .dataframe thead th {\n        text-align: right;\n    }\n</style>\n<table border=\"1\" class=\"dataframe\">\n  <thead>\n    <tr style=\"text-align: right;\">\n      <th></th>\n      <th>qa_id</th>\n      <th>question_title</th>\n      <th>question_body</th>\n      <th>question_user_name</th>\n      <th>question_user_page</th>\n      <th>answer</th>\n      <th>answer_user_name</th>\n      <th>answer_user_page</th>\n      <th>url</th>\n      <th>category</th>\n      <th>host</th>\n    </tr>\n  </thead>\n  <tbody>\n    <tr>\n      <th>0</th>\n      <td>0</td>\n      <td>What am I losing when using extension tubes in...</td>\n      <td>After playing around with macro photography on...</td>\n      <td>ysap</td>\n      <td>https://photo.stackexchange.com/users/1024</td>\n      <td>I just got extension tubes, so here's the skin...</td>\n      <td>rfusca</td>\n      <td>https://photo.stackexchange.com/users/1917</td>\n      <td>http://photo.stackexchange.com/questions/9169/...</td>\n      <td>LIFE_ARTS</td>\n      <td>photo.stackexchange.com</td>\n    </tr>\n    <tr>\n      <th>1</th>\n      <td>1</td>\n      <td>What is the distinction between a city and a s...</td>\n      <td>I am trying to understand what kinds of places...</td>\n      <td>russellpierce</td>\n      <td>https://rpg.stackexchange.com/users/8774</td>\n      <td>It might be helpful to look into the definitio...</td>\n      <td>Erik Schmidt</td>\n      <td>https://rpg.stackexchange.com/users/1871</td>\n      <td>http://rpg.stackexchange.com/questions/47820/w...</td>\n      <td>CULTURE</td>\n      <td>rpg.stackexchange.com</td>\n    </tr>\n    <tr>\n      <th>2</th>\n      <td>2</td>\n      <td>Maximum protusion length for through-hole comp...</td>\n      <td>I'm working on a PCB that has through-hole com...</td>\n      <td>Joe Baker</td>\n      <td>https://electronics.stackexchange.com/users/10157</td>\n      <td>Do you even need grooves?  We make several pro...</td>\n      <td>Dwayne Reid</td>\n      <td>https://electronics.stackexchange.com/users/64754</td>\n      <td>http://electronics.stackexchange.com/questions...</td>\n      <td>SCIENCE</td>\n      <td>electronics.stackexchange.com</td>\n    </tr>\n    <tr>\n      <th>3</th>\n      <td>3</td>\n      <td>Can an affidavit be used in Beit Din?</td>\n      <td>An affidavit, from what i understand, is basic...</td>\n      <td>Scimonster</td>\n      <td>https://judaism.stackexchange.com/users/5151</td>\n      <td>Sending an \"affidavit\" it is a dispute between...</td>\n      <td>Y     e     z</td>\n      <td>https://judaism.stackexchange.com/users/4794</td>\n      <td>http://judaism.stackexchange.com/questions/551...</td>\n      <td>CULTURE</td>\n      <td>judaism.stackexchange.com</td>\n    </tr>\n    <tr>\n      <th>4</th>\n      <td>5</td>\n      <td>How do you make a binary image in Photoshop?</td>\n      <td>I am trying to make a binary image. I want mor...</td>\n      <td>leigero</td>\n      <td>https://graphicdesign.stackexchange.com/users/...</td>\n      <td>Check out Image Trace in Adobe Illustrator. \\n...</td>\n      <td>q2ra</td>\n      <td>https://graphicdesign.stackexchange.com/users/...</td>\n      <td>http://graphicdesign.stackexchange.com/questio...</td>\n      <td>LIFE_ARTS</td>\n      <td>graphicdesign.stackexchange.com</td>\n    </tr>\n    <tr>\n      <th>...</th>\n      <td>...</td>\n      <td>...</td>\n      <td>...</td>\n      <td>...</td>\n      <td>...</td>\n      <td>...</td>\n      <td>...</td>\n      <td>...</td>\n      <td>...</td>\n      <td>...</td>\n      <td>...</td>\n    </tr>\n    <tr>\n      <th>6074</th>\n      <td>9642</td>\n      <td>Using a ski helmet for winter biking</td>\n      <td>I am curious if anyone uses a skiing helmet fo...</td>\n      <td>sixtyfootersdude</td>\n      <td>https://bicycles.stackexchange.com/users/134</td>\n      <td>If you're thinking about wearing a ski helmet ...</td>\n      <td>Matt Leo</td>\n      <td>https://bicycles.stackexchange.com/users/3340</td>\n      <td>http://bicycles.stackexchange.com/questions/99...</td>\n      <td>CULTURE</td>\n      <td>bicycles.stackexchange.com</td>\n    </tr>\n    <tr>\n      <th>6075</th>\n      <td>9643</td>\n      <td>Adjustment to road bike brakes for high grade ...</td>\n      <td>I have a road bike with a front brake that wea...</td>\n      <td>ash</td>\n      <td>https://bicycles.stackexchange.com/users/14519</td>\n      <td>\\nYou can replace the pads (as stated elsewher...</td>\n      <td>Daniel R Hicks</td>\n      <td>https://bicycles.stackexchange.com/users/1584</td>\n      <td>http://bicycles.stackexchange.com/questions/25...</td>\n      <td>CULTURE</td>\n      <td>bicycles.stackexchange.com</td>\n    </tr>\n    <tr>\n      <th>6076</th>\n      <td>9645</td>\n      <td>Suppress 'file truncated' messages when using ...</td>\n      <td>I'm tailing a log file using tail -f messages....</td>\n      <td>Maneating Koala</td>\n      <td>https://unix.stackexchange.com/users/60445</td>\n      <td>Maybe help if can be fixes origin of this erro...</td>\n      <td>BG Bruno</td>\n      <td>https://unix.stackexchange.com/users/68208</td>\n      <td>http://unix.stackexchange.com/questions/169054...</td>\n      <td>TECHNOLOGY</td>\n      <td>unix.stackexchange.com</td>\n    </tr>\n    <tr>\n      <th>6077</th>\n      <td>9646</td>\n      <td>When should a supervisor be a co-author?</td>\n      <td>What are people's views on this?  To be specif...</td>\n      <td>MrB</td>\n      <td>https://mathoverflow.net/users/2189</td>\n      <td>As a non-mathematician, I am somewhat mystifie...</td>\n      <td>angela</td>\n      <td>https://mathoverflow.net/users/4267</td>\n      <td>http://mathoverflow.net/questions/57337</td>\n      <td>SCIENCE</td>\n      <td>mathoverflow.net</td>\n    </tr>\n    <tr>\n      <th>6078</th>\n      <td>9647</td>\n      <td>Why are there so many different types of screw...</td>\n      <td>Newbie question.\\n\\nWhy is it that there's a b...</td>\n      <td>Doug T.</td>\n      <td>https://diy.stackexchange.com/users/321</td>\n      <td>First, I really like Eric's answer for practic...</td>\n      <td>Scivitri</td>\n      <td>https://diy.stackexchange.com/users/113</td>\n      <td>http://diy.stackexchange.com/questions/2701/wh...</td>\n      <td>LIFE_ARTS</td>\n      <td>diy.stackexchange.com</td>\n    </tr>\n  </tbody>\n</table>\n<p>6079 rows × 11 columns</p>\n</div>",
      "text/plain": "     qa_id                                     question_title  \\\n0        0  What am I losing when using extension tubes in...   \n1        1  What is the distinction between a city and a s...   \n2        2  Maximum protusion length for through-hole comp...   \n3        3              Can an affidavit be used in Beit Din?   \n4        5       How do you make a binary image in Photoshop?   \n...    ...                                                ...   \n6074  9642               Using a ski helmet for winter biking   \n6075  9643  Adjustment to road bike brakes for high grade ...   \n6076  9645  Suppress 'file truncated' messages when using ...   \n6077  9646           When should a supervisor be a co-author?   \n6078  9647  Why are there so many different types of screw...   \n\n                                          question_body question_user_name  \\\n0     After playing around with macro photography on...               ysap   \n1     I am trying to understand what kinds of places...      russellpierce   \n2     I'm working on a PCB that has through-hole com...          Joe Baker   \n3     An affidavit, from what i understand, is basic...         Scimonster   \n4     I am trying to make a binary image. I want mor...            leigero   \n...                                                 ...                ...   \n6074  I am curious if anyone uses a skiing helmet fo...   sixtyfootersdude   \n6075  I have a road bike with a front brake that wea...                ash   \n6076  I'm tailing a log file using tail -f messages....    Maneating Koala   \n6077  What are people's views on this?  To be specif...                MrB   \n6078  Newbie question.\\n\\nWhy is it that there's a b...            Doug T.   \n\n                                     question_user_page  \\\n0            https://photo.stackexchange.com/users/1024   \n1              https://rpg.stackexchange.com/users/8774   \n2     https://electronics.stackexchange.com/users/10157   \n3          https://judaism.stackexchange.com/users/5151   \n4     https://graphicdesign.stackexchange.com/users/...   \n...                                                 ...   \n6074       https://bicycles.stackexchange.com/users/134   \n6075     https://bicycles.stackexchange.com/users/14519   \n6076         https://unix.stackexchange.com/users/60445   \n6077                https://mathoverflow.net/users/2189   \n6078            https://diy.stackexchange.com/users/321   \n\n                                                 answer answer_user_name  \\\n0     I just got extension tubes, so here's the skin...           rfusca   \n1     It might be helpful to look into the definitio...     Erik Schmidt   \n2     Do you even need grooves?  We make several pro...      Dwayne Reid   \n3     Sending an \"affidavit\" it is a dispute between...    Y     e     z   \n4     Check out Image Trace in Adobe Illustrator. \\n...             q2ra   \n...                                                 ...              ...   \n6074  If you're thinking about wearing a ski helmet ...         Matt Leo   \n6075  \\nYou can replace the pads (as stated elsewher...   Daniel R Hicks   \n6076  Maybe help if can be fixes origin of this erro...         BG Bruno   \n6077  As a non-mathematician, I am somewhat mystifie...           angela   \n6078  First, I really like Eric's answer for practic...         Scivitri   \n\n                                       answer_user_page  \\\n0            https://photo.stackexchange.com/users/1917   \n1              https://rpg.stackexchange.com/users/1871   \n2     https://electronics.stackexchange.com/users/64754   \n3          https://judaism.stackexchange.com/users/4794   \n4     https://graphicdesign.stackexchange.com/users/...   \n...                                                 ...   \n6074      https://bicycles.stackexchange.com/users/3340   \n6075      https://bicycles.stackexchange.com/users/1584   \n6076         https://unix.stackexchange.com/users/68208   \n6077                https://mathoverflow.net/users/4267   \n6078            https://diy.stackexchange.com/users/113   \n\n                                                    url    category  \\\n0     http://photo.stackexchange.com/questions/9169/...   LIFE_ARTS   \n1     http://rpg.stackexchange.com/questions/47820/w...     CULTURE   \n2     http://electronics.stackexchange.com/questions...     SCIENCE   \n3     http://judaism.stackexchange.com/questions/551...     CULTURE   \n4     http://graphicdesign.stackexchange.com/questio...   LIFE_ARTS   \n...                                                 ...         ...   \n6074  http://bicycles.stackexchange.com/questions/99...     CULTURE   \n6075  http://bicycles.stackexchange.com/questions/25...     CULTURE   \n6076  http://unix.stackexchange.com/questions/169054...  TECHNOLOGY   \n6077            http://mathoverflow.net/questions/57337     SCIENCE   \n6078  http://diy.stackexchange.com/questions/2701/wh...   LIFE_ARTS   \n\n                                 host  \n0             photo.stackexchange.com  \n1               rpg.stackexchange.com  \n2       electronics.stackexchange.com  \n3           judaism.stackexchange.com  \n4     graphicdesign.stackexchange.com  \n...                               ...  \n6074       bicycles.stackexchange.com  \n6075       bicycles.stackexchange.com  \n6076           unix.stackexchange.com  \n6077                 mathoverflow.net  \n6078            diy.stackexchange.com  \n\n[6079 rows x 11 columns]"
     },
     "execution_count": 18,
     "metadata": {},
     "output_type": "execute_result"
    }
   ],
   "source": [
    "train_set = np.split(train_set, [train_set.columns.get_loc('question_asker_intent_understanding')], axis=1)\n",
    "X_train = train_set[0]\n",
    "X_train"
   ]
  },
  {
   "cell_type": "code",
   "execution_count": 19,
   "metadata": {},
   "outputs": [
    {
     "data": {
      "text/html": "<div>\n<style scoped>\n    .dataframe tbody tr th:only-of-type {\n        vertical-align: middle;\n    }\n\n    .dataframe tbody tr th {\n        vertical-align: top;\n    }\n\n    .dataframe thead th {\n        text-align: right;\n    }\n</style>\n<table border=\"1\" class=\"dataframe\">\n  <thead>\n    <tr style=\"text-align: right;\">\n      <th></th>\n      <th>qa_id</th>\n      <th>question_asker_intent_understanding</th>\n      <th>question_body_critical</th>\n      <th>question_conversational</th>\n      <th>question_expect_short_answer</th>\n      <th>question_fact_seeking</th>\n      <th>question_has_commonly_accepted_answer</th>\n      <th>question_interestingness_others</th>\n      <th>question_interestingness_self</th>\n      <th>question_multi_intent</th>\n      <th>...</th>\n      <th>question_well_written</th>\n      <th>answer_helpful</th>\n      <th>answer_level_of_information</th>\n      <th>answer_plausible</th>\n      <th>answer_relevance</th>\n      <th>answer_satisfaction</th>\n      <th>answer_type_instructions</th>\n      <th>answer_type_procedure</th>\n      <th>answer_type_reason_explanation</th>\n      <th>answer_well_written</th>\n    </tr>\n  </thead>\n  <tbody>\n    <tr>\n      <th>0</th>\n      <td>0</td>\n      <td>1</td>\n      <td>0.333333</td>\n      <td>0</td>\n      <td>0</td>\n      <td>0</td>\n      <td>0</td>\n      <td>1</td>\n      <td>1</td>\n      <td>0</td>\n      <td>...</td>\n      <td>1</td>\n      <td>1</td>\n      <td>0.666667</td>\n      <td>1</td>\n      <td>1</td>\n      <td>0.8</td>\n      <td>1</td>\n      <td>0</td>\n      <td>0</td>\n      <td>1</td>\n    </tr>\n    <tr>\n      <th>1</th>\n      <td>1</td>\n      <td>1</td>\n      <td>1</td>\n      <td>0</td>\n      <td>0.5</td>\n      <td>1</td>\n      <td>1</td>\n      <td>0.444444</td>\n      <td>0.444444</td>\n      <td>0.666667</td>\n      <td>...</td>\n      <td>0.888889</td>\n      <td>0.888889</td>\n      <td>0.555556</td>\n      <td>0.888889</td>\n      <td>0.888889</td>\n      <td>0.666667</td>\n      <td>0</td>\n      <td>0</td>\n      <td>0.666667</td>\n      <td>0.888889</td>\n    </tr>\n    <tr>\n      <th>2</th>\n      <td>2</td>\n      <td>0.888889</td>\n      <td>0.666667</td>\n      <td>0</td>\n      <td>1</td>\n      <td>1</td>\n      <td>1</td>\n      <td>0.666667</td>\n      <td>0.444444</td>\n      <td>0.333333</td>\n      <td>...</td>\n      <td>0.777778</td>\n      <td>0.777778</td>\n      <td>0.555556</td>\n      <td>1</td>\n      <td>1</td>\n      <td>0.666667</td>\n      <td>0</td>\n      <td>0.333333</td>\n      <td>1</td>\n      <td>0.888889</td>\n    </tr>\n    <tr>\n      <th>3</th>\n      <td>3</td>\n      <td>0.888889</td>\n      <td>0.666667</td>\n      <td>0.666667</td>\n      <td>1</td>\n      <td>1</td>\n      <td>1</td>\n      <td>0.444444</td>\n      <td>0.444444</td>\n      <td>0</td>\n      <td>...</td>\n      <td>0.888889</td>\n      <td>0.833333</td>\n      <td>0.333333</td>\n      <td>0.833333</td>\n      <td>1</td>\n      <td>0.8</td>\n      <td>0</td>\n      <td>0</td>\n      <td>1</td>\n      <td>1</td>\n    </tr>\n    <tr>\n      <th>4</th>\n      <td>5</td>\n      <td>1</td>\n      <td>0.666667</td>\n      <td>0</td>\n      <td>1</td>\n      <td>1</td>\n      <td>1</td>\n      <td>0.666667</td>\n      <td>0.666667</td>\n      <td>0</td>\n      <td>...</td>\n      <td>1</td>\n      <td>1</td>\n      <td>0.666667</td>\n      <td>1</td>\n      <td>1</td>\n      <td>0.8</td>\n      <td>1</td>\n      <td>0</td>\n      <td>1</td>\n      <td>1</td>\n    </tr>\n    <tr>\n      <th>...</th>\n      <td>...</td>\n      <td>...</td>\n      <td>...</td>\n      <td>...</td>\n      <td>...</td>\n      <td>...</td>\n      <td>...</td>\n      <td>...</td>\n      <td>...</td>\n      <td>...</td>\n      <td>...</td>\n      <td>...</td>\n      <td>...</td>\n      <td>...</td>\n      <td>...</td>\n      <td>...</td>\n      <td>...</td>\n      <td>...</td>\n      <td>...</td>\n      <td>...</td>\n      <td>...</td>\n    </tr>\n    <tr>\n      <th>6074</th>\n      <td>9642</td>\n      <td>1</td>\n      <td>0.777778</td>\n      <td>0</td>\n      <td>1</td>\n      <td>1</td>\n      <td>1</td>\n      <td>0.888889</td>\n      <td>0.888889</td>\n      <td>0.333333</td>\n      <td>...</td>\n      <td>0.777778</td>\n      <td>1</td>\n      <td>0.555556</td>\n      <td>1</td>\n      <td>1</td>\n      <td>0.866667</td>\n      <td>0</td>\n      <td>0</td>\n      <td>0</td>\n      <td>0.888889</td>\n    </tr>\n    <tr>\n      <th>6075</th>\n      <td>9643</td>\n      <td>1</td>\n      <td>0.777778</td>\n      <td>0</td>\n      <td>1</td>\n      <td>0.666667</td>\n      <td>0.5</td>\n      <td>0.777778</td>\n      <td>0.777778</td>\n      <td>0</td>\n      <td>...</td>\n      <td>0.777778</td>\n      <td>0.888889</td>\n      <td>0.555556</td>\n      <td>1</td>\n      <td>1</td>\n      <td>0.733333</td>\n      <td>0.666667</td>\n      <td>0.333333</td>\n      <td>0</td>\n      <td>0.888889</td>\n    </tr>\n    <tr>\n      <th>6076</th>\n      <td>9645</td>\n      <td>0.888889</td>\n      <td>0.555556</td>\n      <td>0</td>\n      <td>0.666667</td>\n      <td>0.333333</td>\n      <td>1</td>\n      <td>0.444444</td>\n      <td>0.333333</td>\n      <td>0</td>\n      <td>...</td>\n      <td>0.444444</td>\n      <td>0.888889</td>\n      <td>0.555556</td>\n      <td>0.888889</td>\n      <td>0.888889</td>\n      <td>0.8</td>\n      <td>1</td>\n      <td>0</td>\n      <td>0.333333</td>\n      <td>0.555556</td>\n    </tr>\n    <tr>\n      <th>6077</th>\n      <td>9646</td>\n      <td>1</td>\n      <td>0.444444</td>\n      <td>0.333333</td>\n      <td>0</td>\n      <td>0</td>\n      <td>0</td>\n      <td>0.777778</td>\n      <td>0.555556</td>\n      <td>1</td>\n      <td>...</td>\n      <td>1</td>\n      <td>0.888889</td>\n      <td>0.555556</td>\n      <td>1</td>\n      <td>1</td>\n      <td>0.533333</td>\n      <td>0</td>\n      <td>0.333333</td>\n      <td>0.666667</td>\n      <td>1</td>\n    </tr>\n    <tr>\n      <th>6078</th>\n      <td>9647</td>\n      <td>1</td>\n      <td>1</td>\n      <td>0.333333</td>\n      <td>0.5</td>\n      <td>1</td>\n      <td>0.5</td>\n      <td>0.777778</td>\n      <td>0.777778</td>\n      <td>0.666667</td>\n      <td>...</td>\n      <td>1</td>\n      <td>0.888889</td>\n      <td>0.555556</td>\n      <td>1</td>\n      <td>0.888889</td>\n      <td>0.733333</td>\n      <td>0</td>\n      <td>0</td>\n      <td>1</td>\n      <td>1</td>\n    </tr>\n  </tbody>\n</table>\n<p>6079 rows × 31 columns</p>\n</div>",
      "text/plain": "     qa_id question_asker_intent_understanding question_body_critical  \\\n0        0                                   1               0.333333   \n1        1                                   1                      1   \n2        2                            0.888889               0.666667   \n3        3                            0.888889               0.666667   \n4        5                                   1               0.666667   \n...    ...                                 ...                    ...   \n6074  9642                                   1               0.777778   \n6075  9643                                   1               0.777778   \n6076  9645                            0.888889               0.555556   \n6077  9646                                   1               0.444444   \n6078  9647                                   1                      1   \n\n     question_conversational question_expect_short_answer  \\\n0                          0                            0   \n1                          0                          0.5   \n2                          0                            1   \n3                   0.666667                            1   \n4                          0                            1   \n...                      ...                          ...   \n6074                       0                            1   \n6075                       0                            1   \n6076                       0                     0.666667   \n6077                0.333333                            0   \n6078                0.333333                          0.5   \n\n     question_fact_seeking question_has_commonly_accepted_answer  \\\n0                        0                                     0   \n1                        1                                     1   \n2                        1                                     1   \n3                        1                                     1   \n4                        1                                     1   \n...                    ...                                   ...   \n6074                     1                                     1   \n6075              0.666667                                   0.5   \n6076              0.333333                                     1   \n6077                     0                                     0   \n6078                     1                                   0.5   \n\n     question_interestingness_others question_interestingness_self  \\\n0                                  1                             1   \n1                           0.444444                      0.444444   \n2                           0.666667                      0.444444   \n3                           0.444444                      0.444444   \n4                           0.666667                      0.666667   \n...                              ...                           ...   \n6074                        0.888889                      0.888889   \n6075                        0.777778                      0.777778   \n6076                        0.444444                      0.333333   \n6077                        0.777778                      0.555556   \n6078                        0.777778                      0.777778   \n\n     question_multi_intent  ... question_well_written answer_helpful  \\\n0                        0  ...                     1              1   \n1                 0.666667  ...              0.888889       0.888889   \n2                 0.333333  ...              0.777778       0.777778   \n3                        0  ...              0.888889       0.833333   \n4                        0  ...                     1              1   \n...                    ...  ...                   ...            ...   \n6074              0.333333  ...              0.777778              1   \n6075                     0  ...              0.777778       0.888889   \n6076                     0  ...              0.444444       0.888889   \n6077                     1  ...                     1       0.888889   \n6078              0.666667  ...                     1       0.888889   \n\n     answer_level_of_information answer_plausible answer_relevance  \\\n0                       0.666667                1                1   \n1                       0.555556         0.888889         0.888889   \n2                       0.555556                1                1   \n3                       0.333333         0.833333                1   \n4                       0.666667                1                1   \n...                          ...              ...              ...   \n6074                    0.555556                1                1   \n6075                    0.555556                1                1   \n6076                    0.555556         0.888889         0.888889   \n6077                    0.555556                1                1   \n6078                    0.555556                1         0.888889   \n\n     answer_satisfaction answer_type_instructions answer_type_procedure  \\\n0                    0.8                        1                     0   \n1               0.666667                        0                     0   \n2               0.666667                        0              0.333333   \n3                    0.8                        0                     0   \n4                    0.8                        1                     0   \n...                  ...                      ...                   ...   \n6074            0.866667                        0                     0   \n6075            0.733333                 0.666667              0.333333   \n6076                 0.8                        1                     0   \n6077            0.533333                        0              0.333333   \n6078            0.733333                        0                     0   \n\n     answer_type_reason_explanation answer_well_written  \n0                                 0                   1  \n1                          0.666667            0.888889  \n2                                 1            0.888889  \n3                                 1                   1  \n4                                 1                   1  \n...                             ...                 ...  \n6074                              0            0.888889  \n6075                              0            0.888889  \n6076                       0.333333            0.555556  \n6077                       0.666667                   1  \n6078                              1                   1  \n\n[6079 rows x 31 columns]"
     },
     "execution_count": 19,
     "metadata": {},
     "output_type": "execute_result"
    }
   ],
   "source": [
    "Y_train = pd.concat([X_train['qa_id'], train_set[1]], axis=1)\n",
    "Y_train"
   ]
  },
  {
   "cell_type": "markdown",
   "metadata": {},
   "source": [
    "## 2. Data analysis"
   ]
  },
  {
   "cell_type": "code",
   "execution_count": 20,
   "metadata": {},
   "outputs": [],
   "source": [
    "analysis = brain.Analysis()"
   ]
  },
  {
   "cell_type": "markdown",
   "metadata": {},
   "source": [
    "### 2.1. Data Description"
   ]
  },
  {
   "cell_type": "code",
   "execution_count": 21,
   "metadata": {},
   "outputs": [
    {
     "name": "stdout",
     "output_type": "stream",
     "text": "<class 'pandas.core.frame.DataFrame'>\nRangeIndex: 6079 entries, 0 to 6078\nData columns (total 11 columns):\nqa_id                 6079 non-null object\nquestion_title        6079 non-null object\nquestion_body         6079 non-null object\nquestion_user_name    6079 non-null object\nquestion_user_page    6079 non-null object\nanswer                6079 non-null object\nanswer_user_name      6079 non-null object\nanswer_user_page      6079 non-null object\nurl                   6079 non-null object\ncategory              6079 non-null object\nhost                  6079 non-null object\ndtypes: object(11)\nmemory usage: 522.5+ KB\n"
    }
   ],
   "source": [
    "X_train.info()"
   ]
  },
  {
   "cell_type": "code",
   "execution_count": 22,
   "metadata": {},
   "outputs": [
    {
     "data": {
      "text/html": "<div>\n<style scoped>\n    .dataframe tbody tr th:only-of-type {\n        vertical-align: middle;\n    }\n\n    .dataframe tbody tr th {\n        vertical-align: top;\n    }\n\n    .dataframe thead th {\n        text-align: right;\n    }\n</style>\n<table border=\"1\" class=\"dataframe\">\n  <thead>\n    <tr style=\"text-align: right;\">\n      <th></th>\n      <th>qa_id</th>\n      <th>question_title</th>\n      <th>question_body</th>\n      <th>question_user_name</th>\n      <th>question_user_page</th>\n      <th>answer</th>\n      <th>answer_user_name</th>\n      <th>answer_user_page</th>\n      <th>url</th>\n      <th>category</th>\n      <th>host</th>\n    </tr>\n  </thead>\n  <tbody>\n    <tr>\n      <th>count</th>\n      <td>6079</td>\n      <td>6079</td>\n      <td>6079</td>\n      <td>6079</td>\n      <td>6079</td>\n      <td>6079</td>\n      <td>6079</td>\n      <td>6079</td>\n      <td>6079</td>\n      <td>6079</td>\n      <td>6079</td>\n    </tr>\n    <tr>\n      <th>unique</th>\n      <td>6079</td>\n      <td>3583</td>\n      <td>3583</td>\n      <td>3215</td>\n      <td>3422</td>\n      <td>6079</td>\n      <td>4114</td>\n      <td>4430</td>\n      <td>3583</td>\n      <td>5</td>\n      <td>63</td>\n    </tr>\n    <tr>\n      <th>top</th>\n      <td>9081</td>\n      <td>What is the best introductory Bayesian statist...</td>\n      <td>Which is the best introductory textbook for Ba...</td>\n      <td>Mike</td>\n      <td>https://stats.stackexchange.com/users/5</td>\n      <td>Samtec has a pretty wide range of small header...</td>\n      <td>Scott</td>\n      <td>https://tex.stackexchange.com/users/4427</td>\n      <td>http://stats.stackexchange.com/questions/125/w...</td>\n      <td>TECHNOLOGY</td>\n      <td>stackoverflow.com</td>\n    </tr>\n    <tr>\n      <th>freq</th>\n      <td>1</td>\n      <td>12</td>\n      <td>12</td>\n      <td>15</td>\n      <td>12</td>\n      <td>1</td>\n      <td>20</td>\n      <td>17</td>\n      <td>12</td>\n      <td>2441</td>\n      <td>1253</td>\n    </tr>\n  </tbody>\n</table>\n</div>",
      "text/plain": "        qa_id                                     question_title  \\\ncount    6079                                               6079   \nunique   6079                                               3583   \ntop      9081  What is the best introductory Bayesian statist...   \nfreq        1                                                 12   \n\n                                            question_body question_user_name  \\\ncount                                                6079               6079   \nunique                                               3583               3215   \ntop     Which is the best introductory textbook for Ba...               Mike   \nfreq                                                   12                 15   \n\n                             question_user_page  \\\ncount                                      6079   \nunique                                     3422   \ntop     https://stats.stackexchange.com/users/5   \nfreq                                         12   \n\n                                                   answer answer_user_name  \\\ncount                                                6079             6079   \nunique                                               6079             4114   \ntop     Samtec has a pretty wide range of small header...            Scott   \nfreq                                                    1               20   \n\n                                answer_user_page  \\\ncount                                       6079   \nunique                                      4430   \ntop     https://tex.stackexchange.com/users/4427   \nfreq                                          17   \n\n                                                      url    category  \\\ncount                                                6079        6079   \nunique                                               3583           5   \ntop     http://stats.stackexchange.com/questions/125/w...  TECHNOLOGY   \nfreq                                                   12        2441   \n\n                     host  \ncount                6079  \nunique                 63  \ntop     stackoverflow.com  \nfreq                 1253  "
     },
     "execution_count": 22,
     "metadata": {},
     "output_type": "execute_result"
    }
   ],
   "source": [
    "X_train.describe()"
   ]
  },
  {
   "cell_type": "code",
   "execution_count": 23,
   "metadata": {},
   "outputs": [
    {
     "name": "stdout",
     "output_type": "stream",
     "text": "<class 'pandas.core.frame.DataFrame'>\nRangeIndex: 476 entries, 0 to 475\nData columns (total 11 columns):\nqa_id                 476 non-null int64\nquestion_title        476 non-null object\nquestion_body         476 non-null object\nquestion_user_name    476 non-null object\nquestion_user_page    476 non-null object\nanswer                476 non-null object\nanswer_user_name      476 non-null object\nanswer_user_page      476 non-null object\nurl                   476 non-null object\ncategory              476 non-null object\nhost                  476 non-null object\ndtypes: int64(1), object(10)\nmemory usage: 41.0+ KB\n"
    }
   ],
   "source": [
    "X_test.info()"
   ]
  },
  {
   "cell_type": "code",
   "execution_count": 24,
   "metadata": {},
   "outputs": [
    {
     "data": {
      "text/html": "<div>\n<style scoped>\n    .dataframe tbody tr th:only-of-type {\n        vertical-align: middle;\n    }\n\n    .dataframe tbody tr th {\n        vertical-align: top;\n    }\n\n    .dataframe thead th {\n        text-align: right;\n    }\n</style>\n<table border=\"1\" class=\"dataframe\">\n  <thead>\n    <tr style=\"text-align: right;\">\n      <th></th>\n      <th>qa_id</th>\n    </tr>\n  </thead>\n  <tbody>\n    <tr>\n      <th>count</th>\n      <td>476.000000</td>\n    </tr>\n    <tr>\n      <th>mean</th>\n      <td>5029.186975</td>\n    </tr>\n    <tr>\n      <th>std</th>\n      <td>2812.670060</td>\n    </tr>\n    <tr>\n      <th>min</th>\n      <td>39.000000</td>\n    </tr>\n    <tr>\n      <th>25%</th>\n      <td>2572.000000</td>\n    </tr>\n    <tr>\n      <th>50%</th>\n      <td>5093.000000</td>\n    </tr>\n    <tr>\n      <th>75%</th>\n      <td>7482.000000</td>\n    </tr>\n    <tr>\n      <th>max</th>\n      <td>9640.000000</td>\n    </tr>\n  </tbody>\n</table>\n</div>",
      "text/plain": "             qa_id\ncount   476.000000\nmean   5029.186975\nstd    2812.670060\nmin      39.000000\n25%    2572.000000\n50%    5093.000000\n75%    7482.000000\nmax    9640.000000"
     },
     "execution_count": 24,
     "metadata": {},
     "output_type": "execute_result"
    }
   ],
   "source": [
    "X_test.describe()"
   ]
  },
  {
   "cell_type": "code",
   "execution_count": 25,
   "metadata": {},
   "outputs": [
    {
     "name": "stdout",
     "output_type": "stream",
     "text": "Size of X_train (6079, 11)\nSize of Y_train (6079, 31)\nSize of X_test (476, 11)\n"
    }
   ],
   "source": [
    "print('Size of X_train', X_train.shape)\n",
    "print('Size of Y_train', Y_train.shape)\n",
    "print('Size of X_test', X_test.shape)"
   ]
  },
  {
   "cell_type": "markdown",
   "metadata": {},
   "source": [
    "### 2.2. Host distribution visualization"
   ]
  },
  {
   "cell_type": "code",
   "execution_count": 26,
   "metadata": {},
   "outputs": [],
   "source": [
    "X_train_host_dist = X_train[\"host\"].value_counts()\n",
    "X_test_host_dist = X_test[\"host\"].value_counts()"
   ]
  },
  {
   "cell_type": "code",
   "execution_count": 27,
   "metadata": {},
   "outputs": [
    {
     "data": {
      "application/vnd.plotly.v1+json": {
       "config": {
        "plotlyServerURL": "https://plot.ly"
       },
       "data": [
        {
         "domain": {
          "x": [
           0,
           1
          ],
          "y": [
           0,
           1
          ]
         },
         "hoverlabel": {
          "namelength": 0
         },
         "hovertemplate": "label=%{label}<br>value=%{value}",
         "labels": [
          "stackoverflow.com",
          "english.stackexchange.com",
          "superuser.com",
          "electronics.stackexchange.com",
          "serverfault.com",
          "math.stackexchange.com",
          "physics.stackexchange.com",
          "tex.stackexchange.com",
          "askubuntu.com",
          "programmers.stackexchange.com",
          "rpg.stackexchange.com",
          "gaming.stackexchange.com",
          "unix.stackexchange.com",
          "apple.stackexchange.com",
          "academia.stackexchange.com",
          "photo.stackexchange.com",
          "drupal.stackexchange.com",
          "diy.stackexchange.com",
          "ux.stackexchange.com",
          "scifi.stackexchange.com",
          "security.stackexchange.com",
          "ell.stackexchange.com",
          "gamedev.stackexchange.com",
          "mathoverflow.net",
          "wordpress.stackexchange.com",
          "magento.stackexchange.com",
          "mechanics.stackexchange.com",
          "graphicdesign.stackexchange.com",
          "money.stackexchange.com",
          "bicycles.stackexchange.com",
          "travel.stackexchange.com",
          "mathematica.stackexchange.com",
          "gis.stackexchange.com",
          "dba.stackexchange.com",
          "boardgames.stackexchange.com",
          "cooking.stackexchange.com",
          "judaism.stackexchange.com",
          "music.stackexchange.com",
          "sharepoint.stackexchange.com",
          "meta.stackexchange.com",
          "christianity.stackexchange.com",
          "biology.stackexchange.com",
          "webmasters.stackexchange.com",
          "chemistry.stackexchange.com",
          "stats.stackexchange.com",
          "salesforce.stackexchange.com",
          "blender.stackexchange.com",
          "webapps.stackexchange.com",
          "codereview.stackexchange.com",
          "raspberrypi.stackexchange.com",
          "android.stackexchange.com",
          "crypto.stackexchange.com",
          "expressionengine.stackexchange.com",
          "movies.stackexchange.com",
          "dsp.stackexchange.com",
          "anime.stackexchange.com",
          "cs.stackexchange.com",
          "softwarerecs.stackexchange.com",
          "meta.christianity.stackexchange.com",
          "robotics.stackexchange.com",
          "meta.math.stackexchange.com",
          "meta.askubuntu.com",
          "meta.codereview.stackexchange.com"
         ],
         "legendgroup": "",
         "name": "",
         "showlegend": true,
         "textinfo": "percent+label",
         "textposition": "inside",
         "type": "pie",
         "values": [
          1253,
          229,
          227,
          221,
          213,
          187,
          164,
          140,
          126,
          125,
          123,
          111,
          108,
          106,
          103,
          102,
          98,
          97,
          97,
          96,
          92,
          85,
          84,
          82,
          81,
          79,
          78,
          76,
          75,
          75,
          71,
          71,
          69,
          67,
          67,
          67,
          64,
          63,
          62,
          59,
          56,
          53,
          53,
          52,
          52,
          48,
          42,
          40,
          39,
          37,
          36,
          35,
          34,
          30,
          29,
          21,
          9,
          8,
          4,
          2,
          2,
          2,
          2
         ]
        }
       ],
       "layout": {
        "height": 800,
        "legend": {
         "tracegroupgap": 0
        },
        "showlegend": true,
        "template": {
         "data": {
          "bar": [
           {
            "error_x": {
             "color": "#2a3f5f"
            },
            "error_y": {
             "color": "#2a3f5f"
            },
            "marker": {
             "line": {
              "color": "#E5ECF6",
              "width": 0.5
             }
            },
            "type": "bar"
           }
          ],
          "barpolar": [
           {
            "marker": {
             "line": {
              "color": "#E5ECF6",
              "width": 0.5
             }
            },
            "type": "barpolar"
           }
          ],
          "carpet": [
           {
            "aaxis": {
             "endlinecolor": "#2a3f5f",
             "gridcolor": "white",
             "linecolor": "white",
             "minorgridcolor": "white",
             "startlinecolor": "#2a3f5f"
            },
            "baxis": {
             "endlinecolor": "#2a3f5f",
             "gridcolor": "white",
             "linecolor": "white",
             "minorgridcolor": "white",
             "startlinecolor": "#2a3f5f"
            },
            "type": "carpet"
           }
          ],
          "choropleth": [
           {
            "colorbar": {
             "outlinewidth": 0,
             "ticks": ""
            },
            "type": "choropleth"
           }
          ],
          "contour": [
           {
            "colorbar": {
             "outlinewidth": 0,
             "ticks": ""
            },
            "colorscale": [
             [
              0,
              "#0d0887"
             ],
             [
              0.1111111111111111,
              "#46039f"
             ],
             [
              0.2222222222222222,
              "#7201a8"
             ],
             [
              0.3333333333333333,
              "#9c179e"
             ],
             [
              0.4444444444444444,
              "#bd3786"
             ],
             [
              0.5555555555555556,
              "#d8576b"
             ],
             [
              0.6666666666666666,
              "#ed7953"
             ],
             [
              0.7777777777777778,
              "#fb9f3a"
             ],
             [
              0.8888888888888888,
              "#fdca26"
             ],
             [
              1,
              "#f0f921"
             ]
            ],
            "type": "contour"
           }
          ],
          "contourcarpet": [
           {
            "colorbar": {
             "outlinewidth": 0,
             "ticks": ""
            },
            "type": "contourcarpet"
           }
          ],
          "heatmap": [
           {
            "colorbar": {
             "outlinewidth": 0,
             "ticks": ""
            },
            "colorscale": [
             [
              0,
              "#0d0887"
             ],
             [
              0.1111111111111111,
              "#46039f"
             ],
             [
              0.2222222222222222,
              "#7201a8"
             ],
             [
              0.3333333333333333,
              "#9c179e"
             ],
             [
              0.4444444444444444,
              "#bd3786"
             ],
             [
              0.5555555555555556,
              "#d8576b"
             ],
             [
              0.6666666666666666,
              "#ed7953"
             ],
             [
              0.7777777777777778,
              "#fb9f3a"
             ],
             [
              0.8888888888888888,
              "#fdca26"
             ],
             [
              1,
              "#f0f921"
             ]
            ],
            "type": "heatmap"
           }
          ],
          "heatmapgl": [
           {
            "colorbar": {
             "outlinewidth": 0,
             "ticks": ""
            },
            "colorscale": [
             [
              0,
              "#0d0887"
             ],
             [
              0.1111111111111111,
              "#46039f"
             ],
             [
              0.2222222222222222,
              "#7201a8"
             ],
             [
              0.3333333333333333,
              "#9c179e"
             ],
             [
              0.4444444444444444,
              "#bd3786"
             ],
             [
              0.5555555555555556,
              "#d8576b"
             ],
             [
              0.6666666666666666,
              "#ed7953"
             ],
             [
              0.7777777777777778,
              "#fb9f3a"
             ],
             [
              0.8888888888888888,
              "#fdca26"
             ],
             [
              1,
              "#f0f921"
             ]
            ],
            "type": "heatmapgl"
           }
          ],
          "histogram": [
           {
            "marker": {
             "colorbar": {
              "outlinewidth": 0,
              "ticks": ""
             }
            },
            "type": "histogram"
           }
          ],
          "histogram2d": [
           {
            "colorbar": {
             "outlinewidth": 0,
             "ticks": ""
            },
            "colorscale": [
             [
              0,
              "#0d0887"
             ],
             [
              0.1111111111111111,
              "#46039f"
             ],
             [
              0.2222222222222222,
              "#7201a8"
             ],
             [
              0.3333333333333333,
              "#9c179e"
             ],
             [
              0.4444444444444444,
              "#bd3786"
             ],
             [
              0.5555555555555556,
              "#d8576b"
             ],
             [
              0.6666666666666666,
              "#ed7953"
             ],
             [
              0.7777777777777778,
              "#fb9f3a"
             ],
             [
              0.8888888888888888,
              "#fdca26"
             ],
             [
              1,
              "#f0f921"
             ]
            ],
            "type": "histogram2d"
           }
          ],
          "histogram2dcontour": [
           {
            "colorbar": {
             "outlinewidth": 0,
             "ticks": ""
            },
            "colorscale": [
             [
              0,
              "#0d0887"
             ],
             [
              0.1111111111111111,
              "#46039f"
             ],
             [
              0.2222222222222222,
              "#7201a8"
             ],
             [
              0.3333333333333333,
              "#9c179e"
             ],
             [
              0.4444444444444444,
              "#bd3786"
             ],
             [
              0.5555555555555556,
              "#d8576b"
             ],
             [
              0.6666666666666666,
              "#ed7953"
             ],
             [
              0.7777777777777778,
              "#fb9f3a"
             ],
             [
              0.8888888888888888,
              "#fdca26"
             ],
             [
              1,
              "#f0f921"
             ]
            ],
            "type": "histogram2dcontour"
           }
          ],
          "mesh3d": [
           {
            "colorbar": {
             "outlinewidth": 0,
             "ticks": ""
            },
            "type": "mesh3d"
           }
          ],
          "parcoords": [
           {
            "line": {
             "colorbar": {
              "outlinewidth": 0,
              "ticks": ""
             }
            },
            "type": "parcoords"
           }
          ],
          "pie": [
           {
            "automargin": true,
            "type": "pie"
           }
          ],
          "scatter": [
           {
            "marker": {
             "colorbar": {
              "outlinewidth": 0,
              "ticks": ""
             }
            },
            "type": "scatter"
           }
          ],
          "scatter3d": [
           {
            "line": {
             "colorbar": {
              "outlinewidth": 0,
              "ticks": ""
             }
            },
            "marker": {
             "colorbar": {
              "outlinewidth": 0,
              "ticks": ""
             }
            },
            "type": "scatter3d"
           }
          ],
          "scattercarpet": [
           {
            "marker": {
             "colorbar": {
              "outlinewidth": 0,
              "ticks": ""
             }
            },
            "type": "scattercarpet"
           }
          ],
          "scattergeo": [
           {
            "marker": {
             "colorbar": {
              "outlinewidth": 0,
              "ticks": ""
             }
            },
            "type": "scattergeo"
           }
          ],
          "scattergl": [
           {
            "marker": {
             "colorbar": {
              "outlinewidth": 0,
              "ticks": ""
             }
            },
            "type": "scattergl"
           }
          ],
          "scattermapbox": [
           {
            "marker": {
             "colorbar": {
              "outlinewidth": 0,
              "ticks": ""
             }
            },
            "type": "scattermapbox"
           }
          ],
          "scatterpolar": [
           {
            "marker": {
             "colorbar": {
              "outlinewidth": 0,
              "ticks": ""
             }
            },
            "type": "scatterpolar"
           }
          ],
          "scatterpolargl": [
           {
            "marker": {
             "colorbar": {
              "outlinewidth": 0,
              "ticks": ""
             }
            },
            "type": "scatterpolargl"
           }
          ],
          "scatterternary": [
           {
            "marker": {
             "colorbar": {
              "outlinewidth": 0,
              "ticks": ""
             }
            },
            "type": "scatterternary"
           }
          ],
          "surface": [
           {
            "colorbar": {
             "outlinewidth": 0,
             "ticks": ""
            },
            "colorscale": [
             [
              0,
              "#0d0887"
             ],
             [
              0.1111111111111111,
              "#46039f"
             ],
             [
              0.2222222222222222,
              "#7201a8"
             ],
             [
              0.3333333333333333,
              "#9c179e"
             ],
             [
              0.4444444444444444,
              "#bd3786"
             ],
             [
              0.5555555555555556,
              "#d8576b"
             ],
             [
              0.6666666666666666,
              "#ed7953"
             ],
             [
              0.7777777777777778,
              "#fb9f3a"
             ],
             [
              0.8888888888888888,
              "#fdca26"
             ],
             [
              1,
              "#f0f921"
             ]
            ],
            "type": "surface"
           }
          ],
          "table": [
           {
            "cells": {
             "fill": {
              "color": "#EBF0F8"
             },
             "line": {
              "color": "white"
             }
            },
            "header": {
             "fill": {
              "color": "#C8D4E3"
             },
             "line": {
              "color": "white"
             }
            },
            "type": "table"
           }
          ]
         },
         "layout": {
          "annotationdefaults": {
           "arrowcolor": "#2a3f5f",
           "arrowhead": 0,
           "arrowwidth": 1
          },
          "coloraxis": {
           "colorbar": {
            "outlinewidth": 0,
            "ticks": ""
           }
          },
          "colorscale": {
           "diverging": [
            [
             0,
             "#8e0152"
            ],
            [
             0.1,
             "#c51b7d"
            ],
            [
             0.2,
             "#de77ae"
            ],
            [
             0.3,
             "#f1b6da"
            ],
            [
             0.4,
             "#fde0ef"
            ],
            [
             0.5,
             "#f7f7f7"
            ],
            [
             0.6,
             "#e6f5d0"
            ],
            [
             0.7,
             "#b8e186"
            ],
            [
             0.8,
             "#7fbc41"
            ],
            [
             0.9,
             "#4d9221"
            ],
            [
             1,
             "#276419"
            ]
           ],
           "sequential": [
            [
             0,
             "#0d0887"
            ],
            [
             0.1111111111111111,
             "#46039f"
            ],
            [
             0.2222222222222222,
             "#7201a8"
            ],
            [
             0.3333333333333333,
             "#9c179e"
            ],
            [
             0.4444444444444444,
             "#bd3786"
            ],
            [
             0.5555555555555556,
             "#d8576b"
            ],
            [
             0.6666666666666666,
             "#ed7953"
            ],
            [
             0.7777777777777778,
             "#fb9f3a"
            ],
            [
             0.8888888888888888,
             "#fdca26"
            ],
            [
             1,
             "#f0f921"
            ]
           ],
           "sequentialminus": [
            [
             0,
             "#0d0887"
            ],
            [
             0.1111111111111111,
             "#46039f"
            ],
            [
             0.2222222222222222,
             "#7201a8"
            ],
            [
             0.3333333333333333,
             "#9c179e"
            ],
            [
             0.4444444444444444,
             "#bd3786"
            ],
            [
             0.5555555555555556,
             "#d8576b"
            ],
            [
             0.6666666666666666,
             "#ed7953"
            ],
            [
             0.7777777777777778,
             "#fb9f3a"
            ],
            [
             0.8888888888888888,
             "#fdca26"
            ],
            [
             1,
             "#f0f921"
            ]
           ]
          },
          "colorway": [
           "#636efa",
           "#EF553B",
           "#00cc96",
           "#ab63fa",
           "#FFA15A",
           "#19d3f3",
           "#FF6692",
           "#B6E880",
           "#FF97FF",
           "#FECB52"
          ],
          "font": {
           "color": "#2a3f5f"
          },
          "geo": {
           "bgcolor": "white",
           "lakecolor": "white",
           "landcolor": "#E5ECF6",
           "showlakes": true,
           "showland": true,
           "subunitcolor": "white"
          },
          "hoverlabel": {
           "align": "left"
          },
          "hovermode": "closest",
          "mapbox": {
           "style": "light"
          },
          "paper_bgcolor": "white",
          "plot_bgcolor": "#E5ECF6",
          "polar": {
           "angularaxis": {
            "gridcolor": "white",
            "linecolor": "white",
            "ticks": ""
           },
           "bgcolor": "#E5ECF6",
           "radialaxis": {
            "gridcolor": "white",
            "linecolor": "white",
            "ticks": ""
           }
          },
          "scene": {
           "xaxis": {
            "backgroundcolor": "#E5ECF6",
            "gridcolor": "white",
            "gridwidth": 2,
            "linecolor": "white",
            "showbackground": true,
            "ticks": "",
            "zerolinecolor": "white"
           },
           "yaxis": {
            "backgroundcolor": "#E5ECF6",
            "gridcolor": "white",
            "gridwidth": 2,
            "linecolor": "white",
            "showbackground": true,
            "ticks": "",
            "zerolinecolor": "white"
           },
           "zaxis": {
            "backgroundcolor": "#E5ECF6",
            "gridcolor": "white",
            "gridwidth": 2,
            "linecolor": "white",
            "showbackground": true,
            "ticks": "",
            "zerolinecolor": "white"
           }
          },
          "shapedefaults": {
           "line": {
            "color": "#2a3f5f"
           }
          },
          "ternary": {
           "aaxis": {
            "gridcolor": "white",
            "linecolor": "white",
            "ticks": ""
           },
           "baxis": {
            "gridcolor": "white",
            "linecolor": "white",
            "ticks": ""
           },
           "bgcolor": "#E5ECF6",
           "caxis": {
            "gridcolor": "white",
            "linecolor": "white",
            "ticks": ""
           }
          },
          "title": {
           "x": 0.05
          },
          "xaxis": {
           "automargin": true,
           "gridcolor": "white",
           "linecolor": "white",
           "ticks": "",
           "title": {
            "standoff": 15
           },
           "zerolinecolor": "white",
           "zerolinewidth": 2
          },
          "yaxis": {
           "automargin": true,
           "gridcolor": "white",
           "linecolor": "white",
           "ticks": "",
           "title": {
            "standoff": 15
           },
           "zerolinecolor": "white",
           "zerolinewidth": 2
          }
         }
        },
        "title": {
         "text": "Host data distribution on train data"
        },
        "width": 800
       }
      }
     },
     "metadata": {},
     "output_type": "display_data"
    }
   ],
   "source": [
    "analysis.host_distribution(X_train_host_dist, 'Host data distribution on train data')"
   ]
  },
  {
   "cell_type": "code",
   "execution_count": 28,
   "metadata": {},
   "outputs": [
    {
     "data": {
      "application/vnd.plotly.v1+json": {
       "config": {
        "plotlyServerURL": "https://plot.ly"
       },
       "data": [
        {
         "domain": {
          "x": [
           0,
           1
          ],
          "y": [
           0,
           1
          ]
         },
         "hoverlabel": {
          "namelength": 0
         },
         "hovertemplate": "label=%{label}<br>value=%{value}",
         "labels": [
          "stackoverflow.com",
          "wordpress.stackexchange.com",
          "math.stackexchange.com",
          "gis.stackexchange.com",
          "gaming.stackexchange.com",
          "superuser.com",
          "serverfault.com",
          "diy.stackexchange.com",
          "askubuntu.com",
          "cooking.stackexchange.com",
          "unix.stackexchange.com",
          "physics.stackexchange.com",
          "electronics.stackexchange.com",
          "sharepoint.stackexchange.com",
          "apple.stackexchange.com",
          "judaism.stackexchange.com",
          "anime.stackexchange.com",
          "mathoverflow.net",
          "webapps.stackexchange.com",
          "english.stackexchange.com",
          "stats.stackexchange.com",
          "music.stackexchange.com",
          "tex.stackexchange.com",
          "ux.stackexchange.com",
          "photo.stackexchange.com",
          "raspberrypi.stackexchange.com",
          "meta.stackexchange.com",
          "codereview.stackexchange.com",
          "christianity.stackexchange.com",
          "travel.stackexchange.com",
          "salesforce.stackexchange.com",
          "android.stackexchange.com",
          "mechanics.stackexchange.com",
          "dba.stackexchange.com",
          "drupal.stackexchange.com",
          "boardgames.stackexchange.com",
          "mathematica.stackexchange.com",
          "biology.stackexchange.com",
          "gamedev.stackexchange.com",
          "ell.stackexchange.com",
          "blender.stackexchange.com",
          "chemistry.stackexchange.com",
          "movies.stackexchange.com",
          "programmers.stackexchange.com",
          "security.stackexchange.com",
          "crypto.stackexchange.com",
          "webmasters.stackexchange.com",
          "magento.stackexchange.com",
          "meta.superuser.com",
          "scifi.stackexchange.com",
          "academia.stackexchange.com",
          "dsp.stackexchange.com",
          "bicycles.stackexchange.com",
          "meta.codereview.stackexchange.com",
          "cs.stackexchange.com"
         ],
         "legendgroup": "",
         "name": "",
         "showlegend": true,
         "textinfo": "percent+label",
         "textposition": "inside",
         "type": "pie",
         "values": [
          103,
          20,
          19,
          16,
          15,
          15,
          14,
          14,
          11,
          11,
          11,
          11,
          11,
          10,
          9,
          9,
          8,
          8,
          8,
          7,
          7,
          7,
          7,
          7,
          7,
          7,
          7,
          6,
          6,
          5,
          5,
          5,
          4,
          4,
          4,
          4,
          4,
          4,
          4,
          4,
          4,
          4,
          4,
          3,
          3,
          3,
          3,
          2,
          2,
          2,
          2,
          2,
          2,
          1,
          1
         ]
        }
       ],
       "layout": {
        "height": 800,
        "legend": {
         "tracegroupgap": 0
        },
        "showlegend": true,
        "template": {
         "data": {
          "bar": [
           {
            "error_x": {
             "color": "#2a3f5f"
            },
            "error_y": {
             "color": "#2a3f5f"
            },
            "marker": {
             "line": {
              "color": "#E5ECF6",
              "width": 0.5
             }
            },
            "type": "bar"
           }
          ],
          "barpolar": [
           {
            "marker": {
             "line": {
              "color": "#E5ECF6",
              "width": 0.5
             }
            },
            "type": "barpolar"
           }
          ],
          "carpet": [
           {
            "aaxis": {
             "endlinecolor": "#2a3f5f",
             "gridcolor": "white",
             "linecolor": "white",
             "minorgridcolor": "white",
             "startlinecolor": "#2a3f5f"
            },
            "baxis": {
             "endlinecolor": "#2a3f5f",
             "gridcolor": "white",
             "linecolor": "white",
             "minorgridcolor": "white",
             "startlinecolor": "#2a3f5f"
            },
            "type": "carpet"
           }
          ],
          "choropleth": [
           {
            "colorbar": {
             "outlinewidth": 0,
             "ticks": ""
            },
            "type": "choropleth"
           }
          ],
          "contour": [
           {
            "colorbar": {
             "outlinewidth": 0,
             "ticks": ""
            },
            "colorscale": [
             [
              0,
              "#0d0887"
             ],
             [
              0.1111111111111111,
              "#46039f"
             ],
             [
              0.2222222222222222,
              "#7201a8"
             ],
             [
              0.3333333333333333,
              "#9c179e"
             ],
             [
              0.4444444444444444,
              "#bd3786"
             ],
             [
              0.5555555555555556,
              "#d8576b"
             ],
             [
              0.6666666666666666,
              "#ed7953"
             ],
             [
              0.7777777777777778,
              "#fb9f3a"
             ],
             [
              0.8888888888888888,
              "#fdca26"
             ],
             [
              1,
              "#f0f921"
             ]
            ],
            "type": "contour"
           }
          ],
          "contourcarpet": [
           {
            "colorbar": {
             "outlinewidth": 0,
             "ticks": ""
            },
            "type": "contourcarpet"
           }
          ],
          "heatmap": [
           {
            "colorbar": {
             "outlinewidth": 0,
             "ticks": ""
            },
            "colorscale": [
             [
              0,
              "#0d0887"
             ],
             [
              0.1111111111111111,
              "#46039f"
             ],
             [
              0.2222222222222222,
              "#7201a8"
             ],
             [
              0.3333333333333333,
              "#9c179e"
             ],
             [
              0.4444444444444444,
              "#bd3786"
             ],
             [
              0.5555555555555556,
              "#d8576b"
             ],
             [
              0.6666666666666666,
              "#ed7953"
             ],
             [
              0.7777777777777778,
              "#fb9f3a"
             ],
             [
              0.8888888888888888,
              "#fdca26"
             ],
             [
              1,
              "#f0f921"
             ]
            ],
            "type": "heatmap"
           }
          ],
          "heatmapgl": [
           {
            "colorbar": {
             "outlinewidth": 0,
             "ticks": ""
            },
            "colorscale": [
             [
              0,
              "#0d0887"
             ],
             [
              0.1111111111111111,
              "#46039f"
             ],
             [
              0.2222222222222222,
              "#7201a8"
             ],
             [
              0.3333333333333333,
              "#9c179e"
             ],
             [
              0.4444444444444444,
              "#bd3786"
             ],
             [
              0.5555555555555556,
              "#d8576b"
             ],
             [
              0.6666666666666666,
              "#ed7953"
             ],
             [
              0.7777777777777778,
              "#fb9f3a"
             ],
             [
              0.8888888888888888,
              "#fdca26"
             ],
             [
              1,
              "#f0f921"
             ]
            ],
            "type": "heatmapgl"
           }
          ],
          "histogram": [
           {
            "marker": {
             "colorbar": {
              "outlinewidth": 0,
              "ticks": ""
             }
            },
            "type": "histogram"
           }
          ],
          "histogram2d": [
           {
            "colorbar": {
             "outlinewidth": 0,
             "ticks": ""
            },
            "colorscale": [
             [
              0,
              "#0d0887"
             ],
             [
              0.1111111111111111,
              "#46039f"
             ],
             [
              0.2222222222222222,
              "#7201a8"
             ],
             [
              0.3333333333333333,
              "#9c179e"
             ],
             [
              0.4444444444444444,
              "#bd3786"
             ],
             [
              0.5555555555555556,
              "#d8576b"
             ],
             [
              0.6666666666666666,
              "#ed7953"
             ],
             [
              0.7777777777777778,
              "#fb9f3a"
             ],
             [
              0.8888888888888888,
              "#fdca26"
             ],
             [
              1,
              "#f0f921"
             ]
            ],
            "type": "histogram2d"
           }
          ],
          "histogram2dcontour": [
           {
            "colorbar": {
             "outlinewidth": 0,
             "ticks": ""
            },
            "colorscale": [
             [
              0,
              "#0d0887"
             ],
             [
              0.1111111111111111,
              "#46039f"
             ],
             [
              0.2222222222222222,
              "#7201a8"
             ],
             [
              0.3333333333333333,
              "#9c179e"
             ],
             [
              0.4444444444444444,
              "#bd3786"
             ],
             [
              0.5555555555555556,
              "#d8576b"
             ],
             [
              0.6666666666666666,
              "#ed7953"
             ],
             [
              0.7777777777777778,
              "#fb9f3a"
             ],
             [
              0.8888888888888888,
              "#fdca26"
             ],
             [
              1,
              "#f0f921"
             ]
            ],
            "type": "histogram2dcontour"
           }
          ],
          "mesh3d": [
           {
            "colorbar": {
             "outlinewidth": 0,
             "ticks": ""
            },
            "type": "mesh3d"
           }
          ],
          "parcoords": [
           {
            "line": {
             "colorbar": {
              "outlinewidth": 0,
              "ticks": ""
             }
            },
            "type": "parcoords"
           }
          ],
          "pie": [
           {
            "automargin": true,
            "type": "pie"
           }
          ],
          "scatter": [
           {
            "marker": {
             "colorbar": {
              "outlinewidth": 0,
              "ticks": ""
             }
            },
            "type": "scatter"
           }
          ],
          "scatter3d": [
           {
            "line": {
             "colorbar": {
              "outlinewidth": 0,
              "ticks": ""
             }
            },
            "marker": {
             "colorbar": {
              "outlinewidth": 0,
              "ticks": ""
             }
            },
            "type": "scatter3d"
           }
          ],
          "scattercarpet": [
           {
            "marker": {
             "colorbar": {
              "outlinewidth": 0,
              "ticks": ""
             }
            },
            "type": "scattercarpet"
           }
          ],
          "scattergeo": [
           {
            "marker": {
             "colorbar": {
              "outlinewidth": 0,
              "ticks": ""
             }
            },
            "type": "scattergeo"
           }
          ],
          "scattergl": [
           {
            "marker": {
             "colorbar": {
              "outlinewidth": 0,
              "ticks": ""
             }
            },
            "type": "scattergl"
           }
          ],
          "scattermapbox": [
           {
            "marker": {
             "colorbar": {
              "outlinewidth": 0,
              "ticks": ""
             }
            },
            "type": "scattermapbox"
           }
          ],
          "scatterpolar": [
           {
            "marker": {
             "colorbar": {
              "outlinewidth": 0,
              "ticks": ""
             }
            },
            "type": "scatterpolar"
           }
          ],
          "scatterpolargl": [
           {
            "marker": {
             "colorbar": {
              "outlinewidth": 0,
              "ticks": ""
             }
            },
            "type": "scatterpolargl"
           }
          ],
          "scatterternary": [
           {
            "marker": {
             "colorbar": {
              "outlinewidth": 0,
              "ticks": ""
             }
            },
            "type": "scatterternary"
           }
          ],
          "surface": [
           {
            "colorbar": {
             "outlinewidth": 0,
             "ticks": ""
            },
            "colorscale": [
             [
              0,
              "#0d0887"
             ],
             [
              0.1111111111111111,
              "#46039f"
             ],
             [
              0.2222222222222222,
              "#7201a8"
             ],
             [
              0.3333333333333333,
              "#9c179e"
             ],
             [
              0.4444444444444444,
              "#bd3786"
             ],
             [
              0.5555555555555556,
              "#d8576b"
             ],
             [
              0.6666666666666666,
              "#ed7953"
             ],
             [
              0.7777777777777778,
              "#fb9f3a"
             ],
             [
              0.8888888888888888,
              "#fdca26"
             ],
             [
              1,
              "#f0f921"
             ]
            ],
            "type": "surface"
           }
          ],
          "table": [
           {
            "cells": {
             "fill": {
              "color": "#EBF0F8"
             },
             "line": {
              "color": "white"
             }
            },
            "header": {
             "fill": {
              "color": "#C8D4E3"
             },
             "line": {
              "color": "white"
             }
            },
            "type": "table"
           }
          ]
         },
         "layout": {
          "annotationdefaults": {
           "arrowcolor": "#2a3f5f",
           "arrowhead": 0,
           "arrowwidth": 1
          },
          "coloraxis": {
           "colorbar": {
            "outlinewidth": 0,
            "ticks": ""
           }
          },
          "colorscale": {
           "diverging": [
            [
             0,
             "#8e0152"
            ],
            [
             0.1,
             "#c51b7d"
            ],
            [
             0.2,
             "#de77ae"
            ],
            [
             0.3,
             "#f1b6da"
            ],
            [
             0.4,
             "#fde0ef"
            ],
            [
             0.5,
             "#f7f7f7"
            ],
            [
             0.6,
             "#e6f5d0"
            ],
            [
             0.7,
             "#b8e186"
            ],
            [
             0.8,
             "#7fbc41"
            ],
            [
             0.9,
             "#4d9221"
            ],
            [
             1,
             "#276419"
            ]
           ],
           "sequential": [
            [
             0,
             "#0d0887"
            ],
            [
             0.1111111111111111,
             "#46039f"
            ],
            [
             0.2222222222222222,
             "#7201a8"
            ],
            [
             0.3333333333333333,
             "#9c179e"
            ],
            [
             0.4444444444444444,
             "#bd3786"
            ],
            [
             0.5555555555555556,
             "#d8576b"
            ],
            [
             0.6666666666666666,
             "#ed7953"
            ],
            [
             0.7777777777777778,
             "#fb9f3a"
            ],
            [
             0.8888888888888888,
             "#fdca26"
            ],
            [
             1,
             "#f0f921"
            ]
           ],
           "sequentialminus": [
            [
             0,
             "#0d0887"
            ],
            [
             0.1111111111111111,
             "#46039f"
            ],
            [
             0.2222222222222222,
             "#7201a8"
            ],
            [
             0.3333333333333333,
             "#9c179e"
            ],
            [
             0.4444444444444444,
             "#bd3786"
            ],
            [
             0.5555555555555556,
             "#d8576b"
            ],
            [
             0.6666666666666666,
             "#ed7953"
            ],
            [
             0.7777777777777778,
             "#fb9f3a"
            ],
            [
             0.8888888888888888,
             "#fdca26"
            ],
            [
             1,
             "#f0f921"
            ]
           ]
          },
          "colorway": [
           "#636efa",
           "#EF553B",
           "#00cc96",
           "#ab63fa",
           "#FFA15A",
           "#19d3f3",
           "#FF6692",
           "#B6E880",
           "#FF97FF",
           "#FECB52"
          ],
          "font": {
           "color": "#2a3f5f"
          },
          "geo": {
           "bgcolor": "white",
           "lakecolor": "white",
           "landcolor": "#E5ECF6",
           "showlakes": true,
           "showland": true,
           "subunitcolor": "white"
          },
          "hoverlabel": {
           "align": "left"
          },
          "hovermode": "closest",
          "mapbox": {
           "style": "light"
          },
          "paper_bgcolor": "white",
          "plot_bgcolor": "#E5ECF6",
          "polar": {
           "angularaxis": {
            "gridcolor": "white",
            "linecolor": "white",
            "ticks": ""
           },
           "bgcolor": "#E5ECF6",
           "radialaxis": {
            "gridcolor": "white",
            "linecolor": "white",
            "ticks": ""
           }
          },
          "scene": {
           "xaxis": {
            "backgroundcolor": "#E5ECF6",
            "gridcolor": "white",
            "gridwidth": 2,
            "linecolor": "white",
            "showbackground": true,
            "ticks": "",
            "zerolinecolor": "white"
           },
           "yaxis": {
            "backgroundcolor": "#E5ECF6",
            "gridcolor": "white",
            "gridwidth": 2,
            "linecolor": "white",
            "showbackground": true,
            "ticks": "",
            "zerolinecolor": "white"
           },
           "zaxis": {
            "backgroundcolor": "#E5ECF6",
            "gridcolor": "white",
            "gridwidth": 2,
            "linecolor": "white",
            "showbackground": true,
            "ticks": "",
            "zerolinecolor": "white"
           }
          },
          "shapedefaults": {
           "line": {
            "color": "#2a3f5f"
           }
          },
          "ternary": {
           "aaxis": {
            "gridcolor": "white",
            "linecolor": "white",
            "ticks": ""
           },
           "baxis": {
            "gridcolor": "white",
            "linecolor": "white",
            "ticks": ""
           },
           "bgcolor": "#E5ECF6",
           "caxis": {
            "gridcolor": "white",
            "linecolor": "white",
            "ticks": ""
           }
          },
          "title": {
           "x": 0.05
          },
          "xaxis": {
           "automargin": true,
           "gridcolor": "white",
           "linecolor": "white",
           "ticks": "",
           "title": {
            "standoff": 15
           },
           "zerolinecolor": "white",
           "zerolinewidth": 2
          },
          "yaxis": {
           "automargin": true,
           "gridcolor": "white",
           "linecolor": "white",
           "ticks": "",
           "title": {
            "standoff": 15
           },
           "zerolinecolor": "white",
           "zerolinewidth": 2
          }
         }
        },
        "title": {
         "text": "Host data distribution on test data"
        },
        "width": 800
       }
      }
     },
     "metadata": {},
     "output_type": "display_data"
    }
   ],
   "source": [
    "analysis.host_distribution(X_test_host_dist, 'Host data distribution on test data')"
   ]
  },
  {
   "cell_type": "markdown",
   "metadata": {},
   "source": [
    "### 2.3. Categories distribution"
   ]
  },
  {
   "cell_type": "code",
   "execution_count": 29,
   "metadata": {},
   "outputs": [
    {
     "data": {
      "application/vnd.plotly.v1+json": {
       "config": {
        "plotlyServerURL": "https://plot.ly"
       },
       "data": [
        {
         "alignmentgroup": "True",
         "hoverlabel": {
          "namelength": 0
         },
         "hovertemplate": "category=%{x}<br>share in %=%{y}",
         "legendgroup": "",
         "marker": {
          "color": "#636efa"
         },
         "name": "",
         "offsetgroup": "",
         "orientation": "v",
         "showlegend": false,
         "textposition": "auto",
         "type": "bar",
         "x": [
          "TECHNOLOGY",
          "STACKOVERFLOW",
          "CULTURE",
          "SCIENCE",
          "LIFE_ARTS"
         ],
         "xaxis": "x",
         "y": [
          0.40154630695838134,
          0.2061194275374239,
          0.15841421286395788,
          0.1172890278006251,
          0.11663102483961178
         ],
         "yaxis": "y"
        }
       ],
       "layout": {
        "barmode": "relative",
        "legend": {
         "tracegroupgap": 0
        },
        "template": {
         "data": {
          "bar": [
           {
            "error_x": {
             "color": "#2a3f5f"
            },
            "error_y": {
             "color": "#2a3f5f"
            },
            "marker": {
             "line": {
              "color": "#E5ECF6",
              "width": 0.5
             }
            },
            "type": "bar"
           }
          ],
          "barpolar": [
           {
            "marker": {
             "line": {
              "color": "#E5ECF6",
              "width": 0.5
             }
            },
            "type": "barpolar"
           }
          ],
          "carpet": [
           {
            "aaxis": {
             "endlinecolor": "#2a3f5f",
             "gridcolor": "white",
             "linecolor": "white",
             "minorgridcolor": "white",
             "startlinecolor": "#2a3f5f"
            },
            "baxis": {
             "endlinecolor": "#2a3f5f",
             "gridcolor": "white",
             "linecolor": "white",
             "minorgridcolor": "white",
             "startlinecolor": "#2a3f5f"
            },
            "type": "carpet"
           }
          ],
          "choropleth": [
           {
            "colorbar": {
             "outlinewidth": 0,
             "ticks": ""
            },
            "type": "choropleth"
           }
          ],
          "contour": [
           {
            "colorbar": {
             "outlinewidth": 0,
             "ticks": ""
            },
            "colorscale": [
             [
              0,
              "#0d0887"
             ],
             [
              0.1111111111111111,
              "#46039f"
             ],
             [
              0.2222222222222222,
              "#7201a8"
             ],
             [
              0.3333333333333333,
              "#9c179e"
             ],
             [
              0.4444444444444444,
              "#bd3786"
             ],
             [
              0.5555555555555556,
              "#d8576b"
             ],
             [
              0.6666666666666666,
              "#ed7953"
             ],
             [
              0.7777777777777778,
              "#fb9f3a"
             ],
             [
              0.8888888888888888,
              "#fdca26"
             ],
             [
              1,
              "#f0f921"
             ]
            ],
            "type": "contour"
           }
          ],
          "contourcarpet": [
           {
            "colorbar": {
             "outlinewidth": 0,
             "ticks": ""
            },
            "type": "contourcarpet"
           }
          ],
          "heatmap": [
           {
            "colorbar": {
             "outlinewidth": 0,
             "ticks": ""
            },
            "colorscale": [
             [
              0,
              "#0d0887"
             ],
             [
              0.1111111111111111,
              "#46039f"
             ],
             [
              0.2222222222222222,
              "#7201a8"
             ],
             [
              0.3333333333333333,
              "#9c179e"
             ],
             [
              0.4444444444444444,
              "#bd3786"
             ],
             [
              0.5555555555555556,
              "#d8576b"
             ],
             [
              0.6666666666666666,
              "#ed7953"
             ],
             [
              0.7777777777777778,
              "#fb9f3a"
             ],
             [
              0.8888888888888888,
              "#fdca26"
             ],
             [
              1,
              "#f0f921"
             ]
            ],
            "type": "heatmap"
           }
          ],
          "heatmapgl": [
           {
            "colorbar": {
             "outlinewidth": 0,
             "ticks": ""
            },
            "colorscale": [
             [
              0,
              "#0d0887"
             ],
             [
              0.1111111111111111,
              "#46039f"
             ],
             [
              0.2222222222222222,
              "#7201a8"
             ],
             [
              0.3333333333333333,
              "#9c179e"
             ],
             [
              0.4444444444444444,
              "#bd3786"
             ],
             [
              0.5555555555555556,
              "#d8576b"
             ],
             [
              0.6666666666666666,
              "#ed7953"
             ],
             [
              0.7777777777777778,
              "#fb9f3a"
             ],
             [
              0.8888888888888888,
              "#fdca26"
             ],
             [
              1,
              "#f0f921"
             ]
            ],
            "type": "heatmapgl"
           }
          ],
          "histogram": [
           {
            "marker": {
             "colorbar": {
              "outlinewidth": 0,
              "ticks": ""
             }
            },
            "type": "histogram"
           }
          ],
          "histogram2d": [
           {
            "colorbar": {
             "outlinewidth": 0,
             "ticks": ""
            },
            "colorscale": [
             [
              0,
              "#0d0887"
             ],
             [
              0.1111111111111111,
              "#46039f"
             ],
             [
              0.2222222222222222,
              "#7201a8"
             ],
             [
              0.3333333333333333,
              "#9c179e"
             ],
             [
              0.4444444444444444,
              "#bd3786"
             ],
             [
              0.5555555555555556,
              "#d8576b"
             ],
             [
              0.6666666666666666,
              "#ed7953"
             ],
             [
              0.7777777777777778,
              "#fb9f3a"
             ],
             [
              0.8888888888888888,
              "#fdca26"
             ],
             [
              1,
              "#f0f921"
             ]
            ],
            "type": "histogram2d"
           }
          ],
          "histogram2dcontour": [
           {
            "colorbar": {
             "outlinewidth": 0,
             "ticks": ""
            },
            "colorscale": [
             [
              0,
              "#0d0887"
             ],
             [
              0.1111111111111111,
              "#46039f"
             ],
             [
              0.2222222222222222,
              "#7201a8"
             ],
             [
              0.3333333333333333,
              "#9c179e"
             ],
             [
              0.4444444444444444,
              "#bd3786"
             ],
             [
              0.5555555555555556,
              "#d8576b"
             ],
             [
              0.6666666666666666,
              "#ed7953"
             ],
             [
              0.7777777777777778,
              "#fb9f3a"
             ],
             [
              0.8888888888888888,
              "#fdca26"
             ],
             [
              1,
              "#f0f921"
             ]
            ],
            "type": "histogram2dcontour"
           }
          ],
          "mesh3d": [
           {
            "colorbar": {
             "outlinewidth": 0,
             "ticks": ""
            },
            "type": "mesh3d"
           }
          ],
          "parcoords": [
           {
            "line": {
             "colorbar": {
              "outlinewidth": 0,
              "ticks": ""
             }
            },
            "type": "parcoords"
           }
          ],
          "pie": [
           {
            "automargin": true,
            "type": "pie"
           }
          ],
          "scatter": [
           {
            "marker": {
             "colorbar": {
              "outlinewidth": 0,
              "ticks": ""
             }
            },
            "type": "scatter"
           }
          ],
          "scatter3d": [
           {
            "line": {
             "colorbar": {
              "outlinewidth": 0,
              "ticks": ""
             }
            },
            "marker": {
             "colorbar": {
              "outlinewidth": 0,
              "ticks": ""
             }
            },
            "type": "scatter3d"
           }
          ],
          "scattercarpet": [
           {
            "marker": {
             "colorbar": {
              "outlinewidth": 0,
              "ticks": ""
             }
            },
            "type": "scattercarpet"
           }
          ],
          "scattergeo": [
           {
            "marker": {
             "colorbar": {
              "outlinewidth": 0,
              "ticks": ""
             }
            },
            "type": "scattergeo"
           }
          ],
          "scattergl": [
           {
            "marker": {
             "colorbar": {
              "outlinewidth": 0,
              "ticks": ""
             }
            },
            "type": "scattergl"
           }
          ],
          "scattermapbox": [
           {
            "marker": {
             "colorbar": {
              "outlinewidth": 0,
              "ticks": ""
             }
            },
            "type": "scattermapbox"
           }
          ],
          "scatterpolar": [
           {
            "marker": {
             "colorbar": {
              "outlinewidth": 0,
              "ticks": ""
             }
            },
            "type": "scatterpolar"
           }
          ],
          "scatterpolargl": [
           {
            "marker": {
             "colorbar": {
              "outlinewidth": 0,
              "ticks": ""
             }
            },
            "type": "scatterpolargl"
           }
          ],
          "scatterternary": [
           {
            "marker": {
             "colorbar": {
              "outlinewidth": 0,
              "ticks": ""
             }
            },
            "type": "scatterternary"
           }
          ],
          "surface": [
           {
            "colorbar": {
             "outlinewidth": 0,
             "ticks": ""
            },
            "colorscale": [
             [
              0,
              "#0d0887"
             ],
             [
              0.1111111111111111,
              "#46039f"
             ],
             [
              0.2222222222222222,
              "#7201a8"
             ],
             [
              0.3333333333333333,
              "#9c179e"
             ],
             [
              0.4444444444444444,
              "#bd3786"
             ],
             [
              0.5555555555555556,
              "#d8576b"
             ],
             [
              0.6666666666666666,
              "#ed7953"
             ],
             [
              0.7777777777777778,
              "#fb9f3a"
             ],
             [
              0.8888888888888888,
              "#fdca26"
             ],
             [
              1,
              "#f0f921"
             ]
            ],
            "type": "surface"
           }
          ],
          "table": [
           {
            "cells": {
             "fill": {
              "color": "#EBF0F8"
             },
             "line": {
              "color": "white"
             }
            },
            "header": {
             "fill": {
              "color": "#C8D4E3"
             },
             "line": {
              "color": "white"
             }
            },
            "type": "table"
           }
          ]
         },
         "layout": {
          "annotationdefaults": {
           "arrowcolor": "#2a3f5f",
           "arrowhead": 0,
           "arrowwidth": 1
          },
          "coloraxis": {
           "colorbar": {
            "outlinewidth": 0,
            "ticks": ""
           }
          },
          "colorscale": {
           "diverging": [
            [
             0,
             "#8e0152"
            ],
            [
             0.1,
             "#c51b7d"
            ],
            [
             0.2,
             "#de77ae"
            ],
            [
             0.3,
             "#f1b6da"
            ],
            [
             0.4,
             "#fde0ef"
            ],
            [
             0.5,
             "#f7f7f7"
            ],
            [
             0.6,
             "#e6f5d0"
            ],
            [
             0.7,
             "#b8e186"
            ],
            [
             0.8,
             "#7fbc41"
            ],
            [
             0.9,
             "#4d9221"
            ],
            [
             1,
             "#276419"
            ]
           ],
           "sequential": [
            [
             0,
             "#0d0887"
            ],
            [
             0.1111111111111111,
             "#46039f"
            ],
            [
             0.2222222222222222,
             "#7201a8"
            ],
            [
             0.3333333333333333,
             "#9c179e"
            ],
            [
             0.4444444444444444,
             "#bd3786"
            ],
            [
             0.5555555555555556,
             "#d8576b"
            ],
            [
             0.6666666666666666,
             "#ed7953"
            ],
            [
             0.7777777777777778,
             "#fb9f3a"
            ],
            [
             0.8888888888888888,
             "#fdca26"
            ],
            [
             1,
             "#f0f921"
            ]
           ],
           "sequentialminus": [
            [
             0,
             "#0d0887"
            ],
            [
             0.1111111111111111,
             "#46039f"
            ],
            [
             0.2222222222222222,
             "#7201a8"
            ],
            [
             0.3333333333333333,
             "#9c179e"
            ],
            [
             0.4444444444444444,
             "#bd3786"
            ],
            [
             0.5555555555555556,
             "#d8576b"
            ],
            [
             0.6666666666666666,
             "#ed7953"
            ],
            [
             0.7777777777777778,
             "#fb9f3a"
            ],
            [
             0.8888888888888888,
             "#fdca26"
            ],
            [
             1,
             "#f0f921"
            ]
           ]
          },
          "colorway": [
           "#636efa",
           "#EF553B",
           "#00cc96",
           "#ab63fa",
           "#FFA15A",
           "#19d3f3",
           "#FF6692",
           "#B6E880",
           "#FF97FF",
           "#FECB52"
          ],
          "font": {
           "color": "#2a3f5f"
          },
          "geo": {
           "bgcolor": "white",
           "lakecolor": "white",
           "landcolor": "#E5ECF6",
           "showlakes": true,
           "showland": true,
           "subunitcolor": "white"
          },
          "hoverlabel": {
           "align": "left"
          },
          "hovermode": "closest",
          "mapbox": {
           "style": "light"
          },
          "paper_bgcolor": "white",
          "plot_bgcolor": "#E5ECF6",
          "polar": {
           "angularaxis": {
            "gridcolor": "white",
            "linecolor": "white",
            "ticks": ""
           },
           "bgcolor": "#E5ECF6",
           "radialaxis": {
            "gridcolor": "white",
            "linecolor": "white",
            "ticks": ""
           }
          },
          "scene": {
           "xaxis": {
            "backgroundcolor": "#E5ECF6",
            "gridcolor": "white",
            "gridwidth": 2,
            "linecolor": "white",
            "showbackground": true,
            "ticks": "",
            "zerolinecolor": "white"
           },
           "yaxis": {
            "backgroundcolor": "#E5ECF6",
            "gridcolor": "white",
            "gridwidth": 2,
            "linecolor": "white",
            "showbackground": true,
            "ticks": "",
            "zerolinecolor": "white"
           },
           "zaxis": {
            "backgroundcolor": "#E5ECF6",
            "gridcolor": "white",
            "gridwidth": 2,
            "linecolor": "white",
            "showbackground": true,
            "ticks": "",
            "zerolinecolor": "white"
           }
          },
          "shapedefaults": {
           "line": {
            "color": "#2a3f5f"
           }
          },
          "ternary": {
           "aaxis": {
            "gridcolor": "white",
            "linecolor": "white",
            "ticks": ""
           },
           "baxis": {
            "gridcolor": "white",
            "linecolor": "white",
            "ticks": ""
           },
           "bgcolor": "#E5ECF6",
           "caxis": {
            "gridcolor": "white",
            "linecolor": "white",
            "ticks": ""
           }
          },
          "title": {
           "x": 0.05
          },
          "xaxis": {
           "automargin": true,
           "gridcolor": "white",
           "linecolor": "white",
           "ticks": "",
           "title": {
            "standoff": 15
           },
           "zerolinecolor": "white",
           "zerolinewidth": 2
          },
          "yaxis": {
           "automargin": true,
           "gridcolor": "white",
           "linecolor": "white",
           "ticks": "",
           "title": {
            "standoff": 15
           },
           "zerolinecolor": "white",
           "zerolinewidth": 2
          }
         }
        },
        "title": {
         "text": "X_train categories distribution barplot"
        },
        "xaxis": {
         "anchor": "y",
         "domain": [
          0,
          1
         ],
         "title": {
          "text": "category"
         }
        },
        "yaxis": {
         "anchor": "x",
         "domain": [
          0,
          1
         ],
         "title": {
          "text": "share in %"
         }
        }
       }
      }
     },
     "metadata": {},
     "output_type": "display_data"
    }
   ],
   "source": [
    "analysis.categories_distribution(X_train['category'], 'X_train categories distribution barplot')"
   ]
  },
  {
   "cell_type": "code",
   "execution_count": 30,
   "metadata": {},
   "outputs": [
    {
     "data": {
      "application/vnd.plotly.v1+json": {
       "config": {
        "plotlyServerURL": "https://plot.ly"
       },
       "data": [
        {
         "alignmentgroup": "True",
         "hoverlabel": {
          "namelength": 0
         },
         "hovertemplate": "category=%{x}<br>share in %=%{y}",
         "legendgroup": "",
         "marker": {
          "color": "#636efa"
         },
         "name": "",
         "offsetgroup": "",
         "orientation": "v",
         "showlegend": false,
         "textposition": "auto",
         "type": "bar",
         "x": [
          "TECHNOLOGY",
          "STACKOVERFLOW",
          "CULTURE",
          "SCIENCE",
          "LIFE_ARTS"
         ],
         "xaxis": "x",
         "y": [
          0.42857142857142855,
          0.21638655462184875,
          0.13445378151260504,
          0.12184873949579832,
          0.09873949579831932
         ],
         "yaxis": "y"
        }
       ],
       "layout": {
        "barmode": "relative",
        "legend": {
         "tracegroupgap": 0
        },
        "template": {
         "data": {
          "bar": [
           {
            "error_x": {
             "color": "#2a3f5f"
            },
            "error_y": {
             "color": "#2a3f5f"
            },
            "marker": {
             "line": {
              "color": "#E5ECF6",
              "width": 0.5
             }
            },
            "type": "bar"
           }
          ],
          "barpolar": [
           {
            "marker": {
             "line": {
              "color": "#E5ECF6",
              "width": 0.5
             }
            },
            "type": "barpolar"
           }
          ],
          "carpet": [
           {
            "aaxis": {
             "endlinecolor": "#2a3f5f",
             "gridcolor": "white",
             "linecolor": "white",
             "minorgridcolor": "white",
             "startlinecolor": "#2a3f5f"
            },
            "baxis": {
             "endlinecolor": "#2a3f5f",
             "gridcolor": "white",
             "linecolor": "white",
             "minorgridcolor": "white",
             "startlinecolor": "#2a3f5f"
            },
            "type": "carpet"
           }
          ],
          "choropleth": [
           {
            "colorbar": {
             "outlinewidth": 0,
             "ticks": ""
            },
            "type": "choropleth"
           }
          ],
          "contour": [
           {
            "colorbar": {
             "outlinewidth": 0,
             "ticks": ""
            },
            "colorscale": [
             [
              0,
              "#0d0887"
             ],
             [
              0.1111111111111111,
              "#46039f"
             ],
             [
              0.2222222222222222,
              "#7201a8"
             ],
             [
              0.3333333333333333,
              "#9c179e"
             ],
             [
              0.4444444444444444,
              "#bd3786"
             ],
             [
              0.5555555555555556,
              "#d8576b"
             ],
             [
              0.6666666666666666,
              "#ed7953"
             ],
             [
              0.7777777777777778,
              "#fb9f3a"
             ],
             [
              0.8888888888888888,
              "#fdca26"
             ],
             [
              1,
              "#f0f921"
             ]
            ],
            "type": "contour"
           }
          ],
          "contourcarpet": [
           {
            "colorbar": {
             "outlinewidth": 0,
             "ticks": ""
            },
            "type": "contourcarpet"
           }
          ],
          "heatmap": [
           {
            "colorbar": {
             "outlinewidth": 0,
             "ticks": ""
            },
            "colorscale": [
             [
              0,
              "#0d0887"
             ],
             [
              0.1111111111111111,
              "#46039f"
             ],
             [
              0.2222222222222222,
              "#7201a8"
             ],
             [
              0.3333333333333333,
              "#9c179e"
             ],
             [
              0.4444444444444444,
              "#bd3786"
             ],
             [
              0.5555555555555556,
              "#d8576b"
             ],
             [
              0.6666666666666666,
              "#ed7953"
             ],
             [
              0.7777777777777778,
              "#fb9f3a"
             ],
             [
              0.8888888888888888,
              "#fdca26"
             ],
             [
              1,
              "#f0f921"
             ]
            ],
            "type": "heatmap"
           }
          ],
          "heatmapgl": [
           {
            "colorbar": {
             "outlinewidth": 0,
             "ticks": ""
            },
            "colorscale": [
             [
              0,
              "#0d0887"
             ],
             [
              0.1111111111111111,
              "#46039f"
             ],
             [
              0.2222222222222222,
              "#7201a8"
             ],
             [
              0.3333333333333333,
              "#9c179e"
             ],
             [
              0.4444444444444444,
              "#bd3786"
             ],
             [
              0.5555555555555556,
              "#d8576b"
             ],
             [
              0.6666666666666666,
              "#ed7953"
             ],
             [
              0.7777777777777778,
              "#fb9f3a"
             ],
             [
              0.8888888888888888,
              "#fdca26"
             ],
             [
              1,
              "#f0f921"
             ]
            ],
            "type": "heatmapgl"
           }
          ],
          "histogram": [
           {
            "marker": {
             "colorbar": {
              "outlinewidth": 0,
              "ticks": ""
             }
            },
            "type": "histogram"
           }
          ],
          "histogram2d": [
           {
            "colorbar": {
             "outlinewidth": 0,
             "ticks": ""
            },
            "colorscale": [
             [
              0,
              "#0d0887"
             ],
             [
              0.1111111111111111,
              "#46039f"
             ],
             [
              0.2222222222222222,
              "#7201a8"
             ],
             [
              0.3333333333333333,
              "#9c179e"
             ],
             [
              0.4444444444444444,
              "#bd3786"
             ],
             [
              0.5555555555555556,
              "#d8576b"
             ],
             [
              0.6666666666666666,
              "#ed7953"
             ],
             [
              0.7777777777777778,
              "#fb9f3a"
             ],
             [
              0.8888888888888888,
              "#fdca26"
             ],
             [
              1,
              "#f0f921"
             ]
            ],
            "type": "histogram2d"
           }
          ],
          "histogram2dcontour": [
           {
            "colorbar": {
             "outlinewidth": 0,
             "ticks": ""
            },
            "colorscale": [
             [
              0,
              "#0d0887"
             ],
             [
              0.1111111111111111,
              "#46039f"
             ],
             [
              0.2222222222222222,
              "#7201a8"
             ],
             [
              0.3333333333333333,
              "#9c179e"
             ],
             [
              0.4444444444444444,
              "#bd3786"
             ],
             [
              0.5555555555555556,
              "#d8576b"
             ],
             [
              0.6666666666666666,
              "#ed7953"
             ],
             [
              0.7777777777777778,
              "#fb9f3a"
             ],
             [
              0.8888888888888888,
              "#fdca26"
             ],
             [
              1,
              "#f0f921"
             ]
            ],
            "type": "histogram2dcontour"
           }
          ],
          "mesh3d": [
           {
            "colorbar": {
             "outlinewidth": 0,
             "ticks": ""
            },
            "type": "mesh3d"
           }
          ],
          "parcoords": [
           {
            "line": {
             "colorbar": {
              "outlinewidth": 0,
              "ticks": ""
             }
            },
            "type": "parcoords"
           }
          ],
          "pie": [
           {
            "automargin": true,
            "type": "pie"
           }
          ],
          "scatter": [
           {
            "marker": {
             "colorbar": {
              "outlinewidth": 0,
              "ticks": ""
             }
            },
            "type": "scatter"
           }
          ],
          "scatter3d": [
           {
            "line": {
             "colorbar": {
              "outlinewidth": 0,
              "ticks": ""
             }
            },
            "marker": {
             "colorbar": {
              "outlinewidth": 0,
              "ticks": ""
             }
            },
            "type": "scatter3d"
           }
          ],
          "scattercarpet": [
           {
            "marker": {
             "colorbar": {
              "outlinewidth": 0,
              "ticks": ""
             }
            },
            "type": "scattercarpet"
           }
          ],
          "scattergeo": [
           {
            "marker": {
             "colorbar": {
              "outlinewidth": 0,
              "ticks": ""
             }
            },
            "type": "scattergeo"
           }
          ],
          "scattergl": [
           {
            "marker": {
             "colorbar": {
              "outlinewidth": 0,
              "ticks": ""
             }
            },
            "type": "scattergl"
           }
          ],
          "scattermapbox": [
           {
            "marker": {
             "colorbar": {
              "outlinewidth": 0,
              "ticks": ""
             }
            },
            "type": "scattermapbox"
           }
          ],
          "scatterpolar": [
           {
            "marker": {
             "colorbar": {
              "outlinewidth": 0,
              "ticks": ""
             }
            },
            "type": "scatterpolar"
           }
          ],
          "scatterpolargl": [
           {
            "marker": {
             "colorbar": {
              "outlinewidth": 0,
              "ticks": ""
             }
            },
            "type": "scatterpolargl"
           }
          ],
          "scatterternary": [
           {
            "marker": {
             "colorbar": {
              "outlinewidth": 0,
              "ticks": ""
             }
            },
            "type": "scatterternary"
           }
          ],
          "surface": [
           {
            "colorbar": {
             "outlinewidth": 0,
             "ticks": ""
            },
            "colorscale": [
             [
              0,
              "#0d0887"
             ],
             [
              0.1111111111111111,
              "#46039f"
             ],
             [
              0.2222222222222222,
              "#7201a8"
             ],
             [
              0.3333333333333333,
              "#9c179e"
             ],
             [
              0.4444444444444444,
              "#bd3786"
             ],
             [
              0.5555555555555556,
              "#d8576b"
             ],
             [
              0.6666666666666666,
              "#ed7953"
             ],
             [
              0.7777777777777778,
              "#fb9f3a"
             ],
             [
              0.8888888888888888,
              "#fdca26"
             ],
             [
              1,
              "#f0f921"
             ]
            ],
            "type": "surface"
           }
          ],
          "table": [
           {
            "cells": {
             "fill": {
              "color": "#EBF0F8"
             },
             "line": {
              "color": "white"
             }
            },
            "header": {
             "fill": {
              "color": "#C8D4E3"
             },
             "line": {
              "color": "white"
             }
            },
            "type": "table"
           }
          ]
         },
         "layout": {
          "annotationdefaults": {
           "arrowcolor": "#2a3f5f",
           "arrowhead": 0,
           "arrowwidth": 1
          },
          "coloraxis": {
           "colorbar": {
            "outlinewidth": 0,
            "ticks": ""
           }
          },
          "colorscale": {
           "diverging": [
            [
             0,
             "#8e0152"
            ],
            [
             0.1,
             "#c51b7d"
            ],
            [
             0.2,
             "#de77ae"
            ],
            [
             0.3,
             "#f1b6da"
            ],
            [
             0.4,
             "#fde0ef"
            ],
            [
             0.5,
             "#f7f7f7"
            ],
            [
             0.6,
             "#e6f5d0"
            ],
            [
             0.7,
             "#b8e186"
            ],
            [
             0.8,
             "#7fbc41"
            ],
            [
             0.9,
             "#4d9221"
            ],
            [
             1,
             "#276419"
            ]
           ],
           "sequential": [
            [
             0,
             "#0d0887"
            ],
            [
             0.1111111111111111,
             "#46039f"
            ],
            [
             0.2222222222222222,
             "#7201a8"
            ],
            [
             0.3333333333333333,
             "#9c179e"
            ],
            [
             0.4444444444444444,
             "#bd3786"
            ],
            [
             0.5555555555555556,
             "#d8576b"
            ],
            [
             0.6666666666666666,
             "#ed7953"
            ],
            [
             0.7777777777777778,
             "#fb9f3a"
            ],
            [
             0.8888888888888888,
             "#fdca26"
            ],
            [
             1,
             "#f0f921"
            ]
           ],
           "sequentialminus": [
            [
             0,
             "#0d0887"
            ],
            [
             0.1111111111111111,
             "#46039f"
            ],
            [
             0.2222222222222222,
             "#7201a8"
            ],
            [
             0.3333333333333333,
             "#9c179e"
            ],
            [
             0.4444444444444444,
             "#bd3786"
            ],
            [
             0.5555555555555556,
             "#d8576b"
            ],
            [
             0.6666666666666666,
             "#ed7953"
            ],
            [
             0.7777777777777778,
             "#fb9f3a"
            ],
            [
             0.8888888888888888,
             "#fdca26"
            ],
            [
             1,
             "#f0f921"
            ]
           ]
          },
          "colorway": [
           "#636efa",
           "#EF553B",
           "#00cc96",
           "#ab63fa",
           "#FFA15A",
           "#19d3f3",
           "#FF6692",
           "#B6E880",
           "#FF97FF",
           "#FECB52"
          ],
          "font": {
           "color": "#2a3f5f"
          },
          "geo": {
           "bgcolor": "white",
           "lakecolor": "white",
           "landcolor": "#E5ECF6",
           "showlakes": true,
           "showland": true,
           "subunitcolor": "white"
          },
          "hoverlabel": {
           "align": "left"
          },
          "hovermode": "closest",
          "mapbox": {
           "style": "light"
          },
          "paper_bgcolor": "white",
          "plot_bgcolor": "#E5ECF6",
          "polar": {
           "angularaxis": {
            "gridcolor": "white",
            "linecolor": "white",
            "ticks": ""
           },
           "bgcolor": "#E5ECF6",
           "radialaxis": {
            "gridcolor": "white",
            "linecolor": "white",
            "ticks": ""
           }
          },
          "scene": {
           "xaxis": {
            "backgroundcolor": "#E5ECF6",
            "gridcolor": "white",
            "gridwidth": 2,
            "linecolor": "white",
            "showbackground": true,
            "ticks": "",
            "zerolinecolor": "white"
           },
           "yaxis": {
            "backgroundcolor": "#E5ECF6",
            "gridcolor": "white",
            "gridwidth": 2,
            "linecolor": "white",
            "showbackground": true,
            "ticks": "",
            "zerolinecolor": "white"
           },
           "zaxis": {
            "backgroundcolor": "#E5ECF6",
            "gridcolor": "white",
            "gridwidth": 2,
            "linecolor": "white",
            "showbackground": true,
            "ticks": "",
            "zerolinecolor": "white"
           }
          },
          "shapedefaults": {
           "line": {
            "color": "#2a3f5f"
           }
          },
          "ternary": {
           "aaxis": {
            "gridcolor": "white",
            "linecolor": "white",
            "ticks": ""
           },
           "baxis": {
            "gridcolor": "white",
            "linecolor": "white",
            "ticks": ""
           },
           "bgcolor": "#E5ECF6",
           "caxis": {
            "gridcolor": "white",
            "linecolor": "white",
            "ticks": ""
           }
          },
          "title": {
           "x": 0.05
          },
          "xaxis": {
           "automargin": true,
           "gridcolor": "white",
           "linecolor": "white",
           "ticks": "",
           "title": {
            "standoff": 15
           },
           "zerolinecolor": "white",
           "zerolinewidth": 2
          },
          "yaxis": {
           "automargin": true,
           "gridcolor": "white",
           "linecolor": "white",
           "ticks": "",
           "title": {
            "standoff": 15
           },
           "zerolinecolor": "white",
           "zerolinewidth": 2
          }
         }
        },
        "title": {
         "text": "X_test categories distribution barplot"
        },
        "xaxis": {
         "anchor": "y",
         "domain": [
          0,
          1
         ],
         "title": {
          "text": "category"
         }
        },
        "yaxis": {
         "anchor": "x",
         "domain": [
          0,
          1
         ],
         "title": {
          "text": "share in %"
         }
        }
       }
      }
     },
     "metadata": {},
     "output_type": "display_data"
    }
   ],
   "source": [
    "analysis.categories_distribution(X_test['category'], 'X_test categories distribution barplot')"
   ]
  }
 ],
 "metadata": {
  "kernelspec": {
   "display_name": "Python 3",
   "language": "python",
   "name": "python3"
  },
  "language_info": {
   "codemirror_mode": {
    "name": "ipython",
    "version": 3
   },
   "file_extension": ".py",
   "mimetype": "text/x-python",
   "name": "python",
   "nbconvert_exporter": "python",
   "pygments_lexer": "ipython3",
   "version": "3.6.9-final"
  }
 },
 "nbformat": 4,
 "nbformat_minor": 2
}